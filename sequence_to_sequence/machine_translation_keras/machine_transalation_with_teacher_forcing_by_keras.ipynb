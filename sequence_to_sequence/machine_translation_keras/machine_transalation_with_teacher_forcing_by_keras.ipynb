{
 "cells": [
  {
   "cell_type": "code",
   "execution_count": 1,
   "metadata": {},
   "outputs": [
    {
     "name": "stderr",
     "output_type": "stream",
     "text": [
      "/Library/Frameworks/Python.framework/Versions/3.4/lib/python3.4/importlib/_bootstrap.py:321: FutureWarning: Conversion of the second argument of issubdtype from `float` to `np.floating` is deprecated. In future, it will be treated as `np.float64 == np.dtype(float).type`.\n",
      "  return f(*args, **kwds)\n",
      "Using TensorFlow backend.\n"
     ]
    }
   ],
   "source": [
    "import os, sys\n",
    "\n",
    "from keras.models import Model\n",
    "from keras.layers import Input, LSTM, GRU, Dense, Embedding\n",
    "from keras.preprocessing.text import Tokenizer\n",
    "from keras.preprocessing.sequence import pad_sequences\n",
    "from keras.utils import to_categorical\n",
    "from keras.optimizers import Adam, SGD\n",
    "\n",
    "import numpy as np\n",
    "import matplotlib.pyplot as plt\n"
   ]
  },
  {
   "cell_type": "code",
   "execution_count": 2,
   "metadata": {},
   "outputs": [],
   "source": [
    "num_samples = 10000\n",
    "max_sequence_length = 100\n",
    "max_num_words = 20000"
   ]
  },
  {
   "cell_type": "code",
   "execution_count": 43,
   "metadata": {},
   "outputs": [],
   "source": [
    "def load_data(file_name):\n",
    "    t = 0\n",
    "    input_texts = []\n",
    "    target_texts = []\n",
    "    target_texts_inputs = []\n",
    "    with open(file_name,  'r') as f:\n",
    "        for line in f:\n",
    "            t+=1\n",
    "            if t > num_samples:\n",
    "                break\n",
    "\n",
    "            if '\\t' not in line:\n",
    "                continue\n",
    "\n",
    "            input_text, translation = line.rstrip().split('\\t')\n",
    "\n",
    "\n",
    "            translation = translation.strip('\\n')\n",
    "\n",
    "            target_text = translation + ' E'\n",
    "            target_text_input = 'S ' + translation\n",
    "\n",
    "            input_texts.append(input_text)\n",
    "            target_texts.append(target_text)\n",
    "            target_texts_inputs.append(target_text_input)\n",
    "    return input_texts, target_texts, target_texts_inputs"
   ]
  },
  {
   "cell_type": "code",
   "execution_count": 44,
   "metadata": {},
   "outputs": [
    {
     "name": "stdout",
     "output_type": "stream",
     "text": [
      "10000\n",
      "10000\n",
      "10000\n"
     ]
    }
   ],
   "source": [
    "input_texts, target_texts, target_texts_inputs = load_data(\"data/cmn.txt\")\n",
    "\n",
    "print(len(input_texts))\n",
    "print(len(target_texts))\n",
    "print(len(target_texts_inputs))"
   ]
  },
  {
   "cell_type": "markdown",
   "metadata": {},
   "source": [
    "### Tokenize the inputs"
   ]
  },
  {
   "cell_type": "code",
   "execution_count": 45,
   "metadata": {},
   "outputs": [],
   "source": [
    "tokenizer_inputs = Tokenizer(num_words=max_num_words)\n",
    "tokenizer_inputs.fit_on_texts(input_texts)\n",
    "input_sequences = tokenizer_inputs.texts_to_sequences(input_texts)"
   ]
  },
  {
   "cell_type": "code",
   "execution_count": 46,
   "metadata": {},
   "outputs": [
    {
     "name": "stdout",
     "output_type": "stream",
     "text": [
      "max_len_input: 9\n"
     ]
    }
   ],
   "source": [
    "max_len_input = max(len(s) for s in input_sequences)\n",
    "print('max_len_input:', max_len_input)"
   ]
  },
  {
   "cell_type": "code",
   "execution_count": 47,
   "metadata": {},
   "outputs": [
    {
     "name": "stdout",
     "output_type": "stream",
     "text": [
      "Found 3570 unique input token\n"
     ]
    }
   ],
   "source": [
    "word2idx_inputs = tokenizer_inputs.word_index\n",
    "print('Found {0} unique input token'.format(len(word2idx_inputs)))"
   ]
  },
  {
   "cell_type": "markdown",
   "metadata": {},
   "source": [
    "### Tokenize the outputs"
   ]
  },
  {
   "cell_type": "code",
   "execution_count": 48,
   "metadata": {},
   "outputs": [],
   "source": [
    "# NOTE:\n",
    "# The char_level is set to True, because we tokenize chinese character \n",
    "tokenizer_outputs = Tokenizer(num_words=max_num_words, filters='', char_level = True)\n",
    "tokenizer_outputs.fit_on_texts(target_texts + target_texts_inputs)\n",
    "target_sequences = tokenizer_outputs.texts_to_sequences(target_texts)\n",
    "target_sequences_inputs = tokenizer_outputs.texts_to_sequences(target_texts_inputs)"
   ]
  },
  {
   "cell_type": "code",
   "execution_count": 49,
   "metadata": {},
   "outputs": [
    {
     "name": "stdout",
     "output_type": "stream",
     "text": [
      "Found 2629 unique input token\n"
     ]
    }
   ],
   "source": [
    "word2idx_outputs = tokenizer_outputs.word_index\n",
    "print('Found {0} unique input token'.format(len(word2idx_outputs)))"
   ]
  },
  {
   "cell_type": "code",
   "execution_count": 50,
   "metadata": {},
   "outputs": [],
   "source": [
    "assert('S' in word2idx_outputs)\n",
    "assert('E' in word2idx_outputs)"
   ]
  },
  {
   "cell_type": "code",
   "execution_count": 52,
   "metadata": {},
   "outputs": [],
   "source": [
    "# word2idx_outputs"
   ]
  },
  {
   "cell_type": "code",
   "execution_count": 53,
   "metadata": {},
   "outputs": [
    {
     "name": "stdout",
     "output_type": "stream",
     "text": [
      "max_len_target: 22\n"
     ]
    }
   ],
   "source": [
    "max_len_target = max(len(s) for s in target_sequences)\n",
    "print('max_len_target:', max_len_target)"
   ]
  },
  {
   "cell_type": "code",
   "execution_count": 54,
   "metadata": {},
   "outputs": [
    {
     "name": "stdout",
     "output_type": "stream",
     "text": [
      "11\n"
     ]
    }
   ],
   "source": [
    "print(len(target_sequences[9999]))"
   ]
  },
  {
   "cell_type": "code",
   "execution_count": 55,
   "metadata": {},
   "outputs": [
    {
     "name": "stdout",
     "output_type": "stream",
     "text": [
      "10000\n",
      "10000\n"
     ]
    },
    {
     "data": {
      "text/plain": [
       "['嗨。 E',\n",
       " '你好。 E',\n",
       " '你用跑的。 E',\n",
       " '等等！ E',\n",
       " '你好。 E',\n",
       " '让我来。 E',\n",
       " '我赢了。 E',\n",
       " '不会吧。 E',\n",
       " '乾杯! E',\n",
       " '他跑了。 E',\n",
       " '跳进来。 E',\n",
       " '我迷失了。 E',\n",
       " '我退出。 E',\n",
       " '我沒事。 E',\n",
       " '听着。 E',\n",
       " '不可能！ E',\n",
       " '没门！ E',\n",
       " '你确定？ E',\n",
       " '试试吧。 E',\n",
       " '我们来试试。 E']"
      ]
     },
     "execution_count": 55,
     "metadata": {},
     "output_type": "execute_result"
    }
   ],
   "source": [
    "print(len(input_texts))\n",
    "print(len(target_texts))\n",
    "target_texts[:20]"
   ]
  },
  {
   "cell_type": "markdown",
   "metadata": {},
   "source": [
    "### Padding"
   ]
  },
  {
   "cell_type": "code",
   "execution_count": 56,
   "metadata": {},
   "outputs": [],
   "source": [
    "encode_inputs = pad_sequences(input_sequences, maxlen=max_len_input)\n",
    "decode_inputs = pad_sequences(target_sequences_inputs, maxlen=max_len_target, padding='post')\n",
    "decode_targets = pad_sequences(target_sequences, maxlen=max_len_target, padding='post')"
   ]
  },
  {
   "cell_type": "markdown",
   "metadata": {},
   "source": [
    "### Prepare embedding matrix and embedding layer"
   ]
  },
  {
   "cell_type": "code",
   "execution_count": 57,
   "metadata": {},
   "outputs": [],
   "source": [
    "def load_word2vec(file_name):\n",
    "    word2vec = {}\n",
    "    with open(file_name, 'r') as f:\n",
    "        for line in f:\n",
    "            values = line.split()\n",
    "            word = values[0]\n",
    "            vec = np.array(values[1:], dtype=np.float32)\n",
    "            word2vec[word] = vec\n",
    "    return word2vec"
   ]
  },
  {
   "cell_type": "code",
   "execution_count": 58,
   "metadata": {},
   "outputs": [],
   "source": [
    "word2vec = load_word2vec('data/glove.6B.50d.txt')"
   ]
  },
  {
   "cell_type": "code",
   "execution_count": 59,
   "metadata": {},
   "outputs": [],
   "source": [
    "embedding_dim = 50"
   ]
  },
  {
   "cell_type": "code",
   "execution_count": 60,
   "metadata": {},
   "outputs": [],
   "source": [
    "num_words = min(max_num_words + 1, len(word2idx_inputs) + 1)\n",
    "embedding_matrix = np.zeros((num_words, embedding_dim))\n",
    "for word, index in word2idx_inputs.items():\n",
    "    if index <= max_num_words:\n",
    "        vector = word2vec.get(word)\n",
    "        if vector is not None:\n",
    "            embedding_matrix[index] = vector"
   ]
  },
  {
   "cell_type": "code",
   "execution_count": 61,
   "metadata": {},
   "outputs": [],
   "source": [
    "embedding_layer = Embedding(\n",
    "    embedding_matrix.shape[0],\n",
    "    embedding_matrix.shape[1],\n",
    "    weights = [embedding_matrix],\n",
    "    input_length = max_len_input\n",
    ")"
   ]
  },
  {
   "cell_type": "markdown",
   "metadata": {},
   "source": [
    "### One hot targets"
   ]
  },
  {
   "cell_type": "code",
   "execution_count": 62,
   "metadata": {},
   "outputs": [],
   "source": [
    "# store number of output words for later\n",
    "# remember to add 1 since indexing starts at 1\n",
    "num_words_output = len(word2idx_outputs) + 1"
   ]
  },
  {
   "cell_type": "code",
   "execution_count": 63,
   "metadata": {},
   "outputs": [],
   "source": [
    "# create targets, since we cannot use sparse\n",
    "# categorical cross entropy when we have sequences\n",
    "decode_targets_one_hot = np.zeros(\n",
    "  (\n",
    "    len(target_texts),\n",
    "    max_len_target,\n",
    "    num_words_output\n",
    "  ),\n",
    "  dtype='float32'\n",
    ")\n",
    "\n",
    "# assign the values\n",
    "for i, d in enumerate(decode_targets):\n",
    "    for t, word in enumerate(d):\n",
    "        decode_targets_one_hot[i, t, word] = 1"
   ]
  },
  {
   "cell_type": "markdown",
   "metadata": {},
   "source": [
    "### Encoder "
   ]
  },
  {
   "cell_type": "code",
   "execution_count": 64,
   "metadata": {},
   "outputs": [],
   "source": [
    "latent_dim = 128"
   ]
  },
  {
   "cell_type": "code",
   "execution_count": 65,
   "metadata": {},
   "outputs": [],
   "source": [
    "encoder_inputs_placeholder = Input(shape=(max_len_input,))\n",
    "x = embedding_layer(encoder_inputs_placeholder)\n",
    "\n",
    "# NOTE: \n",
    "# 1. The return_state is set to True to return both hidden state and cell state of LSTM, because we need to pass the \n",
    "#    state from last time step to decoder as the initial state value for decoder\n",
    "#     - If we use Attention, we can set return_state to False because we do not pass state to decoder and thus \n",
    "#       we do not need to control state.\n",
    "# 2. The return_sequences is set to False (default) because we only need the output (hidden state) of last time step\n",
    "#     - If we use Attention, we need to set return_sequences to True because we need the outputs from all time steps \n",
    "#       to compute attention weights.\n",
    "encoder_lstm = LSTM(latent_dim, return_state=True, dropout=0.5)\n",
    "encoder_outputs, h, c = encoder_lstm(x)\n",
    "\n",
    "# last time step state that will be passed to decoder\n",
    "encoder_state = [h, c]"
   ]
  },
  {
   "cell_type": "markdown",
   "metadata": {},
   "source": [
    "### Decoder "
   ]
  },
  {
   "cell_type": "code",
   "execution_count": 66,
   "metadata": {},
   "outputs": [],
   "source": [
    "\n",
    "# Take input from target sequence for Teacher Forcing\n",
    "decoder_inputs_placeholder = Input(shape=(max_len_target,))\n",
    "\n",
    "# Use different embedding from that of encoder\n",
    "decoder_embedding = Embedding(num_words_output, embedding_dim)\n",
    "decoder_inputs_x = decoder_embedding(decoder_inputs_placeholder)\n",
    "\n",
    "######### \n",
    "\n",
    "# IMPORTANT:\n",
    "# 1. The return_state parameter is set to True to return both hidden state and cell state of LSTM. \n",
    "#     - We do not need the states in encoder. But we are going to reuse the LSTM layer in decoder \n",
    "#       and then we will use states in decocer\n",
    "# 2. The return_sequences=True is set to True because we need the output of each time step\n",
    "decoder_lstm = LSTM(latent_dim, return_sequences=True, return_state=True, dropout=0.5)\n",
    "decoder_dense = Dense(num_words_output, activation='softmax')\n",
    "\n",
    "# IMPORTANT:\n",
    "# 1. The initial_state (i.e., encoder_state) is passed from encoder layer\n",
    "# 2. Note that we do not control hidden state and cell state when training\n",
    "o, _, _ = decoder_lstm(decoder_inputs_x, initial_state = encoder_state)\n",
    "decoder_outputs = decoder_dense(o)"
   ]
  },
  {
   "cell_type": "markdown",
   "metadata": {},
   "source": [
    "### Training Model"
   ]
  },
  {
   "cell_type": "code",
   "execution_count": 67,
   "metadata": {},
   "outputs": [],
   "source": [
    "model = Model(inputs=[encoder_inputs_placeholder, decoder_inputs_placeholder], outputs=decoder_outputs)"
   ]
  },
  {
   "cell_type": "code",
   "execution_count": 68,
   "metadata": {},
   "outputs": [
    {
     "name": "stdout",
     "output_type": "stream",
     "text": [
      "__________________________________________________________________________________________________\n",
      "Layer (type)                    Output Shape         Param #     Connected to                     \n",
      "==================================================================================================\n",
      "input_6 (InputLayer)            (None, 9)            0                                            \n",
      "__________________________________________________________________________________________________\n",
      "input_7 (InputLayer)            (None, 22)           0                                            \n",
      "__________________________________________________________________________________________________\n",
      "embedding_3 (Embedding)         (None, 9, 50)        178550      input_6[0][0]                    \n",
      "__________________________________________________________________________________________________\n",
      "embedding_4 (Embedding)         (None, 22, 50)       131500      input_7[0][0]                    \n",
      "__________________________________________________________________________________________________\n",
      "lstm_3 (LSTM)                   [(None, 128), (None, 91648       embedding_3[0][0]                \n",
      "__________________________________________________________________________________________________\n",
      "lstm_4 (LSTM)                   [(None, 22, 128), (N 91648       embedding_4[0][0]                \n",
      "                                                                 lstm_3[0][1]                     \n",
      "                                                                 lstm_3[0][2]                     \n",
      "__________________________________________________________________________________________________\n",
      "dense_2 (Dense)                 (None, 22, 2630)     339270      lstm_4[0][0]                     \n",
      "==================================================================================================\n",
      "Total params: 832,616\n",
      "Trainable params: 832,616\n",
      "Non-trainable params: 0\n",
      "__________________________________________________________________________________________________\n"
     ]
    }
   ],
   "source": [
    "model.summary()"
   ]
  },
  {
   "cell_type": "code",
   "execution_count": 69,
   "metadata": {},
   "outputs": [],
   "source": [
    "model.compile(loss='categorical_crossentropy', optimizer=Adam(lr=0.01), metrics=['accuracy'])"
   ]
  },
  {
   "cell_type": "code",
   "execution_count": 105,
   "metadata": {},
   "outputs": [
    {
     "name": "stdout",
     "output_type": "stream",
     "text": [
      "Train on 9000 samples, validate on 1000 samples\n",
      "Epoch 1/100\n",
      "9000/9000 [==============================] - 222s 25ms/step - loss: 1.3528 - acc: 0.7424 - val_loss: 2.0622 - val_acc: 0.6588\n",
      "Epoch 2/100\n",
      "9000/9000 [==============================] - 215s 24ms/step - loss: 1.2956 - acc: 0.7469 - val_loss: 2.0441 - val_acc: 0.6651\n",
      "Epoch 3/100\n",
      "9000/9000 [==============================] - 202s 22ms/step - loss: 1.2458 - acc: 0.7509 - val_loss: 2.0179 - val_acc: 0.6659\n",
      "Epoch 4/100\n",
      "9000/9000 [==============================] - 174s 19ms/step - loss: 1.1993 - acc: 0.7561 - val_loss: 2.0188 - val_acc: 0.6670\n",
      "Epoch 5/100\n",
      "9000/9000 [==============================] - 175s 19ms/step - loss: 1.1609 - acc: 0.7599 - val_loss: 2.0042 - val_acc: 0.6691\n",
      "Epoch 6/100\n",
      "9000/9000 [==============================] - 179s 20ms/step - loss: 1.1249 - acc: 0.7641 - val_loss: 2.0035 - val_acc: 0.6701\n",
      "Epoch 7/100\n",
      "9000/9000 [==============================] - 178s 20ms/step - loss: 1.0891 - acc: 0.7690 - val_loss: 2.0101 - val_acc: 0.6705\n",
      "Epoch 8/100\n",
      "9000/9000 [==============================] - 180s 20ms/step - loss: 1.0598 - acc: 0.7715 - val_loss: 2.0025 - val_acc: 0.6729\n",
      "Epoch 9/100\n",
      "9000/9000 [==============================] - 186s 21ms/step - loss: 1.0330 - acc: 0.7752 - val_loss: 2.0015 - val_acc: 0.6748\n",
      "Epoch 10/100\n",
      "9000/9000 [==============================] - 178s 20ms/step - loss: 1.0079 - acc: 0.7789 - val_loss: 2.0035 - val_acc: 0.6759\n",
      "Epoch 11/100\n",
      "9000/9000 [==============================] - 176s 20ms/step - loss: 0.9810 - acc: 0.7832 - val_loss: 2.0023 - val_acc: 0.6751\n",
      "Epoch 12/100\n",
      "9000/9000 [==============================] - 175s 19ms/step - loss: 0.9596 - acc: 0.7860 - val_loss: 2.0193 - val_acc: 0.6759\n",
      "Epoch 13/100\n",
      "9000/9000 [==============================] - 176s 20ms/step - loss: 0.9435 - acc: 0.7876 - val_loss: 2.0142 - val_acc: 0.6732\n",
      "Epoch 14/100\n",
      "9000/9000 [==============================] - 178s 20ms/step - loss: 0.9246 - acc: 0.7908 - val_loss: 2.0117 - val_acc: 0.6747\n",
      "Epoch 15/100\n",
      "9000/9000 [==============================] - 178s 20ms/step - loss: 0.9080 - acc: 0.7928 - val_loss: 2.0225 - val_acc: 0.6755\n",
      "Epoch 16/100\n",
      "9000/9000 [==============================] - 179s 20ms/step - loss: 0.8919 - acc: 0.7950 - val_loss: 2.0274 - val_acc: 0.6770\n",
      "Epoch 17/100\n",
      "9000/9000 [==============================] - 180s 20ms/step - loss: 0.8756 - acc: 0.7977 - val_loss: 2.0266 - val_acc: 0.6784\n",
      "Epoch 18/100\n",
      "9000/9000 [==============================] - 181s 20ms/step - loss: 0.8647 - acc: 0.7990 - val_loss: 2.0336 - val_acc: 0.6781\n",
      "Epoch 19/100\n",
      "9000/9000 [==============================] - 180s 20ms/step - loss: 0.8510 - acc: 0.8009 - val_loss: 2.0385 - val_acc: 0.6799\n",
      "Epoch 20/100\n",
      "9000/9000 [==============================] - 183s 20ms/step - loss: 0.8391 - acc: 0.8037 - val_loss: 2.0423 - val_acc: 0.6779\n",
      "Epoch 21/100\n",
      "9000/9000 [==============================] - 179s 20ms/step - loss: 0.8275 - acc: 0.8045 - val_loss: 2.0443 - val_acc: 0.6789\n",
      "Epoch 22/100\n",
      "9000/9000 [==============================] - 179s 20ms/step - loss: 0.8185 - acc: 0.8064 - val_loss: 2.0535 - val_acc: 0.6809\n",
      "Epoch 23/100\n",
      "9000/9000 [==============================] - 179s 20ms/step - loss: 0.8066 - acc: 0.8080 - val_loss: 2.0526 - val_acc: 0.6806\n",
      "Epoch 24/100\n",
      "9000/9000 [==============================] - 183s 20ms/step - loss: 0.7973 - acc: 0.8096 - val_loss: 2.0708 - val_acc: 0.6795\n",
      "Epoch 25/100\n",
      "9000/9000 [==============================] - 178s 20ms/step - loss: 0.7863 - acc: 0.8113 - val_loss: 2.0706 - val_acc: 0.6800\n",
      "Epoch 26/100\n",
      "9000/9000 [==============================] - 178s 20ms/step - loss: 0.7829 - acc: 0.8108 - val_loss: 2.0829 - val_acc: 0.6789\n",
      "Epoch 27/100\n",
      "9000/9000 [==============================] - 181s 20ms/step - loss: 0.7740 - acc: 0.8136 - val_loss: 2.0812 - val_acc: 0.6794\n",
      "Epoch 28/100\n",
      "9000/9000 [==============================] - 180s 20ms/step - loss: 0.7651 - acc: 0.8153 - val_loss: 2.0835 - val_acc: 0.6790\n",
      "Epoch 29/100\n",
      "9000/9000 [==============================] - 185s 21ms/step - loss: 0.7579 - acc: 0.8160 - val_loss: 2.0894 - val_acc: 0.6805\n",
      "Epoch 30/100\n",
      "9000/9000 [==============================] - 181s 20ms/step - loss: 0.7507 - acc: 0.8170 - val_loss: 2.0908 - val_acc: 0.6805\n",
      "Epoch 31/100\n",
      "9000/9000 [==============================] - 181s 20ms/step - loss: 0.7438 - acc: 0.8192 - val_loss: 2.1074 - val_acc: 0.6805\n",
      "Epoch 32/100\n",
      "9000/9000 [==============================] - 179s 20ms/step - loss: 0.7367 - acc: 0.8205 - val_loss: 2.1103 - val_acc: 0.6802\n",
      "Epoch 33/100\n",
      "9000/9000 [==============================] - 185s 21ms/step - loss: 0.7312 - acc: 0.8200 - val_loss: 2.1159 - val_acc: 0.6799\n",
      "Epoch 34/100\n",
      "9000/9000 [==============================] - 183s 20ms/step - loss: 0.7264 - acc: 0.8207 - val_loss: 2.1186 - val_acc: 0.6796\n",
      "Epoch 35/100\n",
      "9000/9000 [==============================] - 181s 20ms/step - loss: 0.7207 - acc: 0.8225 - val_loss: 2.1242 - val_acc: 0.6771\n",
      "Epoch 36/100\n",
      "9000/9000 [==============================] - 177s 20ms/step - loss: 0.7176 - acc: 0.8216 - val_loss: 2.1223 - val_acc: 0.6797\n",
      "Epoch 37/100\n",
      "9000/9000 [==============================] - 179s 20ms/step - loss: 0.7090 - acc: 0.8239 - val_loss: 2.1235 - val_acc: 0.6798\n",
      "Epoch 38/100\n",
      "9000/9000 [==============================] - 180s 20ms/step - loss: 0.7043 - acc: 0.8249 - val_loss: 2.1470 - val_acc: 0.6805\n",
      "Epoch 39/100\n",
      "9000/9000 [==============================] - 178s 20ms/step - loss: 0.6987 - acc: 0.8253 - val_loss: 2.1525 - val_acc: 0.6789\n",
      "Epoch 40/100\n",
      "9000/9000 [==============================] - 179s 20ms/step - loss: 0.6949 - acc: 0.8270 - val_loss: 2.1464 - val_acc: 0.6802\n",
      "Epoch 41/100\n",
      "9000/9000 [==============================] - 188s 21ms/step - loss: 0.6930 - acc: 0.8271 - val_loss: 2.1648 - val_acc: 0.6786\n",
      "Epoch 42/100\n",
      "9000/9000 [==============================] - 202s 22ms/step - loss: 0.6906 - acc: 0.8278 - val_loss: 2.1647 - val_acc: 0.6777\n",
      "Epoch 43/100\n",
      "9000/9000 [==============================] - 202s 22ms/step - loss: 0.6860 - acc: 0.8280 - val_loss: 2.1758 - val_acc: 0.6798\n",
      "Epoch 44/100\n",
      "9000/9000 [==============================] - 177s 20ms/step - loss: 0.6800 - acc: 0.8296 - val_loss: 2.1717 - val_acc: 0.6819\n",
      "Epoch 45/100\n",
      "9000/9000 [==============================] - 225s 25ms/step - loss: 0.6746 - acc: 0.8301 - val_loss: 2.1744 - val_acc: 0.6816\n",
      "Epoch 46/100\n",
      "9000/9000 [==============================] - 176s 20ms/step - loss: 0.6719 - acc: 0.8304 - val_loss: 2.1790 - val_acc: 0.6811\n",
      "Epoch 47/100\n",
      "9000/9000 [==============================] - 175s 19ms/step - loss: 0.6684 - acc: 0.8313 - val_loss: 2.1763 - val_acc: 0.6813\n",
      "Epoch 48/100\n",
      "9000/9000 [==============================] - 173s 19ms/step - loss: 0.6650 - acc: 0.8316 - val_loss: 2.1869 - val_acc: 0.6787\n",
      "Epoch 49/100\n",
      "9000/9000 [==============================] - 168s 19ms/step - loss: 0.6612 - acc: 0.8323 - val_loss: 2.1971 - val_acc: 0.6799\n",
      "Epoch 50/100\n",
      "9000/9000 [==============================] - 152s 17ms/step - loss: 0.6602 - acc: 0.8330 - val_loss: 2.1889 - val_acc: 0.6790\n",
      "Epoch 51/100\n",
      "9000/9000 [==============================] - 160s 18ms/step - loss: 0.6552 - acc: 0.8344 - val_loss: 2.2030 - val_acc: 0.6778\n",
      "Epoch 52/100\n",
      "9000/9000 [==============================] - 163s 18ms/step - loss: 0.6529 - acc: 0.8339 - val_loss: 2.2041 - val_acc: 0.6767\n",
      "Epoch 53/100\n",
      "9000/9000 [==============================] - 165s 18ms/step - loss: 0.6476 - acc: 0.8350 - val_loss: 2.2228 - val_acc: 0.6792\n",
      "Epoch 54/100\n",
      "9000/9000 [==============================] - 170s 19ms/step - loss: 0.6458 - acc: 0.8350 - val_loss: 2.2211 - val_acc: 0.6771\n",
      "Epoch 55/100\n",
      "9000/9000 [==============================] - 178s 20ms/step - loss: 0.6451 - acc: 0.8353 - val_loss: 2.2210 - val_acc: 0.6785\n",
      "Epoch 56/100\n",
      "9000/9000 [==============================] - 188s 21ms/step - loss: 0.6414 - acc: 0.8355 - val_loss: 2.2288 - val_acc: 0.6786\n",
      "Epoch 57/100\n",
      "9000/9000 [==============================] - 180s 20ms/step - loss: 0.6373 - acc: 0.8365 - val_loss: 2.2309 - val_acc: 0.6808\n",
      "Epoch 58/100\n",
      "9000/9000 [==============================] - 150s 17ms/step - loss: 0.6350 - acc: 0.8375 - val_loss: 2.2247 - val_acc: 0.6824\n",
      "Epoch 59/100\n"
     ]
    },
    {
     "name": "stdout",
     "output_type": "stream",
     "text": [
      "9000/9000 [==============================] - 142s 16ms/step - loss: 0.6329 - acc: 0.8377 - val_loss: 2.2364 - val_acc: 0.6803\n",
      "Epoch 60/100\n",
      "9000/9000 [==============================] - 185s 21ms/step - loss: 0.6321 - acc: 0.8371 - val_loss: 2.2417 - val_acc: 0.6793\n",
      "Epoch 61/100\n",
      "9000/9000 [==============================] - 203s 23ms/step - loss: 0.6254 - acc: 0.8391 - val_loss: 2.2429 - val_acc: 0.6790\n",
      "Epoch 62/100\n",
      "9000/9000 [==============================] - 184s 20ms/step - loss: 0.6231 - acc: 0.8388 - val_loss: 2.2393 - val_acc: 0.6790\n",
      "Epoch 63/100\n",
      "9000/9000 [==============================] - 175s 19ms/step - loss: 0.6252 - acc: 0.8387 - val_loss: 2.2455 - val_acc: 0.6791\n",
      "Epoch 64/100\n",
      "9000/9000 [==============================] - 173s 19ms/step - loss: 0.6174 - acc: 0.8410 - val_loss: 2.2504 - val_acc: 0.6805\n",
      "Epoch 65/100\n",
      "9000/9000 [==============================] - 166s 18ms/step - loss: 0.6188 - acc: 0.8404 - val_loss: 2.2596 - val_acc: 0.6803\n",
      "Epoch 66/100\n",
      "9000/9000 [==============================] - 162s 18ms/step - loss: 0.6153 - acc: 0.8403 - val_loss: 2.2538 - val_acc: 0.6786\n",
      "Epoch 67/100\n",
      "9000/9000 [==============================] - 171s 19ms/step - loss: 0.6153 - acc: 0.8405 - val_loss: 2.2679 - val_acc: 0.6765\n",
      "Epoch 68/100\n",
      "9000/9000 [==============================] - 198s 22ms/step - loss: 0.6113 - acc: 0.8417 - val_loss: 2.2602 - val_acc: 0.6811\n",
      "Epoch 69/100\n",
      "9000/9000 [==============================] - 177s 20ms/step - loss: 0.6099 - acc: 0.8415 - val_loss: 2.2702 - val_acc: 0.6790\n",
      "Epoch 70/100\n",
      "9000/9000 [==============================] - 159s 18ms/step - loss: 0.6049 - acc: 0.8428 - val_loss: 2.2678 - val_acc: 0.6781\n",
      "Epoch 71/100\n",
      "9000/9000 [==============================] - 141s 16ms/step - loss: 0.6072 - acc: 0.8423 - val_loss: 2.2718 - val_acc: 0.6788\n",
      "Epoch 72/100\n",
      "9000/9000 [==============================] - 171s 19ms/step - loss: 0.6060 - acc: 0.8421 - val_loss: 2.2812 - val_acc: 0.6801\n",
      "Epoch 73/100\n",
      "9000/9000 [==============================] - 185s 21ms/step - loss: 0.6035 - acc: 0.8431 - val_loss: 2.2833 - val_acc: 0.6777\n",
      "Epoch 74/100\n",
      "9000/9000 [==============================] - 202s 22ms/step - loss: 0.6027 - acc: 0.8428 - val_loss: 2.2813 - val_acc: 0.6803\n",
      "Epoch 75/100\n",
      "9000/9000 [==============================] - 177s 20ms/step - loss: 0.6030 - acc: 0.8435 - val_loss: 2.2936 - val_acc: 0.6800\n",
      "Epoch 76/100\n",
      "9000/9000 [==============================] - 186s 21ms/step - loss: 0.5952 - acc: 0.8451 - val_loss: 2.2920 - val_acc: 0.6781\n",
      "Epoch 77/100\n",
      "9000/9000 [==============================] - 174s 19ms/step - loss: 0.5960 - acc: 0.8450 - val_loss: 2.3044 - val_acc: 0.6774\n",
      "Epoch 78/100\n",
      "9000/9000 [==============================] - 178s 20ms/step - loss: 0.5911 - acc: 0.8450 - val_loss: 2.3073 - val_acc: 0.6776\n",
      "Epoch 79/100\n",
      "9000/9000 [==============================] - 170s 19ms/step - loss: 0.5951 - acc: 0.8445 - val_loss: 2.3063 - val_acc: 0.6764\n",
      "Epoch 80/100\n",
      "9000/9000 [==============================] - 168s 19ms/step - loss: 0.5930 - acc: 0.8447 - val_loss: 2.3135 - val_acc: 0.6781\n",
      "Epoch 81/100\n",
      "9000/9000 [==============================] - 162s 18ms/step - loss: 0.5893 - acc: 0.8453 - val_loss: 2.3207 - val_acc: 0.6792\n",
      "Epoch 82/100\n",
      "9000/9000 [==============================] - 168s 19ms/step - loss: 0.5859 - acc: 0.8460 - val_loss: 2.3133 - val_acc: 0.6800\n",
      "Epoch 83/100\n",
      "9000/9000 [==============================] - 166s 18ms/step - loss: 0.5884 - acc: 0.8450 - val_loss: 2.3134 - val_acc: 0.6790\n",
      "Epoch 84/100\n",
      "9000/9000 [==============================] - 166s 18ms/step - loss: 0.5838 - acc: 0.8470 - val_loss: 2.3212 - val_acc: 0.6777\n",
      "Epoch 85/100\n",
      "9000/9000 [==============================] - 167s 19ms/step - loss: 0.5859 - acc: 0.8458 - val_loss: 2.3125 - val_acc: 0.6786\n",
      "Epoch 86/100\n",
      "9000/9000 [==============================] - 166s 18ms/step - loss: 0.5814 - acc: 0.8468 - val_loss: 2.3243 - val_acc: 0.6791\n",
      "Epoch 87/100\n",
      "9000/9000 [==============================] - 169s 19ms/step - loss: 0.5814 - acc: 0.8477 - val_loss: 2.3202 - val_acc: 0.6765\n",
      "Epoch 88/100\n",
      "9000/9000 [==============================] - 168s 19ms/step - loss: 0.5819 - acc: 0.8468 - val_loss: 2.3364 - val_acc: 0.6791\n",
      "Epoch 89/100\n",
      "9000/9000 [==============================] - 166s 18ms/step - loss: 0.5832 - acc: 0.8464 - val_loss: 2.3261 - val_acc: 0.6793\n",
      "Epoch 90/100\n",
      "9000/9000 [==============================] - 166s 18ms/step - loss: 0.5777 - acc: 0.8478 - val_loss: 2.3344 - val_acc: 0.6757\n",
      "Epoch 91/100\n",
      "9000/9000 [==============================] - 167s 19ms/step - loss: 0.5764 - acc: 0.8478 - val_loss: 2.3300 - val_acc: 0.6770\n",
      "Epoch 92/100\n",
      "9000/9000 [==============================] - 166s 18ms/step - loss: 0.5774 - acc: 0.8480 - val_loss: 2.3491 - val_acc: 0.6784\n",
      "Epoch 93/100\n",
      "9000/9000 [==============================] - 167s 19ms/step - loss: 0.5752 - acc: 0.8483 - val_loss: 2.3439 - val_acc: 0.6804\n",
      "Epoch 94/100\n",
      "9000/9000 [==============================] - 164s 18ms/step - loss: 0.5731 - acc: 0.8477 - val_loss: 2.3359 - val_acc: 0.6787\n",
      "Epoch 95/100\n",
      "9000/9000 [==============================] - 176s 20ms/step - loss: 0.5725 - acc: 0.8484 - val_loss: 2.3494 - val_acc: 0.6780\n",
      "Epoch 96/100\n",
      "9000/9000 [==============================] - 169s 19ms/step - loss: 0.5678 - acc: 0.8495 - val_loss: 2.3447 - val_acc: 0.6800\n",
      "Epoch 97/100\n",
      "9000/9000 [==============================] - 168s 19ms/step - loss: 0.5701 - acc: 0.8489 - val_loss: 2.3495 - val_acc: 0.6792\n",
      "Epoch 98/100\n",
      "9000/9000 [==============================] - 171s 19ms/step - loss: 0.5700 - acc: 0.8497 - val_loss: 2.3512 - val_acc: 0.6799\n",
      "Epoch 99/100\n",
      "9000/9000 [==============================] - 171s 19ms/step - loss: 0.5682 - acc: 0.8498 - val_loss: 2.3513 - val_acc: 0.6790\n",
      "Epoch 100/100\n",
      "9000/9000 [==============================] - 169s 19ms/step - loss: 0.5677 - acc: 0.8506 - val_loss: 2.3551 - val_acc: 0.6787\n"
     ]
    }
   ],
   "source": [
    "batch_size = 128\n",
    "epochs = 100\n",
    "\n",
    "r = model.fit([encode_inputs, decode_inputs], decode_targets_one_hot, batch_size=batch_size, epochs=epochs, validation_split=0.1)"
   ]
  },
  {
   "cell_type": "code",
   "execution_count": 106,
   "metadata": {},
   "outputs": [
    {
     "data": {
      "image/png": "[encoded data removed]",
      "text/plain": [
       "<matplotlib.figure.Figure at 0x11d4a2a20>"
      ]
     },
     "metadata": {},
     "output_type": "display_data"
    },
    {
     "data": {
      "image/png": "[encoded data removed]",
      "text/plain": [
       "<matplotlib.figure.Figure at 0x11eb2c9e8>"
      ]
     },
     "metadata": {},
     "output_type": "display_data"
    }
   ],
   "source": [
    "# plot loss\n",
    "plt.plot(r.history['loss'], label='loss')\n",
    "plt.plot(r.history['val_loss'], label='val_loss')\n",
    "plt.legend()\n",
    "plt.show()\n",
    "\n",
    "# accuracies\n",
    "plt.plot(r.history['acc'], label='acc')\n",
    "plt.plot(r.history['val_acc'], label='val_acc')\n",
    "plt.legend()\n",
    "plt.show()"
   ]
  },
  {
   "cell_type": "markdown",
   "metadata": {},
   "source": [
    "Apprently, we have overfit here. There are two ways to fix this:\n",
    "    1. More data\n",
    "    2. Make the model simpler"
   ]
  },
  {
   "cell_type": "code",
   "execution_count": 87,
   "metadata": {},
   "outputs": [
    {
     "name": "stderr",
     "output_type": "stream",
     "text": [
      "/Library/Frameworks/Python.framework/Versions/3.4/lib/python3.4/site-packages/keras/engine/topology.py:2379: UserWarning: Layer lstm_4 was passed non-serializable keyword arguments: {'initial_state': [<tf.Tensor 'lstm_3/while/Exit_2:0' shape=(?, 128) dtype=float32>, <tf.Tensor 'lstm_3/while/Exit_3:0' shape=(?, 128) dtype=float32>]}. They will not be included in the serialized model (and thus will be missing at deserialization time).\n",
      "  str(node.arguments) + '. They will not be included '\n"
     ]
    }
   ],
   "source": [
    "model.save('./data/s2s.h5')"
   ]
  },
  {
   "cell_type": "markdown",
   "metadata": {},
   "source": [
    "<font color='blue'>\n",
    "/Library/Frameworks/Python.framework/Versions/3.4/lib/python3.4/site-packages/keras/engine/topology.py:2379: UserWarning: Layer lstm_4 was passed non-serializable keyword arguments: {'initial_state': [<tf.Tensor 'lstm_3/while/Exit_2:0' shape=(?, 128) dtype=float32>, <tf.Tensor 'lstm_3/while/Exit_3:0' shape=(?, 128) dtype=float32>]}. They will not be included in the serialized model (and thus will be missing at deserialization time).\n",
    "  str(node.arguments) + '. They will not be included '"
   ]
  },
  {
   "cell_type": "markdown",
   "metadata": {},
   "source": [
    "### Prediction Model"
   ]
  },
  {
   "cell_type": "code",
   "execution_count": 107,
   "metadata": {},
   "outputs": [
    {
     "name": "stdout",
     "output_type": "stream",
     "text": [
      "_________________________________________________________________\n",
      "Layer (type)                 Output Shape              Param #   \n",
      "=================================================================\n",
      "input_6 (InputLayer)         (None, 9)                 0         \n",
      "_________________________________________________________________\n",
      "embedding_3 (Embedding)      (None, 9, 50)             178550    \n",
      "_________________________________________________________________\n",
      "lstm_3 (LSTM)                [(None, 128), (None, 128) 91648     \n",
      "=================================================================\n",
      "Total params: 270,198\n",
      "Trainable params: 270,198\n",
      "Non-trainable params: 0\n",
      "_________________________________________________________________\n"
     ]
    }
   ],
   "source": [
    "### prediction encoder model\n",
    "\n",
    "#\n",
    "encoder_model = Model(encoder_inputs_placeholder, encoder_state)\n",
    "encoder_model.summary()"
   ]
  },
  {
   "cell_type": "code",
   "execution_count": 108,
   "metadata": {},
   "outputs": [],
   "source": [
    "### prediction decoder model\n",
    "\n",
    "decoder_state_input_h = Input(shape=(latent_dim,))\n",
    "decoder_state_input_c = Input(shape=(latent_dim,))\n",
    "decoder_state_input= [decoder_state_input_h, decoder_state_input_c]\n",
    "\n",
    "# The input should be an integer representing the word predicted from previous time step\n",
    "decoder_input_single = Input(shape=(1,))\n",
    "\n",
    "# Reuse the decoder embedding layer when training but with different input\n",
    "decoder_input_single_x = decoder_embedding(decoder_input_single)\n",
    "\n",
    "# Reuse the decoder LSTM layer when training but with different input\n",
    "# NOTE we have three outputs  \n",
    "o, h, c = decoder_lstm(decoder_input_single_x, initial_state=decoder_state_input)\n",
    "\n",
    "# We have three outputs from LSTM layer, But they belong to two category\n",
    "#   1. h and c are hidden state and cell state respectively. \n",
    "#   2. o is the output for prediction\n",
    "decoder_state_output = [h, c]\n",
    "\n",
    "# Compute probabilty distribution over all words in the vocabulary\n",
    "decoder_output = decoder_dense(o)\n",
    "\n",
    "# IMPORTANT: what does the prediction model take as inputs and outputs?\n",
    "# - Inputs:\n",
    "#    1. A single word (represented as an integer) predicted from previous time step\n",
    "#    2. Both hidden states and cell states from previous time step\n",
    "# - Outputs:\n",
    "#    1. Probability distribution over all words in the vocabulary. \n",
    "#        - This distribution is used to predict word at current time step.\n",
    "#    2. Both hidden state and cell state produced at current time step.\n",
    "#        - These states will be passed to the next time step\n",
    "decoder_model = Model(\n",
    "    [decoder_input_single] + decoder_state_input, \n",
    "    [decoder_output] + decoder_state_output\n",
    ")\n",
    "\n",
    "idx2word_eng = {v:k for k, v in word2idx_inputs.items()}\n",
    "idx2word_chn = {v:k for k, v in word2idx_outputs.items()}"
   ]
  },
  {
   "cell_type": "code",
   "execution_count": 109,
   "metadata": {},
   "outputs": [],
   "source": [
    "def decode_sequence(input_seq):\n",
    "    \n",
    "    # Encoder model predict states based on the source sequence (i.e., English)\n",
    "    #  - The states can be considered as the compact representation of this source sequence\n",
    "    state_value = encoder_model.predict(input_seq)\n",
    "    \n",
    "    # The first input to the LSTM\n",
    "    pred_seq = np.zeros((1,1))\n",
    "    pred_seq[0,0] = word2idx_outputs['S']\n",
    "    \n",
    "#     pred_seq = np.array([[word2index['<sos>']]])\n",
    "        \n",
    "    eos = word2idx_outputs['E']\n",
    "    \n",
    "    output_sentence = []\n",
    "    \n",
    "    # for each time step of the source sequence\n",
    "    for _ in range(max_len_target):\n",
    "        \n",
    "        # decoder model predicts the output, hidden state and cell state based on \n",
    "        # the predicted (single) word (represented by index), hidden state and cell state from previous time step\n",
    "        o, h, c = decoder_model.predict([pred_seq] + state_value)\n",
    "        \n",
    "        # the output o has shape of (batch_size, sequence_length, word_number)\n",
    "        # But it actually has only 1 batch and 1 sequence length. It looks like:\n",
    "        # [[[0.1, 0.2, 0.3, 0.3, 0.1]]]\n",
    "        # We only need the probability distribution over all words\n",
    "        probs = o[0, 0, :]\n",
    "        \n",
    "        # greedy way to find current most likely word\n",
    "        #  - NOTE: a more robust way is to use Beam Search\n",
    "        idx = np.argmax(probs)\n",
    "        \n",
    "        # If the predicted index is the 'end of sequence', the translation process is completed\n",
    "        if eos == idx:\n",
    "            break\n",
    "        \n",
    "        # Constructing the output sentence\n",
    "        word = ''\n",
    "        if idx > 0:\n",
    "            word = idx2word_chn[idx]\n",
    "            output_sentence.append(word)\n",
    "        \n",
    "        # Set the input for the next time step\n",
    "        pred_seq[0,0] = idx\n",
    "        state_value = [h, c]\n",
    "        \n",
    "    return ' '.join(output_sentence)"
   ]
  },
  {
   "cell_type": "code",
   "execution_count": 137,
   "metadata": {},
   "outputs": [
    {
     "name": "stdout",
     "output_type": "stream",
     "text": [
      "(1, 9)\n",
      "-\n",
      "Input: I'm used to working all night.\n",
      "Translation: 我 晚 惯 睡 很 。\n"
     ]
    }
   ],
   "source": [
    "# Do some test translations\n",
    "i = np.random.choice(len(input_texts))\n",
    "encode_inputs\n",
    "input_seq = encode_inputs[i:i+1]\n",
    "print(input_seq.shape)\n",
    "translation = decode_sequence(input_seq)\n",
    "print('-')\n",
    "print('Input:', input_texts[i])\n",
    "print('Translation:', translation)"
   ]
  },
  {
   "cell_type": "markdown",
   "metadata": {},
   "source": [
    "### Retrospect\n",
    "\n",
    "The translation result is not satisfactory though it is working, because\n",
    "* The model is not trained well enough: the accuracy (0.68) is not quite good\n",
    "    * The model is overfitting\n",
    "    * Not enough data\n",
    "* May need `Beam Search` for translation (We currenly are using greedy search)\n",
    "* The English syntax structure is quite different from that of Chinese\n",
    "    * May need `Attention`"
   ]
  },
  {
   "cell_type": "code",
   "execution_count": null,
   "metadata": {},
   "outputs": [],
   "source": []
  }
 ],
 "metadata": {
  "kernelspec": {
   "display_name": "Python 3",
   "language": "python",
   "name": "python3"
  },
  "language_info": {
   "codemirror_mode": {
    "name": "ipython",
    "version": 3
   },
   "file_extension": ".py",
   "mimetype": "text/x-python",
   "name": "python",
   "nbconvert_exporter": "python",
   "pygments_lexer": "ipython3",
   "version": "3.4.4"
  }
 },
 "nbformat": 4,
 "nbformat_minor": 2
}
