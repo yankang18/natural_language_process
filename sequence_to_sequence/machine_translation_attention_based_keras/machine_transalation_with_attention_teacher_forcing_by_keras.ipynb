{
 "cells": [
  {
   "cell_type": "markdown",
   "metadata": {},
   "source": [
    "# Neural Machine Transalation with Attention and Teacher Forcing by Keras"
   ]
  },
  {
   "cell_type": "code",
   "execution_count": 40,
   "metadata": {},
   "outputs": [],
   "source": [
    "import os, sys\n",
    "\n",
    "from keras.models import Model\n",
    "from keras.layers import Input, LSTM, GRU, Bidirectional, Dense, Embedding\n",
    "from keras.layers import RepeatVector, Dot, Concatenate, Lambda\n",
    "from keras.preprocessing.text import Tokenizer\n",
    "from keras.preprocessing.sequence import pad_sequences\n",
    "from keras.utils import to_categorical\n",
    "from keras.optimizers import Adam, SGD\n",
    "import keras.backend as K\n",
    "\n",
    "import numpy as np\n",
    "import matplotlib.pyplot as plt"
   ]
  },
  {
   "cell_type": "code",
   "execution_count": 2,
   "metadata": {},
   "outputs": [],
   "source": [
    "num_samples = 10000\n",
    "max_sequence_length = 100\n",
    "max_num_words = 20000"
   ]
  },
  {
   "cell_type": "code",
   "execution_count": 3,
   "metadata": {},
   "outputs": [],
   "source": [
    "def load_data(file_name):\n",
    "    t = 0\n",
    "    input_texts = []\n",
    "    target_texts = []\n",
    "    target_texts_inputs = []\n",
    "    with open(file_name,  'r') as f:\n",
    "        for line in f:\n",
    "            t+=1\n",
    "            if t > num_samples:\n",
    "                break\n",
    "\n",
    "            if '\\t' not in line:\n",
    "                continue\n",
    "\n",
    "            input_text, translation = line.rstrip().split('\\t')\n",
    "\n",
    "\n",
    "            translation = translation.strip('\\n')\n",
    "\n",
    "            target_text = translation + ' E'\n",
    "            target_text_input = 'S ' + translation\n",
    "\n",
    "            input_texts.append(input_text)\n",
    "            target_texts.append(target_text)\n",
    "            target_texts_inputs.append(target_text_input)\n",
    "    return input_texts, target_texts, target_texts_inputs"
   ]
  },
  {
   "cell_type": "code",
   "execution_count": 4,
   "metadata": {},
   "outputs": [
    {
     "name": "stdout",
     "output_type": "stream",
     "text": [
      "10000\n",
      "10000\n",
      "10000\n"
     ]
    }
   ],
   "source": [
    "input_texts, target_texts, target_texts_inputs = load_data(\"data/cmn.txt\")\n",
    "\n",
    "print(len(input_texts))\n",
    "print(len(target_texts))\n",
    "print(len(target_texts_inputs))"
   ]
  },
  {
   "cell_type": "markdown",
   "metadata": {},
   "source": [
    "### Tokenize the inputs"
   ]
  },
  {
   "cell_type": "code",
   "execution_count": 6,
   "metadata": {},
   "outputs": [],
   "source": [
    "tokenizer_inputs = Tokenizer(num_words=max_num_words)\n",
    "tokenizer_inputs.fit_on_texts(input_texts)\n",
    "input_sequences = tokenizer_inputs.texts_to_sequences(input_texts)"
   ]
  },
  {
   "cell_type": "code",
   "execution_count": 7,
   "metadata": {},
   "outputs": [
    {
     "name": "stdout",
     "output_type": "stream",
     "text": [
      "max_len_input: 9\n"
     ]
    }
   ],
   "source": [
    "max_len_input = max(len(s) for s in input_sequences)\n",
    "print('max_len_input:', max_len_input)"
   ]
  },
  {
   "cell_type": "code",
   "execution_count": 8,
   "metadata": {},
   "outputs": [
    {
     "name": "stdout",
     "output_type": "stream",
     "text": [
      "Found 3570 unique input token\n"
     ]
    }
   ],
   "source": [
    "word2idx_inputs = tokenizer_inputs.word_index\n",
    "print('Found {0} unique input token'.format(len(word2idx_inputs)))"
   ]
  },
  {
   "cell_type": "markdown",
   "metadata": {},
   "source": [
    "### Tokenize the outputs"
   ]
  },
  {
   "cell_type": "code",
   "execution_count": 10,
   "metadata": {},
   "outputs": [],
   "source": [
    "# NOTE:\n",
    "# The char_level is set to True, because we tokenize chinese character \n",
    "tokenizer_outputs = Tokenizer(num_words=max_num_words, filters='', char_level = True)\n",
    "tokenizer_outputs.fit_on_texts(target_texts + target_texts_inputs)\n",
    "target_sequences = tokenizer_outputs.texts_to_sequences(target_texts)\n",
    "target_sequences_inputs = tokenizer_outputs.texts_to_sequences(target_texts_inputs)"
   ]
  },
  {
   "cell_type": "code",
   "execution_count": 11,
   "metadata": {},
   "outputs": [
    {
     "name": "stdout",
     "output_type": "stream",
     "text": [
      "Found 2629 unique input token\n"
     ]
    }
   ],
   "source": [
    "word2idx_outputs = tokenizer_outputs.word_index\n",
    "print('Found {0} unique input token'.format(len(word2idx_outputs)))"
   ]
  },
  {
   "cell_type": "code",
   "execution_count": 12,
   "metadata": {},
   "outputs": [],
   "source": [
    "assert('S' in word2idx_outputs)\n",
    "assert('E' in word2idx_outputs)"
   ]
  },
  {
   "cell_type": "code",
   "execution_count": 13,
   "metadata": {},
   "outputs": [
    {
     "name": "stdout",
     "output_type": "stream",
     "text": [
      "max_len_target: 22\n"
     ]
    }
   ],
   "source": [
    "max_len_target = max(len(s) for s in target_sequences)\n",
    "print('max_len_target:', max_len_target)"
   ]
  },
  {
   "cell_type": "code",
   "execution_count": 14,
   "metadata": {},
   "outputs": [
    {
     "name": "stdout",
     "output_type": "stream",
     "text": [
      "11\n"
     ]
    }
   ],
   "source": [
    "print(len(target_sequences[9999]))"
   ]
  },
  {
   "cell_type": "code",
   "execution_count": 15,
   "metadata": {},
   "outputs": [
    {
     "name": "stdout",
     "output_type": "stream",
     "text": [
      "10000\n",
      "10000\n"
     ]
    },
    {
     "data": {
      "text/plain": [
       "['嗨。 E',\n",
       " '你好。 E',\n",
       " '你用跑的。 E',\n",
       " '等等！ E',\n",
       " '你好。 E',\n",
       " '让我来。 E',\n",
       " '我赢了。 E',\n",
       " '不会吧。 E',\n",
       " '乾杯! E',\n",
       " '他跑了。 E',\n",
       " '跳进来。 E',\n",
       " '我迷失了。 E',\n",
       " '我退出。 E',\n",
       " '我沒事。 E',\n",
       " '听着。 E',\n",
       " '不可能！ E',\n",
       " '没门！ E',\n",
       " '你确定？ E',\n",
       " '试试吧。 E',\n",
       " '我们来试试。 E']"
      ]
     },
     "execution_count": 15,
     "metadata": {},
     "output_type": "execute_result"
    }
   ],
   "source": [
    "print(len(input_texts))\n",
    "print(len(target_texts))\n",
    "target_texts[:20]"
   ]
  },
  {
   "cell_type": "markdown",
   "metadata": {},
   "source": [
    "### Padding"
   ]
  },
  {
   "cell_type": "code",
   "execution_count": 16,
   "metadata": {},
   "outputs": [],
   "source": [
    "encode_inputs = pad_sequences(input_sequences, maxlen=max_len_input)\n",
    "decode_inputs = pad_sequences(target_sequences_inputs, maxlen=max_len_target, padding='post')\n",
    "decode_targets = pad_sequences(target_sequences, maxlen=max_len_target, padding='post')"
   ]
  },
  {
   "cell_type": "markdown",
   "metadata": {},
   "source": [
    "### Prepare embedding matrix and embedding layer"
   ]
  },
  {
   "cell_type": "code",
   "execution_count": 17,
   "metadata": {},
   "outputs": [],
   "source": [
    "def load_word2vec(file_name):\n",
    "    word2vec = {}\n",
    "    with open(file_name, 'r') as f:\n",
    "        for line in f:\n",
    "            values = line.split()\n",
    "            word = values[0]\n",
    "            vec = np.array(values[1:], dtype=np.float32)\n",
    "            word2vec[word] = vec\n",
    "    return word2vec"
   ]
  },
  {
   "cell_type": "code",
   "execution_count": 18,
   "metadata": {},
   "outputs": [],
   "source": [
    "word2vec = load_word2vec('data/glove.6B.50d.txt')"
   ]
  },
  {
   "cell_type": "markdown",
   "metadata": {},
   "source": [
    "### One hot targets"
   ]
  },
  {
   "cell_type": "code",
   "execution_count": 134,
   "metadata": {},
   "outputs": [],
   "source": [
    "# store number of output words for later\n",
    "# remember to add 1 since indexing starts at 1\n",
    "num_words_output = len(word2idx_outputs) + 1"
   ]
  },
  {
   "cell_type": "code",
   "execution_count": 135,
   "metadata": {},
   "outputs": [],
   "source": [
    "# create targets, since we cannot use sparse\n",
    "# categorical cross entropy when we have sequences\n",
    "decode_targets_one_hot = np.zeros(\n",
    "  (\n",
    "    len(target_texts),\n",
    "    max_len_target,\n",
    "    num_words_output\n",
    "  ),\n",
    "  dtype='float32'\n",
    ")\n",
    "\n",
    "# assign the values\n",
    "for i, d in enumerate(decode_targets):\n",
    "    for t, word in enumerate(d):\n",
    "        decode_targets_one_hot[i, t, word] = 1"
   ]
  },
  {
   "cell_type": "markdown",
   "metadata": {},
   "source": [
    "## 2. Construct Training Model"
   ]
  },
  {
   "cell_type": "markdown",
   "metadata": {},
   "source": [
    "### 2.1 Encoder "
   ]
  },
  {
   "cell_type": "markdown",
   "metadata": {},
   "source": [
    "**Embedding layer**"
   ]
  },
  {
   "cell_type": "code",
   "execution_count": null,
   "metadata": {},
   "outputs": [],
   "source": [
    "embedding_dim = 50\n",
    "num_words = min(max_num_words + 1, len(word2idx_inputs) + 1)\n",
    "embedding_matrix = np.zeros((num_words, embedding_dim))\n",
    "for word, index in word2idx_inputs.items():\n",
    "    if index <= max_num_words:\n",
    "        vector = word2vec.get(word)\n",
    "        if vector is not None:\n",
    "            embedding_matrix[index] = vector"
   ]
  },
  {
   "cell_type": "code",
   "execution_count": null,
   "metadata": {},
   "outputs": [],
   "source": [
    "embedding_layer = Embedding(\n",
    "    embedding_matrix.shape[0],\n",
    "    embedding_matrix.shape[1],\n",
    "    weights = [embedding_matrix],\n",
    "    input_length = max_len_input,\n",
    "    name='encoder_embed'\n",
    ")"
   ]
  },
  {
   "cell_type": "code",
   "execution_count": 136,
   "metadata": {},
   "outputs": [],
   "source": [
    "latent_dim = 192"
   ]
  },
  {
   "cell_type": "code",
   "execution_count": 137,
   "metadata": {},
   "outputs": [
    {
     "name": "stdout",
     "output_type": "stream",
     "text": [
      "encoder inputs after embedding: (?, 9, 50)\n",
      "encoder LSTM outputs: (?, ?, 384)\n"
     ]
    }
   ],
   "source": [
    "# Take input sequences as input\n",
    "encoder_inputs_placeholder = Input(shape=(max_len_input,), name='encoder_inputs')\n",
    "encoder_inputs_x = embedding_layer(encoder_inputs_placeholder)\n",
    "\n",
    "print('encoder inputs after embedding:', encoder_inputs_x.shape)\n",
    "\n",
    "# IMPORTANT: \n",
    "# Because we are using Attention, we do not need final hidden state. Instead, we need the outputs \n",
    "# (i.e., hidden states) from all time steps and pass those hidden states to decoder to generate context vector.\n",
    "# Therefore:\n",
    "# 1. The return_state is set to False (default), because we do not pass final hidden state to decoder \n",
    "#    and thus we do not need to control state.\n",
    "# 2. The return_sequences is set to True, because we use Attention, we need the outputs from all time steps\n",
    "encoder_lstm = Bidirectional(LSTM(latent_dim, return_sequences=True, dropout=0.5), name='encoder_bidirectional_lstm')\n",
    "\n",
    "# Only outputs returned and will be passed to attention layer to compute attention weights\n",
    "encoder_lstm_outputs = encoder_lstm(encoder_inputs_x)\n",
    "\n",
    "print('encoder LSTM outputs:', encoder_lstm_outputs.shape)"
   ]
  },
  {
   "cell_type": "markdown",
   "metadata": {},
   "source": [
    "### 2.2 Decoder "
   ]
  },
  {
   "cell_type": "code",
   "execution_count": 138,
   "metadata": {},
   "outputs": [
    {
     "name": "stdout",
     "output_type": "stream",
     "text": [
      "decoder inputs after embedding: (?, 22, 50)\n"
     ]
    }
   ],
   "source": [
    "# Take input from target sequence for Teacher Forcing\n",
    "decoder_inputs_placeholder = Input(shape=(max_len_target,), name='decoder_inputs')\n",
    "\n",
    "# We need inputs for initializing hidden state and cell state of decoder LSTM, this is because:\n",
    "#   1. We will not pass last time step state from encoder to decoder (as initial value), \n",
    "#      as we do when no attention used.\n",
    "#   2. We have to control the flow of states through time in decoder LSTM because we need to compute \n",
    "#      context vector manually (meaning coding by ourselves) at each time step.\n",
    "s0 = Input(shape=(latent_dim,), name='decoder_s_initial')\n",
    "c0 = Input(shape=(latent_dim,), name='decoder_c_initial')\n",
    "\n",
    "# Use different embedding from that of encoder\n",
    "decoder_embedding = Embedding(num_words_output, embedding_dim, name='decoder_embed')\n",
    "decoder_inputs_x = decoder_embedding(decoder_inputs_placeholder)\n",
    "\n",
    "print('decoder inputs after embedding:', decoder_inputs_x.shape)"
   ]
  },
  {
   "cell_type": "markdown",
   "metadata": {},
   "source": [
    "> We use `decoder_inputs_x` for teacher forcing. But different from decoder without attention, we will not put `decoder_inputs_x` directly into LSTM layer. Instead, at each time step k, we will fetch $kth$ word vector from `decoder_inputs_x` (along the time step dimension) and concatenate it with `context vector` computed at time step $k$ and then feed the concatenated vector into the decoder LSTM."
   ]
  },
  {
   "cell_type": "code",
   "execution_count": 221,
   "metadata": {},
   "outputs": [],
   "source": [
    "# We do not set return_sequences to True since we will manually (meaning coding by ourselves) \n",
    "# roll-out decoder LSTM for computing context vector at eath time step.\n",
    "decoder_lstm = LSTM(latent_dim, return_state=True, dropout=0.5, name='decoder_lstm')\n",
    "decoder_dense = Dense(num_words_output, activation='softmax', name='decoder_dense')"
   ]
  },
  {
   "cell_type": "markdown",
   "metadata": {},
   "source": [
    "### 2.3 Attention"
   ]
  },
  {
   "cell_type": "code",
   "execution_count": 140,
   "metadata": {},
   "outputs": [],
   "source": [
    "# make sure we do softmax over the time axis\n",
    "# expected shape is N x T x D\n",
    "# note: the latest version of Keras allows you to pass in axis arg\n",
    "def softmax_over_time(x):\n",
    "    assert(K.ndim(x) > 2)\n",
    "    e = K.exp(x - K.max(x, axis=1, keepdims=True))\n",
    "    s = K.sum(e, axis=1, keepdims=True)\n",
    "    return e / s"
   ]
  },
  {
   "cell_type": "markdown",
   "metadata": {},
   "source": [
    "<img src='../images/attention_computation.png' style=\"width:500px;height:500px;\"/>"
   ]
  },
  {
   "cell_type": "code",
   "execution_count": 141,
   "metadata": {},
   "outputs": [],
   "source": [
    "attn_repeat_layer = RepeatVector(max_len_input, name='attn_repeat_layer')\n",
    "attn_concat_layer = Concatenate(axis=-1, name='attn_concat_layer')\n",
    "attn_dense1 = Dense(10, activation='tanh', name='attn_weights_dense_1')\n",
    "attn_dense2 = Dense(1, activation=softmax_over_time, name='attn_weights_dense_2')\n",
    "attn_dot = Dot(axes=1,name='attn_dot_layer')"
   ]
  },
  {
   "cell_type": "code",
   "execution_count": 142,
   "metadata": {},
   "outputs": [],
   "source": [
    "def one_time_step_attention(h, s_t_1):\n",
    "    \n",
    "    s_t_1 = attn_repeat_layer(s_t_1)\n",
    "    \n",
    "    x = attn_concat_layer([h, s_t_1])\n",
    "    \n",
    "    x = attn_dense1(x)\n",
    "    \n",
    "    alphas = attn_dense2(x) \n",
    "    \n",
    "    context = attn_dot([alphas, h])\n",
    "    \n",
    "    return context"
   ]
  },
  {
   "cell_type": "code",
   "execution_count": 143,
   "metadata": {},
   "outputs": [],
   "source": [
    "# concatenate context and target word at time t\n",
    "# the result is the input to decoder LSTM\n",
    "context_last_word_concat_layer = Concatenate(axis=2, name='contxt_concat_layer')\n",
    "\n",
    "# use to select a single word from decoder input sequence (after embedding) at time t\n",
    "selector = Lambda(lambda x: x[:, t:t+1], name='decoder_inputs_x_selector')"
   ]
  },
  {
   "cell_type": "markdown",
   "metadata": {},
   "source": [
    "We will use a for-loop to perform the computation at each time step and following picture shows the whole view of the decoder-attention layer:\n",
    "\n",
    "<img src='../images/decoder_attention_all_steps.png' style=\"width:600px;height:400px;\"/>"
   ]
  },
  {
   "cell_type": "code",
   "execution_count": 144,
   "metadata": {},
   "outputs": [],
   "source": [
    "s = s0\n",
    "c = c0\n",
    "outputs = []\n",
    "for t in range(max_len_target):\n",
    "    \n",
    "    # encoder_lstm_outputs is the hiddens states of all time steps from encoder, used to compute attention weights\n",
    "    # s is the hidden state from previous time step of the decoder LSTM\n",
    "    context = one_time_step_attention(encoder_lstm_outputs, s)\n",
    "    \n",
    "    # Select word vector at time step t from decoder_input_x, which is the target sequence (after embedding)\n",
    "    xt = selector(decoder_inputs_x)\n",
    "    \n",
    "    # Concatenate context vector with target word vector\n",
    "    decoder_lstm_input = context_last_word_concat_layer([context, xt])\n",
    "    \n",
    "    # Compute the output, hidden state and cell state for current LSTM time step\n",
    "    o, s, c = decoder_lstm(decoder_lstm_input, initial_state=[s, c])\n",
    "    \n",
    "    if t == 1:\n",
    "        print('o shape:', o.shape)\n",
    "        print('s shape:', o.shape)\n",
    "        print('c shape:', o.shape)\n",
    "    \n",
    "    # Calculate probability distribution over all words of the vocabulary\n",
    "    decoder_output = decoder_dense(o)\n",
    "    \n",
    "    # store current probability distribution in a list\n",
    "    outputs.append(decoder_output)"
   ]
  },
  {
   "cell_type": "markdown",
   "metadata": {},
   "source": [
    "### 2.4 Final outputs shape issue:\n",
    "* `outputs` is now a list of length $T_y$, which is the target sequence length.\n",
    "* Each element is of shape `(batch size, output vocab size)`\n",
    "* Therefore if we simply stack all the outputs into 1 tensor, it would be of shape $T_y \\times N \\times D$\n",
    "    * $N$ is `batch size` and $D$ is ` output vocab size`\n",
    "* We would like it to be of shape $N \\times T_y \\times D$"
   ]
  },
  {
   "cell_type": "code",
   "execution_count": 145,
   "metadata": {},
   "outputs": [],
   "source": [
    "def stack_and_transpose(x):\n",
    "    # x is a list of length Ty, each element is a (batch_size, output_vocab_size) tensor\n",
    "    x = K.stack(x) # is now (Ty, batch_size, output_vocab_size) tensor\n",
    "    x = K.permute_dimensions(x, pattern=(1, 0, 2)) # is now (batch_size, Ty, output_vocab_size)\n",
    "    return x"
   ]
  },
  {
   "cell_type": "code",
   "execution_count": 146,
   "metadata": {},
   "outputs": [
    {
     "name": "stdout",
     "output_type": "stream",
     "text": [
      "(?, 22, 2630)\n"
     ]
    }
   ],
   "source": [
    "# make it a layer\n",
    "stacker = Lambda(stack_and_transpose, name='decoder_outputs_tranposer')\n",
    "outputs = stacker(outputs)\n",
    "print(outputs.shape)"
   ]
  },
  {
   "cell_type": "markdown",
   "metadata": {},
   "source": [
    "### 3.5 Put pieces together"
   ]
  },
  {
   "cell_type": "code",
   "execution_count": 147,
   "metadata": {},
   "outputs": [
    {
     "name": "stdout",
     "output_type": "stream",
     "text": [
      "__________________________________________________________________________________________________\n",
      "Layer (type)                    Output Shape         Param #     Connected to                     \n",
      "==================================================================================================\n",
      "encoder_inputs (InputLayer)     (None, 9)            0                                            \n",
      "__________________________________________________________________________________________________\n",
      "encoder_embed (Embedding)       (None, 9, 50)        178550      encoder_inputs[0][0]             \n",
      "__________________________________________________________________________________________________\n",
      "decoder_s_initial (InputLayer)  (None, 192)          0                                            \n",
      "__________________________________________________________________________________________________\n",
      "encoder_bidirectional_lstm (Bid (None, 9, 384)       373248      encoder_embed[0][0]              \n",
      "__________________________________________________________________________________________________\n",
      "attn_repeat_layer (RepeatVector (None, 9, 192)       0           decoder_s_initial[0][0]          \n",
      "                                                                 decoder_lstm[0][1]               \n",
      "                                                                 decoder_lstm[1][1]               \n",
      "                                                                 decoder_lstm[2][1]               \n",
      "                                                                 decoder_lstm[3][1]               \n",
      "                                                                 decoder_lstm[4][1]               \n",
      "                                                                 decoder_lstm[5][1]               \n",
      "                                                                 decoder_lstm[6][1]               \n",
      "                                                                 decoder_lstm[7][1]               \n",
      "                                                                 decoder_lstm[8][1]               \n",
      "                                                                 decoder_lstm[9][1]               \n",
      "                                                                 decoder_lstm[10][1]              \n",
      "                                                                 decoder_lstm[11][1]              \n",
      "                                                                 decoder_lstm[12][1]              \n",
      "                                                                 decoder_lstm[13][1]              \n",
      "                                                                 decoder_lstm[14][1]              \n",
      "                                                                 decoder_lstm[15][1]              \n",
      "                                                                 decoder_lstm[16][1]              \n",
      "                                                                 decoder_lstm[17][1]              \n",
      "                                                                 decoder_lstm[18][1]              \n",
      "                                                                 decoder_lstm[19][1]              \n",
      "                                                                 decoder_lstm[20][1]              \n",
      "__________________________________________________________________________________________________\n",
      "attn_concat_layer (Concatenate) (None, 9, 576)       0           encoder_bidirectional_lstm[0][0] \n",
      "                                                                 attn_repeat_layer[0][0]          \n",
      "                                                                 encoder_bidirectional_lstm[0][0] \n",
      "                                                                 attn_repeat_layer[1][0]          \n",
      "                                                                 encoder_bidirectional_lstm[0][0] \n",
      "                                                                 attn_repeat_layer[2][0]          \n",
      "                                                                 encoder_bidirectional_lstm[0][0] \n",
      "                                                                 attn_repeat_layer[3][0]          \n",
      "                                                                 encoder_bidirectional_lstm[0][0] \n",
      "                                                                 attn_repeat_layer[4][0]          \n",
      "                                                                 encoder_bidirectional_lstm[0][0] \n",
      "                                                                 attn_repeat_layer[5][0]          \n",
      "                                                                 encoder_bidirectional_lstm[0][0] \n",
      "                                                                 attn_repeat_layer[6][0]          \n",
      "                                                                 encoder_bidirectional_lstm[0][0] \n",
      "                                                                 attn_repeat_layer[7][0]          \n",
      "                                                                 encoder_bidirectional_lstm[0][0] \n",
      "                                                                 attn_repeat_layer[8][0]          \n",
      "                                                                 encoder_bidirectional_lstm[0][0] \n",
      "                                                                 attn_repeat_layer[9][0]          \n",
      "                                                                 encoder_bidirectional_lstm[0][0] \n",
      "                                                                 attn_repeat_layer[10][0]         \n",
      "                                                                 encoder_bidirectional_lstm[0][0] \n",
      "                                                                 attn_repeat_layer[11][0]         \n",
      "                                                                 encoder_bidirectional_lstm[0][0] \n",
      "                                                                 attn_repeat_layer[12][0]         \n",
      "                                                                 encoder_bidirectional_lstm[0][0] \n",
      "                                                                 attn_repeat_layer[13][0]         \n",
      "                                                                 encoder_bidirectional_lstm[0][0] \n",
      "                                                                 attn_repeat_layer[14][0]         \n",
      "                                                                 encoder_bidirectional_lstm[0][0] \n",
      "                                                                 attn_repeat_layer[15][0]         \n",
      "                                                                 encoder_bidirectional_lstm[0][0] \n",
      "                                                                 attn_repeat_layer[16][0]         \n",
      "                                                                 encoder_bidirectional_lstm[0][0] \n",
      "                                                                 attn_repeat_layer[17][0]         \n",
      "                                                                 encoder_bidirectional_lstm[0][0] \n",
      "                                                                 attn_repeat_layer[18][0]         \n",
      "                                                                 encoder_bidirectional_lstm[0][0] \n",
      "                                                                 attn_repeat_layer[19][0]         \n",
      "                                                                 encoder_bidirectional_lstm[0][0] \n",
      "                                                                 attn_repeat_layer[20][0]         \n",
      "                                                                 encoder_bidirectional_lstm[0][0] \n",
      "                                                                 attn_repeat_layer[21][0]         \n",
      "__________________________________________________________________________________________________\n",
      "attn_dense_1 (Dense)            (None, 9, 10)        5770        attn_concat_layer[0][0]          \n",
      "                                                                 attn_concat_layer[1][0]          \n",
      "                                                                 attn_concat_layer[2][0]          \n",
      "                                                                 attn_concat_layer[3][0]          \n",
      "                                                                 attn_concat_layer[4][0]          \n",
      "                                                                 attn_concat_layer[5][0]          \n",
      "                                                                 attn_concat_layer[6][0]          \n",
      "                                                                 attn_concat_layer[7][0]          \n",
      "                                                                 attn_concat_layer[8][0]          \n",
      "                                                                 attn_concat_layer[9][0]          \n",
      "                                                                 attn_concat_layer[10][0]         \n",
      "                                                                 attn_concat_layer[11][0]         \n",
      "                                                                 attn_concat_layer[12][0]         \n",
      "                                                                 attn_concat_layer[13][0]         \n",
      "                                                                 attn_concat_layer[14][0]         \n",
      "                                                                 attn_concat_layer[15][0]         \n",
      "                                                                 attn_concat_layer[16][0]         \n",
      "                                                                 attn_concat_layer[17][0]         \n",
      "                                                                 attn_concat_layer[18][0]         \n",
      "                                                                 attn_concat_layer[19][0]         \n",
      "                                                                 attn_concat_layer[20][0]         \n",
      "                                                                 attn_concat_layer[21][0]         \n",
      "__________________________________________________________________________________________________\n",
      "decoder_inputs (InputLayer)     (None, 22)           0                                            \n",
      "__________________________________________________________________________________________________\n",
      "attn_dense_2 (Dense)            (None, 9, 1)         11          attn_dense_1[0][0]               \n",
      "                                                                 attn_dense_1[1][0]               \n",
      "                                                                 attn_dense_1[2][0]               \n",
      "                                                                 attn_dense_1[3][0]               \n",
      "                                                                 attn_dense_1[4][0]               \n",
      "                                                                 attn_dense_1[5][0]               \n",
      "                                                                 attn_dense_1[6][0]               \n",
      "                                                                 attn_dense_1[7][0]               \n",
      "                                                                 attn_dense_1[8][0]               \n",
      "                                                                 attn_dense_1[9][0]               \n",
      "                                                                 attn_dense_1[10][0]              \n",
      "                                                                 attn_dense_1[11][0]              \n",
      "                                                                 attn_dense_1[12][0]              \n",
      "                                                                 attn_dense_1[13][0]              \n",
      "                                                                 attn_dense_1[14][0]              \n",
      "                                                                 attn_dense_1[15][0]              \n",
      "                                                                 attn_dense_1[16][0]              \n",
      "                                                                 attn_dense_1[17][0]              \n",
      "                                                                 attn_dense_1[18][0]              \n",
      "                                                                 attn_dense_1[19][0]              \n",
      "                                                                 attn_dense_1[20][0]              \n",
      "                                                                 attn_dense_1[21][0]              \n",
      "__________________________________________________________________________________________________\n",
      "decoder_embed (Embedding)       (None, 22, 50)       131500      decoder_inputs[0][0]             \n",
      "__________________________________________________________________________________________________\n",
      "attn_dot_layer (Dot)            (None, 1, 384)       0           attn_dense_2[0][0]               \n",
      "                                                                 encoder_bidirectional_lstm[0][0] \n",
      "                                                                 attn_dense_2[1][0]               \n",
      "                                                                 encoder_bidirectional_lstm[0][0] \n",
      "                                                                 attn_dense_2[2][0]               \n",
      "                                                                 encoder_bidirectional_lstm[0][0] \n",
      "                                                                 attn_dense_2[3][0]               \n",
      "                                                                 encoder_bidirectional_lstm[0][0] \n",
      "                                                                 attn_dense_2[4][0]               \n",
      "                                                                 encoder_bidirectional_lstm[0][0] \n",
      "                                                                 attn_dense_2[5][0]               \n",
      "                                                                 encoder_bidirectional_lstm[0][0] \n",
      "                                                                 attn_dense_2[6][0]               \n",
      "                                                                 encoder_bidirectional_lstm[0][0] \n",
      "                                                                 attn_dense_2[7][0]               \n",
      "                                                                 encoder_bidirectional_lstm[0][0] \n",
      "                                                                 attn_dense_2[8][0]               \n",
      "                                                                 encoder_bidirectional_lstm[0][0] \n",
      "                                                                 attn_dense_2[9][0]               \n",
      "                                                                 encoder_bidirectional_lstm[0][0] \n",
      "                                                                 attn_dense_2[10][0]              \n",
      "                                                                 encoder_bidirectional_lstm[0][0] \n",
      "                                                                 attn_dense_2[11][0]              \n",
      "                                                                 encoder_bidirectional_lstm[0][0] \n",
      "                                                                 attn_dense_2[12][0]              \n",
      "                                                                 encoder_bidirectional_lstm[0][0] \n",
      "                                                                 attn_dense_2[13][0]              \n",
      "                                                                 encoder_bidirectional_lstm[0][0] \n",
      "                                                                 attn_dense_2[14][0]              \n",
      "                                                                 encoder_bidirectional_lstm[0][0] \n",
      "                                                                 attn_dense_2[15][0]              \n",
      "                                                                 encoder_bidirectional_lstm[0][0] \n",
      "                                                                 attn_dense_2[16][0]              \n",
      "                                                                 encoder_bidirectional_lstm[0][0] \n",
      "                                                                 attn_dense_2[17][0]              \n",
      "                                                                 encoder_bidirectional_lstm[0][0] \n",
      "                                                                 attn_dense_2[18][0]              \n",
      "                                                                 encoder_bidirectional_lstm[0][0] \n",
      "                                                                 attn_dense_2[19][0]              \n",
      "                                                                 encoder_bidirectional_lstm[0][0] \n",
      "                                                                 attn_dense_2[20][0]              \n",
      "                                                                 encoder_bidirectional_lstm[0][0] \n",
      "                                                                 attn_dense_2[21][0]              \n",
      "                                                                 encoder_bidirectional_lstm[0][0] \n",
      "__________________________________________________________________________________________________\n",
      "decoder_inputs_x_selector (Lamb (None, 1, 50)        0           decoder_embed[0][0]              \n",
      "                                                                 decoder_embed[0][0]              \n",
      "                                                                 decoder_embed[0][0]              \n",
      "                                                                 decoder_embed[0][0]              \n",
      "                                                                 decoder_embed[0][0]              \n",
      "                                                                 decoder_embed[0][0]              \n",
      "                                                                 decoder_embed[0][0]              \n",
      "                                                                 decoder_embed[0][0]              \n",
      "                                                                 decoder_embed[0][0]              \n",
      "                                                                 decoder_embed[0][0]              \n",
      "                                                                 decoder_embed[0][0]              \n",
      "                                                                 decoder_embed[0][0]              \n",
      "                                                                 decoder_embed[0][0]              \n",
      "                                                                 decoder_embed[0][0]              \n",
      "                                                                 decoder_embed[0][0]              \n",
      "                                                                 decoder_embed[0][0]              \n",
      "                                                                 decoder_embed[0][0]              \n",
      "                                                                 decoder_embed[0][0]              \n",
      "                                                                 decoder_embed[0][0]              \n",
      "                                                                 decoder_embed[0][0]              \n",
      "                                                                 decoder_embed[0][0]              \n",
      "                                                                 decoder_embed[0][0]              \n",
      "__________________________________________________________________________________________________\n",
      "contxt_concat_layer (Concatenat (None, 1, 434)       0           attn_dot_layer[0][0]             \n",
      "                                                                 decoder_inputs_x_selector[0][0]  \n",
      "                                                                 attn_dot_layer[1][0]             \n",
      "                                                                 decoder_inputs_x_selector[1][0]  \n",
      "                                                                 attn_dot_layer[2][0]             \n",
      "                                                                 decoder_inputs_x_selector[2][0]  \n",
      "                                                                 attn_dot_layer[3][0]             \n",
      "                                                                 decoder_inputs_x_selector[3][0]  \n",
      "                                                                 attn_dot_layer[4][0]             \n",
      "                                                                 decoder_inputs_x_selector[4][0]  \n",
      "                                                                 attn_dot_layer[5][0]             \n",
      "                                                                 decoder_inputs_x_selector[5][0]  \n",
      "                                                                 attn_dot_layer[6][0]             \n",
      "                                                                 decoder_inputs_x_selector[6][0]  \n",
      "                                                                 attn_dot_layer[7][0]             \n",
      "                                                                 decoder_inputs_x_selector[7][0]  \n",
      "                                                                 attn_dot_layer[8][0]             \n",
      "                                                                 decoder_inputs_x_selector[8][0]  \n",
      "                                                                 attn_dot_layer[9][0]             \n",
      "                                                                 decoder_inputs_x_selector[9][0]  \n",
      "                                                                 attn_dot_layer[10][0]            \n",
      "                                                                 decoder_inputs_x_selector[10][0] \n",
      "                                                                 attn_dot_layer[11][0]            \n",
      "                                                                 decoder_inputs_x_selector[11][0] \n",
      "                                                                 attn_dot_layer[12][0]            \n",
      "                                                                 decoder_inputs_x_selector[12][0] \n",
      "                                                                 attn_dot_layer[13][0]            \n",
      "                                                                 decoder_inputs_x_selector[13][0] \n",
      "                                                                 attn_dot_layer[14][0]            \n",
      "                                                                 decoder_inputs_x_selector[14][0] \n",
      "                                                                 attn_dot_layer[15][0]            \n",
      "                                                                 decoder_inputs_x_selector[15][0] \n",
      "                                                                 attn_dot_layer[16][0]            \n",
      "                                                                 decoder_inputs_x_selector[16][0] \n",
      "                                                                 attn_dot_layer[17][0]            \n",
      "                                                                 decoder_inputs_x_selector[17][0] \n",
      "                                                                 attn_dot_layer[18][0]            \n",
      "                                                                 decoder_inputs_x_selector[18][0] \n",
      "                                                                 attn_dot_layer[19][0]            \n",
      "                                                                 decoder_inputs_x_selector[19][0] \n",
      "                                                                 attn_dot_layer[20][0]            \n",
      "                                                                 decoder_inputs_x_selector[20][0] \n",
      "                                                                 attn_dot_layer[21][0]            \n",
      "                                                                 decoder_inputs_x_selector[21][0] \n",
      "__________________________________________________________________________________________________\n",
      "decoder_c_initial (InputLayer)  (None, 192)          0                                            \n",
      "__________________________________________________________________________________________________\n",
      "decoder_lstm (LSTM)             [(None, 192), (None, 481536      contxt_concat_layer[0][0]        \n",
      "                                                                 decoder_s_initial[0][0]          \n",
      "                                                                 decoder_c_initial[0][0]          \n",
      "                                                                 contxt_concat_layer[1][0]        \n",
      "                                                                 decoder_lstm[0][1]               \n",
      "                                                                 decoder_lstm[0][2]               \n",
      "                                                                 contxt_concat_layer[2][0]        \n",
      "                                                                 decoder_lstm[1][1]               \n",
      "                                                                 decoder_lstm[1][2]               \n",
      "                                                                 contxt_concat_layer[3][0]        \n",
      "                                                                 decoder_lstm[2][1]               \n",
      "                                                                 decoder_lstm[2][2]               \n",
      "                                                                 contxt_concat_layer[4][0]        \n",
      "                                                                 decoder_lstm[3][1]               \n",
      "                                                                 decoder_lstm[3][2]               \n",
      "                                                                 contxt_concat_layer[5][0]        \n",
      "                                                                 decoder_lstm[4][1]               \n",
      "                                                                 decoder_lstm[4][2]               \n",
      "                                                                 contxt_concat_layer[6][0]        \n",
      "                                                                 decoder_lstm[5][1]               \n",
      "                                                                 decoder_lstm[5][2]               \n",
      "                                                                 contxt_concat_layer[7][0]        \n",
      "                                                                 decoder_lstm[6][1]               \n",
      "                                                                 decoder_lstm[6][2]               \n",
      "                                                                 contxt_concat_layer[8][0]        \n",
      "                                                                 decoder_lstm[7][1]               \n",
      "                                                                 decoder_lstm[7][2]               \n",
      "                                                                 contxt_concat_layer[9][0]        \n",
      "                                                                 decoder_lstm[8][1]               \n",
      "                                                                 decoder_lstm[8][2]               \n",
      "                                                                 contxt_concat_layer[10][0]       \n",
      "                                                                 decoder_lstm[9][1]               \n",
      "                                                                 decoder_lstm[9][2]               \n",
      "                                                                 contxt_concat_layer[11][0]       \n",
      "                                                                 decoder_lstm[10][1]              \n",
      "                                                                 decoder_lstm[10][2]              \n",
      "                                                                 contxt_concat_layer[12][0]       \n",
      "                                                                 decoder_lstm[11][1]              \n",
      "                                                                 decoder_lstm[11][2]              \n",
      "                                                                 contxt_concat_layer[13][0]       \n",
      "                                                                 decoder_lstm[12][1]              \n",
      "                                                                 decoder_lstm[12][2]              \n",
      "                                                                 contxt_concat_layer[14][0]       \n",
      "                                                                 decoder_lstm[13][1]              \n",
      "                                                                 decoder_lstm[13][2]              \n",
      "                                                                 contxt_concat_layer[15][0]       \n",
      "                                                                 decoder_lstm[14][1]              \n",
      "                                                                 decoder_lstm[14][2]              \n",
      "                                                                 contxt_concat_layer[16][0]       \n",
      "                                                                 decoder_lstm[15][1]              \n",
      "                                                                 decoder_lstm[15][2]              \n",
      "                                                                 contxt_concat_layer[17][0]       \n",
      "                                                                 decoder_lstm[16][1]              \n",
      "                                                                 decoder_lstm[16][2]              \n",
      "                                                                 contxt_concat_layer[18][0]       \n",
      "                                                                 decoder_lstm[17][1]              \n",
      "                                                                 decoder_lstm[17][2]              \n",
      "                                                                 contxt_concat_layer[19][0]       \n",
      "                                                                 decoder_lstm[18][1]              \n",
      "                                                                 decoder_lstm[18][2]              \n",
      "                                                                 contxt_concat_layer[20][0]       \n",
      "                                                                 decoder_lstm[19][1]              \n",
      "                                                                 decoder_lstm[19][2]              \n",
      "                                                                 contxt_concat_layer[21][0]       \n",
      "                                                                 decoder_lstm[20][1]              \n",
      "                                                                 decoder_lstm[20][2]              \n",
      "__________________________________________________________________________________________________\n",
      "decoder_dense (Dense)           (None, 2630)         507590      decoder_lstm[0][0]               \n",
      "                                                                 decoder_lstm[1][0]               \n",
      "                                                                 decoder_lstm[2][0]               \n",
      "                                                                 decoder_lstm[3][0]               \n",
      "                                                                 decoder_lstm[4][0]               \n",
      "                                                                 decoder_lstm[5][0]               \n",
      "                                                                 decoder_lstm[6][0]               \n",
      "                                                                 decoder_lstm[7][0]               \n",
      "                                                                 decoder_lstm[8][0]               \n",
      "                                                                 decoder_lstm[9][0]               \n",
      "                                                                 decoder_lstm[10][0]              \n",
      "                                                                 decoder_lstm[11][0]              \n",
      "                                                                 decoder_lstm[12][0]              \n",
      "                                                                 decoder_lstm[13][0]              \n",
      "                                                                 decoder_lstm[14][0]              \n",
      "                                                                 decoder_lstm[15][0]              \n",
      "                                                                 decoder_lstm[16][0]              \n",
      "                                                                 decoder_lstm[17][0]              \n",
      "                                                                 decoder_lstm[18][0]              \n",
      "                                                                 decoder_lstm[19][0]              \n",
      "                                                                 decoder_lstm[20][0]              \n",
      "                                                                 decoder_lstm[21][0]              \n",
      "__________________________________________________________________________________________________\n",
      "decoder_outputs_tranposer (Lamb (None, 22, 2630)     0           decoder_dense[0][0]              \n",
      "                                                                 decoder_dense[1][0]              \n",
      "                                                                 decoder_dense[2][0]              \n",
      "                                                                 decoder_dense[3][0]              \n",
      "                                                                 decoder_dense[4][0]              \n",
      "                                                                 decoder_dense[5][0]              \n",
      "                                                                 decoder_dense[6][0]              \n",
      "                                                                 decoder_dense[7][0]              \n",
      "                                                                 decoder_dense[8][0]              \n",
      "                                                                 decoder_dense[9][0]              \n",
      "                                                                 decoder_dense[10][0]             \n",
      "                                                                 decoder_dense[11][0]             \n",
      "                                                                 decoder_dense[12][0]             \n",
      "                                                                 decoder_dense[13][0]             \n",
      "                                                                 decoder_dense[14][0]             \n",
      "                                                                 decoder_dense[15][0]             \n",
      "                                                                 decoder_dense[16][0]             \n",
      "                                                                 decoder_dense[17][0]             \n",
      "                                                                 decoder_dense[18][0]             \n",
      "                                                                 decoder_dense[19][0]             \n",
      "                                                                 decoder_dense[20][0]             \n",
      "                                                                 decoder_dense[21][0]             \n",
      "==================================================================================================\n",
      "Total params: 1,678,205\n",
      "Trainable params: 1,678,205\n",
      "Non-trainable params: 0\n",
      "__________________________________________________________________________________________________\n"
     ]
    }
   ],
   "source": [
    "# encoder-decoder with attention model\n",
    "encoder_decoder_attention_model = Model(inputs=[encoder_inputs_placeholder, \n",
    "                                                decoder_inputs_placeholder, \n",
    "                                                s0, c0], \n",
    "                                        outputs=outputs)\n",
    "\n",
    "encoder_decoder_attention_model.summary()"
   ]
  },
  {
   "cell_type": "markdown",
   "metadata": {},
   "source": [
    "## 4. Train the Model"
   ]
  },
  {
   "cell_type": "code",
   "execution_count": 148,
   "metadata": {},
   "outputs": [],
   "source": [
    "model.compile(loss='categorical_crossentropy', optimizer=Adam(lr=0.01), metrics=['accuracy'])"
   ]
  },
  {
   "cell_type": "code",
   "execution_count": 149,
   "metadata": {},
   "outputs": [
    {
     "name": "stdout",
     "output_type": "stream",
     "text": [
      "Train on 9000 samples, validate on 1000 samples\n",
      "Epoch 1/120\n",
      "9000/9000 [==============================] - 192s 21ms/step - loss: 3.3945 - acc: 0.5353 - val_loss: 3.3989 - val_acc: 0.4757\n",
      "Epoch 2/120\n",
      "9000/9000 [==============================] - 154s 17ms/step - loss: 2.5123 - acc: 0.5765 - val_loss: 2.9373 - val_acc: 0.5378\n",
      "Epoch 3/120\n",
      "9000/9000 [==============================] - 153s 17ms/step - loss: 2.2521 - acc: 0.6531 - val_loss: 2.7944 - val_acc: 0.5826\n",
      "Epoch 4/120\n",
      "9000/9000 [==============================] - 163s 18ms/step - loss: 2.1756 - acc: 0.6556 - val_loss: 2.7445 - val_acc: 0.5840\n",
      "Epoch 5/120\n",
      "9000/9000 [==============================] - 160s 18ms/step - loss: 2.1383 - acc: 0.6595 - val_loss: 2.7282 - val_acc: 0.5867\n",
      "Epoch 6/120\n",
      "9000/9000 [==============================] - 157s 17ms/step - loss: 2.1170 - acc: 0.6617 - val_loss: 2.6919 - val_acc: 0.5885\n",
      "Epoch 7/120\n",
      "9000/9000 [==============================] - 160s 18ms/step - loss: 2.1040 - acc: 0.6625 - val_loss: 2.6859 - val_acc: 0.5900\n",
      "Epoch 8/120\n",
      "9000/9000 [==============================] - 154s 17ms/step - loss: 2.0931 - acc: 0.6639 - val_loss: 2.6761 - val_acc: 0.5929\n",
      "Epoch 9/120\n",
      "9000/9000 [==============================] - 156s 17ms/step - loss: 2.0743 - acc: 0.6679 - val_loss: 2.6755 - val_acc: 0.5953\n",
      "Epoch 10/120\n",
      "9000/9000 [==============================] - 158s 18ms/step - loss: 2.0604 - acc: 0.6717 - val_loss: 2.6526 - val_acc: 0.6000\n",
      "Epoch 11/120\n",
      "9000/9000 [==============================] - 156s 17ms/step - loss: 2.0437 - acc: 0.6758 - val_loss: 2.6456 - val_acc: 0.6048\n",
      "Epoch 12/120\n",
      "9000/9000 [==============================] - 157s 17ms/step - loss: 2.0256 - acc: 0.6804 - val_loss: 2.6220 - val_acc: 0.6079\n",
      "Epoch 13/120\n",
      "9000/9000 [==============================] - 156s 17ms/step - loss: 2.0024 - acc: 0.6837 - val_loss: 2.6089 - val_acc: 0.6081\n",
      "Epoch 14/120\n",
      "9000/9000 [==============================] - 154s 17ms/step - loss: 1.9818 - acc: 0.6864 - val_loss: 2.6109 - val_acc: 0.6064\n",
      "Epoch 15/120\n",
      "9000/9000 [==============================] - 155s 17ms/step - loss: 1.9656 - acc: 0.6879 - val_loss: 2.5733 - val_acc: 0.6123\n",
      "Epoch 16/120\n",
      "9000/9000 [==============================] - 154s 17ms/step - loss: 1.9343 - acc: 0.6897 - val_loss: 2.5602 - val_acc: 0.6108\n",
      "Epoch 17/120\n",
      "9000/9000 [==============================] - 157s 17ms/step - loss: 1.9058 - acc: 0.6945 - val_loss: 2.5172 - val_acc: 0.6181\n",
      "Epoch 18/120\n",
      "9000/9000 [==============================] - 157s 17ms/step - loss: 1.8730 - acc: 0.6993 - val_loss: 2.4849 - val_acc: 0.6241\n",
      "Epoch 19/120\n",
      "9000/9000 [==============================] - 159s 18ms/step - loss: 1.8247 - acc: 0.7038 - val_loss: 2.3801 - val_acc: 0.6275\n",
      "Epoch 20/120\n",
      "9000/9000 [==============================] - 158s 18ms/step - loss: 1.7397 - acc: 0.7093 - val_loss: 2.3099 - val_acc: 0.6321\n",
      "Epoch 21/120\n",
      "9000/9000 [==============================] - 159s 18ms/step - loss: 1.6779 - acc: 0.7138 - val_loss: 2.2733 - val_acc: 0.6350\n",
      "Epoch 22/120\n",
      "9000/9000 [==============================] - 156s 17ms/step - loss: 1.6183 - acc: 0.7191 - val_loss: 2.2465 - val_acc: 0.6404\n",
      "Epoch 23/120\n",
      "9000/9000 [==============================] - 166s 18ms/step - loss: 1.5616 - acc: 0.7231 - val_loss: 2.2086 - val_acc: 0.6448\n",
      "Epoch 24/120\n",
      "9000/9000 [==============================] - 154s 17ms/step - loss: 1.5051 - acc: 0.7291 - val_loss: 2.1708 - val_acc: 0.6493\n",
      "Epoch 25/120\n",
      "9000/9000 [==============================] - 154s 17ms/step - loss: 1.4497 - acc: 0.7347 - val_loss: 2.1341 - val_acc: 0.6550\n",
      "Epoch 26/120\n",
      "9000/9000 [==============================] - 155s 17ms/step - loss: 1.3933 - acc: 0.7398 - val_loss: 2.1129 - val_acc: 0.6568\n",
      "Epoch 27/120\n",
      "9000/9000 [==============================] - 154s 17ms/step - loss: 1.3442 - acc: 0.7437 - val_loss: 2.0880 - val_acc: 0.6613\n",
      "Epoch 28/120\n",
      "9000/9000 [==============================] - 153s 17ms/step - loss: 1.2990 - acc: 0.7480 - val_loss: 2.0794 - val_acc: 0.6615\n",
      "Epoch 29/120\n",
      "9000/9000 [==============================] - 155s 17ms/step - loss: 1.2604 - acc: 0.7515 - val_loss: 2.0514 - val_acc: 0.6653\n",
      "Epoch 30/120\n",
      "9000/9000 [==============================] - 153s 17ms/step - loss: 1.2195 - acc: 0.7558 - val_loss: 2.0462 - val_acc: 0.6690\n",
      "Epoch 31/120\n",
      "9000/9000 [==============================] - 158s 18ms/step - loss: 1.1799 - acc: 0.7594 - val_loss: 2.0309 - val_acc: 0.6683\n",
      "Epoch 32/120\n",
      "9000/9000 [==============================] - 155s 17ms/step - loss: 1.1465 - acc: 0.7631 - val_loss: 2.0192 - val_acc: 0.6722\n",
      "Epoch 33/120\n",
      "9000/9000 [==============================] - 158s 18ms/step - loss: 1.1189 - acc: 0.7659 - val_loss: 2.0172 - val_acc: 0.6710\n",
      "Epoch 34/120\n",
      "9000/9000 [==============================] - 157s 17ms/step - loss: 1.0888 - acc: 0.7706 - val_loss: 2.0110 - val_acc: 0.6725\n",
      "Epoch 35/120\n",
      "9000/9000 [==============================] - 154s 17ms/step - loss: 1.0629 - acc: 0.7727 - val_loss: 1.9982 - val_acc: 0.6732\n",
      "Epoch 36/120\n",
      "9000/9000 [==============================] - 164s 18ms/step - loss: 1.0372 - acc: 0.7757 - val_loss: 1.9865 - val_acc: 0.6774\n",
      "Epoch 37/120\n",
      "9000/9000 [==============================] - 155s 17ms/step - loss: 1.0128 - acc: 0.7794 - val_loss: 1.9865 - val_acc: 0.6778\n",
      "Epoch 38/120\n",
      "9000/9000 [==============================] - 152s 17ms/step - loss: 0.9910 - acc: 0.7821 - val_loss: 1.9889 - val_acc: 0.6805\n",
      "Epoch 39/120\n",
      "9000/9000 [==============================] - 153s 17ms/step - loss: 0.9716 - acc: 0.7845 - val_loss: 1.9790 - val_acc: 0.6807\n",
      "Epoch 40/120\n",
      "9000/9000 [==============================] - 154s 17ms/step - loss: 0.9533 - acc: 0.7874 - val_loss: 1.9849 - val_acc: 0.6798\n",
      "Epoch 41/120\n",
      "9000/9000 [==============================] - 165s 18ms/step - loss: 0.9346 - acc: 0.7902 - val_loss: 1.9907 - val_acc: 0.6793\n",
      "Epoch 42/120\n",
      "9000/9000 [==============================] - 176s 20ms/step - loss: 0.9182 - acc: 0.7922 - val_loss: 1.9868 - val_acc: 0.6803\n",
      "Epoch 43/120\n",
      "9000/9000 [==============================] - 169s 19ms/step - loss: 0.8995 - acc: 0.7955 - val_loss: 1.9842 - val_acc: 0.6806\n",
      "Epoch 44/120\n",
      "9000/9000 [==============================] - 147s 16ms/step - loss: 0.8843 - acc: 0.7970 - val_loss: 1.9742 - val_acc: 0.6845\n",
      "Epoch 45/120\n",
      "9000/9000 [==============================] - 217s 24ms/step - loss: 0.8700 - acc: 0.7989 - val_loss: 1.9809 - val_acc: 0.6828\n",
      "Epoch 46/120\n",
      "9000/9000 [==============================] - 156s 17ms/step - loss: 0.8573 - acc: 0.8016 - val_loss: 1.9799 - val_acc: 0.6832\n",
      "Epoch 47/120\n",
      "9000/9000 [==============================] - 176s 20ms/step - loss: 0.8426 - acc: 0.8035 - val_loss: 1.9877 - val_acc: 0.6797\n",
      "Epoch 48/120\n",
      "9000/9000 [==============================] - 200s 22ms/step - loss: 0.8331 - acc: 0.8044 - val_loss: 1.9746 - val_acc: 0.6848\n",
      "Epoch 49/120\n",
      "9000/9000 [==============================] - 192s 21ms/step - loss: 0.8164 - acc: 0.8079 - val_loss: 1.9725 - val_acc: 0.6858\n",
      "Epoch 50/120\n",
      "9000/9000 [==============================] - 295s 33ms/step - loss: 0.8035 - acc: 0.8090 - val_loss: 1.9753 - val_acc: 0.6869\n",
      "Epoch 51/120\n",
      "9000/9000 [==============================] - 341s 38ms/step - loss: 0.7926 - acc: 0.8108 - val_loss: 1.9709 - val_acc: 0.6863\n",
      "Epoch 52/120\n",
      "9000/9000 [==============================] - 280s 31ms/step - loss: 0.7797 - acc: 0.8132 - val_loss: 1.9852 - val_acc: 0.6833\n",
      "Epoch 53/120\n",
      "9000/9000 [==============================] - 281s 31ms/step - loss: 0.7731 - acc: 0.8140 - val_loss: 1.9778 - val_acc: 0.6852\n",
      "Epoch 54/120\n",
      "9000/9000 [==============================] - 286s 32ms/step - loss: 0.7614 - acc: 0.8161 - val_loss: 1.9824 - val_acc: 0.6858\n",
      "Epoch 55/120\n",
      "9000/9000 [==============================] - 299s 33ms/step - loss: 0.7533 - acc: 0.8174 - val_loss: 1.9816 - val_acc: 0.6861\n",
      "Epoch 56/120\n",
      "9000/9000 [==============================] - 294s 33ms/step - loss: 0.7452 - acc: 0.8189 - val_loss: 1.9903 - val_acc: 0.6836\n",
      "Epoch 57/120\n",
      "9000/9000 [==============================] - 275s 31ms/step - loss: 0.7353 - acc: 0.8195 - val_loss: 1.9917 - val_acc: 0.6843\n",
      "Epoch 58/120\n",
      "9000/9000 [==============================] - 273s 30ms/step - loss: 0.7253 - acc: 0.8218 - val_loss: 1.9857 - val_acc: 0.6882\n",
      "Epoch 59/120\n",
      "9000/9000 [==============================] - 290s 32ms/step - loss: 0.7151 - acc: 0.8241 - val_loss: 1.9920 - val_acc: 0.6875\n",
      "Epoch 60/120\n",
      "9000/9000 [==============================] - 218s 24ms/step - loss: 0.7111 - acc: 0.8247 - val_loss: 1.9967 - val_acc: 0.6847\n",
      "Epoch 61/120\n",
      "9000/9000 [==============================] - 162s 18ms/step - loss: 0.7030 - acc: 0.8257 - val_loss: 2.0013 - val_acc: 0.6851\n",
      "Epoch 62/120\n",
      "9000/9000 [==============================] - 161s 18ms/step - loss: 0.6949 - acc: 0.8272 - val_loss: 2.0014 - val_acc: 0.6836\n",
      "Epoch 63/120\n",
      "9000/9000 [==============================] - 156s 17ms/step - loss: 0.6892 - acc: 0.8283 - val_loss: 2.0005 - val_acc: 0.6880\n",
      "Epoch 64/120\n",
      "9000/9000 [==============================] - 171s 19ms/step - loss: 0.6811 - acc: 0.8298 - val_loss: 2.0103 - val_acc: 0.6882\n",
      "Epoch 65/120\n",
      "9000/9000 [==============================] - 148s 16ms/step - loss: 0.6703 - acc: 0.8322 - val_loss: 2.0100 - val_acc: 0.6873\n",
      "Epoch 66/120\n",
      "9000/9000 [==============================] - 161s 18ms/step - loss: 0.6661 - acc: 0.8314 - val_loss: 2.0093 - val_acc: 0.6860\n",
      "Epoch 67/120\n",
      "9000/9000 [==============================] - 159s 18ms/step - loss: 0.6598 - acc: 0.8325 - val_loss: 2.0000 - val_acc: 0.6876\n",
      "Epoch 68/120\n",
      "9000/9000 [==============================] - 149s 17ms/step - loss: 0.6519 - acc: 0.8353 - val_loss: 2.0102 - val_acc: 0.6877\n",
      "Epoch 69/120\n",
      "9000/9000 [==============================] - 153s 17ms/step - loss: 0.6437 - acc: 0.8359 - val_loss: 2.0153 - val_acc: 0.6888\n",
      "Epoch 70/120\n",
      "9000/9000 [==============================] - 158s 18ms/step - loss: 0.6388 - acc: 0.8375 - val_loss: 2.0146 - val_acc: 0.6881\n",
      "Epoch 71/120\n",
      "9000/9000 [==============================] - 150s 17ms/step - loss: 0.6345 - acc: 0.8381 - val_loss: 2.0250 - val_acc: 0.6871\n",
      "Epoch 72/120\n",
      "9000/9000 [==============================] - 158s 18ms/step - loss: 0.6304 - acc: 0.8377 - val_loss: 2.0127 - val_acc: 0.6873\n",
      "Epoch 73/120\n",
      "9000/9000 [==============================] - 152s 17ms/step - loss: 0.6245 - acc: 0.8391 - val_loss: 2.0212 - val_acc: 0.6867\n",
      "Epoch 74/120\n",
      "9000/9000 [==============================] - 150s 17ms/step - loss: 0.6222 - acc: 0.8400 - val_loss: 2.0302 - val_acc: 0.6864\n",
      "Epoch 75/120\n",
      "9000/9000 [==============================] - 141s 16ms/step - loss: 0.6128 - acc: 0.8419 - val_loss: 2.0261 - val_acc: 0.6900\n",
      "Epoch 76/120\n",
      "9000/9000 [==============================] - 155s 17ms/step - loss: 0.6055 - acc: 0.8428 - val_loss: 2.0331 - val_acc: 0.6891\n",
      "Epoch 77/120\n",
      "9000/9000 [==============================] - 150s 17ms/step - loss: 0.6002 - acc: 0.8438 - val_loss: 2.0305 - val_acc: 0.6898\n",
      "Epoch 78/120\n",
      "9000/9000 [==============================] - 183s 20ms/step - loss: 0.5976 - acc: 0.8445 - val_loss: 2.0293 - val_acc: 0.6898\n",
      "Epoch 79/120\n",
      "9000/9000 [==============================] - 151s 17ms/step - loss: 0.5914 - acc: 0.8454 - val_loss: 2.0438 - val_acc: 0.6894\n",
      "Epoch 80/120\n",
      "9000/9000 [==============================] - 174s 19ms/step - loss: 0.5856 - acc: 0.8469 - val_loss: 2.0421 - val_acc: 0.6897\n",
      "Epoch 81/120\n",
      "9000/9000 [==============================] - 172s 19ms/step - loss: 0.5839 - acc: 0.8469 - val_loss: 2.0513 - val_acc: 0.6905\n",
      "Epoch 82/120\n",
      "9000/9000 [==============================] - 150s 17ms/step - loss: 0.5778 - acc: 0.8477 - val_loss: 2.0500 - val_acc: 0.6905\n",
      "Epoch 83/120\n",
      "9000/9000 [==============================] - 190s 21ms/step - loss: 0.5755 - acc: 0.8488 - val_loss: 2.0529 - val_acc: 0.6899\n",
      "Epoch 84/120\n",
      "9000/9000 [==============================] - 145s 16ms/step - loss: 0.5702 - acc: 0.8495 - val_loss: 2.0594 - val_acc: 0.6935\n",
      "Epoch 85/120\n",
      "9000/9000 [==============================] - 132s 15ms/step - loss: 0.5681 - acc: 0.8494 - val_loss: 2.0652 - val_acc: 0.6890\n",
      "Epoch 86/120\n",
      "9000/9000 [==============================] - 147s 16ms/step - loss: 0.5610 - acc: 0.8513 - val_loss: 2.0576 - val_acc: 0.6897\n",
      "Epoch 87/120\n",
      "9000/9000 [==============================] - 175s 19ms/step - loss: 0.5614 - acc: 0.8508 - val_loss: 2.0645 - val_acc: 0.6898\n",
      "Epoch 88/120\n",
      "9000/9000 [==============================] - 140s 16ms/step - loss: 0.5526 - acc: 0.8525 - val_loss: 2.0722 - val_acc: 0.6929\n",
      "Epoch 89/120\n",
      "9000/9000 [==============================] - 148s 16ms/step - loss: 0.5528 - acc: 0.8523 - val_loss: 2.0810 - val_acc: 0.6902\n",
      "Epoch 90/120\n",
      "9000/9000 [==============================] - 146s 16ms/step - loss: 0.5497 - acc: 0.8533 - val_loss: 2.0763 - val_acc: 0.6915\n",
      "Epoch 91/120\n",
      "9000/9000 [==============================] - 150s 17ms/step - loss: 0.5440 - acc: 0.8545 - val_loss: 2.0791 - val_acc: 0.6894\n",
      "Epoch 92/120\n",
      "9000/9000 [==============================] - 145s 16ms/step - loss: 0.5426 - acc: 0.8552 - val_loss: 2.0800 - val_acc: 0.6911\n",
      "Epoch 93/120\n",
      "9000/9000 [==============================] - 153s 17ms/step - loss: 0.5403 - acc: 0.8549 - val_loss: 2.0894 - val_acc: 0.6886\n",
      "Epoch 94/120\n",
      "9000/9000 [==============================] - 148s 16ms/step - loss: 0.5319 - acc: 0.8569 - val_loss: 2.0942 - val_acc: 0.6918\n",
      "Epoch 95/120\n",
      "9000/9000 [==============================] - 152s 17ms/step - loss: 0.5325 - acc: 0.8563 - val_loss: 2.0958 - val_acc: 0.6918\n",
      "Epoch 96/120\n",
      "9000/9000 [==============================] - 156s 17ms/step - loss: 0.5298 - acc: 0.8576 - val_loss: 2.1011 - val_acc: 0.6881\n",
      "Epoch 97/120\n",
      "9000/9000 [==============================] - 155s 17ms/step - loss: 0.5272 - acc: 0.8575 - val_loss: 2.1057 - val_acc: 0.6914\n",
      "Epoch 98/120\n",
      "9000/9000 [==============================] - 152s 17ms/step - loss: 0.5219 - acc: 0.8584 - val_loss: 2.1006 - val_acc: 0.6928\n",
      "Epoch 99/120\n",
      "9000/9000 [==============================] - 147s 16ms/step - loss: 0.5197 - acc: 0.8590 - val_loss: 2.1118 - val_acc: 0.6930\n",
      "Epoch 100/120\n",
      "9000/9000 [==============================] - 155s 17ms/step - loss: 0.5135 - acc: 0.8601 - val_loss: 2.1133 - val_acc: 0.6928\n",
      "Epoch 101/120\n",
      "9000/9000 [==============================] - 152s 17ms/step - loss: 0.5131 - acc: 0.8601 - val_loss: 2.1116 - val_acc: 0.6926\n",
      "Epoch 102/120\n",
      "9000/9000 [==============================] - 153s 17ms/step - loss: 0.5096 - acc: 0.8614 - val_loss: 2.1193 - val_acc: 0.6905\n",
      "Epoch 103/120\n",
      "9000/9000 [==============================] - 157s 17ms/step - loss: 0.5081 - acc: 0.8612 - val_loss: 2.1153 - val_acc: 0.6937\n",
      "Epoch 104/120\n",
      "9000/9000 [==============================] - 152s 17ms/step - loss: 0.5054 - acc: 0.8617 - val_loss: 2.1228 - val_acc: 0.6932\n",
      "Epoch 105/120\n",
      "9000/9000 [==============================] - 144s 16ms/step - loss: 0.5049 - acc: 0.8614 - val_loss: 2.1266 - val_acc: 0.6935\n",
      "Epoch 106/120\n",
      "9000/9000 [==============================] - 149s 17ms/step - loss: 0.4995 - acc: 0.8633 - val_loss: 2.1295 - val_acc: 0.6920\n",
      "Epoch 107/120\n",
      "9000/9000 [==============================] - 150s 17ms/step - loss: 0.4987 - acc: 0.8627 - val_loss: 2.1275 - val_acc: 0.6899\n",
      "Epoch 108/120\n",
      "9000/9000 [==============================] - 149s 17ms/step - loss: 0.4942 - acc: 0.8638 - val_loss: 2.1283 - val_acc: 0.6927\n",
      "Epoch 109/120\n",
      "9000/9000 [==============================] - 149s 17ms/step - loss: 0.4928 - acc: 0.8645 - val_loss: 2.1441 - val_acc: 0.6946\n",
      "Epoch 110/120\n",
      "9000/9000 [==============================] - 145s 16ms/step - loss: 0.4875 - acc: 0.8653 - val_loss: 2.1396 - val_acc: 0.6941\n",
      "Epoch 111/120\n",
      "9000/9000 [==============================] - 153s 17ms/step - loss: 0.4886 - acc: 0.8655 - val_loss: 2.1465 - val_acc: 0.6912\n",
      "Epoch 112/120\n",
      "9000/9000 [==============================] - 150s 17ms/step - loss: 0.4879 - acc: 0.8648 - val_loss: 2.1522 - val_acc: 0.6931\n",
      "Epoch 113/120\n",
      "9000/9000 [==============================] - 146s 16ms/step - loss: 0.4845 - acc: 0.8658 - val_loss: 2.1507 - val_acc: 0.6920\n",
      "Epoch 114/120\n",
      "9000/9000 [==============================] - 148s 16ms/step - loss: 0.4805 - acc: 0.8677 - val_loss: 2.1456 - val_acc: 0.6916\n",
      "Epoch 115/120\n",
      "9000/9000 [==============================] - 144s 16ms/step - loss: 0.4787 - acc: 0.8670 - val_loss: 2.1532 - val_acc: 0.6921\n",
      "Epoch 116/120\n",
      "9000/9000 [==============================] - 155s 17ms/step - loss: 0.4770 - acc: 0.8680 - val_loss: 2.1607 - val_acc: 0.6889\n",
      "Epoch 117/120\n",
      "9000/9000 [==============================] - 155s 17ms/step - loss: 0.4721 - acc: 0.8688 - val_loss: 2.1597 - val_acc: 0.6930\n"
     ]
    },
    {
     "name": "stdout",
     "output_type": "stream",
     "text": [
      "Epoch 118/120\n",
      "9000/9000 [==============================] - 146s 16ms/step - loss: 0.4715 - acc: 0.8687 - val_loss: 2.1659 - val_acc: 0.6918\n",
      "Epoch 119/120\n",
      "9000/9000 [==============================] - 167s 19ms/step - loss: 0.4720 - acc: 0.8688 - val_loss: 2.1743 - val_acc: 0.6926\n",
      "Epoch 120/120\n",
      "9000/9000 [==============================] - 164s 18ms/step - loss: 0.4709 - acc: 0.8691 - val_loss: 2.1740 - val_acc: 0.6918\n"
     ]
    }
   ],
   "source": [
    "batch_size = 256\n",
    "epochs = 120\n",
    "\n",
    "z = np.zeros((num_samples, latent_dim)) # initial [s, c]\n",
    "r = encoder_decoder_attention_model.fit([encode_inputs, decode_inputs, z, z], decode_targets_one_hot, batch_size=batch_size, epochs=epochs, validation_split=0.1)"
   ]
  },
  {
   "cell_type": "code",
   "execution_count": 150,
   "metadata": {},
   "outputs": [
    {
     "data": {
      "image/png": "[encoded data removed]",
      "text/plain": [
       "<matplotlib.figure.Figure at 0x19256cef0>"
      ]
     },
     "metadata": {},
     "output_type": "display_data"
    },
    {
     "data": {
      "image/png": "[encoded data removed]",
      "text/plain": [
       "<matplotlib.figure.Figure at 0x16141be80>"
      ]
     },
     "metadata": {},
     "output_type": "display_data"
    }
   ],
   "source": [
    "# plot some data\n",
    "plt.plot(r.history['loss'], label='loss')\n",
    "plt.plot(r.history['val_loss'], label='val_loss')\n",
    "plt.legend()\n",
    "plt.show()\n",
    "\n",
    "# accuracies\n",
    "plt.plot(r.history['acc'], label='acc')\n",
    "plt.plot(r.history['val_acc'], label='val_acc')\n",
    "plt.legend()\n",
    "plt.show()"
   ]
  },
  {
   "cell_type": "markdown",
   "metadata": {},
   "source": [
    "## 5 Construct Inference/Prediction Model"
   ]
  },
  {
   "cell_type": "markdown",
   "metadata": {},
   "source": [
    "### 5.1 Inference Encoder Model"
   ]
  },
  {
   "cell_type": "code",
   "execution_count": 151,
   "metadata": {},
   "outputs": [
    {
     "name": "stdout",
     "output_type": "stream",
     "text": [
      "_________________________________________________________________\n",
      "Layer (type)                 Output Shape              Param #   \n",
      "=================================================================\n",
      "encoder_inputs (InputLayer)  (None, 9)                 0         \n",
      "_________________________________________________________________\n",
      "encoder_embed (Embedding)    (None, 9, 50)             178550    \n",
      "_________________________________________________________________\n",
      "encoder_bidirectional_lstm ( (None, 9, 384)            373248    \n",
      "=================================================================\n",
      "Total params: 551,798\n",
      "Trainable params: 551,798\n",
      "Non-trainable params: 0\n",
      "_________________________________________________________________\n"
     ]
    }
   ],
   "source": [
    "### prediction encoder model\n",
    "inference_encoder_model = Model(encoder_inputs_placeholder, encoder_lstm_outputs)\n",
    "inference_encoder_model.summary()"
   ]
  },
  {
   "cell_type": "markdown",
   "metadata": {},
   "source": [
    "### 5.2 Inference Decoder Model"
   ]
  },
  {
   "cell_type": "code",
   "execution_count": 152,
   "metadata": {},
   "outputs": [],
   "source": [
    "# encoder_outputs_as_input is used to compute Attention\n",
    "encoder_outputs_as_input = Input(shape=(max_len_input, latent_dim * 2))\n",
    "\n",
    "# decoder_inputs_single is the previous predicted word index\n",
    "decoder_inputs_single = Input(shape=(1,))\n",
    "decoder_inputs_single_x = decoder_embedding(decoder_inputs_single)\n",
    "\n",
    "# IMPORTANT:\n",
    "# combine context with last word\n",
    "context = one_time_step_attention(encoder_outputs_as_input, s0)\n",
    "decoder_lstm_input = context_last_word_concat_layer([context, decoder_inputs_single_x])\n",
    "\n",
    "o, s, c = decoder_lstm(decoder_lstm_input, initial_state=[s0, c0])\n",
    "decoder_outputs = decoder_dense(o)\n",
    "\n",
    "inference_decoder_model = Model(inputs=[decoder_inputs_single, \n",
    "                                        encoder_outputs_as_input, \n",
    "                                        s0, c0], \n",
    "                                outputs=[decoder_outputs, s, c])"
   ]
  },
  {
   "cell_type": "code",
   "execution_count": 154,
   "metadata": {},
   "outputs": [],
   "source": [
    "idx2word_eng = {v:k for k, v in word2idx_inputs.items()}\n",
    "idx2word_chn = {v:k for k, v in word2idx_outputs.items()}"
   ]
  },
  {
   "cell_type": "code",
   "execution_count": 155,
   "metadata": {},
   "outputs": [],
   "source": [
    "def decode_sequence(input_seq):\n",
    "    \n",
    "    # encoder model predict states based on the source sequence (i.e., English)\n",
    "    #  - The states can be treated as the information representation of this source sequence\n",
    "    encoder_outputs = inference_encoder_model.predict(input_seq)\n",
    "    \n",
    "    # The first input to the LSTM\n",
    "    pred_seq = np.zeros((1,1))\n",
    "    pred_seq[0,0] = word2idx_outputs['S']\n",
    "    \n",
    "#     pred_seq = np.array([[word2index['<sos>']]])\n",
    "        \n",
    "    eos = word2idx_outputs['E']\n",
    "    \n",
    "    # [s, c] will be updated in each loop iteration\n",
    "    s = np.zeros((1, latent_dim))\n",
    "    c = np.zeros((1, latent_dim))\n",
    "    \n",
    "    output_sentence = []\n",
    "    \n",
    "    # for each time step of the source sequence\n",
    "    for _ in range(max_len_target):\n",
    "        \n",
    "        # decoder model predicts the output, hidden state and cell state based on \n",
    "        # the predicted (single) word (represented by index), hidden state and cell state from previous time step\n",
    "        o, s, c = inference_decoder_model.predict([pred_seq, encoder_outputs, s, c])\n",
    "        \n",
    "        # the output o has shape of (batch_size, word_number)\n",
    "        # But it actually has only 1 batch and 1 sequence length. It looks like:\n",
    "        # [[0.1, 0.2, 0.3, 0.3, 0.1]]\n",
    "        # We only need the probability distribution over all words\n",
    "        probs = o[0, :]\n",
    "        \n",
    "        # greedy way to find current most likely word\n",
    "        #  - NOTE: a more robust way is to use Beam Search\n",
    "        idx = np.argmax(probs)\n",
    "        \n",
    "        # If the predicted index is the 'end of sequence', the translation process is completed\n",
    "        if eos == idx:\n",
    "            break\n",
    "        \n",
    "        # Constructing the output sentence\n",
    "        word = ''\n",
    "        if idx > 0:\n",
    "            word = idx2word_chn[idx]\n",
    "            output_sentence.append(word)\n",
    "        \n",
    "        # Set the input for the next time step\n",
    "        pred_seq[0,0] = idx\n",
    "        \n",
    "    return ' '.join(output_sentence)"
   ]
  },
  {
   "cell_type": "markdown",
   "metadata": {},
   "source": [
    "## 6. Inferencing"
   ]
  },
  {
   "cell_type": "code",
   "execution_count": 220,
   "metadata": {},
   "outputs": [
    {
     "name": "stdout",
     "output_type": "stream",
     "text": [
      "(1, 9)\n",
      "-\n",
      "Input: I am playing the piano now.\n",
      "Translation: 我 现 正 彈 琴 。\n"
     ]
    }
   ],
   "source": [
    "# Do some test translations\n",
    "i = np.random.choice(len(input_texts))\n",
    "encode_inputs\n",
    "input_seq = encode_inputs[i:i+1]\n",
    "print(input_seq.shape)\n",
    "translation = decode_sequence(input_seq)\n",
    "print('-')\n",
    "print('Input:', input_texts[i])\n",
    "print('Translation:', translation)"
   ]
  },
  {
   "cell_type": "code",
   "execution_count": null,
   "metadata": {},
   "outputs": [],
   "source": []
  },
  {
   "cell_type": "code",
   "execution_count": null,
   "metadata": {},
   "outputs": [],
   "source": []
  }
 ],
 "metadata": {
  "kernelspec": {
   "display_name": "Python 3",
   "language": "python",
   "name": "python3"
  },
  "language_info": {
   "codemirror_mode": {
    "name": "ipython",
    "version": 3
   },
   "file_extension": ".py",
   "mimetype": "text/x-python",
   "name": "python",
   "nbconvert_exporter": "python",
   "pygments_lexer": "ipython3",
   "version": "3.4.4"
  }
 },
 "nbformat": 4,
 "nbformat_minor": 2
}
