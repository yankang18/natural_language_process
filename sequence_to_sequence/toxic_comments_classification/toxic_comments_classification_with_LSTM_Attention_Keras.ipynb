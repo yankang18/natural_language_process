{
 "cells": [
  {
   "cell_type": "markdown",
   "metadata": {},
   "source": [
    "# Toxic Comment Classification \n",
    "\n",
    "* Get Data from [Toxic Comment Classification Challenge](https://www.kaggle.com/c/jigsaw-toxic-comment-classification-challenge)"
   ]
  },
  {
   "cell_type": "code",
   "execution_count": 57,
   "metadata": {},
   "outputs": [],
   "source": [
    "import os\n",
    "import sys\n",
    "import numpy as np\n",
    "import pandas as pd\n",
    "import matplotlib.pyplot as plt\n",
    "from keras.preprocessing.text import Tokenizer\n",
    "from keras.preprocessing.sequence import pad_sequences\n",
    "from keras.layers import Dense, Input, GlobalMaxPooling1D, Dropout\n",
    "from keras.layers import Conv1D, MaxPooling1D, Embedding, Dot, Reshape\n",
    "from keras.layers import Input, LSTM, GRU, Bidirectional, Dense\n",
    "from keras.models import Model\n",
    "from sklearn.metrics import roc_auc_score\n",
    "from keras.callbacks import EarlyStopping,ModelCheckpoint\n",
    "from keras.callbacks import Callback\n",
    "from keras.optimizers import Adam, SGD\n",
    "import keras.backend as K\n",
    "\n",
    "from sklearn.model_selection import train_test_split\n",
    "from sklearn.metrics import accuracy_score\n",
    "from sklearn.metrics import roc_auc_score"
   ]
  },
  {
   "cell_type": "code",
   "execution_count": 36,
   "metadata": {},
   "outputs": [],
   "source": [
    "def get_toxic_data(file_name):\n",
    "    train = pd.read_csv(file_name)\n",
    "    sentences = train[\"comment_text\"].fillna(\"DUMMY_VALUE\").values\n",
    "    labels = [\"toxic\", \"severe_toxic\", \"obscene\", \"threat\", \"insult\", \"identity_hate\"]\n",
    "    targets = train[labels].values\n",
    "    return sentences, labels, targets"
   ]
  },
  {
   "cell_type": "code",
   "execution_count": 37,
   "metadata": {},
   "outputs": [],
   "source": [
    "def get_toxic_testing_data(file_name):\n",
    "    train = pd.read_csv(file_name)\n",
    "    sentences = train[\"comment_text\"].fillna(\"DUMMY_VALUE\").values\n",
    "    return sentences"
   ]
  },
  {
   "cell_type": "code",
   "execution_count": 38,
   "metadata": {},
   "outputs": [],
   "source": [
    "toxic_train_file_path = 'data/train.csv'\n",
    "toxic_test_file_path = 'data/test.csv'"
   ]
  },
  {
   "cell_type": "code",
   "execution_count": 161,
   "metadata": {},
   "outputs": [],
   "source": [
    "train_sentences, labels, train_targets = get_toxic_data(toxic_train_file_path)"
   ]
  },
  {
   "cell_type": "code",
   "execution_count": 162,
   "metadata": {},
   "outputs": [],
   "source": [
    "test_sentences = get_toxic_testing_data(toxic_test_file_path)"
   ]
  },
  {
   "cell_type": "code",
   "execution_count": 163,
   "metadata": {},
   "outputs": [],
   "source": [
    "max_vocab_size = 30000"
   ]
  },
  {
   "cell_type": "code",
   "execution_count": 164,
   "metadata": {},
   "outputs": [],
   "source": [
    "tokenizer = Tokenizer(num_words=max_vocab_size, lower=True)\n",
    "tokenizer.fit_on_texts(sentences)\n",
    "train_sequences = tokenizer.texts_to_sequences(train_sentences)\n",
    "test_sequences = tokenizer.texts_to_sequences(test_sentences)\n",
    "\n",
    "# IMPORTANT\n",
    "#  1. the index starts from 1 instead of 0\n",
    "#  2. the word index dictionary does not honor the number of words constraint\n",
    "word2index = tokenizer.word_index"
   ]
  },
  {
   "cell_type": "code",
   "execution_count": 165,
   "metadata": {},
   "outputs": [
    {
     "name": "stdout",
     "output_type": "stream",
     "text": [
      "210337\n"
     ]
    }
   ],
   "source": [
    "print(len(word2index))"
   ]
  },
  {
   "cell_type": "code",
   "execution_count": 166,
   "metadata": {},
   "outputs": [
    {
     "name": "stdout",
     "output_type": "stream",
     "text": [
      "159571\n",
      "0\n",
      "1400\n",
      "66.12617580888758\n"
     ]
    }
   ],
   "source": [
    "l = [len(seq) for seq in train_sequences]\n",
    "print(len(train_sequences))\n",
    "print(min(l))\n",
    "print(max(l))\n",
    "print(np.mean(l))"
   ]
  },
  {
   "cell_type": "code",
   "execution_count": 167,
   "metadata": {},
   "outputs": [
    {
     "data": {
      "image/png": "[encoded data removed]",
      "text/plain": [
       "<matplotlib.figure.Figure at 0x2924b3dd8>"
      ]
     },
     "metadata": {},
     "output_type": "display_data"
    }
   ],
   "source": [
    "plt.plot(l)\n",
    "plt.show()"
   ]
  },
  {
   "cell_type": "code",
   "execution_count": 14,
   "metadata": {},
   "outputs": [],
   "source": [
    "def get_word2vec(file_name):\n",
    "    word2vec = {}\n",
    "    with open(file_name, encoding='utf8') as f:\n",
    "        for line in f:\n",
    "            values = line.rstrip().rsplit(' ')\n",
    "            word = values[0]\n",
    "            vec = np.asarray(values[1:], dtype=np.float32)\n",
    "            word2vec[word] = vec\n",
    "    return word2vec"
   ]
  },
  {
   "cell_type": "code",
   "execution_count": 15,
   "metadata": {},
   "outputs": [],
   "source": [
    "# Get glove data from https://nlp.stanford.edu/data/\n",
    "# word2vec_file_path = 'data/glove.6B.50d.txt'\n",
    "word2vec_file_path = 'data/glove.840B.300d.txt'"
   ]
  },
  {
   "cell_type": "code",
   "execution_count": 16,
   "metadata": {},
   "outputs": [],
   "source": [
    "word2vec = get_word2vec(word2vec_file_path)"
   ]
  },
  {
   "cell_type": "code",
   "execution_count": 168,
   "metadata": {},
   "outputs": [],
   "source": [
    "max_squence_length = 150"
   ]
  },
  {
   "cell_type": "code",
   "execution_count": 169,
   "metadata": {},
   "outputs": [
    {
     "name": "stdout",
     "output_type": "stream",
     "text": [
      "(159571, 150)\n"
     ]
    }
   ],
   "source": [
    "train_data = pad_sequences(train_sequences, maxlen=max_squence_length)\n",
    "print(train_data.shape)"
   ]
  },
  {
   "cell_type": "code",
   "execution_count": 170,
   "metadata": {},
   "outputs": [
    {
     "name": "stdout",
     "output_type": "stream",
     "text": [
      "(153164, 150)\n"
     ]
    }
   ],
   "source": [
    "test_data = pad_sequences(test_sequences, maxlen=max_squence_length)\n",
    "print(test_data.shape)"
   ]
  },
  {
   "cell_type": "markdown",
   "metadata": {},
   "source": [
    "## Model"
   ]
  },
  {
   "cell_type": "code",
   "execution_count": 212,
   "metadata": {},
   "outputs": [
    {
     "name": "stdout",
     "output_type": "stream",
     "text": [
      "30000\n",
      "210337\n",
      "30001\n"
     ]
    }
   ],
   "source": [
    "# embedding_dim = 50\n",
    "embedding_dim = 300\n",
    "\n",
    "print(max_vocab_size)\n",
    "print(len(word2index))\n",
    "num_vocab = min(max_vocab_size + 1, len(word2index) + 1)\n",
    "print(num_vocab)"
   ]
  },
  {
   "cell_type": "code",
   "execution_count": 213,
   "metadata": {},
   "outputs": [],
   "source": [
    "embedding_matrix = np.zeros((num_vocab, embedding_dim))\n",
    "for word, index in word2index.items():\n",
    "    if index <= max_vocab_size:\n",
    "        vec = word2vec.get(word)\n",
    "        if vec is not None:\n",
    "            embedding_matrix[index] = vec"
   ]
  },
  {
   "cell_type": "code",
   "execution_count": 214,
   "metadata": {},
   "outputs": [
    {
     "name": "stdout",
     "output_type": "stream",
     "text": [
      "(30001, 300)\n"
     ]
    }
   ],
   "source": [
    "print(embedding_matrix.shape)"
   ]
  },
  {
   "cell_type": "code",
   "execution_count": 215,
   "metadata": {},
   "outputs": [],
   "source": [
    "# type(data)\n",
    "# train_data = data[:150000]\n",
    "# test_data = data[150000:]\n",
    "# train_targets = targets[:150000]\n",
    "# test_targets = targets[150000:]\n",
    "# print(train_data.shape)\n",
    "# print(test_data.shape)\n",
    "# print(train_targets.shape)\n",
    "# print(test_targets.shape)"
   ]
  },
  {
   "cell_type": "code",
   "execution_count": 216,
   "metadata": {},
   "outputs": [],
   "source": [
    "embedding = Embedding(\n",
    "            embedding_matrix.shape[0],\n",
    "            embedding_matrix.shape[1],\n",
    "            weights = [embedding_matrix],\n",
    "            input_length=max_squence_length,\n",
    "            trainable=True,    \n",
    "            name='encoder_embed')"
   ]
  },
  {
   "cell_type": "code",
   "execution_count": 217,
   "metadata": {},
   "outputs": [],
   "source": [
    "latent_dim = 128"
   ]
  },
  {
   "cell_type": "code",
   "execution_count": 218,
   "metadata": {},
   "outputs": [],
   "source": [
    "encoder_input_placeholder = Input(shape=(max_squence_length,), name = 'encoder_inputs')\n",
    "encoder_input_x = embedding(encoder_input_placeholder)\n",
    "\n",
    "encoder_lstm = Bidirectional(GRU(latent_dim, return_sequences=True, dropout=0.4), name='encoder_bidirectional_lstm')\n",
    "\n",
    "encoder_lstm_outputs = encoder_lstm(encoder_input_x)"
   ]
  },
  {
   "cell_type": "code",
   "execution_count": 219,
   "metadata": {},
   "outputs": [],
   "source": [
    "# make sure we do softmax over the time axis\n",
    "# expected shape is N x T x D\n",
    "# note: the latest version of Keras allows you to pass in axis arg\n",
    "def softmax_over_time(x):\n",
    "    assert(K.ndim(x) > 2)\n",
    "    e = K.exp(x - K.max(x, axis=1, keepdims=True))\n",
    "    s = K.sum(e, axis=1, keepdims=True)\n",
    "    return e / s"
   ]
  },
  {
   "cell_type": "code",
   "execution_count": 220,
   "metadata": {},
   "outputs": [
    {
     "name": "stdout",
     "output_type": "stream",
     "text": [
      "__________________________________________________________________________________________________\n",
      "Layer (type)                    Output Shape         Param #     Connected to                     \n",
      "==================================================================================================\n",
      "encoder_inputs (InputLayer)     (None, 150)          0                                            \n",
      "__________________________________________________________________________________________________\n",
      "encoder_embed (Embedding)       (None, 150, 300)     9000300     encoder_inputs[0][0]             \n",
      "__________________________________________________________________________________________________\n",
      "encoder_bidirectional_lstm (Bid (None, 150, 256)     329472      encoder_embed[0][0]              \n",
      "__________________________________________________________________________________________________\n",
      "attn_weights_dense_1 (Dense)    (None, 150, 10)      2570        encoder_bidirectional_lstm[0][0] \n",
      "__________________________________________________________________________________________________\n",
      "attn_weights_dense_2 (Dense)    (None, 150, 1)       11          attn_weights_dense_1[0][0]       \n",
      "__________________________________________________________________________________________________\n",
      "attn_dot_layer (Dot)            (None, 1, 256)       0           attn_weights_dense_2[0][0]       \n",
      "                                                                 encoder_bidirectional_lstm[0][0] \n",
      "__________________________________________________________________________________________________\n",
      "dense_15 (Dense)                (None, 1, 6)         1542        attn_dot_layer[0][0]             \n",
      "__________________________________________________________________________________________________\n",
      "reshape_15 (Reshape)            (None, 6)            0           dense_15[0][0]                   \n",
      "==================================================================================================\n",
      "Total params: 9,333,895\n",
      "Trainable params: 9,333,895\n",
      "Non-trainable params: 0\n",
      "__________________________________________________________________________________________________\n"
     ]
    }
   ],
   "source": [
    "x = Dense(10, activation='relu', name='attn_weights_dense_1')(encoder_lstm_outputs)\n",
    "alphas = Dense(1, activation=softmax_over_time, name='attn_weights_dense_2')(x)\n",
    "encoding = Dot(axes=1,name='attn_dot_layer')([alphas, encoder_lstm_outputs])\n",
    "\n",
    "output = Dense(len(labels), activation='sigmoid')(encoding)\n",
    "\n",
    "output = Reshape((len(labels),))(output)\n",
    "\n",
    "model = Model(encoder_input_placeholder, output)\n",
    "\n",
    "model.summary()"
   ]
  },
  {
   "cell_type": "code",
   "execution_count": 221,
   "metadata": {},
   "outputs": [],
   "source": [
    "model.compile(loss='binary_crossentropy', optimizer=Adam(lr=0.01), metrics=['accuracy'])"
   ]
  },
  {
   "cell_type": "markdown",
   "metadata": {},
   "source": [
    "## Train Model"
   ]
  },
  {
   "cell_type": "code",
   "execution_count": 222,
   "metadata": {},
   "outputs": [],
   "source": [
    "class RocAucEvaluation(Callback):\n",
    "    def __init__(self, validation_data=(), interval=1):\n",
    "        super(Callback, self).__init__()\n",
    "\n",
    "        self.interval = interval\n",
    "        self.X_val, self.y_val = validation_data\n",
    "\n",
    "    def on_epoch_end(self, epoch, logs={}):\n",
    "        if epoch % self.interval == 0:\n",
    "            y_pred = self.model.predict(self.X_val, verbose=0)\n",
    "            score = roc_auc_score(self.y_val, y_pred)\n",
    "            print(\"\\n ROC-AUC - epoch: {:d} - score: {:.6f}\".format(epoch+1, score))"
   ]
  },
  {
   "cell_type": "code",
   "execution_count": 223,
   "metadata": {},
   "outputs": [
    {
     "name": "stderr",
     "output_type": "stream",
     "text": [
      "/Library/Frameworks/Python.framework/Versions/3.4/lib/python3.4/site-packages/sklearn/model_selection/_split.py:2010: FutureWarning: From version 0.21, test_size will always complement train_size unless both are specified.\n",
      "  FutureWarning)\n"
     ]
    }
   ],
   "source": [
    "file_path = 'data/model.best.hdf5'\n",
    "\n",
    "X_tra, X_val, y_tra, y_val = train_test_split(train_data, train_targets, train_size=0.9, random_state=233)\n",
    "\n",
    "checkpoint = ModelCheckpoint(file_path, monitor='val_acc', verbose=1, save_best_only=True, mode='max')\n",
    "early = EarlyStopping(monitor=\"val_acc\", mode=\"max\", patience=4)\n",
    "ra_val = RocAucEvaluation(validation_data=(X_val, y_val), interval = 1)\n",
    "callbacks_list = [ra_val,checkpoint, early]"
   ]
  },
  {
   "cell_type": "code",
   "execution_count": 224,
   "metadata": {},
   "outputs": [
    {
     "name": "stdout",
     "output_type": "stream",
     "text": [
      "Train on 143613 samples, validate on 15958 samples\n",
      "Epoch 1/10\n",
      "143613/143613 [==============================] - 2337s 16ms/step - loss: 0.0569 - acc: 0.9786 - val_loss: 0.0448 - val_acc: 0.9832\n",
      "\n",
      " ROC-AUC - epoch: 1 - score: 0.985816\n",
      "\n",
      "Epoch 00001: val_acc improved from -inf to 0.98317, saving model to data/model.best.hdf5\n",
      "Epoch 2/10\n",
      "143613/143613 [==============================] - 2552s 18ms/step - loss: 0.0390 - acc: 0.9848 - val_loss: 0.0452 - val_acc: 0.9829\n",
      "\n",
      " ROC-AUC - epoch: 2 - score: 0.984560\n",
      "\n",
      "Epoch 00002: val_acc did not improve from 0.98317\n",
      "Epoch 3/10\n",
      "143613/143613 [==============================] - 2740s 19ms/step - loss: 0.0335 - acc: 0.9867 - val_loss: 0.0503 - val_acc: 0.9819\n",
      "\n",
      " ROC-AUC - epoch: 3 - score: 0.982812\n",
      "\n",
      "Epoch 00003: val_acc did not improve from 0.98317\n",
      "Epoch 4/10\n",
      "143613/143613 [==============================] - 2544s 18ms/step - loss: 0.0296 - acc: 0.9883 - val_loss: 0.0544 - val_acc: 0.9814\n",
      "\n",
      " ROC-AUC - epoch: 4 - score: 0.981401\n",
      "\n",
      "Epoch 00004: val_acc did not improve from 0.98317\n",
      "Epoch 5/10\n",
      "143613/143613 [==============================] - 2405s 17ms/step - loss: 0.0266 - acc: 0.9895 - val_loss: 0.0546 - val_acc: 0.9813\n",
      "\n",
      " ROC-AUC - epoch: 5 - score: 0.981253\n",
      "\n",
      "Epoch 00005: val_acc did not improve from 0.98317\n"
     ]
    }
   ],
   "source": [
    "# validation_split = 0.1\n",
    "batch_size = 512\n",
    "epochs = 10\n",
    "\n",
    "r = model.fit(X_tra, y_tra, batch_size=batch_size, epochs = epochs, validation_data=(X_val, y_val), callbacks = callbacks_list, verbose=1)"
   ]
  },
  {
   "cell_type": "code",
   "execution_count": 225,
   "metadata": {},
   "outputs": [
    {
     "data": {
      "image/png": "[encoded data removed]",
      "text/plain": [
       "<matplotlib.figure.Figure at 0x243243438>"
      ]
     },
     "metadata": {},
     "output_type": "display_data"
    }
   ],
   "source": [
    "plt.plot(r.history['loss'], label='loss')\n",
    "plt.plot(r.history['val_loss'], label='val_loss')\n",
    "plt.legend()\n",
    "plt.show()"
   ]
  },
  {
   "cell_type": "code",
   "execution_count": 226,
   "metadata": {},
   "outputs": [
    {
     "data": {
      "image/png": "[encoded data removed]",
      "text/plain": [
       "<matplotlib.figure.Figure at 0x276521048>"
      ]
     },
     "metadata": {},
     "output_type": "display_data"
    }
   ],
   "source": [
    "plt.plot(r.history['acc'], label='acc')\n",
    "plt.plot(r.history['val_acc'], label='val_acc')\n",
    "plt.legend()\n",
    "plt.show()"
   ]
  },
  {
   "cell_type": "markdown",
   "metadata": {},
   "source": [
    "The model is overfit"
   ]
  },
  {
   "cell_type": "code",
   "execution_count": 227,
   "metadata": {},
   "outputs": [
    {
     "name": "stdout",
     "output_type": "stream",
     "text": [
      "Predicting....\n",
      "153164/153164 [==============================] - 624s 4ms/step\n"
     ]
    }
   ],
   "source": [
    "#Loading model weights\n",
    "model.load_weights(file_path)\n",
    "print('Predicting....')\n",
    "y_pred = model.predict(test_data, batch_size=1024,verbose=1)"
   ]
  },
  {
   "cell_type": "code",
   "execution_count": 228,
   "metadata": {},
   "outputs": [
    {
     "name": "stdout",
     "output_type": "stream",
     "text": [
      "[0.9984561  0.42819512 0.9939387  0.08446565 0.9744417  0.1871997 ]\n"
     ]
    }
   ],
   "source": [
    "print(y_pred[0])"
   ]
  },
  {
   "cell_type": "code",
   "execution_count": 229,
   "metadata": {},
   "outputs": [],
   "source": [
    "submission = pd.read_csv('data/jigsaw-toxic-comment-classification-challenge/sample_submission.csv')\n",
    "submission[[\"toxic\", \"severe_toxic\", \"obscene\", \"threat\", \"insult\", \"identity_hate\"]] = y_pred\n",
    "submission.to_csv('data/submission.csv', index=False)"
   ]
  },
  {
   "cell_type": "markdown",
   "metadata": {},
   "source": [
    "The test accuracy is 0.9810"
   ]
  },
  {
   "cell_type": "markdown",
   "metadata": {},
   "source": [
    "### Interesting Implementation\n",
    "\n",
    "* [bidirectional-gru-with-convolution](https://www.kaggle.com/eashish/bidirectional-gru-with-convolution/code)\n",
    "* [capsule-net-with-gru](https://www.kaggle.com/chongjiujjin/capsule-net-with-gru/code)"
   ]
  },
  {
   "cell_type": "code",
   "execution_count": null,
   "metadata": {},
   "outputs": [],
   "source": []
  }
 ],
 "metadata": {
  "kernelspec": {
   "display_name": "Python 3",
   "language": "python",
   "name": "python3"
  },
  "language_info": {
   "codemirror_mode": {
    "name": "ipython",
    "version": 3
   },
   "file_extension": ".py",
   "mimetype": "text/x-python",
   "name": "python",
   "nbconvert_exporter": "python",
   "pygments_lexer": "ipython3",
   "version": "3.4.4"
  }
 },
 "nbformat": 4,
 "nbformat_minor": 2
}
