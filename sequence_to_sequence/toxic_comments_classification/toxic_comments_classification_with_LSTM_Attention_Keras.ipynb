{
 "cells": [
  {
   "cell_type": "code",
   "execution_count": 37,
   "metadata": {},
   "outputs": [],
   "source": [
    "import os\n",
    "import sys\n",
    "import numpy as np\n",
    "import pandas as pd\n",
    "import matplotlib.pyplot as plt\n",
    "from keras.preprocessing.text import Tokenizer\n",
    "from keras.preprocessing.sequence import pad_sequences\n",
    "from keras.layers import Dense, Input, GlobalMaxPooling1D, Dropout\n",
    "from keras.layers import Conv1D, MaxPooling1D, Embedding, Dot, Reshape\n",
    "from keras.layers import Input, LSTM, GRU, Bidirectional, Dense\n",
    "from keras.models import Model\n",
    "from sklearn.metrics import roc_auc_score\n",
    "\n",
    "from keras.optimizers import Adam, SGD\n",
    "import keras.backend as K"
   ]
  },
  {
   "cell_type": "code",
   "execution_count": 2,
   "metadata": {},
   "outputs": [],
   "source": [
    "def get_toxic_data(file_name):\n",
    "    train = pd.read_csv(file_name)\n",
    "    sentences = train[\"comment_text\"].fillna(\"DUMMY_VALUE\").values\n",
    "    labels = [\"toxic\", \"severe_toxic\", \"obscene\", \"threat\", \"insult\", \"identity_hate\"]\n",
    "    targets = train[labels].values\n",
    "    return sentences, labels, targets"
   ]
  },
  {
   "cell_type": "code",
   "execution_count": 3,
   "metadata": {},
   "outputs": [],
   "source": [
    "toxic_train_file_path = 'data/train.csv'\n",
    "toxic_test_file_path = 'data/test.csv'"
   ]
  },
  {
   "cell_type": "code",
   "execution_count": 5,
   "metadata": {},
   "outputs": [],
   "source": [
    "sentences, labels, targets = get_toxic_data(toxic_train_file_path)"
   ]
  },
  {
   "cell_type": "code",
   "execution_count": 6,
   "metadata": {},
   "outputs": [],
   "source": [
    "max_vocab_size = 20000"
   ]
  },
  {
   "cell_type": "code",
   "execution_count": 8,
   "metadata": {},
   "outputs": [],
   "source": [
    "tokenizer = Tokenizer(num_words=max_vocab_size)\n",
    "tokenizer.fit_on_texts(sentences)\n",
    "sequences = tokenizer.texts_to_sequences(sentences)\n",
    "\n",
    "# IMPORTANT\n",
    "#  1. the index starts from 1 instead of 0\n",
    "#  2. the word index dictionary does not honor the number of words constraint\n",
    "word2index = tokenizer.word_index"
   ]
  },
  {
   "cell_type": "code",
   "execution_count": 9,
   "metadata": {},
   "outputs": [
    {
     "name": "stdout",
     "output_type": "stream",
     "text": [
      "210337\n"
     ]
    }
   ],
   "source": [
    "print(len(word2index))"
   ]
  },
  {
   "cell_type": "code",
   "execution_count": 10,
   "metadata": {},
   "outputs": [],
   "source": [
    "def get_word2vec(file_name):\n",
    "    word2vec = {}\n",
    "    with open(file_name, 'r') as f:\n",
    "        for line in f:\n",
    "            values = line.strip().split()\n",
    "            word = values[0]\n",
    "            vec = np.array(values[1:], dtype=np.float32)\n",
    "            word2vec[word] = vec\n",
    "    return word2vec"
   ]
  },
  {
   "cell_type": "code",
   "execution_count": 11,
   "metadata": {},
   "outputs": [],
   "source": [
    "word2vec_file_path = 'data/glove.6B.50d.txt'"
   ]
  },
  {
   "cell_type": "code",
   "execution_count": 12,
   "metadata": {},
   "outputs": [],
   "source": [
    "word2vec = get_word2vec(word2vec_file_path)"
   ]
  },
  {
   "cell_type": "code",
   "execution_count": 13,
   "metadata": {},
   "outputs": [],
   "source": [
    "max_squence_length = 100"
   ]
  },
  {
   "cell_type": "code",
   "execution_count": 14,
   "metadata": {},
   "outputs": [
    {
     "name": "stdout",
     "output_type": "stream",
     "text": [
      "(159571, 100)\n"
     ]
    }
   ],
   "source": [
    "data = pad_sequences(sequences, maxlen=max_squence_length)\n",
    "print(data.shape)"
   ]
  },
  {
   "cell_type": "code",
   "execution_count": 16,
   "metadata": {},
   "outputs": [],
   "source": [
    "embedding_dim = 50\n",
    "num_vocab = min(max_vocab_size + 1, len(word2index) + 1)\n",
    "\n",
    "embedding_matrix = np.zeros((num_vocab, embedding_dim))\n",
    "for word, index in word2index.items():\n",
    "    if index <= max_vocab_size:\n",
    "        vec = word2vec.get(word)\n",
    "        if vec is not None:\n",
    "            embedding_matrix[index] = vec"
   ]
  },
  {
   "cell_type": "code",
   "execution_count": 17,
   "metadata": {},
   "outputs": [
    {
     "name": "stdout",
     "output_type": "stream",
     "text": [
      "(20001, 50)\n"
     ]
    }
   ],
   "source": [
    "print(embedding_matrix.shape)"
   ]
  },
  {
   "cell_type": "code",
   "execution_count": 18,
   "metadata": {},
   "outputs": [
    {
     "name": "stdout",
     "output_type": "stream",
     "text": [
      "(140000, 100)\n",
      "(19571, 100)\n",
      "(140000, 6)\n",
      "(19571, 6)\n"
     ]
    }
   ],
   "source": [
    "type(data)\n",
    "train_data = data[:140000]\n",
    "test_data = data[140000:]\n",
    "train_targets = targets[:140000]\n",
    "test_targets = targets[140000:]\n",
    "print(train_data.shape)\n",
    "print(test_data.shape)\n",
    "print(train_targets.shape)\n",
    "print(test_targets.shape)"
   ]
  },
  {
   "cell_type": "code",
   "execution_count": 19,
   "metadata": {},
   "outputs": [],
   "source": [
    "embedding = Embedding(\n",
    "            embedding_matrix.shape[0],\n",
    "            embedding_matrix.shape[1],\n",
    "            weights = [embedding_matrix],\n",
    "            input_length=max_squence_length,\n",
    "            trainable=True,    \n",
    "            name='encoder_embed')\n"
   ]
  },
  {
   "cell_type": "code",
   "execution_count": 20,
   "metadata": {},
   "outputs": [],
   "source": [
    "latent_dim = 192"
   ]
  },
  {
   "cell_type": "code",
   "execution_count": 24,
   "metadata": {},
   "outputs": [],
   "source": [
    "encoder_input_placeholder = Input(shape=(max_squence_length,), name = 'encoder_inputs')\n",
    "encoder_input_x = embedding(encoder_input_placeholder)\n",
    "\n",
    "encoder_lstm = Bidirectional(LSTM(latent_dim, return_sequences=True, dropout=0.5), name='encoder_bidirectional_lstm')\n",
    "\n",
    "encoder_lstm_outputs = encoder_lstm(encoder_input_x)"
   ]
  },
  {
   "cell_type": "code",
   "execution_count": 25,
   "metadata": {},
   "outputs": [],
   "source": [
    "# make sure we do softmax over the time axis\n",
    "# expected shape is N x T x D\n",
    "# note: the latest version of Keras allows you to pass in axis arg\n",
    "def softmax_over_time(x):\n",
    "    assert(K.ndim(x) > 2)\n",
    "    e = K.exp(x - K.max(x, axis=1, keepdims=True))\n",
    "    s = K.sum(e, axis=1, keepdims=True)\n",
    "    return e / s"
   ]
  },
  {
   "cell_type": "code",
   "execution_count": 41,
   "metadata": {},
   "outputs": [
    {
     "name": "stdout",
     "output_type": "stream",
     "text": [
      "__________________________________________________________________________________________________\n",
      "Layer (type)                    Output Shape         Param #     Connected to                     \n",
      "==================================================================================================\n",
      "encoder_inputs (InputLayer)     (None, 100)          0                                            \n",
      "__________________________________________________________________________________________________\n",
      "embedding_1 (Embedding)         (None, 100, 50)      1000050     encoder_inputs[0][0]             \n",
      "__________________________________________________________________________________________________\n",
      "encoder_bidirectional_lstm (Bid (None, 100, 384)     373248      embedding_1[1][0]                \n",
      "__________________________________________________________________________________________________\n",
      "attn_weights_dense_1 (Dense)    (None, 100, 10)      3850        encoder_bidirectional_lstm[0][0] \n",
      "__________________________________________________________________________________________________\n",
      "attn_weights_dense_2 (Dense)    (None, 100, 1)       11          attn_weights_dense_1[0][0]       \n",
      "__________________________________________________________________________________________________\n",
      "attn_dot_layer (Dot)            (None, 1, 384)       0           attn_weights_dense_2[0][0]       \n",
      "                                                                 encoder_bidirectional_lstm[0][0] \n",
      "__________________________________________________________________________________________________\n",
      "dense_5 (Dense)                 (None, 1, 6)         2310        attn_dot_layer[0][0]             \n",
      "__________________________________________________________________________________________________\n",
      "reshape_3 (Reshape)             (None, 6)            0           dense_5[0][0]                    \n",
      "==================================================================================================\n",
      "Total params: 1,379,469\n",
      "Trainable params: 1,379,469\n",
      "Non-trainable params: 0\n",
      "__________________________________________________________________________________________________\n"
     ]
    }
   ],
   "source": [
    "x = Dense(10, activation='tanh', name='attn_weights_dense_1')(encoder_lstm_outputs)\n",
    "alphas = Dense(1, activation=softmax_over_time, name='attn_weights_dense_2')(x)\n",
    "encoding = Dot(axes=1,name='attn_dot_layer')([alphas, encoder_lstm_outputs])\n",
    "\n",
    "output = Dense(len(labels), activation='sigmoid')(encoding)\n",
    "\n",
    "output = Reshape((len(labels),))(output)\n",
    "\n",
    "model = Model(encoder_input_placeholder, output)\n",
    "\n",
    "model.summary()"
   ]
  },
  {
   "cell_type": "code",
   "execution_count": 42,
   "metadata": {},
   "outputs": [],
   "source": [
    "model.compile(loss='binary_crossentropy', optimizer=Adam(lr=0.01), metrics=['accuracy'])"
   ]
  },
  {
   "cell_type": "code",
   "execution_count": 43,
   "metadata": {},
   "outputs": [
    {
     "name": "stdout",
     "output_type": "stream",
     "text": [
      "Train on 112000 samples, validate on 28000 samples\n",
      "Epoch 1/10\n",
      "112000/112000 [==============================] - 1457s 13ms/step - loss: 0.0911 - acc: 0.9703 - val_loss: 0.0642 - val_acc: 0.9798\n",
      "Epoch 2/10\n",
      "112000/112000 [==============================] - 1310s 12ms/step - loss: 0.0536 - acc: 0.9809 - val_loss: 0.0496 - val_acc: 0.9818\n",
      "Epoch 3/10\n",
      "112000/112000 [==============================] - 1520s 14ms/step - loss: 0.0467 - acc: 0.9826 - val_loss: 0.0501 - val_acc: 0.9819\n",
      "Epoch 4/10\n",
      "112000/112000 [==============================] - 1218s 11ms/step - loss: 0.0429 - acc: 0.9836 - val_loss: 0.0489 - val_acc: 0.9824\n",
      "Epoch 5/10\n",
      "112000/112000 [==============================] - 1235s 11ms/step - loss: 0.0407 - acc: 0.9842 - val_loss: 0.0488 - val_acc: 0.9826\n",
      "Epoch 6/10\n",
      "112000/112000 [==============================] - 1200s 11ms/step - loss: 0.0375 - acc: 0.9853 - val_loss: 0.0499 - val_acc: 0.9819\n",
      "Epoch 7/10\n",
      "112000/112000 [==============================] - 1358s 12ms/step - loss: 0.0355 - acc: 0.9859 - val_loss: 0.0520 - val_acc: 0.9823\n",
      "Epoch 8/10\n",
      "112000/112000 [==============================] - 1148s 10ms/step - loss: 0.0333 - acc: 0.9867 - val_loss: 0.0531 - val_acc: 0.9822\n",
      "Epoch 9/10\n",
      "112000/112000 [==============================] - 1121s 10ms/step - loss: 0.0314 - acc: 0.9876 - val_loss: 0.0565 - val_acc: 0.9806\n",
      "Epoch 10/10\n",
      "112000/112000 [==============================] - 1024s 9ms/step - loss: 0.0302 - acc: 0.9880 - val_loss: 0.0618 - val_acc: 0.9814\n"
     ]
    }
   ],
   "source": [
    "validation_split = 0.2\n",
    "batch_size = 512\n",
    "epochs = 10\n",
    "\n",
    "r = model.fit(train_data, train_targets, batch_size=batch_size, epochs = epochs, validation_split=validation_split)"
   ]
  },
  {
   "cell_type": "code",
   "execution_count": 44,
   "metadata": {},
   "outputs": [
    {
     "data": {
      "image/png": "[encoded data removed]",
      "text/plain": [
       "<matplotlib.figure.Figure at 0x13aa0ce10>"
      ]
     },
     "metadata": {},
     "output_type": "display_data"
    }
   ],
   "source": [
    "plt.plot(r.history['loss'], label='loss')\n",
    "plt.plot(r.history['val_loss'], label='val_loss')\n",
    "plt.legend()\n",
    "plt.show()"
   ]
  },
  {
   "cell_type": "code",
   "execution_count": 45,
   "metadata": {},
   "outputs": [
    {
     "data": {
      "image/png": "[encoded data removed]",
      "text/plain": [
       "<matplotlib.figure.Figure at 0x129357940>"
      ]
     },
     "metadata": {},
     "output_type": "display_data"
    }
   ],
   "source": [
    "plt.plot(r.history['acc'], label='acc')\n",
    "plt.plot(r.history['val_acc'], label='val_acc')\n",
    "plt.legend()\n",
    "plt.show()"
   ]
  },
  {
   "cell_type": "code",
   "execution_count": 46,
   "metadata": {},
   "outputs": [],
   "source": [
    "p = model.predict(test_data)"
   ]
  },
  {
   "cell_type": "code",
   "execution_count": 47,
   "metadata": {},
   "outputs": [
    {
     "name": "stdout",
     "output_type": "stream",
     "text": [
      "0.9738869956394209\n"
     ]
    }
   ],
   "source": [
    "aucs = []\n",
    "for j in range(6):\n",
    "    auc = roc_auc_score(test_targets[:, j], p[:, j])\n",
    "    aucs.append(auc)\n",
    "print(np.mean(aucs))"
   ]
  },
  {
   "cell_type": "code",
   "execution_count": null,
   "metadata": {},
   "outputs": [],
   "source": []
  }
 ],
 "metadata": {
  "kernelspec": {
   "display_name": "Python 3",
   "language": "python",
   "name": "python3"
  },
  "language_info": {
   "codemirror_mode": {
    "name": "ipython",
    "version": 3
   },
   "file_extension": ".py",
   "mimetype": "text/x-python",
   "name": "python",
   "nbconvert_exporter": "python",
   "pygments_lexer": "ipython3",
   "version": "3.4.4"
  }
 },
 "nbformat": 4,
 "nbformat_minor": 2
}
