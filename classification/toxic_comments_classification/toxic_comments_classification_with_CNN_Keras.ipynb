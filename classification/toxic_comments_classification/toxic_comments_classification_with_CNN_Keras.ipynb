{
 "cells": [
  {
   "cell_type": "code",
   "execution_count": 29,
   "metadata": {},
   "outputs": [],
   "source": [
    "import os\n",
    "import sys\n",
    "import numpy as np\n",
    "import pandas as pd\n",
    "import matplotlib.pyplot as plt\n",
    "from keras.preprocessing.text import Tokenizer\n",
    "from keras.preprocessing.sequence import pad_sequences\n",
    "from keras.layers import Dense, Input, GlobalMaxPooling1D, GlobalAveragePooling1D, Dropout\n",
    "from keras.layers import Conv1D, MaxPooling1D, Embedding, Concatenate\n",
    "from keras.layers import Input, LSTM, GRU, Bidirectional, Dense\n",
    "from keras.models import Model, load_model\n",
    "\n",
    "from keras.callbacks import Callback, ModelCheckpoint, EarlyStopping\n",
    "from keras.utils.vis_utils import plot_model\n",
    "\n",
    "from sklearn.metrics import roc_auc_score"
   ]
  },
  {
   "cell_type": "code",
   "execution_count": 2,
   "metadata": {},
   "outputs": [],
   "source": [
    "# link to data here"
   ]
  },
  {
   "cell_type": "code",
   "execution_count": 2,
   "metadata": {},
   "outputs": [],
   "source": [
    "max_squence_length = 100\n",
    "max_vocab_size = 20000\n",
    "embedding_dim = 100"
   ]
  },
  {
   "cell_type": "code",
   "execution_count": 3,
   "metadata": {},
   "outputs": [],
   "source": [
    "word2vec_file_path = 'data/glove.6B.{}d.txt'.format(embedding_dim)\n",
    "toxic_file_path = 'data/train.csv'\n",
    "toxic_test_file_path = 'data/test.csv'"
   ]
  },
  {
   "cell_type": "code",
   "execution_count": 4,
   "metadata": {},
   "outputs": [],
   "source": [
    "def get_word2vec(file_name):\n",
    "    word2vec = {}\n",
    "    with open(file_name, 'r') as f:\n",
    "        for line in f:\n",
    "            values = line.strip().split()\n",
    "            word = values[0]\n",
    "            vec = np.array(values[1:], dtype=np.float32)\n",
    "            word2vec[word] = vec\n",
    "    return word2vec"
   ]
  },
  {
   "cell_type": "code",
   "execution_count": 5,
   "metadata": {},
   "outputs": [],
   "source": [
    "def get_toxic_data(file_name):\n",
    "    train = pd.read_csv(file_name)\n",
    "    sentences = train[\"comment_text\"].fillna(\"DUMMY_VALUE\").values\n",
    "    labels = [\"toxic\", \"severe_toxic\", \"obscene\", \"threat\", \"insult\", \"identity_hate\"]\n",
    "    targets = train[labels].values\n",
    "    return sentences, labels, targets  "
   ]
  },
  {
   "cell_type": "code",
   "execution_count": 6,
   "metadata": {},
   "outputs": [],
   "source": [
    "word2vec = get_word2vec(word2vec_file_path)\n",
    "sentences, labels, targets = get_toxic_data(toxic_file_path)"
   ]
  },
  {
   "cell_type": "code",
   "execution_count": 7,
   "metadata": {},
   "outputs": [
    {
     "name": "stdout",
     "output_type": "stream",
     "text": [
      "# of words:  400000\n"
     ]
    }
   ],
   "source": [
    "print('# of words: ', len(word2vec))"
   ]
  },
  {
   "cell_type": "code",
   "execution_count": 8,
   "metadata": {},
   "outputs": [],
   "source": [
    "# tokenizer = Tokenizer()\n",
    "tokenizer = Tokenizer(num_words=max_vocab_size)\n",
    "tokenizer.fit_on_texts(sentences)\n",
    "sequences = tokenizer.texts_to_sequences(sentences)\n",
    "\n",
    "# note the index starts from 1 instead of 0\n",
    "word2index = tokenizer.word_index"
   ]
  },
  {
   "cell_type": "code",
   "execution_count": 9,
   "metadata": {},
   "outputs": [],
   "source": [
    "index2word = {index:word for word, index in word2index.items()}"
   ]
  },
  {
   "cell_type": "code",
   "execution_count": 10,
   "metadata": {},
   "outputs": [
    {
     "name": "stdout",
     "output_type": "stream",
     "text": [
      "210337\n",
      "210337\n"
     ]
    }
   ],
   "source": [
    "print(len(word2index))\n",
    "print(len(index2word))"
   ]
  },
  {
   "cell_type": "code",
   "execution_count": 11,
   "metadata": {},
   "outputs": [
    {
     "data": {
      "text/plain": [
       "'the'"
      ]
     },
     "execution_count": 11,
     "metadata": {},
     "output_type": "execute_result"
    }
   ],
   "source": [
    "index2word[1]"
   ]
  },
  {
   "cell_type": "code",
   "execution_count": 12,
   "metadata": {},
   "outputs": [
    {
     "name": "stdout",
     "output_type": "stream",
     "text": [
      "(20000, 50)\n"
     ]
    }
   ],
   "source": [
    "num_vocab = min(len(word2index) + 1, max_vocab_size)\n",
    "\n",
    "embedding_matrix = np.zeros((num_vocab, embedding_dim))\n",
    "for word, index in word2index.items():\n",
    "    if index < max_vocab_size:\n",
    "        vec = word2vec.get(word)\n",
    "        if vec is not None:\n",
    "            embedding_matrix[index] = vec\n",
    "\n",
    "print(embedding_matrix.shape)"
   ]
  },
  {
   "cell_type": "code",
   "execution_count": 13,
   "metadata": {},
   "outputs": [
    {
     "name": "stdout",
     "output_type": "stream",
     "text": [
      "(159571, 100)\n"
     ]
    }
   ],
   "source": [
    "data = pad_sequences(sequences, maxlen=max_squence_length)\n",
    "print(data.shape)"
   ]
  },
  {
   "cell_type": "code",
   "execution_count": 14,
   "metadata": {},
   "outputs": [
    {
     "name": "stdout",
     "output_type": "stream",
     "text": [
      "(140000, 100)\n",
      "(19571, 100)\n",
      "(140000, 6)\n",
      "(19571, 6)\n"
     ]
    }
   ],
   "source": [
    "type(data)\n",
    "train_data = data[:140000]\n",
    "test_data = data[140000:]\n",
    "train_targets = targets[:140000]\n",
    "test_targets = targets[140000:]\n",
    "print(train_data.shape)\n",
    "print(test_data.shape)\n",
    "print(train_targets.shape)\n",
    "print(test_targets.shape)"
   ]
  },
  {
   "cell_type": "markdown",
   "metadata": {},
   "source": [
    "## 2. Embedding Layer"
   ]
  },
  {
   "cell_type": "code",
   "execution_count": null,
   "metadata": {},
   "outputs": [],
   "source": [
    "embedding_layer = Embedding(\n",
    "    embedding_matrix.shape[0],\n",
    "    embedding_matrix.shape[1],\n",
    "    weights=[embedding_matrix],\n",
    "    input_length=max_squence_length,\n",
    "    trainable=False)"
   ]
  },
  {
   "cell_type": "markdown",
   "metadata": {},
   "source": [
    "## 3. CNN Model"
   ]
  },
  {
   "cell_type": "code",
   "execution_count": 27,
   "metadata": {},
   "outputs": [],
   "source": [
    "def CNN_MODEL(max_squence_length, num_classes):\n",
    "    input_ = Input(shape=(max_squence_length, ))\n",
    "    x = embedding_layer(input_)\n",
    "    x = Conv1D(128, 3, activation='relu')(x)\n",
    "    x = Dropout(0.5)(x)\n",
    "    x = MaxPooling1D(3)(x)\n",
    "    # x = Conv1D(128, 3, activation='relu')(x)\n",
    "    # x = MaxPooling1D(3)(x)\n",
    "    x = Conv1D(128, 3, activation='relu')(x)\n",
    "    x = Dropout(0.5)(x)\n",
    "    max_pool = GlobalMaxPooling1D()(x)\n",
    "    avg_pool = GlobalAveragePooling1D()(x)\n",
    "    concatenated_tensor = Concatenate(axis=1)([max_pool, avg_pool])\n",
    "    x = Dense(128, activation='relu')(concatenated_tensor)\n",
    "    output = Dense(num_classes, activation='sigmoid')(x)\n",
    "\n",
    "    model = Model(input_, output)\n",
    "    model.compile(loss='binary_crossentropy', optimizer='adam', metrics=['accuracy'])\n",
    "    return model"
   ]
  },
  {
   "cell_type": "code",
   "execution_count": 30,
   "metadata": {},
   "outputs": [
    {
     "name": "stdout",
     "output_type": "stream",
     "text": [
      "__________________________________________________________________________________________________\n",
      "Layer (type)                    Output Shape         Param #     Connected to                     \n",
      "==================================================================================================\n",
      "input_3 (InputLayer)            (None, 100)          0                                            \n",
      "__________________________________________________________________________________________________\n",
      "embedding_1 (Embedding)         (None, 100, 50)      1000000     input_3[0][0]                    \n",
      "__________________________________________________________________________________________________\n",
      "conv1d_5 (Conv1D)               (None, 98, 128)      19328       embedding_1[2][0]                \n",
      "__________________________________________________________________________________________________\n",
      "dropout_5 (Dropout)             (None, 98, 128)      0           conv1d_5[0][0]                   \n",
      "__________________________________________________________________________________________________\n",
      "max_pooling1d_3 (MaxPooling1D)  (None, 32, 128)      0           dropout_5[0][0]                  \n",
      "__________________________________________________________________________________________________\n",
      "conv1d_6 (Conv1D)               (None, 30, 128)      49280       max_pooling1d_3[0][0]            \n",
      "__________________________________________________________________________________________________\n",
      "dropout_6 (Dropout)             (None, 30, 128)      0           conv1d_6[0][0]                   \n",
      "__________________________________________________________________________________________________\n",
      "global_max_pooling1d_3 (GlobalM (None, 128)          0           dropout_6[0][0]                  \n",
      "__________________________________________________________________________________________________\n",
      "global_average_pooling1d_3 (Glo (None, 128)          0           dropout_6[0][0]                  \n",
      "__________________________________________________________________________________________________\n",
      "concatenate_1 (Concatenate)     (None, 256)          0           global_max_pooling1d_3[0][0]     \n",
      "                                                                 global_average_pooling1d_3[0][0] \n",
      "__________________________________________________________________________________________________\n",
      "dense_1 (Dense)                 (None, 128)          32896       concatenate_1[0][0]              \n",
      "__________________________________________________________________________________________________\n",
      "dense_2 (Dense)                 (None, 6)            774         dense_1[0][0]                    \n",
      "==================================================================================================\n",
      "Total params: 1,102,278\n",
      "Trainable params: 102,278\n",
      "Non-trainable params: 1,000,000\n",
      "__________________________________________________________________________________________________\n"
     ]
    }
   ],
   "source": [
    "cnn_model = CNN_MODEL(max_squence_length, len(labels))\n",
    "plot_model(cnn_model, \n",
    "           to_file='./model_images/cnn_model.png', \n",
    "           show_shapes=True, \n",
    "           show_layer_names=True)\n",
    "model.summary()"
   ]
  },
  {
   "cell_type": "markdown",
   "metadata": {},
   "source": [
    "<img src='./model_images/cnn_model.png'/>"
   ]
  },
  {
   "cell_type": "code",
   "execution_count": 31,
   "metadata": {},
   "outputs": [
    {
     "name": "stdout",
     "output_type": "stream",
     "text": [
      "Train on 112000 samples, validate on 28000 samples\n",
      "Epoch 1/10\n",
      "112000/112000 [==============================] - 95s 845us/step - loss: 0.0795 - acc: 0.9729 - val_loss: 0.1254 - val_acc: 0.9740\n",
      "\n",
      "Epoch 00001: val_acc improved from -inf to 0.97401, saving model to ./models/weights-improvement-01-0.9740.hdf5\n",
      "Epoch 2/10\n",
      "112000/112000 [==============================] - 104s 933us/step - loss: 0.0755 - acc: 0.9743 - val_loss: 0.1202 - val_acc: 0.9739\n",
      "\n",
      "Epoch 00002: val_acc did not improve from 0.97401\n",
      "Epoch 3/10\n",
      "112000/112000 [==============================] - 101s 901us/step - loss: 0.0723 - acc: 0.9753 - val_loss: 0.1136 - val_acc: 0.9760\n",
      "\n",
      "Epoch 00003: val_acc improved from 0.97401 to 0.97596, saving model to ./models/weights-improvement-03-0.9760.hdf5\n",
      "Epoch 4/10\n",
      "112000/112000 [==============================] - 104s 931us/step - loss: 0.0706 - acc: 0.9759 - val_loss: 0.1016 - val_acc: 0.9759\n",
      "\n",
      "Epoch 00004: val_acc did not improve from 0.97596\n",
      "Epoch 5/10\n",
      "112000/112000 [==============================] - 110s 979us/step - loss: 0.0692 - acc: 0.9762 - val_loss: 0.1168 - val_acc: 0.9765\n",
      "\n",
      "Epoch 00005: val_acc improved from 0.97596 to 0.97648, saving model to ./models/weights-improvement-05-0.9765.hdf5\n",
      "Epoch 6/10\n",
      "112000/112000 [==============================] - 92s 817us/step - loss: 0.0682 - acc: 0.9766 - val_loss: 0.1096 - val_acc: 0.9764\n",
      "\n",
      "Epoch 00006: val_acc did not improve from 0.97648\n",
      "Epoch 7/10\n",
      "112000/112000 [==============================] - 89s 795us/step - loss: 0.0670 - acc: 0.9768 - val_loss: 0.0958 - val_acc: 0.9767\n",
      "\n",
      "Epoch 00007: val_acc improved from 0.97648 to 0.97673, saving model to ./models/weights-improvement-07-0.9767.hdf5\n",
      "Epoch 8/10\n",
      "112000/112000 [==============================] - 111s 995us/step - loss: 0.0664 - acc: 0.9770 - val_loss: 0.1030 - val_acc: 0.9768\n",
      "\n",
      "Epoch 00008: val_acc improved from 0.97673 to 0.97677, saving model to ./models/weights-improvement-08-0.9768.hdf5\n",
      "Epoch 9/10\n",
      "112000/112000 [==============================] - 98s 876us/step - loss: 0.0657 - acc: 0.9772 - val_loss: 0.0949 - val_acc: 0.9773\n",
      "\n",
      "Epoch 00009: val_acc improved from 0.97677 to 0.97729, saving model to ./models/weights-improvement-09-0.9773.hdf5\n",
      "Epoch 10/10\n",
      "112000/112000 [==============================] - 90s 807us/step - loss: 0.0649 - acc: 0.9775 - val_loss: 0.0960 - val_acc: 0.9772\n",
      "\n",
      "Epoch 00010: val_acc did not improve from 0.97729\n"
     ]
    }
   ],
   "source": [
    "validation_split = 0.2\n",
    "batch_size = 512\n",
    "epochs = 10\n",
    "\n",
    "file_name = \"./models/cnn_model/weights-improvement-{epoch:02d}-{val_acc:.4f}.hdf5\"\n",
    "checkpoint = ModelCheckpoint(file_name, monitor='val_acc', \n",
    "                             save_best_only=True, mode='max', verbose=1)\n",
    "\n",
    "r = model.fit(train_data, train_targets, batch_size=batch_size, \n",
    "                      callbacks=[checkpoint],\n",
    "                      epochs = epochs, validation_split=validation_split)"
   ]
  },
  {
   "cell_type": "code",
   "execution_count": 32,
   "metadata": {},
   "outputs": [
    {
     "data": {
      "image/png": "[encoded data removed]",
      "text/plain": [
       "<matplotlib.figure.Figure at 0x136c44b70>"
      ]
     },
     "metadata": {},
     "output_type": "display_data"
    }
   ],
   "source": [
    "plt.plot(r.history['loss'], label='loss')\n",
    "plt.plot(r.history['val_loss'], label='val_loss')\n",
    "plt.legend()\n",
    "plt.show()"
   ]
  },
  {
   "cell_type": "code",
   "execution_count": 33,
   "metadata": {},
   "outputs": [
    {
     "data": {
      "image/png": "[encoded data removed]",
      "text/plain": [
       "<matplotlib.figure.Figure at 0x136d81c50>"
      ]
     },
     "metadata": {},
     "output_type": "display_data"
    }
   ],
   "source": [
    "plt.plot(r.history['acc'], label='acc')\n",
    "plt.plot(r.history['val_acc'], label='val_acc')\n",
    "plt.legend()\n",
    "plt.show()"
   ]
  },
  {
   "cell_type": "code",
   "execution_count": 34,
   "metadata": {},
   "outputs": [],
   "source": [
    "cnn_model = load_model('./models/cnn_model/weights-improvement-09-0.9773.hdf5')"
   ]
  },
  {
   "cell_type": "code",
   "execution_count": 35,
   "metadata": {},
   "outputs": [],
   "source": [
    "p = cnn_model.predict(test_data)"
   ]
  },
  {
   "cell_type": "code",
   "execution_count": 36,
   "metadata": {},
   "outputs": [],
   "source": [
    "aucs = []\n",
    "for j in range(6):\n",
    "    auc = roc_auc_score(test_targets[:, j], p[:, j])\n",
    "    aucs.append(auc)"
   ]
  },
  {
   "cell_type": "code",
   "execution_count": 37,
   "metadata": {},
   "outputs": [
    {
     "name": "stdout",
     "output_type": "stream",
     "text": [
      "0.9574932716300424\n"
     ]
    }
   ],
   "source": [
    "print(np.mean(aucs))"
   ]
  },
  {
   "cell_type": "markdown",
   "metadata": {},
   "source": [
    "## 4. RNN Model"
   ]
  },
  {
   "cell_type": "code",
   "execution_count": 38,
   "metadata": {},
   "outputs": [
    {
     "name": "stdout",
     "output_type": "stream",
     "text": [
      "_________________________________________________________________\n",
      "Layer (type)                 Output Shape              Param #   \n",
      "=================================================================\n",
      "input_6 (InputLayer)         (None, 100)               0         \n",
      "_________________________________________________________________\n",
      "embedding_1 (Embedding)      (None, 100, 50)           1000000   \n",
      "_________________________________________________________________\n",
      "bidirectional_1 (Bidirection (None, 128)               58880     \n",
      "_________________________________________________________________\n",
      "dense_7 (Dense)              (None, 6)                 774       \n",
      "=================================================================\n",
      "Total params: 1,059,654\n",
      "Trainable params: 59,654\n",
      "Non-trainable params: 1,000,000\n",
      "_________________________________________________________________\n"
     ]
    }
   ],
   "source": [
    "input_ = Input(shape=(max_squence_length, ))\n",
    "x = embedding_layer(input_)\n",
    "x = Bidirectional(LSTM(64, dropout=0.5))(x)\n",
    "output = Dense(len(labels), activation='sigmoid')(x)\n",
    "model = Model(input_, output)\n",
    "model.compile(loss='binary_crossentropy', optimizer='adam', metrics=['accuracy'])\n",
    "\n",
    "model.summary()"
   ]
  },
  {
   "cell_type": "code",
   "execution_count": 39,
   "metadata": {},
   "outputs": [],
   "source": [
    "validation_split = 0.2\n",
    "batch_size = 512\n",
    "epochs = 5"
   ]
  },
  {
   "cell_type": "code",
   "execution_count": 40,
   "metadata": {},
   "outputs": [
    {
     "name": "stdout",
     "output_type": "stream",
     "text": [
      "Train on 112000 samples, validate on 28000 samples\n",
      "Epoch 1/5\n",
      "112000/112000 [==============================] - 205s 2ms/step - loss: 0.1464 - acc: 0.9538 - val_loss: 0.0815 - val_acc: 0.9711\n",
      "Epoch 2/5\n",
      "112000/112000 [==============================] - 212s 2ms/step - loss: 0.0811 - acc: 0.9723 - val_loss: 0.0707 - val_acc: 0.9756\n",
      "Epoch 3/5\n",
      "112000/112000 [==============================] - 223s 2ms/step - loss: 0.0733 - acc: 0.9749 - val_loss: 0.0663 - val_acc: 0.9773\n",
      "Epoch 4/5\n",
      "112000/112000 [==============================] - 209s 2ms/step - loss: 0.0696 - acc: 0.9760 - val_loss: 0.0628 - val_acc: 0.9782\n",
      "Epoch 5/5\n",
      "112000/112000 [==============================] - 220s 2ms/step - loss: 0.0673 - acc: 0.9765 - val_loss: 0.0629 - val_acc: 0.9786\n"
     ]
    }
   ],
   "source": [
    "file_name = \"./models/rnn_model/weights-improvement-{epoch:02d}-{val_acc:.4f}.hdf5\"\n",
    "checkpoint = ModelCheckpoint(file_name, monitor='val_acc', save_best_only=True, \n",
    "                             mode='max', verbose=1)\n",
    "\n",
    "r = model.fit(train_data, train_targets, batch_size=batch_size, callbacks=[checkpoint]\n",
    "              epochs = epochs, validation_split=validation_split)"
   ]
  },
  {
   "cell_type": "code",
   "execution_count": 41,
   "metadata": {},
   "outputs": [
    {
     "data": {
      "image/png": "[encoded data removed]",
      "text/plain": [
       "<matplotlib.figure.Figure at 0x13c33e438>"
      ]
     },
     "metadata": {},
     "output_type": "display_data"
    },
    {
     "data": {
      "image/png": "[encoded data removed]",
      "text/plain": [
       "<matplotlib.figure.Figure at 0x138515390>"
      ]
     },
     "metadata": {},
     "output_type": "display_data"
    }
   ],
   "source": [
    "plt.plot(r.history['loss'], label='loss')\n",
    "plt.plot(r.history['val_loss'], label='val_loss')\n",
    "plt.legend()\n",
    "plt.show()\n",
    "\n",
    "plt.plot(r.history['acc'], label='acc')\n",
    "plt.plot(r.history['val_acc'], label='val_acc')\n",
    "plt.legend()\n",
    "plt.show()"
   ]
  },
  {
   "cell_type": "code",
   "execution_count": 42,
   "metadata": {},
   "outputs": [],
   "source": [
    "p = model.predict(test_data)"
   ]
  },
  {
   "cell_type": "code",
   "execution_count": 43,
   "metadata": {},
   "outputs": [
    {
     "name": "stdout",
     "output_type": "stream",
     "text": [
      "0.956662727458652\n"
     ]
    }
   ],
   "source": [
    "aucs = []\n",
    "for j in range(6):\n",
    "    auc = roc_auc_score(test_targets[:, j], p[:, j])\n",
    "    aucs.append(auc)\n",
    "    \n",
    "print(np.mean(aucs))"
   ]
  },
  {
   "cell_type": "code",
   "execution_count": null,
   "metadata": {},
   "outputs": [],
   "source": []
  }
 ],
 "metadata": {
  "kernelspec": {
   "display_name": "Python 3",
   "language": "python",
   "name": "python3"
  },
  "language_info": {
   "codemirror_mode": {
    "name": "ipython",
    "version": 3
   },
   "file_extension": ".py",
   "mimetype": "text/x-python",
   "name": "python",
   "nbconvert_exporter": "python",
   "pygments_lexer": "ipython3",
   "version": "3.4.4"
  }
 },
 "nbformat": 4,
 "nbformat_minor": 2
}
