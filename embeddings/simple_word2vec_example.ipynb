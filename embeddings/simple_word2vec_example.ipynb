{
 "cells": [
  {
   "cell_type": "code",
   "execution_count": 26,
   "metadata": {},
   "outputs": [],
   "source": [
    "import numpy as np"
   ]
  },
  {
   "cell_type": "code",
   "execution_count": 39,
   "metadata": {},
   "outputs": [],
   "source": [
    "from keras.models import Sequential, Model\n",
    "from keras.layers import Dense, Embedding, Flatten, Input\n",
    "from keras.preprocessing.text import one_hot\n",
    "from keras.preprocessing.sequence import pad_sequences\n",
    "from keras.optimizers import Adam\n",
    "from sklearn.preprocessing import OneHotEncoder"
   ]
  },
  {
   "cell_type": "code",
   "execution_count": 28,
   "metadata": {},
   "outputs": [],
   "source": [
    "docs = ['king is man',\n",
    "       'a king marrys queen',\n",
    "       'queen marrys king',\n",
    "       'some unrelated works',\n",
    "       'queen is woman']"
   ]
  },
  {
   "cell_type": "code",
   "execution_count": 29,
   "metadata": {},
   "outputs": [],
   "source": [
    "vocab_size = 50"
   ]
  },
  {
   "cell_type": "markdown",
   "metadata": {},
   "source": [
    "`keras.preprocessing.text.one_hot` does not do one hot encoding. It actually transform a list of words into a list of integer numbers. It converts each word into an integer number that does not exceed the vocabulary size (That is it indexes each word)"
   ]
  },
  {
   "cell_type": "code",
   "execution_count": 30,
   "metadata": {},
   "outputs": [
    {
     "data": {
      "text/plain": [
       "[8, 47, 15, 27, 11]"
      ]
     },
     "execution_count": 30,
     "metadata": {},
     "output_type": "execute_result"
    }
   ],
   "source": [
    "xx = one_hot('king queen man woman unrelated', vocab_size)\n",
    "xx"
   ]
  },
  {
   "cell_type": "code",
   "execution_count": 31,
   "metadata": {},
   "outputs": [
    {
     "data": {
      "text/plain": [
       "array([[ 8],\n",
       "       [47],\n",
       "       [15],\n",
       "       [27],\n",
       "       [11]])"
      ]
     },
     "execution_count": 31,
     "metadata": {},
     "output_type": "execute_result"
    }
   ],
   "source": [
    "oh = np.array(xx).reshape(-1,1)\n",
    "oh"
   ]
  },
  {
   "cell_type": "code",
   "execution_count": 32,
   "metadata": {},
   "outputs": [
    {
     "name": "stdout",
     "output_type": "stream",
     "text": [
      "shape (5, 50)\n",
      "[[0. 0. 0. 0. 0. 0. 0. 0. 1. 0. 0. 0. 0. 0. 0. 0. 0. 0. 0. 0. 0. 0. 0. 0.\n",
      "  0. 0. 0. 0. 0. 0. 0. 0. 0. 0. 0. 0. 0. 0. 0. 0. 0. 0. 0. 0. 0. 0. 0. 0.\n",
      "  0. 0.]\n",
      " [0. 0. 0. 0. 0. 0. 0. 0. 0. 0. 0. 0. 0. 0. 0. 0. 0. 0. 0. 0. 0. 0. 0. 0.\n",
      "  0. 0. 0. 0. 0. 0. 0. 0. 0. 0. 0. 0. 0. 0. 0. 0. 0. 0. 0. 0. 0. 0. 0. 1.\n",
      "  0. 0.]\n",
      " [0. 0. 0. 0. 0. 0. 0. 0. 0. 0. 0. 0. 0. 0. 0. 1. 0. 0. 0. 0. 0. 0. 0. 0.\n",
      "  0. 0. 0. 0. 0. 0. 0. 0. 0. 0. 0. 0. 0. 0. 0. 0. 0. 0. 0. 0. 0. 0. 0. 0.\n",
      "  0. 0.]\n",
      " [0. 0. 0. 0. 0. 0. 0. 0. 0. 0. 0. 0. 0. 0. 0. 0. 0. 0. 0. 0. 0. 0. 0. 0.\n",
      "  0. 0. 0. 1. 0. 0. 0. 0. 0. 0. 0. 0. 0. 0. 0. 0. 0. 0. 0. 0. 0. 0. 0. 0.\n",
      "  0. 0.]\n",
      " [0. 0. 0. 0. 0. 0. 0. 0. 0. 0. 0. 1. 0. 0. 0. 0. 0. 0. 0. 0. 0. 0. 0. 0.\n",
      "  0. 0. 0. 0. 0. 0. 0. 0. 0. 0. 0. 0. 0. 0. 0. 0. 0. 0. 0. 0. 0. 0. 0. 0.\n",
      "  0. 0.]]\n"
     ]
    }
   ],
   "source": [
    "enc = OneHotEncoder()\n",
    "enc.fit(np.array(range(vocab_size)).reshape(-1,1))\n",
    "oh_enc = enc.transform(oh).toarray()\n",
    "print('shape', oh_enc.shape)\n",
    "print(oh_enc)"
   ]
  },
  {
   "cell_type": "code",
   "execution_count": 33,
   "metadata": {},
   "outputs": [
    {
     "data": {
      "text/plain": [
       "[[8, 41, 15], [29, 8, 15, 47], [47, 15, 8], [10, 11, 12], [47, 41, 27]]"
      ]
     },
     "execution_count": 33,
     "metadata": {},
     "output_type": "execute_result"
    }
   ],
   "source": [
    "encoded_docs = [one_hot(d, vocab_size) for d in docs]\n",
    "encoded_docs"
   ]
  },
  {
   "cell_type": "code",
   "execution_count": 34,
   "metadata": {},
   "outputs": [
    {
     "data": {
      "text/plain": [
       "array([[ 8, 41, 15,  0,  0,  0,  0,  0,  0,  0,  0,  0,  0,  0,  0,  0,\n",
       "         0,  0,  0,  0,  0,  0,  0,  0],\n",
       "       [29,  8, 15, 47,  0,  0,  0,  0,  0,  0,  0,  0,  0,  0,  0,  0,\n",
       "         0,  0,  0,  0,  0,  0,  0,  0],\n",
       "       [47, 15,  8,  0,  0,  0,  0,  0,  0,  0,  0,  0,  0,  0,  0,  0,\n",
       "         0,  0,  0,  0,  0,  0,  0,  0],\n",
       "       [10, 11, 12,  0,  0,  0,  0,  0,  0,  0,  0,  0,  0,  0,  0,  0,\n",
       "         0,  0,  0,  0,  0,  0,  0,  0],\n",
       "       [47, 41, 27,  0,  0,  0,  0,  0,  0,  0,  0,  0,  0,  0,  0,  0,\n",
       "         0,  0,  0,  0,  0,  0,  0,  0]], dtype=int32)"
      ]
     },
     "execution_count": 34,
     "metadata": {},
     "output_type": "execute_result"
    }
   ],
   "source": [
    "max_length = 24\n",
    "padded_docs = pad_sequences(encoded_docs, maxlen=max_length, padding='post')\n",
    "padded_docs"
   ]
  },
  {
   "cell_type": "markdown",
   "metadata": {},
   "source": [
    "## Create training data"
   ]
  },
  {
   "cell_type": "code",
   "execution_count": 35,
   "metadata": {},
   "outputs": [
    {
     "name": "stdout",
     "output_type": "stream",
     "text": [
      "(34, 2)\n",
      "[[ 8. 41.]\n",
      " [ 8. 15.]\n",
      " [41. 15.]\n",
      " [41.  8.]\n",
      " [15. 41.]\n",
      " [15.  8.]\n",
      " [29.  8.]\n",
      " [29. 15.]\n",
      " [ 8. 15.]\n",
      " [ 8. 47.]\n",
      " [ 8. 29.]\n",
      " [15. 47.]\n",
      " [15.  8.]\n",
      " [15. 29.]\n",
      " [47. 15.]\n",
      " [47.  8.]\n",
      " [47. 15.]\n",
      " [47.  8.]\n",
      " [15.  8.]\n",
      " [15. 47.]\n",
      " [ 8. 15.]\n",
      " [ 8. 47.]\n",
      " [10. 11.]\n",
      " [10. 12.]\n",
      " [11. 12.]\n",
      " [11. 10.]\n",
      " [12. 11.]\n",
      " [12. 10.]\n",
      " [47. 41.]\n",
      " [47. 27.]\n",
      " [41. 27.]\n",
      " [41. 47.]\n",
      " [27. 41.]\n",
      " [27. 47.]]\n"
     ]
    }
   ],
   "source": [
    "tuples = np.empty((0,2))\n",
    "for padded_doc  in padded_docs:\n",
    "    length = len(padded_doc)\n",
    "    for i in range(length):\n",
    "        if padded_doc[i] != 0:\n",
    "            if i < length-1 and padded_doc[i+1] != 0:\n",
    "                tuples = np.append(tuples, [[padded_doc[i], padded_doc[i+1]]], axis=0)\n",
    "                if i < length-2 and padded_doc[i+2] != 0:\n",
    "                    tuples = np.append(tuples, [[padded_doc[i], padded_doc[i+2]]], axis=0)\n",
    "                    \n",
    "            if i > 0:\n",
    "                tuples = np.append(tuples, [[padded_doc[i], padded_doc[i-1]]], axis=0)\n",
    "                if i > 1:\n",
    "                    tuples = np.append(tuples, [[padded_doc[i], padded_doc[i-2]]], axis=0)\n",
    "                    \n",
    "print(tuples.shape)\n",
    "print(tuples)\n",
    "                    \n",
    "                    "
   ]
  },
  {
   "cell_type": "code",
   "execution_count": 36,
   "metadata": {},
   "outputs": [
    {
     "name": "stdout",
     "output_type": "stream",
     "text": [
      "(34, 50)\n"
     ]
    }
   ],
   "source": [
    "onehotlabels_x = enc.transform(tuples[:, 0].reshape(-1,1)).toarray()\n",
    "\n",
    "print(onehotlabels_x.shape)"
   ]
  },
  {
   "cell_type": "code",
   "execution_count": 37,
   "metadata": {},
   "outputs": [
    {
     "name": "stdout",
     "output_type": "stream",
     "text": [
      "(34, 50)\n"
     ]
    }
   ],
   "source": [
    "onehotlabels_y = enc.transform(tuples[:, 1].reshape(-1,1)).toarray()\n",
    "print(onehotlabels_y.shape)"
   ]
  },
  {
   "cell_type": "code",
   "execution_count": 60,
   "metadata": {},
   "outputs": [],
   "source": [
    "input_ = Input(shape=[50])\n",
    "h = Dense(2, activation='relu')(input_)\n",
    "x = Dense(50, activation='softmax')(h)\n",
    "\n",
    "model = Model(inputs=input_, outputs=x)\n",
    "\n",
    "model.compile(loss='binary_crossentropy', optimizer=Adam(lr=0.01), metrics=['acc'])"
   ]
  },
  {
   "cell_type": "code",
   "execution_count": 61,
   "metadata": {},
   "outputs": [
    {
     "name": "stdout",
     "output_type": "stream",
     "text": [
      "_________________________________________________________________\n",
      "Layer (type)                 Output Shape              Param #   \n",
      "=================================================================\n",
      "input_8 (InputLayer)         (None, 50)                0         \n",
      "_________________________________________________________________\n",
      "dense_15 (Dense)             (None, 2)                 102       \n",
      "_________________________________________________________________\n",
      "dense_16 (Dense)             (None, 50)                150       \n",
      "=================================================================\n",
      "Total params: 252\n",
      "Trainable params: 252\n",
      "Non-trainable params: 0\n",
      "_________________________________________________________________\n"
     ]
    }
   ],
   "source": [
    "model.summary()"
   ]
  },
  {
   "cell_type": "code",
   "execution_count": 62,
   "metadata": {},
   "outputs": [
    {
     "name": "stdout",
     "output_type": "stream",
     "text": [
      "Epoch 1/50\n",
      "34/34 [==============================] - 0s 10ms/step - loss: 0.0981 - acc: 0.9800\n",
      "Epoch 2/50\n",
      "34/34 [==============================] - 0s 183us/step - loss: 0.0974 - acc: 0.9800\n",
      "Epoch 3/50\n",
      "34/34 [==============================] - 0s 185us/step - loss: 0.0968 - acc: 0.9800\n",
      "Epoch 4/50\n",
      "34/34 [==============================] - 0s 223us/step - loss: 0.0961 - acc: 0.9800\n",
      "Epoch 5/50\n",
      "34/34 [==============================] - 0s 280us/step - loss: 0.0955 - acc: 0.9800\n",
      "Epoch 6/50\n",
      "34/34 [==============================] - 0s 327us/step - loss: 0.0948 - acc: 0.9800\n",
      "Epoch 7/50\n",
      "34/34 [==============================] - 0s 324us/step - loss: 0.0941 - acc: 0.9800\n",
      "Epoch 8/50\n",
      "34/34 [==============================] - 0s 311us/step - loss: 0.0934 - acc: 0.9800\n",
      "Epoch 9/50\n",
      "34/34 [==============================] - 0s 226us/step - loss: 0.0926 - acc: 0.9800\n",
      "Epoch 10/50\n",
      "34/34 [==============================] - 0s 266us/step - loss: 0.0918 - acc: 0.9800\n",
      "Epoch 11/50\n",
      "34/34 [==============================] - 0s 236us/step - loss: 0.0909 - acc: 0.9800\n",
      "Epoch 12/50\n",
      "34/34 [==============================] - 0s 244us/step - loss: 0.0900 - acc: 0.9800\n",
      "Epoch 13/50\n",
      "34/34 [==============================] - 0s 333us/step - loss: 0.0891 - acc: 0.9800\n",
      "Epoch 14/50\n",
      "34/34 [==============================] - 0s 194us/step - loss: 0.0881 - acc: 0.9800\n",
      "Epoch 15/50\n",
      "34/34 [==============================] - 0s 294us/step - loss: 0.0871 - acc: 0.9800\n",
      "Epoch 16/50\n",
      "34/34 [==============================] - 0s 222us/step - loss: 0.0860 - acc: 0.9800\n",
      "Epoch 17/50\n",
      "34/34 [==============================] - 0s 233us/step - loss: 0.0849 - acc: 0.9800\n",
      "Epoch 18/50\n",
      "34/34 [==============================] - 0s 210us/step - loss: 0.0838 - acc: 0.9800\n",
      "Epoch 19/50\n",
      "34/34 [==============================] - 0s 370us/step - loss: 0.0826 - acc: 0.9800\n",
      "Epoch 20/50\n",
      "34/34 [==============================] - 0s 223us/step - loss: 0.0814 - acc: 0.9800\n",
      "Epoch 21/50\n",
      "34/34 [==============================] - 0s 201us/step - loss: 0.0801 - acc: 0.9800\n",
      "Epoch 22/50\n",
      "34/34 [==============================] - 0s 187us/step - loss: 0.0788 - acc: 0.9800\n",
      "Epoch 23/50\n",
      "34/34 [==============================] - 0s 200us/step - loss: 0.0774 - acc: 0.9800\n",
      "Epoch 24/50\n",
      "34/34 [==============================] - 0s 385us/step - loss: 0.0760 - acc: 0.9800\n",
      "Epoch 25/50\n",
      "34/34 [==============================] - 0s 358us/step - loss: 0.0745 - acc: 0.9800\n",
      "Epoch 26/50\n",
      "34/34 [==============================] - 0s 177us/step - loss: 0.0731 - acc: 0.9800\n",
      "Epoch 27/50\n",
      "34/34 [==============================] - 0s 229us/step - loss: 0.0718 - acc: 0.9800\n",
      "Epoch 28/50\n",
      "34/34 [==============================] - 0s 176us/step - loss: 0.0705 - acc: 0.9800\n",
      "Epoch 29/50\n",
      "34/34 [==============================] - 0s 196us/step - loss: 0.0692 - acc: 0.9800\n",
      "Epoch 30/50\n",
      "34/34 [==============================] - 0s 237us/step - loss: 0.0680 - acc: 0.9800\n",
      "Epoch 31/50\n",
      "34/34 [==============================] - 0s 203us/step - loss: 0.0668 - acc: 0.9800\n",
      "Epoch 32/50\n",
      "34/34 [==============================] - 0s 244us/step - loss: 0.0657 - acc: 0.9800\n",
      "Epoch 33/50\n",
      "34/34 [==============================] - 0s 361us/step - loss: 0.0646 - acc: 0.9800\n",
      "Epoch 34/50\n",
      "34/34 [==============================] - 0s 232us/step - loss: 0.0635 - acc: 0.9800\n",
      "Epoch 35/50\n",
      "34/34 [==============================] - 0s 215us/step - loss: 0.0625 - acc: 0.9800\n",
      "Epoch 36/50\n",
      "34/34 [==============================] - 0s 162us/step - loss: 0.0616 - acc: 0.9800\n",
      "Epoch 37/50\n",
      "34/34 [==============================] - 0s 196us/step - loss: 0.0608 - acc: 0.9800\n",
      "Epoch 38/50\n",
      "34/34 [==============================] - 0s 173us/step - loss: 0.0601 - acc: 0.9800\n",
      "Epoch 39/50\n",
      "34/34 [==============================] - 0s 234us/step - loss: 0.0594 - acc: 0.9800\n",
      "Epoch 40/50\n",
      "34/34 [==============================] - 0s 158us/step - loss: 0.0588 - acc: 0.9800\n",
      "Epoch 41/50\n",
      "34/34 [==============================] - 0s 193us/step - loss: 0.0583 - acc: 0.9800\n",
      "Epoch 42/50\n",
      "34/34 [==============================] - 0s 370us/step - loss: 0.0579 - acc: 0.9800\n",
      "Epoch 43/50\n",
      "34/34 [==============================] - 0s 294us/step - loss: 0.0575 - acc: 0.9800\n",
      "Epoch 44/50\n",
      "34/34 [==============================] - 0s 216us/step - loss: 0.0572 - acc: 0.9800\n",
      "Epoch 45/50\n",
      "34/34 [==============================] - 0s 243us/step - loss: 0.0569 - acc: 0.9800\n",
      "Epoch 46/50\n",
      "34/34 [==============================] - 0s 217us/step - loss: 0.0566 - acc: 0.9800\n",
      "Epoch 47/50\n",
      "34/34 [==============================] - 0s 231us/step - loss: 0.0563 - acc: 0.9800\n",
      "Epoch 48/50\n",
      "34/34 [==============================] - 0s 202us/step - loss: 0.0561 - acc: 0.9800\n",
      "Epoch 49/50\n",
      "34/34 [==============================] - 0s 256us/step - loss: 0.0558 - acc: 0.9800\n",
      "Epoch 50/50\n",
      "34/34 [==============================] - 0s 212us/step - loss: 0.0556 - acc: 0.9800\n"
     ]
    },
    {
     "data": {
      "text/plain": [
       "<keras.callbacks.History at 0x11a6a4dd8>"
      ]
     },
     "execution_count": 62,
     "metadata": {},
     "output_type": "execute_result"
    }
   ],
   "source": [
    "epochs = 50\n",
    "\n",
    "model.fit(onehotlabels_x, onehotlabels_y, epochs=epochs)"
   ]
  },
  {
   "cell_type": "code",
   "execution_count": 63,
   "metadata": {},
   "outputs": [
    {
     "name": "stdout",
     "output_type": "stream",
     "text": [
      "[[1.5775301  1.4147451 ]\n",
      " [1.4600008  1.44418   ]\n",
      " [1.1103778  1.4671073 ]\n",
      " [0.9585242  1.1078153 ]\n",
      " [1.3889623  0.00233436]]\n"
     ]
    }
   ],
   "source": [
    "model2 = Model(inputs=input_, outputs=h)\n",
    "\n",
    "model2.compile(loss='binary_crossentropy', optimizer=Adam(lr=0.01), metrics=['acc'])\n",
    "\n",
    "test = model2.predict(oh_enc)\n",
    "print(test)"
   ]
  },
  {
   "cell_type": "code",
   "execution_count": 64,
   "metadata": {},
   "outputs": [
    {
     "name": "stdout",
     "output_type": "stream",
     "text": [
      "[ 0.3152988  -0.41165423]\n"
     ]
    }
   ],
   "source": [
    "print(test[0,:] - test[2,:] + test[3,:] - test[2,:])"
   ]
  },
  {
   "cell_type": "code",
   "execution_count": null,
   "metadata": {},
   "outputs": [],
   "source": []
  }
 ],
 "metadata": {
  "kernelspec": {
   "display_name": "Python 3",
   "language": "python",
   "name": "python3"
  },
  "language_info": {
   "codemirror_mode": {
    "name": "ipython",
    "version": 3
   },
   "file_extension": ".py",
   "mimetype": "text/x-python",
   "name": "python",
   "nbconvert_exporter": "python",
   "pygments_lexer": "ipython3",
   "version": "3.4.4"
  }
 },
 "nbformat": 4,
 "nbformat_minor": 2
}
