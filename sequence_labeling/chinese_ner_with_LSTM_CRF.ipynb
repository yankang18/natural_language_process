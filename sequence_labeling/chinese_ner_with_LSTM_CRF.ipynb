{
 "cells": [
  {
   "cell_type": "code",
   "execution_count": 16,
   "metadata": {},
   "outputs": [],
   "source": [
    "tag2index = {\"O\": 0,\n",
    "             \"B-PER\": 1, \"I-PER\": 2,\n",
    "             \"B-LOC\": 3, \"I-LOC\": 4,\n",
    "             \"B-ORG\": 5, \"I-ORG\": 6\n",
    "             }"
   ]
  },
  {
   "cell_type": "code",
   "execution_count": 22,
   "metadata": {},
   "outputs": [],
   "source": [
    "UNK = \"$UNK$\"\n",
    "NUM = \"$NUM$\"\n",
    "ENG = \"$ENG$\"\n",
    "PAD = \"$PAD$\""
   ]
  },
  {
   "cell_type": "code",
   "execution_count": 23,
   "metadata": {},
   "outputs": [],
   "source": [
    "def load_char2index(file_name):\n",
    "    token2idx = {}\n",
    "    token2idx[PAD] = 0\n",
    "    with open(file_name) as f:\n",
    "        for idx, token in enumerate(f):\n",
    "            token = token.strip()\n",
    "            token2idx[token] = idx + 1\n",
    "    return token2idx"
   ]
  },
  {
   "cell_type": "code",
   "execution_count": 24,
   "metadata": {},
   "outputs": [],
   "source": [
    "word2index = load_char2index('data/ch_word_vocab.txt')"
   ]
  },
  {
   "cell_type": "code",
   "execution_count": 26,
   "metadata": {},
   "outputs": [
    {
     "name": "stdout",
     "output_type": "stream",
     "text": [
      "957\n",
      "4324\n",
      "1504\n",
      "0\n"
     ]
    }
   ],
   "source": [
    "print(word2index[UNK])\n",
    "print(word2index[NUM])\n",
    "print(word2index[ENG])\n",
    "print(word2index[PAD])"
   ]
  },
  {
   "cell_type": "code",
   "execution_count": 27,
   "metadata": {},
   "outputs": [
    {
     "name": "stdout",
     "output_type": "stream",
     "text": [
      "4812\n",
      "7\n"
     ]
    }
   ],
   "source": [
    "print(len(word2index))\n",
    "print(len(tag2index))"
   ]
  },
  {
   "cell_type": "code",
   "execution_count": 28,
   "metadata": {},
   "outputs": [],
   "source": [
    "def get_processing_token(token2index, lowercase=False):\n",
    "    \n",
    "    def f(token):\n",
    "        \n",
    "        if lowercase:\n",
    "            token = token.lower()\n",
    "            \n",
    "        if token.isdigit():\n",
    "            token = NUM\n",
    "        elif ('\\u0041' <= word <='\\u005a') or ('\\u0061' <= word <='\\u007a'):\n",
    "            token = ENG\n",
    "            \n",
    "        if token in token2index:\n",
    "            token = token2index[token]\n",
    "        else:\n",
    "            token = token2index[UNK]\n",
    "        \n",
    "        return token\n",
    "\n",
    "    return f"
   ]
  },
  {
   "cell_type": "code",
   "execution_count": 29,
   "metadata": {},
   "outputs": [],
   "source": [
    "process_word_f = get_processing_token(word2index, False)\n",
    "process_tag_f = get_processing_token(tag2index, False)"
   ]
  },
  {
   "cell_type": "code",
   "execution_count": 30,
   "metadata": {},
   "outputs": [],
   "source": [
    "class Dataset(object):\n",
    "    def __init__(self, file_name, processing_word, processing_tag, max_iter=None):\n",
    "        self.file_name = file_name\n",
    "        self.processing_word = processing_word\n",
    "        self.processing_tag = processing_tag\n",
    "        self.max_iter = max_iter\n",
    "        \n",
    "    def __iter__(self):\n",
    "        words = []\n",
    "        ner_tags = []\n",
    "        niter = 0\n",
    "        with open(self.file_name, encoding='utf-8') as f:\n",
    "            for line in f:\n",
    "#                 line = line.strip()\n",
    "                if line == '\\n':\n",
    "                    if len(words)!=0:\n",
    "                        niter+=1\n",
    "                        if self.max_iter is not None and niter > self.max_iter:\n",
    "                            break\n",
    "                        yield (words, pos_tags)\n",
    "                        words, pos_tags = [], []\n",
    "                else:\n",
    "                    ls = line.strip().split()\n",
    "                    word, ner_tag = ls[0], ls[-1]\n",
    "                    if self.processing_word is not None:\n",
    "                        word = self.processing_word(word)\n",
    "                    if self.processing_tag is not None:\n",
    "                        ner_tag = self.processing_tag(ner_tag)\n",
    "                    words += [word]\n",
    "                    ner_tags += [ner_tag]"
   ]
  },
  {
   "cell_type": "code",
   "execution_count": 31,
   "metadata": {},
   "outputs": [],
   "source": [
    "def minibatch(dataset, batch_size):\n",
    "    xbatch, ybatch = [], []\n",
    "    for word, tag in dataset:\n",
    "        if len(xbatch) == batch_size:\n",
    "            yield xbatch, ybatch\n",
    "            xbatch, ybatch = [], []\n",
    "            \n",
    "        xbatch += [word]\n",
    "        ybatch += [tag]\n",
    "    \n",
    "    if len(xbatch) != 0:\n",
    "        yield xbatch, ybatch  "
   ]
  },
  {
   "cell_type": "code",
   "execution_count": null,
   "metadata": {},
   "outputs": [],
   "source": []
  }
 ],
 "metadata": {
  "kernelspec": {
   "display_name": "Python 3",
   "language": "python",
   "name": "python3"
  },
  "language_info": {
   "codemirror_mode": {
    "name": "ipython",
    "version": 3
   },
   "file_extension": ".py",
   "mimetype": "text/x-python",
   "name": "python",
   "nbconvert_exporter": "python",
   "pygments_lexer": "ipython3",
   "version": "3.4.4"
  }
 },
 "nbformat": 4,
 "nbformat_minor": 2
}
