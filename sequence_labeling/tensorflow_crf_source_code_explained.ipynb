{
 "cells": [
  {
   "cell_type": "code",
   "execution_count": 3,
   "metadata": {},
   "outputs": [],
   "source": [
    "import tensorflow as tf\n",
    "import numpy as np"
   ]
  },
  {
   "cell_type": "code",
   "execution_count": 1,
   "metadata": {},
   "outputs": [
    {
     "name": "stderr",
     "output_type": "stream",
     "text": [
      "/Library/Frameworks/Python.framework/Versions/3.4/lib/python3.4/importlib/_bootstrap.py:321: FutureWarning: Conversion of the second argument of issubdtype from `float` to `np.floating` is deprecated. In future, it will be treated as `np.float64 == np.dtype(float).type`.\n",
      "  return f(*args, **kwds)\n"
     ]
    }
   ],
   "source": [
    "bfrom tensorflow.python.framework import constant_op\n",
    "from tensorflow.python.framework import dtypes\n",
    "from tensorflow.python.layers import utils\n",
    "from tensorflow.python.ops import array_ops\n",
    "from tensorflow.python.ops import control_flow_ops\n",
    "from tensorflow.python.ops import gen_array_ops\n",
    "from tensorflow.python.ops import math_ops\n",
    "from tensorflow.python.ops import rnn\n",
    "from tensorflow.python.ops import rnn_cell\n",
    "from tensorflow.python.ops import variable_scope as vs"
   ]
  },
  {
   "cell_type": "code",
   "execution_count": 4,
   "metadata": {},
   "outputs": [
    {
     "name": "stdout",
     "output_type": "stream",
     "text": [
      "offset_1_o shape (2, 1)\n",
      "offset_1_o [[ 0]\n",
      " [12]]\n",
      "offset_2_o shape (1, 3)\n",
      "offset_2_o [[0 4 8]]\n",
      "offset_3_o shape (2, 3)\n",
      "offset_3_o [[ 0  4  8]\n",
      " [12 16 20]]\n"
     ]
    }
   ],
   "source": [
    "batch_size = 2\n",
    "max_seq_len = 3\n",
    "num_tags = 4\n",
    "\n",
    "rg = math_ops.range(batch_size)\n",
    "offsets_1_pre = rg * max_seq_len * num_tags\n",
    "offsets_1 = array_ops.expand_dims(offsets_1_pre, 1)\n",
    "\n",
    "offsets_2 = array_ops.expand_dims(math_ops.range(max_seq_len) * num_tags, 0)\n",
    "\n",
    "offsets_3 = offsets_1 + offsets_2\n",
    "with tf.Session() as sess:\n",
    "    rg_o = sess.run(rg)\n",
    "    offset_1_o = sess.run(offsets_1)\n",
    "    offset_2_o = sess.run(offsets_2)\n",
    "    offset_3_o = sess.run(offsets_3)\n",
    "#     print('rg_o shape', rg_o.shape)\n",
    "#     print('rg_o', rg_o)\n",
    "    print('offset_1_o shape', offset_1_o.shape)\n",
    "    print('offset_1_o', offset_1_o)\n",
    "    print('offset_2_o shape', offset_2_o.shape)\n",
    "    print('offset_2_o', offset_2_o)\n",
    "    print('offset_3_o shape', offset_3_o.shape)\n",
    "    print('offset_3_o', offset_3_o)"
   ]
  },
  {
   "cell_type": "code",
   "execution_count": 5,
   "metadata": {},
   "outputs": [
    {
     "name": "stdout",
     "output_type": "stream",
     "text": [
      "start_tag_indices_o [[1 2]\n",
      " [0 1]]\n",
      "end_tag_indices_o [[2 2]\n",
      " [1 0]]\n",
      "flattened_transition_indices_o [[5 8]\n",
      " [1 3]]\n",
      "binary_scores_o [[0.2 0.8]\n",
      " [0.7 0.4]]\n"
     ]
    }
   ],
   "source": [
    "transition_params = np.asarray([[0.5, 0.7, 0.3],\n",
    "                     [0.4, 0.1, 0.2],\n",
    "                     [0.6, 0.9, 0.8]])\n",
    "tag_indices = [[1,2,2],\n",
    "               [0,1,0]]\n",
    "\n",
    "num_tags = transition_params.shape\n",
    "num_transitions = array_ops.shape(tag_indices)[1] - 1\n",
    "start_tag_indices = array_ops.slice(tag_indices, [0, 0], [-1, num_transitions])\n",
    "end_tag_indices = array_ops.slice(tag_indices, [0, 1], [-1, num_transitions])\n",
    "\n",
    "# Encode the indices in a flattened representation.\n",
    "flattened_transition_indices = start_tag_indices * num_tags + end_tag_indices\n",
    "flattened_transition_params = array_ops.reshape(transition_params, [-1])\n",
    "\n",
    "binary_scores = array_ops.gather(flattened_transition_params, flattened_transition_indices)\n",
    "with tf.Session() as sess:\n",
    "    start_tag_indices_o = sess.run(start_tag_indices)\n",
    "    end_tag_indices_o = sess.run(end_tag_indices)\n",
    "    flattened_transition_indices_o = sess.run(flattened_transition_indices)\n",
    "    binary_scores_o = sess.run(binary_scores)\n",
    "    print('start_tag_indices_o', start_tag_indices_o)\n",
    "    print('end_tag_indices_o', end_tag_indices_o)\n",
    "    print('flattened_transition_indices_o', flattened_transition_indices_o)\n",
    "    print('binary_scores_o', binary_scores_o)"
   ]
  },
  {
   "cell_type": "code",
   "execution_count": null,
   "metadata": {},
   "outputs": [],
   "source": []
  }
 ],
 "metadata": {
  "kernelspec": {
   "display_name": "Python 3",
   "language": "python",
   "name": "python3"
  },
  "language_info": {
   "codemirror_mode": {
    "name": "ipython",
    "version": 3
   },
   "file_extension": ".py",
   "mimetype": "text/x-python",
   "name": "python",
   "nbconvert_exporter": "python",
   "pygments_lexer": "ipython3",
   "version": "3.4.4"
  }
 },
 "nbformat": 4,
 "nbformat_minor": 2
}
