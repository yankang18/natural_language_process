{
 "cells": [
  {
   "cell_type": "markdown",
   "metadata": {},
   "source": [
    "# Sentiment analysis for RNN by Keras"
   ]
  },
  {
   "cell_type": "code",
   "execution_count": 1,
   "metadata": {},
   "outputs": [
    {
     "name": "stderr",
     "output_type": "stream",
     "text": [
      "/Library/Frameworks/Python.framework/Versions/3.4/lib/python3.4/importlib/_bootstrap.py:321: FutureWarning: Conversion of the second argument of issubdtype from `float` to `np.floating` is deprecated. In future, it will be treated as `np.float64 == np.dtype(float).type`.\n",
      "  return f(*args, **kwds)\n",
      "Using TensorFlow backend.\n"
     ]
    }
   ],
   "source": [
    "import numpy as np\n",
    "import tensorflow as tf\n",
    "import sys\n",
    "import string\n",
    "import json\n",
    "\n",
    "from numpy import array\n",
    "from keras.preprocessing.text import one_hot\n",
    "from keras.layers import Flatten\n",
    "from keras.preprocessing.text import Tokenizer\n",
    "from keras.preprocessing.sequence import pad_sequences\n",
    "from keras.models import Model, Sequential\n",
    "from keras.layers import GRU, LSTM, Input, Dense, TimeDistributed, Activation, RepeatVector, Bidirectional, SimpleRNN\n",
    "from keras.layers.embeddings import Embedding\n",
    "from keras.optimizers import Adam\n",
    "from keras.losses import sparse_categorical_crossentropy\n",
    "from keras.layers.core import Activation, Dropout \n",
    "\n",
    "from keras.callbacks import ModelCheckpoint\n",
    "\n",
    "from nltk.tokenize import sent_tokenize, word_tokenize\n",
    "from nltk.corpus import stopwords\n",
    "from operator import itemgetter"
   ]
  },
  {
   "cell_type": "markdown",
   "metadata": {},
   "source": [
    "## Load data"
   ]
  },
  {
   "cell_type": "code",
   "execution_count": 5,
   "metadata": {},
   "outputs": [],
   "source": [
    "def load_data(data_file=None):\n",
    "    if data_file == None:\n",
    "        return\n",
    "    with open(data_file) as f:\n",
    "        data = json.load(f)\n",
    "    return data"
   ]
  },
  {
   "cell_type": "code",
   "execution_count": 6,
   "metadata": {},
   "outputs": [],
   "source": [
    "folder = './data/large_files/stanford_sentiment/parsed_data/'\n",
    "word2idx = load_data(folder + \"sentiment_word2idx.json\")\n",
    "sentiment_binary_train = load_data(folder + \"sentiment_binary_train.json\")\n",
    "sentiment_train = load_data(folder + \"sentiment_train.json\")\n",
    "sentiment_binary_test = load_data(folder + \"sentiment_binary_test.json\")\n",
    "sentiment_test = load_data(folder + \"sentiment_test.json\")"
   ]
  },
  {
   "cell_type": "markdown",
   "metadata": {},
   "source": [
    "### Exclude neutral samples\n",
    "\n",
    "* The loaded samples has three type of labels -1,0,1, in which -1 indicates neutral sentiment.\n",
    "* We exclude samples with neutral sentiment."
   ]
  },
  {
   "cell_type": "code",
   "execution_count": 7,
   "metadata": {},
   "outputs": [
    {
     "name": "stdout",
     "output_type": "stream",
     "text": [
      "After filtering: # of training samples and # of test samples\n",
      "# of traing samples:  6920\n",
      "# of test samples:  1821\n"
     ]
    }
   ],
   "source": [
    "# the loaded samples has three type of labels -1,0,1, in which -1 indicates neutral sentiment.\n",
    "# We exclude samples with neutral sentiment.\n",
    "def exclude_neutral_sample(samples:dict):\n",
    "    ssamples = {}\n",
    "    for k, v in samples.items():\n",
    "        if v[3][-1] != -1:\n",
    "            ssamples[k] = v\n",
    "    return ssamples\n",
    "        \n",
    "train_b = exclude_neutral_sample(sentiment_binary_train)\n",
    "test_b = exclude_neutral_sample(sentiment_binary_test)\n",
    "\n",
    "print(\"After filtering: # of training samples and # of test samples\")\n",
    "print(\"# of traing samples: \", len(train_b))\n",
    "print(\"# of test samples: \", len(test_b))"
   ]
  },
  {
   "cell_type": "markdown",
   "metadata": {},
   "source": [
    "### Convert training/test data to sentences\n",
    "* Currently, the training/test data are in the form of integer sequences, which are directly parsed from Stanford sentimental analysis raw data. We have not done any preprocessing on those data yet. \n",
    "* The purpose of coverting training/test data into sentences is that we will do some preprocessing on these sentences. Then, we will convert sentences back to integer sequences."
   ]
  },
  {
   "cell_type": "code",
   "execution_count": 8,
   "metadata": {},
   "outputs": [],
   "source": [
    "def get_comment(wordidx, idx2word:dict):\n",
    "    wordlist = []\n",
    "    for idx in wordidx:\n",
    "        if idx != -1:\n",
    "            token = idx2word[idx]\n",
    "            if token not in string.punctuation:\n",
    "                wordlist.append(token)\n",
    "    return wordlist\n",
    "\n",
    "# Convert training/test examples to the form that each example is list of words (including punctation).\n",
    "# Also construct the targets for each example.\n",
    "def get_comments_samples(samples:dict, idx2word:dict):\n",
    "    comments = []\n",
    "    targets = []\n",
    "    for _, v in samples.items():\n",
    "        if v[3][-1] != -1:\n",
    "            comment = \" \".join(get_comment(v[0], idx2word))\n",
    "            label = v[3][-1]\n",
    "            comments.append(comment)\n",
    "            targets.append(label) \n",
    "    return comments, targets"
   ]
  },
  {
   "cell_type": "code",
   "execution_count": 9,
   "metadata": {},
   "outputs": [
    {
     "name": "stdout",
     "output_type": "stream",
     "text": [
      "vocabulary_size 18647\n"
     ]
    }
   ],
   "source": [
    "idx2word = {v:k for k, v in word2idx.items()}\n",
    "train_comments_o, train_targets = get_comments_samples(train_b, idx2word)\n",
    "test_comments_o, test_targets = get_comments_samples(test_b, idx2word)\n",
    "\n",
    "vocabulary_size = len(idx2word)\n",
    "print('vocabulary_size' , vocabulary_size)"
   ]
  },
  {
   "cell_type": "code",
   "execution_count": 10,
   "metadata": {},
   "outputs": [
    {
     "name": "stdout",
     "output_type": "stream",
     "text": [
      "0 3310\n",
      "1 3610\n",
      "-1 0\n"
     ]
    }
   ],
   "source": [
    "# Test: just see the split of training data in terms of label\n",
    "\n",
    "count0 = 0\n",
    "count1 = 0\n",
    "count2 = 0\n",
    "for i in range(len(train_comments_o)):\n",
    "\n",
    "    if train_targets[i] == 0:\n",
    "        count0 += 1\n",
    "    elif train_targets[i] == 1:\n",
    "        count1 += 1\n",
    "    else:\n",
    "        count2 += 1\n",
    "    \n",
    "print(\"0\", count0)\n",
    "print(\"1\", count1)\n",
    "print(\"-1\", count2)"
   ]
  },
  {
   "cell_type": "markdown",
   "metadata": {},
   "source": [
    "## Preprocessing and analyzing data"
   ]
  },
  {
   "cell_type": "markdown",
   "metadata": {},
   "source": [
    "### Preprocessing data\n",
    "* Remove stopwords\n",
    "* Remove punctuation\n",
    "* Tokenization\n",
    "* Change the representation of training/test data to integer"
   ]
  },
  {
   "cell_type": "code",
   "execution_count": 11,
   "metadata": {},
   "outputs": [],
   "source": [
    "def remove_punctuation(samples):\n",
    "    filtered_samples = []\n",
    "    for i in samples:\n",
    "        filtered_samples.append(i.translate(str.maketrans('', '', string.punctuation)))\n",
    "    return filtered_samples"
   ]
  },
  {
   "cell_type": "code",
   "execution_count": 12,
   "metadata": {},
   "outputs": [],
   "source": [
    "def tokenize(samples):\n",
    "    tokenized_samples = []\n",
    "    for s in samples:\n",
    "        tokens = word_tokenize(s)\n",
    "        tokenized_samples.append(tokens)\n",
    "    return tokenized_samples"
   ]
  },
  {
   "cell_type": "code",
   "execution_count": 13,
   "metadata": {},
   "outputs": [
    {
     "name": "stdout",
     "output_type": "stream",
     "text": [
      "{'but', 'so', \"isn't\", 'doesn', 'between', 'shan', 'other', 'then', 'each', 'aren', 'ma', 'about', 'him', 'won', 'them', 'her', 'did', 'when', \"haven't\", 'we', \"you're\", \"that'll\", 'out', 'over', 'theirs', 'after', 'down', \"needn't\", 'an', 'a', 'this', 'am', \"hasn't\", 'of', 'until', 'to', 'wasn', 'against', 'yourself', 'by', 'above', 'off', 'now', 'while', \"don't\", \"wouldn't\", 've', 'be', 'at', 'itself', \"you'd\", 'll', 'yours', \"you'll\", 'me', 'through', 'for', 'himself', 'couldn', 'ain', 'which', \"couldn't\", \"she's\", 'your', 'hasn', 'and', \"wasn't\", 'because', 'where', 'those', 'whom', 'under', 'he', 'up', 'wouldn', 'doing', 'i', 'you', 'what', 'no', 'does', 'our', 'can', 'had', 'isn', 'didn', 'having', 'it', 't', 'too', 'both', 'during', 'in', 'from', 'myself', 'before', 'than', 'some', 'mightn', 're', \"shan't\", 'ourselves', \"hadn't\", 'his', \"aren't\", \"doesn't\", 'not', \"it's\", 'my', 'these', 'o', 'being', 'shouldn', 'hers', 'the', 'below', 'was', 'here', 'again', 'with', 'own', \"won't\", \"mightn't\", \"weren't\", \"mustn't\", 'should', 'are', 'yourselves', 'will', 'there', 'or', 'on', 'if', 'into', \"didn't\", 'they', 's', 'few', \"shouldn't\", 'needn', 'just', 'further', 'only', 'nor', \"you've\", 'more', 'm', 'were', 'that', 'she', 'don', 'do', 'all', 'how', 'same', 'haven', 'herself', 'as', 'have', 'y', 'been', 'has', 'd', 'their', 'most', 'themselves', 'why', 'who', 'its', 'weren', \"should've\", 'hadn', 'ours', 'very', 'is', 'once', 'any', 'such', 'mustn'}\n"
     ]
    }
   ],
   "source": [
    "# default stopwords set from NLTK\n",
    "stopWords = set(stopwords.words('english'))\n",
    "print(stopWords)"
   ]
  },
  {
   "cell_type": "code",
   "execution_count": 14,
   "metadata": {},
   "outputs": [],
   "source": [
    "# stopwords version 1: exclude negation words from the stopwords set\n",
    "stopWords_revised = set(('at', 'how', 'each', 's', 'those', 'from','whom', 'if', 're', 'we', 'by','into', 'it', 'ma', 'than', \"you'll\", \n",
    "             'very', 'was', 'is', 'be', 'had', 'you', 'hers', 'off', 'her', 'your', 'other', 'on', 'down', 'its', 'should', \n",
    "             'which', 'now', 'ours', 'in', \"you've\", 'before', 'further', 'below', 'did',  'who', 'once', 'some', 'being', \n",
    "             'does', 'too', 'herself', 'about', 'my', 'are', 'during', 'few', 'an', 'do', 'over',  'themselves', 'the', 'why', 'a', 'same', 'all', \n",
    "             'own', 'with', 'under', 'myself', 'he', 'because', 'again', 'himself', 'these', 'that', 'am', 'through', 'll', 'so', 've', \"you're\", 'doing', 'between', \n",
    "             'when', 'ourselves', 'been', 'of', 'our', 'them', 'their', 'while', 'as', 'can', 'where', 'such', 'yourself', 'haven', 'they', 'theirs', 'm', 'both', \n",
    "                     \"that'll\", 'or', 'were', 'up', 'will', 'me', 'yours', 'itself', 'has', 'more', \n",
    "                'd', 'o', 'what', 'having', 't', 'this', 'after', 'then', 'above', 'out', 'nor', \"should've\", 'his', \n",
    "               \"you'd\", \"she's\", 'and', 'shan', 'until', 'here', 'for', 'just', 'him', 'to', 'have', 'she', 'yourselves', \"it's\", 'y', 'i', 'there'))\n"
   ]
  },
  {
   "cell_type": "code",
   "execution_count": 15,
   "metadata": {},
   "outputs": [],
   "source": [
    "# stopwords version 2: exclude negation words and some comparision words from the stopwords set\n",
    "stopWords_revised_2 = set(('at', 'each', 's', 'those', 'from', 'if', 're', 'we', 'by','into', 'it', 'ma', \"you'll\", \n",
    "             'very', 'was', 'is', 'be', 'had', 'you', 'hers', 'off', 'her', 'your', 'other', 'on', 'down', 'its', 'should', \n",
    "              'now', 'ours', 'in', \"you've\", 'below', 'did', 'being', \n",
    "             'does', 'herself', 'about', 'my', 'are', 'an', 'do', 'themselves', 'the',  'a',  \n",
    "             'own', 'myself', 'he',  'himself', 'these', 'that', 'am', 'll', 'so', 've', \"you're\", 'doing', \n",
    "            'ourselves', 'been', 'of', 'our', 'them', 'their', 'can', 'yourself', 'they', 'theirs', 'm', \n",
    "                     \"that'll\", 'or', 'were', 'up', 'will', 'me', 'yours', 'itself', 'has', \n",
    "                'd', 'o', 'having', 't', 'this', 'after', 'then', 'out', \"should've\", 'his', \n",
    "               \"you'd\", \"she's\", 'shan',  'here', 'for', 'him', 'to', 'have', 'she', 'yourselves', \"it's\", 'y', 'i', 'there'))\n"
   ]
  },
  {
   "cell_type": "code",
   "execution_count": 16,
   "metadata": {},
   "outputs": [],
   "source": [
    "def remove_stopwords(samples):\n",
    "    filtered_samples = []\n",
    "    for s in samples:\n",
    "        filstered_tokens = []\n",
    "        for w in s:\n",
    "            if w not in stopWords_revised_2:\n",
    "                filstered_tokens.append(w)\n",
    "        filtered_samples.append(filstered_tokens)\n",
    "    return filtered_samples  "
   ]
  },
  {
   "cell_type": "code",
   "execution_count": 17,
   "metadata": {},
   "outputs": [],
   "source": [
    "# Test\n",
    "# for i in range(100):\n",
    "#     print(i, \": \", train_comments_o[i])"
   ]
  },
  {
   "cell_type": "code",
   "execution_count": 18,
   "metadata": {},
   "outputs": [],
   "source": [
    "train_comments_1 = []\n",
    "for comment in train_comments_o:\n",
    "    new_str = comment.replace(\"n't\", 'not')\n",
    "    train_comments_1.append(new_str)\n",
    "    \n",
    "test_comments_1 = []\n",
    "for comment in test_comments_o:\n",
    "    new_str = comment.replace(\"n't\", 'not')\n",
    "    test_comments_1.append(new_str)"
   ]
  },
  {
   "cell_type": "code",
   "execution_count": 19,
   "metadata": {},
   "outputs": [],
   "source": [
    "# Test\n",
    "# for i in range(100):\n",
    "#     print(i, \": \", train_comments_1[i])"
   ]
  },
  {
   "cell_type": "code",
   "execution_count": 20,
   "metadata": {},
   "outputs": [
    {
     "name": "stdout",
     "output_type": "stream",
     "text": [
      "punctuation removed\n"
     ]
    }
   ],
   "source": [
    "train_comments_punc = remove_punctuation(train_comments_1)\n",
    "test_comments_punc = remove_punctuation(test_comments_1)\n",
    "print(\"punctuation removed\")"
   ]
  },
  {
   "cell_type": "code",
   "execution_count": 21,
   "metadata": {},
   "outputs": [],
   "source": [
    "# Test\n",
    "# for i in range(100):\n",
    "#     print(i, \": \", train_comments_punc[i])"
   ]
  },
  {
   "cell_type": "code",
   "execution_count": 22,
   "metadata": {},
   "outputs": [
    {
     "name": "stdout",
     "output_type": "stream",
     "text": [
      "tokenized\n"
     ]
    }
   ],
   "source": [
    "train_comments_tokenized = tokenize(train_comments_punc)\n",
    "test_comments_tokenized = tokenize(test_comments_punc)\n",
    "print(\"tokenized\")"
   ]
  },
  {
   "cell_type": "code",
   "execution_count": 23,
   "metadata": {},
   "outputs": [],
   "source": [
    "# Test\n",
    "# for i in range(100):\n",
    "#     print(i, \": \", train_comments_tokenized[i])"
   ]
  },
  {
   "cell_type": "code",
   "execution_count": 24,
   "metadata": {},
   "outputs": [
    {
     "name": "stdout",
     "output_type": "stream",
     "text": [
      "stopwords removed\n"
     ]
    }
   ],
   "source": [
    "train_comments_stopwords = remove_stopwords(train_comments_tokenized)\n",
    "test_comments_stopwords = remove_stopwords(test_comments_tokenized)\n",
    "print(\"stopwords removed\")"
   ]
  },
  {
   "cell_type": "code",
   "execution_count": 25,
   "metadata": {},
   "outputs": [],
   "source": [
    "# Test\n",
    "# for i in range(100):\n",
    "#     print(i, \": \", train_comments_stopwords[i])"
   ]
  },
  {
   "cell_type": "markdown",
   "metadata": {},
   "source": [
    "### Convert training/test data in the form of sentences into integer sequences"
   ]
  },
  {
   "cell_type": "code",
   "execution_count": 26,
   "metadata": {},
   "outputs": [],
   "source": [
    "# combine all the comments to gather all the words for the vocabulary\n",
    "def combine(tokenized_comments):\n",
    "    text = []\n",
    "    for comment in tokenized_comments:\n",
    "        text += comment\n",
    "    return text\n",
    "\n",
    "all_words = combine(train_comments_stopwords) + combine(test_comments_stopwords)"
   ]
  },
  {
   "cell_type": "code",
   "execution_count": 27,
   "metadata": {},
   "outputs": [
    {
     "name": "stdout",
     "output_type": "stream",
     "text": [
      "<class 'collections.Counter'>\n"
     ]
    }
   ],
   "source": [
    "# Create your dictionary that maps vocab words to integers here\n",
    "from collections import Counter\n",
    "counts = Counter(all_words)\n",
    "print(type(counts))\n",
    "\n",
    "vocab = sorted(counts, key=counts.get, reverse=True)\n",
    "\n",
    "# Create words-to-index map. \n",
    "# Note that index start from 1\n",
    "vocab_to_int = {word:i for i, word in enumerate(vocab, 1)}"
   ]
  },
  {
   "cell_type": "code",
   "execution_count": 28,
   "metadata": {},
   "outputs": [
    {
     "name": "stdout",
     "output_type": "stream",
     "text": [
      "type of vocab <class 'list'>\n",
      "total # of words:  16547\n",
      "first word: and\n",
      "last word: hired\n",
      "first word index: 1\n",
      "last word index 16547\n"
     ]
    }
   ],
   "source": [
    "print(\"type of vocab\", type(vocab))\n",
    "print('total # of words: ', len(vocab_to_int))\n",
    "print(\"first word:\", vocab[0])\n",
    "print(\"last word:\", vocab[-1])\n",
    "print(\"first word index:\", vocab_to_int[vocab[0]])\n",
    "print(\"last word index\", vocab_to_int[vocab[-1]])"
   ]
  },
  {
   "cell_type": "code",
   "execution_count": 29,
   "metadata": {},
   "outputs": [],
   "source": [
    "# Create index-to-words map.\n",
    "index2word = {idx:word for word, idx in vocab_to_int.items()}"
   ]
  },
  {
   "cell_type": "code",
   "execution_count": 30,
   "metadata": {},
   "outputs": [],
   "source": [
    "def convert_to_int(reviews, vocab_to_int):\n",
    "    # Convert the reviews to integers, same shape as reviews list, but with integers\n",
    "    print('# of reviews before index: ', len(reviews))\n",
    "    reviews_ints = []\n",
    "    for review in reviews:\n",
    "        reviews_ints.append([vocab_to_int[word] for word in review])\n",
    "\n",
    "    print('# of reviews after index: ', len(reviews_ints))\n",
    "    return reviews_ints"
   ]
  },
  {
   "cell_type": "code",
   "execution_count": 31,
   "metadata": {},
   "outputs": [
    {
     "name": "stdout",
     "output_type": "stream",
     "text": [
      "# of reviews before index:  6920\n",
      "# of reviews after index:  6920\n"
     ]
    }
   ],
   "source": [
    "# convert the representation of training examples from text to integer\n",
    "x_train = convert_to_int(train_comments_stopwords, vocab_to_int)"
   ]
  },
  {
   "cell_type": "code",
   "execution_count": 32,
   "metadata": {},
   "outputs": [
    {
     "name": "stdout",
     "output_type": "stream",
     "text": [
      "[428, 1555, 2686, 612, 5786, 645]\n",
      "visually santa clause 2 is wondrously creative\n",
      "['visually', 'santa', 'clause', '2', 'wondrously', 'creative']\n"
     ]
    }
   ],
   "source": [
    "# Test\n",
    "print(x_train[7])\n",
    "print(train_comments_o[7])\n",
    "text = [index2word[idx] for idx in x_train[7]]\n",
    "print(text)"
   ]
  },
  {
   "cell_type": "code",
   "execution_count": 33,
   "metadata": {},
   "outputs": [
    {
     "name": "stdout",
     "output_type": "stream",
     "text": [
      "# of reviews before index:  1821\n",
      "# of reviews after index:  1821\n"
     ]
    }
   ],
   "source": [
    "# convert the representation of test examples from text to integer\n",
    "x_test = convert_to_int(test_comments_stopwords, vocab_to_int)"
   ]
  },
  {
   "cell_type": "markdown",
   "metadata": {},
   "source": [
    "### Calculate/analyze distribution over training/test example lengths\n",
    "* The purpose for this analysis is to find the best `maximum sequence length` for padding"
   ]
  },
  {
   "cell_type": "code",
   "execution_count": 34,
   "metadata": {},
   "outputs": [
    {
     "name": "stdout",
     "output_type": "stream",
     "text": [
      "Zero-length reviews: 2\n",
      "Maximum train example length: 36\n",
      "Maximum train example length: 0\n",
      "Counter({10: 465, 9: 454, 6: 436, 11: 434, 12: 432, 13: 422, 8: 414, 7: 398, 14: 368, 15: 338, 5: 335, 4: 331, 16: 286, 17: 259, 3: 252, 18: 238, 19: 189, 2: 187, 20: 140, 21: 124, 22: 86, 23: 83, 1: 54, 24: 53, 25: 53, 26: 29, 27: 23, 28: 11, 30: 9, 29: 8, 31: 3, 0: 2, 32: 2, 33: 1, 36: 1})\n"
     ]
    }
   ],
   "source": [
    "from collections import Counter\n",
    "\n",
    "# Create length to frequency map\n",
    "x_train_lens_map = Counter([len(x) for x in x_train])\n",
    "x_train_lens = [len(x) for x in x_train]\n",
    "print(\"Zero-length reviews: {}\".format(x_train_lens_map[0]))\n",
    "print(\"Maximum train example length: {}\".format(max(x_train_lens_map)))\n",
    "print(\"Maximum train example length: {}\".format(x_train_lens_map[-1]))\n",
    "print(x_train_lens_map)"
   ]
  },
  {
   "cell_type": "code",
   "execution_count": 35,
   "metadata": {},
   "outputs": [
    {
     "name": "stdout",
     "output_type": "stream",
     "text": [
      "Zero-length reviews: 0\n",
      "Maximum test example length: 31\n",
      "11.324566473988439\n",
      "11.314662273476111\n"
     ]
    }
   ],
   "source": [
    "# Create length to frequency map\n",
    "x_test_lens_map = Counter([len(x) for x in x_test])\n",
    "x_test_lens = [len(x) for x in x_test]\n",
    "print(\"Zero-length reviews: {}\".format(x_test_lens_map[0]))\n",
    "print(\"Maximum test example length: {}\".format(max(x_test_lens_map)))\n",
    "\n",
    "ave_len = 0\n",
    "for i in x_train:\n",
    "    ave_len += len(i) \n",
    "ave_len = ave_len / len(x_train)\n",
    "print(ave_len)\n",
    "\n",
    "ave_len = 0\n",
    "for i in x_test:\n",
    "    ave_len += len(i)  \n",
    "ave_len = ave_len / len(x_test)\n",
    "print(ave_len)"
   ]
  },
  {
   "cell_type": "code",
   "execution_count": 37,
   "metadata": {},
   "outputs": [
    {
     "data": {
      "image/png": "[encoded data removed]",
      "text/plain": [
       "<matplotlib.figure.Figure at 0x11f5dff98>"
      ]
     },
     "metadata": {},
     "output_type": "display_data"
    },
    {
     "data": {
      "image/png": "[encoded data removed]",
      "text/plain": [
       "<matplotlib.figure.Figure at 0x11f561d30>"
      ]
     },
     "metadata": {},
     "output_type": "display_data"
    }
   ],
   "source": [
    "import matplotlib.pyplot as plt\n",
    "plt.plot(list(x_train_lens_map.keys()), list(x_train_lens_map.values()))\n",
    "# plt.axis([1000, 1500, 0, 55])\n",
    "plt.show()\n",
    "\n",
    "plt.plot(list(x_test_lens_map.keys()), list(x_test_lens_map.values()))\n",
    "# plt.axis([1000, 1500, 0, 55])\n",
    "plt.show()"
   ]
  },
  {
   "cell_type": "markdown",
   "metadata": {},
   "source": [
    "We tried different lengths as the maximum sequence length, 36 gives us best result for now.  "
   ]
  },
  {
   "cell_type": "markdown",
   "metadata": {},
   "source": [
    "### Padding"
   ]
  },
  {
   "cell_type": "code",
   "execution_count": 38,
   "metadata": {},
   "outputs": [],
   "source": [
    "def left_padding(reviews_ints, seq_len):\n",
    "    \n",
    "    # The features created here are the data that we are going to train and test the network\n",
    "\n",
    "    # Create features with shape (len(reviews_ints), seq_len) and initialized with zeros\n",
    "    features = np.zeros((len(reviews_ints), seq_len), dtype=int)\n",
    "\n",
    "    print(features.shape)\n",
    "    # Create list holding the length for each review\n",
    "    lengths = []\n",
    "\n",
    "    # row is the review in forms of a list of integers\n",
    "    for i, row in enumerate(reviews_ints):\n",
    "\n",
    "        # left padding\n",
    "        features[i, -len(row):] = np.array(row)[:seq_len]\n",
    "        \n",
    "        # record the length of each review. This might be useful when we want to use sequence_length argument\n",
    "        # of tf.nn.dynamic_rnn(...)\n",
    "        lengths.append(len(row) if len(row) < seq_len else seq_len)\n",
    "        \n",
    "    return features, lengths"
   ]
  },
  {
   "cell_type": "code",
   "execution_count": 39,
   "metadata": {},
   "outputs": [],
   "source": [
    "# Test\n",
    "\n",
    "# sample1 = [4,6,7,2,3,5,7,8,1]\n",
    "# sample2 = [1,2,3,4,6,7,2,3,5,7]\n",
    "# sample3 = [1,2,3,4,6,7,2,3,26,1, 11, 12]\n",
    "# sample4 = [8,7,3]\n",
    "# samples = []\n",
    "# samples.append(sample1)\n",
    "# samples.append(sample2)\n",
    "# samples.append(sample3)\n",
    "# samples.append(sample4)\n",
    "# features_, lengths_ = left_padding(samples, 12)\n",
    "\n",
    "# print(features_)\n",
    "# print(lengths_)"
   ]
  },
  {
   "cell_type": "code",
   "execution_count": 40,
   "metadata": {},
   "outputs": [],
   "source": [
    "# Exclude training/test examples with 0 length. It is possible that some examples may have 0 length since we did \n",
    "# punctuation and stopword removing. \n",
    "x_train_f = []\n",
    "y_train_f = []\n",
    "for idx in range(len(x_train)):\n",
    "    if len(x_train[idx]) != 0:\n",
    "        x_train_f.append(x_train[idx])\n",
    "        y_train_f.append(train_targets[idx])\n",
    "\n",
    "x_test_f = []\n",
    "y_test_f = []\n",
    "for idx in range(len(x_test)):\n",
    "    if len(x_test[idx]) != 0:\n",
    "        x_test_f.append(x_test[idx])\n",
    "        y_test_f.append(test_targets[idx])"
   ]
  },
  {
   "cell_type": "code",
   "execution_count": 41,
   "metadata": {},
   "outputs": [
    {
     "name": "stdout",
     "output_type": "stream",
     "text": [
      "(6918, 36)\n",
      "(1821, 36)\n"
     ]
    }
   ],
   "source": [
    "# perform padding\n",
    "train_seq_len = 36\n",
    "test_seq_len = 31\n",
    "x_train_p, x_train_len = left_padding(x_train_f, train_seq_len)\n",
    "x_test_p, x_test_len = left_padding(x_test_f, train_seq_len)"
   ]
  },
  {
   "cell_type": "code",
   "execution_count": 44,
   "metadata": {},
   "outputs": [
    {
     "data": {
      "text/plain": [
       "array([[    0,     0,     0,     0,     0,     0,     0,     0,     0,\n",
       "            0,     0,     0,     0,     0,     0,     0,     0,     0,\n",
       "            0,     0,     0,     0,     0,     0,     0,     0,     0,\n",
       "        10263,   449,   961,   380,    41,   546,     1,  5586,   690],\n",
       "       [    0,     0,     0,     0,     0,     0,     0,     0,     0,\n",
       "            0,     0,     0,     0,     0,     0,     0,     0,     0,\n",
       "            0,     0,     0,     0,     0,     0,     0, 11967,   365,\n",
       "         1896,  2664,  7113,  1349,  3363,  8490,     1, 10225,   146],\n",
       "       [    0,     0,     0,     0,     0,     0,     0,     0,     0,\n",
       "            0,     0,     0,     0,     0,     0,     0,     0,     0,\n",
       "            0,     0,     0,     0,     0,     0,     0,     0,     0,\n",
       "            0,     0,     0,     0,     0,     0,  2383,   285,  7139],\n",
       "       [    0,     0,     0,     0,     0,     0,     0,     0,     0,\n",
       "            0,     0,     0,     0,     0,     0,     0,     0,     0,\n",
       "            0,     0,     0,     0,     0,     0,     0,    88,   480,\n",
       "            8,     4,   109,   144,  1386,  2501,   372,  1176,   151],\n",
       "       [    0,     0,     0,     0,     0,     0,     0,     0,     0,\n",
       "            0,     0,     0,     0,     0,     0,     0,     0,     0,\n",
       "            0,     0,     0,     0,     0,     0,     0,   694,   382,\n",
       "          307,     6,    68,   533,     4,     5,  2175,     1,     8]])"
      ]
     },
     "execution_count": 44,
     "metadata": {},
     "output_type": "execute_result"
    }
   ],
   "source": [
    "# Test\n",
    "\n",
    "x_train_p[:5,:train_seq_len]"
   ]
  },
  {
   "cell_type": "code",
   "execution_count": 45,
   "metadata": {},
   "outputs": [
    {
     "name": "stdout",
     "output_type": "stream",
     "text": [
      "8004\n",
      "735\n",
      "8004\n",
      "735\n",
      "8004\n",
      "735\n"
     ]
    }
   ],
   "source": [
    "# Add more data for training, since RNN consumes lots of data\n",
    "x_train_ = np.append(x_train_p, x_test_p[:1086], axis=0)\n",
    "x_test_ = x_test_p[1086:]\n",
    "\n",
    "y_train_ = np.array(np.append(y_train_f, y_test_f[:1086], axis=0))\n",
    "y_test_ = np.array(y_test_f[1086:])\n",
    "\n",
    "x_train_len_ = np.append(x_train_len, x_test_len[:1086], axis=0)\n",
    "x_test_len_ = x_test_len[1086:]\n",
    "\n",
    "print(len(x_train_))\n",
    "print(len(x_test_))\n",
    "print(len(y_train_))\n",
    "print(len(y_test_))\n",
    "print(len(x_train_len_))\n",
    "print(len(x_test_len_))"
   ]
  },
  {
   "cell_type": "code",
   "execution_count": 46,
   "metadata": {},
   "outputs": [],
   "source": [
    "# print(x_train_.shape)\n",
    "# print(x_test_.shape)\n",
    "# print(y_train_.shape)\n",
    "# print(y_test_.shape)"
   ]
  },
  {
   "cell_type": "code",
   "execution_count": 62,
   "metadata": {},
   "outputs": [],
   "source": [
    "def LSTM_model(input_shape, vocab_size, embedding_dim=256, rnn_units=128, dropout_prob=0.8):\n",
    "    \"\"\"\n",
    "    :param input_shape: Tuple of input shape\n",
    "    :param vocab_size: Number of unique English words in the dataset\n",
    "    :return: Keras model built, but not trained\n",
    "    \"\"\"\n",
    "    model = Sequential()\n",
    "    # Embedding layer\n",
    "    model.add(Embedding(vocab_size, embedding_dim, input_shape=input_shape[1:]))\n",
    "    # Encoder with bidirectional RNN\n",
    "    model.add(LSTM(rnn_units, activation='relu', return_sequences=False))\n",
    "    model.add(Dropout(dropout_prob))  \n",
    "    model.add(Dense(1, activation='sigmoid'))\n",
    "    \n",
    "    model.compile(optimizer='adam', loss='binary_crossentropy', metrics=['accuracy'])\n",
    "    \n",
    "    # checkpoint\n",
    "    filepath=\"weights.best.hdf5\"\n",
    "#     filepath=\"weights-improvement-{epoch:02d}-{val_acc:.2f}.hdf5\"\n",
    "    checkpoint = ModelCheckpoint(filepath, monitor='val_acc', verbose=1, save_best_only=True, mode='max')\n",
    "    callbacks_list = [checkpoint]\n",
    "    \n",
    "    return model, callbacks_list"
   ]
  },
  {
   "cell_type": "code",
   "execution_count": 63,
   "metadata": {},
   "outputs": [],
   "source": [
    "def BiLSTM_model(input_shape, vocab_size, embedding_dim=256, rnn_units=128, dropout_prob=0.8):\n",
    "    \"\"\"\n",
    "    :param input_shape: Tuple of input shape\n",
    "    :param vocab_size: Number of unique English words in the dataset\n",
    "    :return: Keras model built, but not trained\n",
    "    \"\"\"\n",
    "    model = Sequential()\n",
    "    # Embedding layer\n",
    "    model.add(Embedding(vocab_size, embedding_dim, input_shape=input_shape[1:]))\n",
    "    # Encoder with bidirectional RNN\n",
    "    model.add(Bidirectional(LSTM(rnn_units, activation='relu', return_sequences=False)))\n",
    "    model.add(Dropout(dropout_prob))  \n",
    "    model.add(Dense(1, activation='sigmoid'))\n",
    "    \n",
    "    # checkpoint\n",
    "    filepath=\"weights.best.hdf5\"\n",
    "#     filepath=\"weights-improvement-{epoch:02d}-{val_acc:.2f}.hdf5\"\n",
    "    checkpoint = ModelCheckpoint(filepath, monitor='val_acc', verbose=1, save_best_only=True, mode='max')\n",
    "    callbacks_list = [checkpoint]\n",
    "    \n",
    "    model.compile(optimizer='adam', loss='binary_crossentropy', metrics=['accuracy'])\n",
    "    return model, callbacks_list"
   ]
  },
  {
   "cell_type": "code",
   "execution_count": 64,
   "metadata": {},
   "outputs": [
    {
     "name": "stdout",
     "output_type": "stream",
     "text": [
      "---------------------------------------------------------------------\n",
      "e 256\n",
      "r 128\n",
      "d 0.7\n",
      "Using LSTM\n",
      "_________________________________________________________________\n",
      "Layer (type)                 Output Shape              Param #   \n",
      "=================================================================\n",
      "embedding_29 (Embedding)     (None, 36, 256)           4236288   \n",
      "_________________________________________________________________\n",
      "lstm_29 (LSTM)               (None, 128)               197120    \n",
      "_________________________________________________________________\n",
      "dropout_29 (Dropout)         (None, 128)               0         \n",
      "_________________________________________________________________\n",
      "dense_29 (Dense)             (None, 1)                 129       \n",
      "=================================================================\n",
      "Total params: 4,433,537\n",
      "Trainable params: 4,433,537\n",
      "Non-trainable params: 0\n",
      "_________________________________________________________________\n",
      "None\n",
      "Train on 7203 samples, validate on 801 samples\n",
      "Epoch 1/10\n",
      "7203/7203 [==============================] - 22s 3ms/step - loss: 0.6895 - acc: 0.5227 - val_loss: 0.6861 - val_acc: 0.4931\n",
      "\n",
      "Epoch 00001: val_acc improved from -inf to 0.49313, saving model to weights.best.hdf5\n",
      "Epoch 2/10\n",
      "7203/7203 [==============================] - 19s 3ms/step - loss: 0.6405 - acc: 0.6047 - val_loss: 0.5934 - val_acc: 0.7503\n",
      "\n",
      "Epoch 00002: val_acc improved from 0.49313 to 0.75031, saving model to weights.best.hdf5\n",
      "Epoch 3/10\n",
      "7203/7203 [==============================] - 17s 2ms/step - loss: 0.4865 - acc: 0.8478 - val_loss: 0.6143 - val_acc: 0.7828\n",
      "\n",
      "Epoch 00003: val_acc improved from 0.75031 to 0.78277, saving model to weights.best.hdf5\n",
      "Epoch 4/10\n",
      "7203/7203 [==============================] - 14s 2ms/step - loss: 0.3228 - acc: 0.8971 - val_loss: 0.6028 - val_acc: 0.7516\n",
      "\n",
      "Epoch 00004: val_acc did not improve from 0.78277\n",
      "Epoch 5/10\n",
      "7203/7203 [==============================] - 13s 2ms/step - loss: 0.2613 - acc: 0.9349 - val_loss: 0.6321 - val_acc: 0.8127\n",
      "\n",
      "Epoch 00005: val_acc improved from 0.78277 to 0.81273, saving model to weights.best.hdf5\n",
      "Epoch 6/10\n",
      "7203/7203 [==============================] - 13s 2ms/step - loss: 0.1590 - acc: 0.9588 - val_loss: 0.9075 - val_acc: 0.7953\n",
      "\n",
      "Epoch 00006: val_acc did not improve from 0.81273\n",
      "Epoch 7/10\n",
      "7203/7203 [==============================] - 17s 2ms/step - loss: 0.1185 - acc: 0.9753 - val_loss: 0.7688 - val_acc: 0.8027\n",
      "\n",
      "Epoch 00007: val_acc did not improve from 0.81273\n",
      "Epoch 8/10\n",
      "7203/7203 [==============================] - 23s 3ms/step - loss: 0.1118 - acc: 0.9758 - val_loss: 0.8829 - val_acc: 0.7678\n",
      "\n",
      "Epoch 00008: val_acc did not improve from 0.81273\n",
      "Epoch 9/10\n",
      "7203/7203 [==============================] - 18s 3ms/step - loss: 0.1063 - acc: 0.9776 - val_loss: 0.6486 - val_acc: 0.7815\n",
      "\n",
      "Epoch 00009: val_acc did not improve from 0.81273\n",
      "Epoch 10/10\n",
      "7203/7203 [==============================] - 17s 2ms/step - loss: 0.0707 - acc: 0.9861 - val_loss: 0.7621 - val_acc: 0.7840\n",
      "\n",
      "Epoch 00010: val_acc did not improve from 0.81273\n",
      "['loss', 'acc']\n",
      "735/735 [==============================] - 6s 8ms/step\n",
      "[0.5689275536407419, 0.8081632730912189]\n",
      "---------------------------------------------------------------------\n",
      "e 256\n",
      "r 128\n",
      "d 0.8\n",
      "Using LSTM\n",
      "_________________________________________________________________\n",
      "Layer (type)                 Output Shape              Param #   \n",
      "=================================================================\n",
      "embedding_30 (Embedding)     (None, 36, 256)           4236288   \n",
      "_________________________________________________________________\n",
      "lstm_30 (LSTM)               (None, 128)               197120    \n",
      "_________________________________________________________________\n",
      "dropout_30 (Dropout)         (None, 128)               0         \n",
      "_________________________________________________________________\n",
      "dense_30 (Dense)             (None, 1)                 129       \n",
      "=================================================================\n",
      "Total params: 4,433,537\n",
      "Trainable params: 4,433,537\n",
      "Non-trainable params: 0\n",
      "_________________________________________________________________\n",
      "None\n",
      "Train on 7203 samples, validate on 801 samples\n",
      "Epoch 1/10\n",
      "7203/7203 [==============================] - 23s 3ms/step - loss: 0.6907 - acc: 0.5209 - val_loss: 0.6883 - val_acc: 0.4969\n",
      "\n",
      "Epoch 00001: val_acc improved from -inf to 0.49688, saving model to weights.best.hdf5\n",
      "Epoch 2/10\n",
      "7203/7203 [==============================] - 14s 2ms/step - loss: 0.6672 - acc: 0.5592 - val_loss: 0.6409 - val_acc: 0.6055\n",
      "\n",
      "Epoch 00002: val_acc improved from 0.49688 to 0.60549, saving model to weights.best.hdf5\n",
      "Epoch 3/10\n",
      "7203/7203 [==============================] - 20s 3ms/step - loss: 0.5412 - acc: 0.7729 - val_loss: 0.5065 - val_acc: 0.8065\n",
      "\n",
      "Epoch 00003: val_acc improved from 0.60549 to 0.80649, saving model to weights.best.hdf5\n",
      "Epoch 4/10\n",
      "7203/7203 [==============================] - 21s 3ms/step - loss: 0.3314 - acc: 0.9080 - val_loss: 0.6296 - val_acc: 0.8177\n",
      "\n",
      "Epoch 00004: val_acc improved from 0.80649 to 0.81773, saving model to weights.best.hdf5\n",
      "Epoch 5/10\n",
      "7203/7203 [==============================] - 14s 2ms/step - loss: 0.2130 - acc: 0.9450 - val_loss: 0.9562 - val_acc: 0.7940\n",
      "\n",
      "Epoch 00005: val_acc did not improve from 0.81773\n",
      "Epoch 6/10\n",
      "7203/7203 [==============================] - 13s 2ms/step - loss: 0.1429 - acc: 0.9653 - val_loss: 0.8515 - val_acc: 0.7990\n",
      "\n",
      "Epoch 00006: val_acc did not improve from 0.81773\n",
      "Epoch 7/10\n",
      "7203/7203 [==============================] - 14s 2ms/step - loss: 0.1050 - acc: 0.9754 - val_loss: 0.5612 - val_acc: 0.7903\n",
      "\n",
      "Epoch 00007: val_acc did not improve from 0.81773\n",
      "Epoch 8/10\n",
      "7203/7203 [==============================] - 13s 2ms/step - loss: 0.0899 - acc: 0.9818 - val_loss: 1.2268 - val_acc: 0.7803\n",
      "\n",
      "Epoch 00008: val_acc did not improve from 0.81773\n",
      "Epoch 9/10\n",
      "7203/7203 [==============================] - 14s 2ms/step - loss: 0.0685 - acc: 0.9857 - val_loss: 1.4735 - val_acc: 0.7778\n",
      "\n",
      "Epoch 00009: val_acc did not improve from 0.81773\n",
      "Epoch 10/10\n",
      "7203/7203 [==============================] - 14s 2ms/step - loss: 0.0546 - acc: 0.9883 - val_loss: 1.5825 - val_acc: 0.7690\n",
      "\n",
      "Epoch 00010: val_acc did not improve from 0.81773\n",
      "['loss', 'acc']\n",
      "735/735 [==============================] - 4s 5ms/step\n",
      "[0.6176379237856183, 0.8149659962070231]\n",
      "---------------------------------------------------------------------\n",
      "e 256\n",
      "r 256\n",
      "d 0.7\n",
      "Using LSTM\n",
      "_________________________________________________________________\n",
      "Layer (type)                 Output Shape              Param #   \n",
      "=================================================================\n",
      "embedding_31 (Embedding)     (None, 36, 256)           4236288   \n",
      "_________________________________________________________________\n",
      "lstm_31 (LSTM)               (None, 256)               525312    \n",
      "_________________________________________________________________\n",
      "dropout_31 (Dropout)         (None, 256)               0         \n",
      "_________________________________________________________________\n",
      "dense_31 (Dense)             (None, 1)                 257       \n",
      "=================================================================\n",
      "Total params: 4,761,857\n",
      "Trainable params: 4,761,857\n",
      "Non-trainable params: 0\n",
      "_________________________________________________________________\n",
      "None\n",
      "Train on 7203 samples, validate on 801 samples\n",
      "Epoch 1/10\n",
      "7203/7203 [==============================] - 28s 4ms/step - loss: 0.6900 - acc: 0.5351 - val_loss: 0.6850 - val_acc: 0.4981\n",
      "\n",
      "Epoch 00001: val_acc improved from -inf to 0.49813, saving model to weights.best.hdf5\n",
      "Epoch 2/10\n",
      "7203/7203 [==============================] - 23s 3ms/step - loss: 0.6316 - acc: 0.6511 - val_loss: 0.5460 - val_acc: 0.7753\n",
      "\n",
      "Epoch 00002: val_acc improved from 0.49813 to 0.77528, saving model to weights.best.hdf5\n",
      "Epoch 3/10\n",
      "7203/7203 [==============================] - 24s 3ms/step - loss: 0.4147 - acc: 0.8634 - val_loss: 0.6292 - val_acc: 0.8052\n",
      "\n",
      "Epoch 00003: val_acc improved from 0.77528 to 0.80524, saving model to weights.best.hdf5\n",
      "Epoch 4/10\n",
      "7203/7203 [==============================] - 23s 3ms/step - loss: 0.2181 - acc: 0.9360 - val_loss: 0.6918 - val_acc: 0.8227\n",
      "\n",
      "Epoch 00004: val_acc improved from 0.80524 to 0.82272, saving model to weights.best.hdf5\n"
     ]
    },
    {
     "name": "stdout",
     "output_type": "stream",
     "text": [
      "Epoch 5/10\n",
      "7203/7203 [==============================] - 25s 3ms/step - loss: 0.2024 - acc: 0.9500 - val_loss: 0.4522 - val_acc: 0.7978\n",
      "\n",
      "Epoch 00005: val_acc did not improve from 0.82272\n",
      "Epoch 6/10\n",
      "7203/7203 [==============================] - 29s 4ms/step - loss: 0.1489 - acc: 0.9731 - val_loss: 0.8003 - val_acc: 0.8077\n",
      "\n",
      "Epoch 00006: val_acc did not improve from 0.82272\n",
      "Epoch 7/10\n",
      "7203/7203 [==============================] - 27s 4ms/step - loss: 0.0765 - acc: 0.9833 - val_loss: 0.5427 - val_acc: 0.7865\n",
      "\n",
      "Epoch 00007: val_acc did not improve from 0.82272\n",
      "Epoch 8/10\n",
      "7203/7203 [==============================] - 24s 3ms/step - loss: 0.0518 - acc: 0.9875 - val_loss: 0.8939 - val_acc: 0.7790\n",
      "\n",
      "Epoch 00008: val_acc did not improve from 0.82272\n",
      "Epoch 9/10\n",
      "7203/7203 [==============================] - 26s 4ms/step - loss: 0.0313 - acc: 0.9908 - val_loss: 0.9980 - val_acc: 0.7915\n",
      "\n",
      "Epoch 00009: val_acc did not improve from 0.82272\n",
      "Epoch 10/10\n",
      "7203/7203 [==============================] - 24s 3ms/step - loss: 0.0205 - acc: 0.9944 - val_loss: 1.2998 - val_acc: 0.7753\n",
      "\n",
      "Epoch 00010: val_acc did not improve from 0.82272\n",
      "['loss', 'acc']\n",
      "735/735 [==============================] - 4s 6ms/step\n",
      "[0.7368396480067246, 0.8108843674465102]\n",
      "---------------------------------------------------------------------\n",
      "e 256\n",
      "r 256\n",
      "d 0.8\n",
      "Using LSTM\n",
      "_________________________________________________________________\n",
      "Layer (type)                 Output Shape              Param #   \n",
      "=================================================================\n",
      "embedding_32 (Embedding)     (None, 36, 256)           4236288   \n",
      "_________________________________________________________________\n",
      "lstm_32 (LSTM)               (None, 256)               525312    \n",
      "_________________________________________________________________\n",
      "dropout_32 (Dropout)         (None, 256)               0         \n",
      "_________________________________________________________________\n",
      "dense_32 (Dense)             (None, 1)                 257       \n",
      "=================================================================\n",
      "Total params: 4,761,857\n",
      "Trainable params: 4,761,857\n",
      "Non-trainable params: 0\n",
      "_________________________________________________________________\n",
      "None\n",
      "Train on 7203 samples, validate on 801 samples\n",
      "Epoch 1/10\n",
      "7203/7203 [==============================] - 45s 6ms/step - loss: 0.6902 - acc: 0.5295 - val_loss: 0.6853 - val_acc: 0.4956\n",
      "\n",
      "Epoch 00001: val_acc improved from -inf to 0.49563, saving model to weights.best.hdf5\n",
      "Epoch 2/10\n",
      "7203/7203 [==============================] - 32s 4ms/step - loss: 0.6371 - acc: 0.6356 - val_loss: 0.5949 - val_acc: 0.7603\n",
      "\n",
      "Epoch 00002: val_acc improved from 0.49563 to 0.76030, saving model to weights.best.hdf5\n",
      "Epoch 3/10\n",
      "7203/7203 [==============================] - 26s 4ms/step - loss: 0.4583 - acc: 0.8423 - val_loss: 0.5675 - val_acc: 0.7366\n",
      "\n",
      "Epoch 00003: val_acc did not improve from 0.76030\n",
      "Epoch 4/10\n",
      "7203/7203 [==============================] - 24s 3ms/step - loss: 0.3484 - acc: 0.9120 - val_loss: 0.5352 - val_acc: 0.8065\n",
      "\n",
      "Epoch 00004: val_acc improved from 0.76030 to 0.80649, saving model to weights.best.hdf5\n",
      "Epoch 5/10\n",
      "7203/7203 [==============================] - 29s 4ms/step - loss: 0.1811 - acc: 0.9470 - val_loss: 0.5983 - val_acc: 0.8065\n",
      "\n",
      "Epoch 00005: val_acc did not improve from 0.80649\n",
      "Epoch 6/10\n",
      "7203/7203 [==============================] - 31s 4ms/step - loss: 0.1683 - acc: 0.9617 - val_loss: 0.7462 - val_acc: 0.7903\n",
      "\n",
      "Epoch 00006: val_acc did not improve from 0.80649\n",
      "Epoch 7/10\n",
      "7203/7203 [==============================] - 33s 5ms/step - loss: 0.1220 - acc: 0.9731 - val_loss: 0.9501 - val_acc: 0.7890\n",
      "\n",
      "Epoch 00007: val_acc did not improve from 0.80649\n",
      "Epoch 8/10\n",
      "7203/7203 [==============================] - 33s 5ms/step - loss: 0.0885 - acc: 0.9799 - val_loss: 1.1210 - val_acc: 0.8015\n",
      "\n",
      "Epoch 00008: val_acc did not improve from 0.80649\n",
      "Epoch 9/10\n",
      "7203/7203 [==============================] - 27s 4ms/step - loss: 0.0818 - acc: 0.9804 - val_loss: 0.9051 - val_acc: 0.7878\n",
      "\n",
      "Epoch 00009: val_acc did not improve from 0.80649\n",
      "Epoch 10/10\n",
      "7203/7203 [==============================] - 28s 4ms/step - loss: 0.0677 - acc: 0.9863 - val_loss: 1.0440 - val_acc: 0.7940\n",
      "\n",
      "Epoch 00010: val_acc did not improve from 0.80649\n",
      "['loss', 'acc']\n",
      "735/735 [==============================] - 4s 6ms/step\n",
      "[0.5063963309437239, 0.8217687124297732]\n"
     ]
    }
   ],
   "source": [
    "vocab_size = len(vocab_to_int) + 1\n",
    "\n",
    "# Grid Search for \"best\" model\n",
    "# embedding_dims = [256, 300]\n",
    "embedding_dims = [256]\n",
    "rnn_units = [128, 256]\n",
    "dropout_probs = [0.7, 0.8]\n",
    "using_biLSTM = False\n",
    "\n",
    "for e in embedding_dims:\n",
    "    for r in rnn_units:\n",
    "        for d in dropout_probs:\n",
    "            print(\"---------------------------------------------------------------------\")\n",
    "            print(\"e\", e)\n",
    "            print(\"r\", r)\n",
    "            print(\"d\", d)\n",
    "            \n",
    "            # test LSTM, BiLSTM\n",
    "            if using_biLSTM:\n",
    "                print('Using BiLSTM')\n",
    "                custom_rnn_model, callbacks_list = BiLSTM_model(x_train_.shape, vocab_size, e, r, d)\n",
    "            else:\n",
    "                print('Using LSTM')\n",
    "                custom_rnn_model, callbacks_list = LSTM_model(x_train_.shape, vocab_size, e, r, d)\n",
    "            print(custom_rnn_model.summary())\n",
    "            custom_rnn_model.fit(x_train_, y_train_, batch_size=400, epochs=10, validation_split=0.1, callbacks=callbacks_list,)\n",
    "            print(custom_rnn_model.metrics_names)\n",
    "            \n",
    "            custom_rnn_model.load_weights(\"weights.best.hdf5\")\n",
    "            custom_rnn_model.compile(optimizer='adam', loss='binary_crossentropy', metrics=['accuracy'])\n",
    "            result = custom_rnn_model.evaluate(x=x_test_, y=y_test_, batch_size=200)\n",
    "            print(result)"
   ]
  },
  {
   "cell_type": "code",
   "execution_count": null,
   "metadata": {},
   "outputs": [],
   "source": []
  }
 ],
 "metadata": {
  "kernelspec": {
   "display_name": "Python 3",
   "language": "python",
   "name": "python3"
  },
  "language_info": {
   "codemirror_mode": {
    "name": "ipython",
    "version": 3
   },
   "file_extension": ".py",
   "mimetype": "text/x-python",
   "name": "python",
   "nbconvert_exporter": "python",
   "pygments_lexer": "ipython3",
   "version": "3.4.4"
  }
 },
 "nbformat": 4,
 "nbformat_minor": 2
}
