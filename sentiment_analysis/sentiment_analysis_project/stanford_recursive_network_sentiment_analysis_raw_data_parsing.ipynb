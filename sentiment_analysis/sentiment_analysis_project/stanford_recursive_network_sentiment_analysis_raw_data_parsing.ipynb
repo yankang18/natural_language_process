{
 "cells": [
  {
   "cell_type": "markdown",
   "metadata": {},
   "source": [
    "# Parse Raw Data"
   ]
  },
  {
   "cell_type": "markdown",
   "metadata": {},
   "source": [
    "In this notebook, we will parse sentiment analysis raw data in the form of serialized tree structure into integer sequences, which will be used for training our models later.\n",
    "\n",
    "* An example of a raw data point is like:\n",
    "\n",
    "```\n",
    "(4 (4 (2 Enormously) (3 (4 entertaining) (4 (2 for) (3 (2 moviegoers) (2 (2 of) (3 (2 any) (2 age))))))) (2 .))\n",
    "```\n",
    "\n",
    "* After being parsed, the above raw data point is transformed into four integer sequences\n",
    "    * `word index sequence`: [0, 1, 2, 3, 4, 5, 6, -1, -1, -1, -1, -1, -1, 7, -1],\n",
    "    * `parent index sequece`: [12, 11, 10, 9, 8, 7, 7, 8, 9, 10, 11, 12, 14, 14, -1], \n",
    "    * `relation indicator sequence`: [0, 0, 0, 0, 0, 0, 1, 1, 1, 1, 1, 1, 0, 1, -1], \n",
    "    * `label sequence`: [-1, 1, -1, -1, -1, -1, -1, 1, -1, 1, 1, 1, 1, -1, 1])\n",
    "    \n",
    "    \n",
    "* Note that we will use all the four sequences only when we are training Recursive Neural Network. For training Recurrent Neural Netword and Benchmark Model, we only use the `word index sequence` and `label sequence`. This is because only Recursive Neural Network would exploits parent-children relationship when training."
   ]
  },
  {
   "cell_type": "code",
   "execution_count": 5,
   "metadata": {},
   "outputs": [],
   "source": [
    "import numpy as np\n",
    "import sys\n",
    "import string\n",
    "import json\n",
    "\n",
    "from nltk.tokenize import sent_tokenize, word_tokenize\n",
    "from nltk.corpus import stopwords"
   ]
  },
  {
   "cell_type": "markdown",
   "metadata": {},
   "source": [
    "## Define data parsing class"
   ]
  },
  {
   "cell_type": "markdown",
   "metadata": {},
   "source": [
    "** Define class `TreeNode` that transforms each serialized training/test example into a tree structure **"
   ]
  },
  {
   "cell_type": "code",
   "execution_count": 14,
   "metadata": {},
   "outputs": [],
   "source": [
    "class TreeNode:\n",
    "    def __init__(self):\n",
    "        self.wordidx = -1\n",
    "        self.label = -1\n",
    "        self.idx = -1\n",
    "        \n",
    "    def parse(self, line, startIdx, word2idx):\n",
    "        \"\"\"\n",
    "         Parses segment of the character array to a tree node. The parse starts from the specified\n",
    "         index and returns the end index when the parsing completes.\n",
    "         \n",
    "         @param line the character array to parse\n",
    "         @param startIdx start index of the array to parse\n",
    "         @param word2idx \n",
    "         @return the end index of the array when completing the array\n",
    "        \"\"\"\n",
    "        self.label = int(line[startIdx])\n",
    "        \n",
    "        self.children = []\n",
    "        cword = []\n",
    "        idx = startIdx + 1\n",
    "        while idx < len(line):\n",
    "            if line[idx] == '(':\n",
    "                tn = TreeNode()\n",
    "                self.children.append(tn)\n",
    "                idx = tn.parse(line, idx + 1, word2idx) + 1\n",
    "            elif line[idx] ==')':\n",
    "                temp = ''.join(cword).strip()\n",
    "                word = temp if len(temp) > 0 else None\n",
    "                if word != None:\n",
    "                    word = word.lower()\n",
    "                    if word not in word2idx:\n",
    "                        word2idx[word] = len(word2idx)\n",
    "                    self.wordidx = word2idx[word]\n",
    "                return idx\n",
    "            else:\n",
    "                cword.append(line[idx])\n",
    "                idx += 1\n",
    "        \n",
    "        return -1\n",
    "        "
   ]
  },
  {
   "cell_type": "markdown",
   "metadata": {},
   "source": [
    "** Define function `add_idx_to_tree` that adds index to each node of a given tree **"
   ]
  },
  {
   "cell_type": "code",
   "execution_count": 15,
   "metadata": {},
   "outputs": [],
   "source": [
    "def add_idx_to_tree(tree, current_idx):\n",
    "    if tree is None:\n",
    "        return current_idx\n",
    "    \n",
    "    num_children = len(tree.children)\n",
    "    if num_children > 0 :\n",
    "        current_idx = add_idx_to_tree(tree.children[0], current_idx)\n",
    "        current_idx = add_idx_to_tree(tree.children[1], current_idx)\n",
    "    \n",
    "    tree.idx = current_idx\n",
    "    current_idx+=1\n",
    "    return current_idx"
   ]
  },
  {
   "cell_type": "code",
   "execution_count": 16,
   "metadata": {},
   "outputs": [
    {
     "data": {
      "text/plain": [
       "11"
      ]
     },
     "execution_count": 16,
     "metadata": {},
     "output_type": "execute_result"
    }
   ],
   "source": [
    "add_idx_to_tree(root, 0)"
   ]
  },
  {
   "cell_type": "markdown",
   "metadata": {},
   "source": [
    "** Define function `tree2list` that transforms each tree into 4 integer sequences **\n",
    "* The 4 sequences are: words, parents, relations, labels\n",
    "* The 4 sequences as a whole represents a training/test example"
   ]
  },
  {
   "cell_type": "code",
   "execution_count": 17,
   "metadata": {},
   "outputs": [],
   "source": [
    "def tree2list(tree, parent_idx, is_binary=False, is_left=False, is_right=False):\n",
    "    if tree is None:\n",
    "        return [], [], [], []\n",
    "    \n",
    "    w = tree.wordidx\n",
    "    if is_left:\n",
    "        r = 0\n",
    "    elif is_right:\n",
    "        r = 1\n",
    "    else:\n",
    "        r = -1\n",
    "     \n",
    "    num_children = len(tree.children)\n",
    "    if num_children > 0 :\n",
    "        left = tree.children[0]\n",
    "        right = tree.children[1] \n",
    "    else:\n",
    "        left = None\n",
    "        right = None\n",
    "        \n",
    "    words_left, parents_left, relations_left, labels_left = tree2list(left, tree.idx, is_binary, is_left=True)\n",
    "    words_right, parents_right, relations_right, labels_right = tree2list(right, tree.idx, is_binary, is_right=True)\n",
    "        \n",
    "    words = words_left + words_right + [w]\n",
    "    parents = parents_left + parents_right + [parent_idx]\n",
    "    relations = relations_left + relations_right + [r]\n",
    "    if is_binary:\n",
    "        if tree.label > 2:\n",
    "            label = 1\n",
    "        elif tree.label < 2:\n",
    "            label = 0\n",
    "        else:\n",
    "            label = -1\n",
    "    else:\n",
    "        label = tree.label\n",
    "    labels = labels_left + labels_right + [label]\n",
    "    \n",
    "    return words, parents, relations, labels"
   ]
  },
  {
   "cell_type": "code",
   "execution_count": 18,
   "metadata": {},
   "outputs": [
    {
     "name": "stdout",
     "output_type": "stream",
     "text": [
      "[0, 1, 2, -1, 3, -1, 4, -1, -1, 5, -1]\n",
      "[8, 3, 3, 5, 5, 7, 7, 8, 10, 10, -1]\n",
      "[0, 0, 1, 0, 1, 0, 1, 1, 0, 1, -1]\n",
      "[-1, -1, -1, -1, 1, 1, -1, 1, 1, -1, 1]\n"
     ]
    }
   ],
   "source": [
    "# Test\n",
    "wordidx, parents, relations, labels = tree2list(root, -1, is_binary=True)\n",
    "print(wordidx)\n",
    "print(parents)\n",
    "print(relations)\n",
    "print(labels)"
   ]
  },
  {
   "cell_type": "code",
   "execution_count": 19,
   "metadata": {},
   "outputs": [],
   "source": [
    "def save_data(data=None, data_file=None):\n",
    "    if data == None or data_file == None:\n",
    "        return\n",
    "    with open(data_file, 'w') as f:\n",
    "        json.dump(data, f)"
   ]
  },
  {
   "cell_type": "markdown",
   "metadata": {},
   "source": [
    "**Test Saving Data**"
   ]
  },
  {
   "cell_type": "code",
   "execution_count": 20,
   "metadata": {},
   "outputs": [
    {
     "name": "stdout",
     "output_type": "stream",
     "text": [
      "{'enormously': 0, 'entertaining': 1, 'for': 2, 'moviegoers': 3, 'of': 4, 'any': 5, 'age': 6, '.': 7, 'a': 8, 'deep': 9, 'and': 10, 'meaningful': 11, 'film': 12}\n",
      "{0: ([0, 1, 2, 3, 4, 5, 6, -1, -1, -1, -1, -1, -1, 7, -1], [12, 11, 10, 9, 8, 7, 7, 8, 9, 10, 11, 12, 14, 14, -1], [0, 0, 0, 0, 0, 0, 1, 1, 1, 1, 1, 1, 0, 1, -1], [-1, 1, -1, -1, -1, -1, -1, 1, -1, 1, 1, 1, 1, -1, 1]), 1: ([8, 9, 10, -1, 11, -1, 12, -1, -1, 7, -1], [8, 3, 3, 5, 5, 7, 7, 8, 10, 10, -1], [0, 0, 1, 0, 1, 0, 1, 1, 0, 1, -1], [-1, -1, -1, -1, 1, 1, -1, 1, 1, -1, 1])}\n",
      "{0: ([0, 1, 2, 3, 4, 5, 6, -1, -1, -1, -1, -1, -1, 7, -1], [12, 11, 10, 9, 8, 7, 7, 8, 9, 10, 11, 12, 14, 14, -1], [0, 0, 0, 0, 0, 0, 1, 1, 1, 1, 1, 1, 0, 1, -1], [2, 4, 2, 2, 2, 2, 2, 3, 2, 3, 4, 3, 4, 2, 4]), 1: ([8, 9, 10, -1, 11, -1, 12, -1, -1, 7, -1], [8, 3, 3, 5, 5, 7, 7, 8, 10, 10, -1], [0, 0, 1, 0, 1, 0, 1, 1, 0, 1, -1], [2, 2, 2, 2, 3, 4, 2, 4, 3, 2, 4])}\n",
      "Saved\n"
     ]
    }
   ],
   "source": [
    "#Test\n",
    "\n",
    "input1 = \"(4 (4 (2 Enormously) (3 (4 entertaining) (4 (2 for) (3 (2 moviegoers) (2 (2 of) (3 (2 any) (2 age))))))) (2 .))\"\n",
    "input2 = \"(4 (3 (2 A) (4 (4 (2 (2 deep) (2 and)) (3 meaningful)) (2 film))) (2 .))\"\n",
    "\n",
    "# Parse raw data and store parsed data\n",
    "word2idx = {}\n",
    "train = []\n",
    "t1 = TreeNode();\n",
    "t1.parse(input1, 1, word2idx)\n",
    "train.append(t1)\n",
    "\n",
    "t2 = TreeNode();\n",
    "t2.parse(input2, 1, word2idx)\n",
    "train.append(t2)\n",
    "\n",
    "for t in train:\n",
    "    add_idx_to_tree(t, 0)\n",
    "\n",
    "train_b = {idx : tree2list(t, -1, is_binary=True) for t, idx in zip(train, range(len(train)))}\n",
    "train = {idx : tree2list(t, -1, is_binary=False) for t, idx in zip(train, range(len(train)))}\n",
    "\n",
    "print(word2idx)\n",
    "print(train_b)\n",
    "print(train)\n",
    "\n",
    "save_data(word2idx, \"./data/test_saving/sentiment_word2idx.json\")\n",
    "save_data(train_b, \"./data/test_saving/sentiment_binary_train.json\")\n",
    "save_data(train, \"./data/test_saving/sentiment_train.json\")\n",
    "# print(train[0])\n",
    "print(\"Saved\")"
   ]
  },
  {
   "cell_type": "markdown",
   "metadata": {},
   "source": [
    "## Starting parsing raw data"
   ]
  },
  {
   "cell_type": "code",
   "execution_count": 21,
   "metadata": {},
   "outputs": [
    {
     "name": "stdout",
     "output_type": "stream",
     "text": [
      "8544\n",
      "2210\n",
      "finished\n"
     ]
    }
   ],
   "source": [
    "word2idx = {}\n",
    "train = []\n",
    "test = []\n",
    "folder_read = './data/large_files/stanford_sentiment/trees/'\n",
    "folder_write = './data/large_files/stanford_sentiment/parsed_data/'\n",
    "\n",
    "# Parse raw data and store parsed data\n",
    "for line in open(folder_read + 'train.txt'):\n",
    "    line = line.rstrip()\n",
    "    if line:\n",
    "        t = TreeNode();\n",
    "        t.parse(line, 1, word2idx)\n",
    "        train.append(t)\n",
    "\n",
    "for line in open(folder_read + 'test.txt'):\n",
    "    line = line.rstrip()\n",
    "    if line:\n",
    "        t = TreeNode();\n",
    "        t.parse(line, 1, word2idx)\n",
    "        test.append(t)\n",
    "\n",
    "for t in train:\n",
    "    add_idx_to_tree(t, 0)\n",
    "train_b = {idx : tree2list(t, -1, is_binary=True) for t, idx in zip(train, range(len(train)))}\n",
    "train = {idx : tree2list(t, -1, is_binary=False) for t, idx in zip(train, range(len(train)))}\n",
    "\n",
    "for t in test:\n",
    "    add_idx_to_tree(t, 0)\n",
    "test_b = {idx : tree2list(t, -1, is_binary=True) for t, idx in zip(test, range(len(test)))}\n",
    "test = {idx : tree2list(t, -1, is_binary=False) for t, idx in zip(test, range(len(test)))}\n",
    "\n",
    "print(len(train_b))\n",
    "print(len(test_b))\n",
    "\n",
    "# print(len(word2idx)\n",
    "print(\"finished\")"
   ]
  },
  {
   "cell_type": "markdown",
   "metadata": {},
   "source": [
    "## Save data for future use"
   ]
  },
  {
   "cell_type": "code",
   "execution_count": 22,
   "metadata": {},
   "outputs": [
    {
     "name": "stdout",
     "output_type": "stream",
     "text": [
      "Start Saving Data RNTN ...\n",
      "Data Saving Finished\n"
     ]
    }
   ],
   "source": [
    "print(\"Start Saving Data RNTN ...\")\n",
    "save_data(word2idx, folder_write + \"sentiment_word2idx.json\")\n",
    "save_data(train_b, folder_write + \"sentiment_binary_train.json\")\n",
    "save_data(train, folder_write + \"sentiment_train.json\")\n",
    "save_data(test_b, folder_write + \"sentiment_binary_test.json\")\n",
    "save_data(test, folder_write + \"sentiment_test.json\")\n",
    "print(\"Data Saving Finished\")"
   ]
  },
  {
   "cell_type": "code",
   "execution_count": null,
   "metadata": {},
   "outputs": [],
   "source": []
  }
 ],
 "metadata": {
  "kernelspec": {
   "display_name": "Python 3",
   "language": "python",
   "name": "python3"
  },
  "language_info": {
   "codemirror_mode": {
    "name": "ipython",
    "version": 3
   },
   "file_extension": ".py",
   "mimetype": "text/x-python",
   "name": "python",
   "nbconvert_exporter": "python",
   "pygments_lexer": "ipython3",
   "version": "3.6.5"
  }
 },
 "nbformat": 4,
 "nbformat_minor": 2
}
