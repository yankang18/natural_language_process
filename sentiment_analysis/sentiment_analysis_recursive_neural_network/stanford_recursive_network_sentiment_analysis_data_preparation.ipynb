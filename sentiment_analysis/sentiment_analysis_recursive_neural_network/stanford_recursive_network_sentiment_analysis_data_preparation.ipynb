{
 "cells": [
  {
   "cell_type": "code",
   "execution_count": 8,
   "metadata": {},
   "outputs": [],
   "source": [
    "import numpy as np\n",
    "import sys\n",
    "import string\n",
    "import json\n",
    "\n",
    "from nltk.tokenize import sent_tokenize, word_tokenize\n",
    "from nltk.corpus import stopwords"
   ]
  },
  {
   "cell_type": "code",
   "execution_count": 144,
   "metadata": {
    "collapsed": true
   },
   "outputs": [],
   "source": [
    "class TreeNode:\n",
    "    def __init__(self):\n",
    "        self.wordidx = -1\n",
    "        self.label = -1\n",
    "        self.idx = -1\n",
    "        \n",
    "    def parse(self, line, startIdx, word2idx):\n",
    "        \"\"\"\n",
    "         Parses segment of the character array to a tree node. The parse starts from the specified\n",
    "         index and returns the end index when the parsing completes.\n",
    "         \n",
    "         @param line the character array to parse\n",
    "         @param startIdx start index of the array to parse\n",
    "         @param word2idx \n",
    "         @return the end index of the array when completing the array\n",
    "        \"\"\"\n",
    "        self.label = int(line[startIdx])\n",
    "        \n",
    "        self.children = []\n",
    "        cword = []\n",
    "        idx = startIdx + 1\n",
    "        while idx < len(line):\n",
    "            if line[idx] == '(':\n",
    "                tn = TreeNode()\n",
    "                self.children.append(tn)\n",
    "                idx = tn.parse(line, idx + 1, word2idx) + 1\n",
    "            elif line[idx] ==')':\n",
    "                temp = ''.join(cword).strip()\n",
    "                word = temp if len(temp) > 0 else None\n",
    "                if word != None:\n",
    "                    word = word.lower()\n",
    "                    if word not in word2idx:\n",
    "                        word2idx[word] = len(word2idx)\n",
    "                    self.wordidx = word2idx[word]\n",
    "                return idx\n",
    "            else:\n",
    "                cword.append(line[idx])\n",
    "                idx += 1\n",
    "        \n",
    "        return -1\n",
    "        "
   ]
  },
  {
   "cell_type": "code",
   "execution_count": 145,
   "metadata": {
    "collapsed": true
   },
   "outputs": [],
   "source": [
    "import queue\n",
    "from queue import Queue\n",
    "\n",
    "def bfs(root):\n",
    "    \n",
    "    queue = Queue()\n",
    "    queue.put(root)\n",
    "    curr_num = 1\n",
    "    next_num = 0\n",
    "    \n",
    "    level_tracker = []\n",
    "    while not queue.empty():\n",
    "        t = queue.get()\n",
    "        level_tracker.append(t)\n",
    "        curr_num -= 1 \n",
    "        num_children = len(t.children)\n",
    "        if num_children > 0 :\n",
    "            left = t.children[0]\n",
    "            right = t.children[1]\n",
    "            queue.put(left)\n",
    "            queue.put(right)\n",
    "            next_num+=2\n",
    "        \n",
    "        if curr_num == 0:\n",
    "            curr_num = next_num\n",
    "            next_num = 0\n",
    "            for e in level_tracker:\n",
    "                print(e.wordidx, e.label, e.idx, end='   ')\n",
    "            print()\n",
    "            level_tracker = []\n"
   ]
  },
  {
   "cell_type": "code",
   "execution_count": 146,
   "metadata": {},
   "outputs": [
    {
     "name": "stdout",
     "output_type": "stream",
     "text": [
      "-1 4 -1   \n",
      "-1 3 -1   5 2 -1   \n",
      "0 2 -1   -1 4 -1   \n",
      "-1 4 -1   4 2 -1   \n",
      "-1 2 -1   3 3 -1   \n",
      "1 2 -1   2 2 -1   \n",
      "{'.': 5, 'film': 4, 'a': 0, 'and': 2, 'meaningful': 3, 'deep': 1}\n"
     ]
    }
   ],
   "source": [
    "input = \"(4 (3 (2 A) (4 (4 (2 (2 deep) (2 and)) (3 meaningful)) (2 film))) (2 .))\"\n",
    "\n",
    "root = TreeNode()\n",
    "word2idx = {}\n",
    "root.parse(input, 1, word2idx)\n",
    "bfs(root)\n",
    "print(word2idx)"
   ]
  },
  {
   "cell_type": "code",
   "execution_count": 147,
   "metadata": {
    "collapsed": true
   },
   "outputs": [],
   "source": [
    "def add_idx_to_tree(tree, current_idx):\n",
    "    if tree is None:\n",
    "        return current_idx\n",
    "    \n",
    "    num_children = len(tree.children)\n",
    "    if num_children > 0 :\n",
    "        current_idx = add_idx_to_tree(tree.children[0], current_idx)\n",
    "        current_idx = add_idx_to_tree(tree.children[1], current_idx)\n",
    "    \n",
    "    tree.idx = current_idx\n",
    "    current_idx+=1\n",
    "    return current_idx\n"
   ]
  },
  {
   "cell_type": "code",
   "execution_count": 148,
   "metadata": {},
   "outputs": [
    {
     "name": "stdout",
     "output_type": "stream",
     "text": [
      "-1 4 10   \n",
      "-1 3 8   5 2 9   \n",
      "0 2 0   -1 4 7   \n",
      "-1 4 5   4 2 6   \n",
      "-1 2 3   3 3 4   \n",
      "1 2 1   2 2 2   \n"
     ]
    }
   ],
   "source": [
    "add_idx_to_tree(root, 0)\n",
    "bfs(root)"
   ]
  },
  {
   "cell_type": "code",
   "execution_count": 149,
   "metadata": {
    "collapsed": true
   },
   "outputs": [],
   "source": [
    "def tree2list(tree, parent_idx, is_binary=False, is_left=False, is_right=False):\n",
    "    if tree is None:\n",
    "        return [], [], [], []\n",
    "    \n",
    "    w = tree.wordidx\n",
    "    if is_left:\n",
    "        r = 0\n",
    "    elif is_right:\n",
    "        r = 1\n",
    "    else:\n",
    "        r = -1\n",
    "     \n",
    "    num_children = len(tree.children)\n",
    "    if num_children > 0 :\n",
    "        left = tree.children[0]\n",
    "        right = tree.children[1] \n",
    "    else:\n",
    "        left = None\n",
    "        right = None\n",
    "        \n",
    "    words_left, parents_left, relations_left, labels_left = tree2list(left, tree.idx, is_binary, is_left=True)\n",
    "    words_right, parents_right, relations_right, labels_right = tree2list(right, tree.idx, is_binary, is_right=True)\n",
    "        \n",
    "    words = words_left + words_right + [w]\n",
    "    parents = parents_left + parents_right + [parent_idx]\n",
    "    relations = relations_left + relations_right + [r]\n",
    "    if is_binary:\n",
    "        if tree.label > 2:\n",
    "            label = 1\n",
    "        elif tree.label < 2:\n",
    "            label = 0\n",
    "        else:\n",
    "            label = -1\n",
    "    else:\n",
    "        label = tree.label\n",
    "    labels = labels_left + labels_right + [label]\n",
    "    \n",
    "    return words, parents, relations, labels"
   ]
  },
  {
   "cell_type": "code",
   "execution_count": 150,
   "metadata": {},
   "outputs": [
    {
     "name": "stdout",
     "output_type": "stream",
     "text": [
      "[0, 1, 2, -1, 3, -1, 4, -1, -1, 5, -1]\n",
      "[8, 3, 3, 5, 5, 7, 7, 8, 10, 10, -1]\n",
      "[0, 0, 1, 0, 1, 0, 1, 1, 0, 1, -1]\n",
      "[-1, -1, -1, -1, 1, 1, -1, 1, 1, -1, 1]\n"
     ]
    }
   ],
   "source": [
    "wordidx, parents, relations, labels = tree2list(root, -1, is_binary=True)\n",
    "print(wordidx)\n",
    "print(parents)\n",
    "print(relations)\n",
    "print(labels)\n"
   ]
  },
  {
   "cell_type": "code",
   "execution_count": 151,
   "metadata": {
    "collapsed": true
   },
   "outputs": [],
   "source": [
    "def save_data(data=None, data_file=None):\n",
    "    if data == None or data_file == None:\n",
    "        return\n",
    "    with open(data_file, 'w') as f:\n",
    "        json.dump(data, f)"
   ]
  },
  {
   "cell_type": "markdown",
   "metadata": {},
   "source": [
    "**Test Saving Data**"
   ]
  },
  {
   "cell_type": "code",
   "execution_count": 152,
   "metadata": {},
   "outputs": [
    {
     "name": "stdout",
     "output_type": "stream",
     "text": [
      "{'a': 8, 'moviegoers': 3, 'entertaining': 1, 'meaningful': 11, '.': 7, 'of': 4, 'any': 5, 'film': 12, 'age': 6, 'enormously': 0, 'and': 10, 'for': 2, 'deep': 9}\n",
      "{0: ([0, 1, 2, 3, 4, 5, 6, -1, -1, -1, -1, -1, -1, 7, -1], [12, 11, 10, 9, 8, 7, 7, 8, 9, 10, 11, 12, 14, 14, -1], [0, 0, 0, 0, 0, 0, 1, 1, 1, 1, 1, 1, 0, 1, -1], [-1, 1, -1, -1, -1, -1, -1, 1, -1, 1, 1, 1, 1, -1, 1]), 1: ([8, 9, 10, -1, 11, -1, 12, -1, -1, 7, -1], [8, 3, 3, 5, 5, 7, 7, 8, 10, 10, -1], [0, 0, 1, 0, 1, 0, 1, 1, 0, 1, -1], [-1, -1, -1, -1, 1, 1, -1, 1, 1, -1, 1])}\n",
      "{0: ([0, 1, 2, 3, 4, 5, 6, -1, -1, -1, -1, -1, -1, 7, -1], [12, 11, 10, 9, 8, 7, 7, 8, 9, 10, 11, 12, 14, 14, -1], [0, 0, 0, 0, 0, 0, 1, 1, 1, 1, 1, 1, 0, 1, -1], [2, 4, 2, 2, 2, 2, 2, 3, 2, 3, 4, 3, 4, 2, 4]), 1: ([8, 9, 10, -1, 11, -1, 12, -1, -1, 7, -1], [8, 3, 3, 5, 5, 7, 7, 8, 10, 10, -1], [0, 0, 1, 0, 1, 0, 1, 1, 0, 1, -1], [2, 2, 2, 2, 3, 4, 2, 4, 3, 2, 4])}\n",
      "Saved\n"
     ]
    }
   ],
   "source": [
    "#test\n",
    "\n",
    "input1 = \"(4 (4 (2 Enormously) (3 (4 entertaining) (4 (2 for) (3 (2 moviegoers) (2 (2 of) (3 (2 any) (2 age))))))) (2 .))\"\n",
    "input2 = \"(4 (3 (2 A) (4 (4 (2 (2 deep) (2 and)) (3 meaningful)) (2 film))) (2 .))\"\n",
    "\n",
    "word2idx = {}\n",
    "train = []\n",
    "t1 = TreeNode();\n",
    "t1.parse(input1, 1, word2idx)\n",
    "train.append(t1)\n",
    "\n",
    "t2 = TreeNode();\n",
    "t2.parse(input2, 1, word2idx)\n",
    "train.append(t2)\n",
    "\n",
    "for t in train:\n",
    "    add_idx_to_tree(t, 0)\n",
    "    \n",
    "train_b = {idx : tree2list(t, -1, is_binary=True) for t, idx in zip(train, range(len(train)))}\n",
    "train = {idx : tree2list(t, -1, is_binary=False) for t, idx in zip(train, range(len(train)))}\n",
    "\n",
    "print(word2idx)\n",
    "print(train_b)\n",
    "print(train)\n",
    "\n",
    "save_data(word2idx, \"sentiment_word2idx.json\")\n",
    "save_data(train_b, \"sentiment_binary_train.json\")\n",
    "save_data(train, \"sentiment_train.json\")\n",
    "# print(train[0])\n",
    "print(\"Saved\")"
   ]
  },
  {
   "cell_type": "code",
   "execution_count": 153,
   "metadata": {},
   "outputs": [
    {
     "name": "stdout",
     "output_type": "stream",
     "text": [
      "8544\n",
      "2210\n",
      "finished\n"
     ]
    }
   ],
   "source": [
    "word2idx = {}\n",
    "train = []\n",
    "test = []\n",
    "folder_read = '../data/large_files/stanford_sentiment/trees/'\n",
    "folder_write = '../data/large_files/stanford_sentiment/parsed_data/'\n",
    "\n",
    "for line in open(folder_read + 'train.txt'):\n",
    "    line = line.rstrip()\n",
    "    if line:\n",
    "        t = TreeNode();\n",
    "        t.parse(line, 1, word2idx)\n",
    "        train.append(t)\n",
    "\n",
    "for line in open(folder_read + 'test.txt'):\n",
    "    line = line.rstrip()\n",
    "    if line:\n",
    "        t = TreeNode();\n",
    "        t.parse(line, 1, word2idx)\n",
    "        test.append(t)\n",
    "\n",
    "for t in train:\n",
    "    add_idx_to_tree(t, 0)\n",
    "train_b = {idx : tree2list(t, -1, is_binary=True) for t, idx in zip(train, range(len(train)))}\n",
    "train = {idx : tree2list(t, -1, is_binary=False) for t, idx in zip(train, range(len(train)))}\n",
    "\n",
    "for t in test:\n",
    "    add_idx_to_tree(t, 0)\n",
    "test_b = {idx : tree2list(t, -1, is_binary=True) for t, idx in zip(test, range(len(test)))}\n",
    "test = {idx : tree2list(t, -1, is_binary=False) for t, idx in zip(test, range(len(test)))}\n",
    "\n",
    "print(len(train_b))\n",
    "print(len(test_b))\n",
    "\n",
    "# print(len(word2idx)\n",
    "print(\"finished\")"
   ]
  },
  {
   "cell_type": "markdown",
   "metadata": {},
   "source": [
    "### Save data for recursive NN"
   ]
  },
  {
   "cell_type": "code",
   "execution_count": 142,
   "metadata": {},
   "outputs": [
    {
     "name": "stdout",
     "output_type": "stream",
     "text": [
      "Start Saving Data RNTN ...\n",
      "Data Saving Finished\n"
     ]
    }
   ],
   "source": [
    "print(\"Start Saving Data RNTN ...\")\n",
    "save_data(word2idx, folder_write + \"sentiment_word2idx.json\")\n",
    "save_data(train_b, folder_write + \"sentiment_binary_train.json\")\n",
    "save_data(train, folder_write + \"sentiment_train.json\")\n",
    "save_data(test_b, folder_write + \"sentiment_binary_test.json\")\n",
    "save_data(test, folder_write + \"sentiment_test.json\")\n",
    "print(\"Data Saving Finished\")"
   ]
  },
  {
   "cell_type": "markdown",
   "metadata": {},
   "source": [
    "****"
   ]
  },
  {
   "cell_type": "markdown",
   "metadata": {},
   "source": [
    "## Load Data"
   ]
  },
  {
   "cell_type": "code",
   "execution_count": 20,
   "metadata": {},
   "outputs": [],
   "source": [
    "def load_data(data_file=None):\n",
    "    if data_file == None:\n",
    "        return\n",
    "    with open(data_file) as f:\n",
    "        data = json.load(f)\n",
    "    return data"
   ]
  },
  {
   "cell_type": "code",
   "execution_count": 21,
   "metadata": {},
   "outputs": [],
   "source": [
    "folder = './data/large_files/stanford_sentiment/parsed_data/'\n",
    "word2idx = load_data(folder + \"sentiment_word2idx.json\")\n",
    "sentiment_binary_train = load_data(folder + \"sentiment_binary_train.json\")\n",
    "sentiment_train = load_data(folder + \"sentiment_train.json\")\n",
    "sentiment_binary_test = load_data(folder + \"sentiment_binary_test.json\")\n",
    "sentiment_test = load_data(folder + \"sentiment_test.json\")"
   ]
  },
  {
   "cell_type": "markdown",
   "metadata": {},
   "source": [
    "****"
   ]
  },
  {
   "cell_type": "markdown",
   "metadata": {},
   "source": [
    "## Preprocessing Data for RNN"
   ]
  },
  {
   "cell_type": "markdown",
   "metadata": {},
   "source": [
    "### Exclude neutral samples\n",
    "\n",
    "* The loaded samples has three type of labels -1,0,1, in which -1 indicates neutral sentiment.\n",
    "* We exclude samples with neutral sentiment."
   ]
  },
  {
   "cell_type": "code",
   "execution_count": 22,
   "metadata": {},
   "outputs": [
    {
     "name": "stdout",
     "output_type": "stream",
     "text": [
      "After filtering: # of training samples and # of test samples\n",
      "# of traing samples:  6920\n",
      "# of test samples:  1821\n"
     ]
    }
   ],
   "source": [
    "def exclude_neutral_sample(samples:dict):\n",
    "    ssamples = {}\n",
    "    for k, v in samples.items():\n",
    "        if v[3][-1] != -1:\n",
    "            ssamples[k] = v\n",
    "    return ssamples\n",
    "        \n",
    "train_b = exclude_neutral_sample(sentiment_binary_train)\n",
    "test_b = exclude_neutral_sample(sentiment_binary_test)\n",
    "\n",
    "print(\"After filtering: # of training samples and # of test samples\")\n",
    "print(\"# of traing samples: \", len(train_b))\n",
    "print(\"# of test samples: \", len(test_b))"
   ]
  },
  {
   "cell_type": "markdown",
   "metadata": {},
   "source": [
    "### Convert comment in form of integers to string"
   ]
  },
  {
   "cell_type": "code",
   "execution_count": 23,
   "metadata": {},
   "outputs": [],
   "source": [
    "# convert review comment in form of integers to the form of words\n",
    "def get_comment(wordidx, idx2word:dict):\n",
    "    wordlist = []\n",
    "    for idx in wordidx:\n",
    "        if idx != -1:\n",
    "            token = idx2word[idx]\n",
    "            # remove punctuation\n",
    "            if token not in string.punctuation:\n",
    "                wordlist.append(token)\n",
    "    return wordlist"
   ]
  },
  {
   "cell_type": "code",
   "execution_count": 24,
   "metadata": {},
   "outputs": [],
   "source": [
    "def get_comments_samples(samples:dict, idx2word:dict):\n",
    "    comments = []\n",
    "    targets = []\n",
    "    for _, v in samples.items():\n",
    "        if v[3][-1] != -1:\n",
    "            # concatenate word list to a string\n",
    "            comment = \" \".join(get_comment(v[0], idx2word))\n",
    "            label = v[3][-1]\n",
    "            comments.append(comment)\n",
    "            targets.append(label) \n",
    "    return comments, targets"
   ]
  },
  {
   "cell_type": "markdown",
   "metadata": {},
   "source": [
    "** Create traing and testing samples in form of string **"
   ]
  },
  {
   "cell_type": "code",
   "execution_count": 41,
   "metadata": {},
   "outputs": [],
   "source": [
    "idx2word = {v:k for k, v in word2idx.items()}\n",
    "train_comments_o, train_targets = get_comments_samples(train_b, idx2word)\n",
    "test_comments_o, test_targets = get_comments_samples(test_b, idx2word)"
   ]
  },
  {
   "cell_type": "code",
   "execution_count": 42,
   "metadata": {},
   "outputs": [
    {
     "name": "stdout",
     "output_type": "stream",
     "text": [
      "# of training samples with label 0: 3310\n",
      "# of training samples with label 1: 3610\n",
      "# of training samples with label -1: 0\n"
     ]
    }
   ],
   "source": [
    "count0 = 0\n",
    "count1 = 0\n",
    "count2 = 0\n",
    "for i in range(len(train_comments_o)):\n",
    "\n",
    "    if train_targets[i] == 0:\n",
    "        count0 += 1\n",
    "    elif train_targets[i] == 1:\n",
    "        count1 += 1\n",
    "    else:\n",
    "        count2 += 1\n",
    "#     print(i, comments[i], targets[i])\n",
    "    \n",
    "print(\"# of training samples with label 0:\", count0)\n",
    "print(\"# of training samples with label 1:\", count1)\n",
    "print(\"# of training samples with label -1:\", count2)"
   ]
  },
  {
   "cell_type": "code",
   "execution_count": 43,
   "metadata": {},
   "outputs": [
    {
     "name": "stdout",
     "output_type": "stream",
     "text": [
      "vocabulary_size: 18647\n"
     ]
    }
   ],
   "source": [
    "vocabulary_size = len(idx2word)\n",
    "print('vocabulary_size:' , vocabulary_size)"
   ]
  },
  {
   "cell_type": "markdown",
   "metadata": {},
   "source": [
    "### Define preprocessing data function"
   ]
  },
  {
   "cell_type": "code",
   "execution_count": 31,
   "metadata": {},
   "outputs": [],
   "source": [
    "def remove_punctuation(samples):\n",
    "    filtered_samples = []\n",
    "    for i in samples:\n",
    "        filtered_samples.append(i.translate(str.maketrans('', '', string.punctuation)))\n",
    "    return filtered_samples"
   ]
  },
  {
   "cell_type": "code",
   "execution_count": 32,
   "metadata": {},
   "outputs": [
    {
     "data": {
      "text/plain": [
       "['Todays so beautiful']"
      ]
     },
     "execution_count": 32,
     "metadata": {},
     "output_type": "execute_result"
    }
   ],
   "source": [
    "# test\n",
    "remove_punctuation([\"Today's so beautiful!\"])"
   ]
  },
  {
   "cell_type": "code",
   "execution_count": 33,
   "metadata": {},
   "outputs": [],
   "source": [
    "def tokenize(samples):\n",
    "    tokenized_samples = []\n",
    "    for s in samples:\n",
    "        tokens = word_tokenize(s)\n",
    "        tokenized_samples.append(tokens)\n",
    "    return tokenized_samples"
   ]
  },
  {
   "cell_type": "code",
   "execution_count": 34,
   "metadata": {},
   "outputs": [
    {
     "data": {
      "text/plain": [
       "[['Todays', 'so', 'beautiful']]"
      ]
     },
     "execution_count": 34,
     "metadata": {},
     "output_type": "execute_result"
    }
   ],
   "source": [
    "# test\n",
    "tokenize(['Todays so beautiful'])"
   ]
  },
  {
   "cell_type": "code",
   "execution_count": 35,
   "metadata": {},
   "outputs": [
    {
     "name": "stdout",
     "output_type": "stream",
     "text": [
      "{'whom', \"you've\", 'such', \"weren't\", 'both', 'at', \"couldn't\", 'just', 'did', \"you'll\", 'hasn', 'to', 'can', 'weren', 'be', 'an', \"you'd\", 'that', 'being', 'himself', 'through', 'why', \"needn't\", 'nor', \"mightn't\", \"won't\", 'was', \"isn't\", 'it', \"mustn't\", 'we', 'their', 'with', \"it's\", 'your', 'where', 'wasn', 've', 'm', 'up', 'should', 'about', 'out', 'them', 'so', 'is', 'ourselves', 'its', 'were', 'how', 's', 'does', 'here', 'needn', 'only', 'when', 'me', 'had', 'on', 'itself', 'aren', 'than', 'over', 'until', 'under', 'yours', 'during', 'of', 'couldn', \"wasn't\", 'down', \"shouldn't\", 'which', \"wouldn't\", 'do', 'most', 'mustn', 'myself', 'her', 'y', 'this', 'our', 'i', 'she', 'his', 'further', \"hasn't\", 'if', 'above', 'shouldn', 'am', \"aren't\", 'for', 'hadn', 'shan', \"don't\", 'will', 'by', 're', \"hadn't\", 'from', 'are', 'as', 'after', 'him', 'ma', 'all', 'll', 'herself', \"you're\", 'having', 'hers', 'before', 'off', \"shan't\", 'isn', 'same', 'too', 'into', 'don', 'themselves', 'doing', 'you', 'has', 'a', 'now', \"didn't\", 'doesn', 'he', 'what', 'won', \"she's\", 'o', 'between', 'some', 'd', 'but', 'yourselves', 'who', 'haven', 'each', 'very', 't', \"haven't\", 'in', 'or', \"should've\", \"that'll\", 'have', 'theirs', 'mightn', 'those', 'they', 'once', 'then', 'ours', 'the', 'again', 'any', 'no', 'ain', 'didn', 'these', 'below', 'more', 'yourself', 'wouldn', 'there', 'and', 'few', 'own', 'my', 'been', \"doesn't\", 'because', 'not', 'other', 'while', 'against'}\n"
     ]
    }
   ],
   "source": [
    "stopWords = set(stopwords.words('english'))\n",
    "print(stopWords)"
   ]
  },
  {
   "cell_type": "markdown",
   "metadata": {},
   "source": [
    "**Stopwords not include negation word**"
   ]
  },
  {
   "cell_type": "code",
   "execution_count": 36,
   "metadata": {},
   "outputs": [],
   "source": [
    "stopWords_revised = set(('at', 'how', 'each', 's', 'those', 'from','whom', 'if', 're', 'we', 'by','into', 'it', 'ma', 'than', \"you'll\", \n",
    "             'very', 'was', 'is', 'be', 'had', 'you', 'hers', 'off', 'her', 'your', 'other', 'on', 'down', 'its', 'should', \n",
    "             'which', 'now', 'ours', 'in', \"you've\", 'before', 'further', 'below', 'did',  'who', 'once', 'some', 'being', \n",
    "             'does', 'too', 'herself', 'about', 'my', 'are', 'during', 'few', 'an', 'do', 'over',  'themselves', 'the', 'why', 'a', 'same', 'all', \n",
    "             'own', 'with', 'under', 'myself', 'he', 'because', 'again', 'himself', 'these', 'that', 'am', 'through', 'll', 'so', 've', \"you're\", 'doing', 'between', \n",
    "             'when', 'ourselves', 'been', 'of', 'our', 'them', 'their', 'while', 'as', 'can', 'where', 'such', 'yourself', 'haven', 'they', 'theirs', 'm', 'both', \n",
    "                     \"that'll\", 'or', 'were', 'up', 'will', 'me', 'yours', 'itself', 'has', 'more', \n",
    "                'd', 'o', 'what', 'having', 't', 'this', 'after', 'no', 'then', 'above', 'out', \"should've\", 'his', \n",
    "               \"you'd\", \"she's\", 'and', 'shan', 'until', 'here', 'for', 'just', 'him', 'to', 'have', 'she', 'yourselves', \"it's\", 'y', 'i', 'there'))\n"
   ]
  },
  {
   "cell_type": "markdown",
   "metadata": {},
   "source": [
    "**Stopwords not include negation word and other words**\n",
    "\n",
    "\"beyond\", \"over\", \"very\""
   ]
  },
  {
   "cell_type": "code",
   "execution_count": 37,
   "metadata": {},
   "outputs": [],
   "source": [
    "stopWords_revised_2 = set(('at', 'each', 's', 'those', 'from', 'if', 're', 'we', 'by','into', 'it', 'ma', \"you'll\", \n",
    "              'was', 'is', 'be', 'had', 'you', 'hers', 'off', 'her', 'your', 'other', 'on', 'down', 'its', 'should', \n",
    "              'now', 'ours', 'in', \"you've\", 'below', 'did', 'being', \n",
    "             'does', 'herself', 'about', 'my', 'are', 'an', 'do', 'themselves', 'the',  'a',  \n",
    "             'own', 'myself', 'he',  'himself', 'these', 'that', 'am', 'll', 'so', 've', \"you're\", 'doing', \n",
    "            'ourselves', 'been', 'of', 'our', 'them', 'their', 'can', 'yourself', 'they', 'theirs', 'm', \n",
    "                     \"that'll\", 'or', 'were', 'up', 'will', 'me', 'yours', 'itself', 'has', \n",
    "                'd', 'o', 'having', 't', 'this', 'after', 'then', 'out', \"should've\", 'his', \n",
    "               \"you'd\", \"she's\", 'shan',  'here', 'for', 'him', 'to', 'have', 'she', 'yourselves', \"it's\", 'y', 'i', 'there'))\n"
   ]
  },
  {
   "cell_type": "code",
   "execution_count": 38,
   "metadata": {},
   "outputs": [],
   "source": [
    "def remove_stopwords(samples):\n",
    "    filtered_samples = []\n",
    "    for s in samples:\n",
    "        filstered_tokens = []\n",
    "        for w in s:\n",
    "            if w not in stopWords_revised_2:\n",
    "                filstered_tokens.append(w)\n",
    "        filtered_samples.append(filstered_tokens)\n",
    "    return filtered_samples  "
   ]
  },
  {
   "cell_type": "code",
   "execution_count": 39,
   "metadata": {},
   "outputs": [
    {
     "data": {
      "text/plain": [
       "[['Todays', 'not', 'beautiful']]"
      ]
     },
     "execution_count": 39,
     "metadata": {},
     "output_type": "execute_result"
    }
   ],
   "source": [
    "# test\n",
    "remove_stopwords([['Todays', 'so', 'not', 'beautiful']])"
   ]
  },
  {
   "cell_type": "markdown",
   "metadata": {},
   "source": [
    "###  Preprocessing data\n",
    "\n",
    "* Remove punctation\n",
    "* Remove stopwords"
   ]
  },
  {
   "cell_type": "markdown",
   "metadata": {},
   "source": [
    "**Orginal Data**"
   ]
  },
  {
   "cell_type": "code",
   "execution_count": 82,
   "metadata": {},
   "outputs": [
    {
     "name": "stdout",
     "output_type": "stream",
     "text": [
      "0 :  watching this gentle mesmerizing portrait of a man coming to terms with time you barely realize your mind is being blown\n",
      "1 :  the film is enriched by an imaginatively mixed cast of antic spirits headed by christopher plummer as the subtlest and most complexly evil uncle ralph i 've ever seen in the many film and stage adaptations of the work\n",
      "2 :  the town has kind of an authentic feel but each one of these people stand out and everybody else is in the background and it just seems manufactured to me and artificial\n",
      "3 :  apparently designed as a reverie about memory and regret but the only thing you 'll regret is remembering the experience of sitting through it\n",
      "4 :  the film sounds like the stuff of lurid melodrama but what makes it interesting as a character study is the fact that the story is told from paul 's perspective\n",
      "5 :  humorless self-conscious art drivel made without a glimmer of intelligence or invention\n",
      "6 :  ... a solid well-formed satire\n",
      "7 :  as quiet patient and tenacious as mr. lopez himself who approaches his difficult endless work with remarkable serenity and discipline\n",
      "8 :  a sentimental but entirely irresistible portrait of three aging sisters\n",
      "9 :  the story that emerges has elements of romance tragedy and even silent-movie comedy\n"
     ]
    }
   ],
   "source": [
    "for i in range(10):\n",
    "    print(i, \": \", train_comments_o[i])"
   ]
  },
  {
   "cell_type": "markdown",
   "metadata": {},
   "source": [
    "**Perserve n't**"
   ]
  },
  {
   "cell_type": "code",
   "execution_count": 45,
   "metadata": {},
   "outputs": [],
   "source": [
    "train_comments_1 = []\n",
    "for comment in train_comments_o:\n",
    "    new_str = comment.replace(\"n't\", 'not')\n",
    "    train_comments_1.append(new_str)\n",
    "    \n",
    "test_comments_1 = []\n",
    "for comment in test_comments_o:\n",
    "    new_str = comment.replace(\"n't\", 'not')\n",
    "    test_comments_1.append(new_str)"
   ]
  },
  {
   "cell_type": "code",
   "execution_count": 80,
   "metadata": {},
   "outputs": [
    {
     "name": "stdout",
     "output_type": "stream",
     "text": [
      "0 :  watching this gentle mesmerizing portrait of a man coming to terms with time you barely realize your mind is being blown\n",
      "1 :  the film is enriched by an imaginatively mixed cast of antic spirits headed by christopher plummer as the subtlest and most complexly evil uncle ralph i 've ever seen in the many film and stage adaptations of the work\n",
      "2 :  the town has kind of an authentic feel but each one of these people stand out and everybody else is in the background and it just seems manufactured to me and artificial\n",
      "3 :  apparently designed as a reverie about memory and regret but the only thing you 'll regret is remembering the experience of sitting through it\n",
      "4 :  the film sounds like the stuff of lurid melodrama but what makes it interesting as a character study is the fact that the story is told from paul 's perspective\n",
      "5 :  humorless self-conscious art drivel made without a glimmer of intelligence or invention\n",
      "6 :  ... a solid well-formed satire\n",
      "7 :  as quiet patient and tenacious as mr. lopez himself who approaches his difficult endless work with remarkable serenity and discipline\n",
      "8 :  a sentimental but entirely irresistible portrait of three aging sisters\n",
      "9 :  the story that emerges has elements of romance tragedy and even silent-movie comedy\n"
     ]
    }
   ],
   "source": [
    "for i in range(10):\n",
    "    print(i, \": \", train_comments_1[i])"
   ]
  },
  {
   "cell_type": "markdown",
   "metadata": {},
   "source": [
    "**Remove punctuation**"
   ]
  },
  {
   "cell_type": "code",
   "execution_count": 47,
   "metadata": {},
   "outputs": [
    {
     "name": "stdout",
     "output_type": "stream",
     "text": [
      "punctuation removed\n"
     ]
    }
   ],
   "source": [
    "train_comments_punc = remove_punctuation(train_comments_1)\n",
    "test_comments_punc = remove_punctuation(test_comments_1)\n",
    "print(\"punctuation removed\")"
   ]
  },
  {
   "cell_type": "code",
   "execution_count": 81,
   "metadata": {},
   "outputs": [
    {
     "name": "stdout",
     "output_type": "stream",
     "text": [
      "0 :  watching this gentle mesmerizing portrait of a man coming to terms with time you barely realize your mind is being blown\n",
      "1 :  the film is enriched by an imaginatively mixed cast of antic spirits headed by christopher plummer as the subtlest and most complexly evil uncle ralph i ve ever seen in the many film and stage adaptations of the work\n",
      "2 :  the town has kind of an authentic feel but each one of these people stand out and everybody else is in the background and it just seems manufactured to me and artificial\n",
      "3 :  apparently designed as a reverie about memory and regret but the only thing you ll regret is remembering the experience of sitting through it\n",
      "4 :  the film sounds like the stuff of lurid melodrama but what makes it interesting as a character study is the fact that the story is told from paul s perspective\n",
      "5 :  humorless selfconscious art drivel made without a glimmer of intelligence or invention\n",
      "6 :   a solid wellformed satire\n",
      "7 :  as quiet patient and tenacious as mr lopez himself who approaches his difficult endless work with remarkable serenity and discipline\n",
      "8 :  a sentimental but entirely irresistible portrait of three aging sisters\n",
      "9 :  the story that emerges has elements of romance tragedy and even silentmovie comedy\n"
     ]
    }
   ],
   "source": [
    "for i in range(10):\n",
    "    print(i, \": \", train_comments_punc[i])"
   ]
  },
  {
   "cell_type": "markdown",
   "metadata": {},
   "source": [
    "** Tokenize **"
   ]
  },
  {
   "cell_type": "code",
   "execution_count": 49,
   "metadata": {},
   "outputs": [
    {
     "name": "stdout",
     "output_type": "stream",
     "text": [
      "tokenized\n"
     ]
    }
   ],
   "source": [
    "train_comments_tokenized = tokenize(train_comments_punc)\n",
    "test_comments_tokenized = tokenize(test_comments_punc)\n",
    "print(\"tokenized\")"
   ]
  },
  {
   "cell_type": "code",
   "execution_count": 78,
   "metadata": {},
   "outputs": [
    {
     "name": "stdout",
     "output_type": "stream",
     "text": [
      "0 :  ['watching', 'this', 'gentle', 'mesmerizing', 'portrait', 'of', 'a', 'man', 'coming', 'to', 'terms', 'with', 'time', 'you', 'barely', 'realize', 'your', 'mind', 'is', 'being', 'blown']\n",
      "1 :  ['the', 'film', 'is', 'enriched', 'by', 'an', 'imaginatively', 'mixed', 'cast', 'of', 'antic', 'spirits', 'headed', 'by', 'christopher', 'plummer', 'as', 'the', 'subtlest', 'and', 'most', 'complexly', 'evil', 'uncle', 'ralph', 'i', 've', 'ever', 'seen', 'in', 'the', 'many', 'film', 'and', 'stage', 'adaptations', 'of', 'the', 'work']\n",
      "2 :  ['the', 'town', 'has', 'kind', 'of', 'an', 'authentic', 'feel', 'but', 'each', 'one', 'of', 'these', 'people', 'stand', 'out', 'and', 'everybody', 'else', 'is', 'in', 'the', 'background', 'and', 'it', 'just', 'seems', 'manufactured', 'to', 'me', 'and', 'artificial']\n",
      "3 :  ['apparently', 'designed', 'as', 'a', 'reverie', 'about', 'memory', 'and', 'regret', 'but', 'the', 'only', 'thing', 'you', 'll', 'regret', 'is', 'remembering', 'the', 'experience', 'of', 'sitting', 'through', 'it']\n",
      "4 :  ['the', 'film', 'sounds', 'like', 'the', 'stuff', 'of', 'lurid', 'melodrama', 'but', 'what', 'makes', 'it', 'interesting', 'as', 'a', 'character', 'study', 'is', 'the', 'fact', 'that', 'the', 'story', 'is', 'told', 'from', 'paul', 's', 'perspective']\n",
      "5 :  ['humorless', 'selfconscious', 'art', 'drivel', 'made', 'without', 'a', 'glimmer', 'of', 'intelligence', 'or', 'invention']\n",
      "6 :  ['a', 'solid', 'wellformed', 'satire']\n",
      "7 :  ['as', 'quiet', 'patient', 'and', 'tenacious', 'as', 'mr', 'lopez', 'himself', 'who', 'approaches', 'his', 'difficult', 'endless', 'work', 'with', 'remarkable', 'serenity', 'and', 'discipline']\n",
      "8 :  ['a', 'sentimental', 'but', 'entirely', 'irresistible', 'portrait', 'of', 'three', 'aging', 'sisters']\n",
      "9 :  ['the', 'story', 'that', 'emerges', 'has', 'elements', 'of', 'romance', 'tragedy', 'and', 'even', 'silentmovie', 'comedy']\n",
      "10 :  ['the', 'artwork', 'is', 'spectacular', 'and', 'unlike', 'most', 'animaton', 'from', 'japan', 'the', 'characters', 'move', 'with', 'grace', 'and', 'panache']\n",
      "11 :  ['perhaps', 'the', 'grossest', 'movie', 'ever', 'made']\n",
      "12 :  ['a', 'terrible', 'adaptation', 'of', 'a', 'play', 'that', 'only', 'ever', 'walked', 'the', 'delicate', 'tightrope', 'between', 'farcical', 'and', 'loathsome']\n",
      "13 :  ['a', 'thoughtprovoking', 'and', 'oftenfunny', 'drama', 'about', 'isolation']\n",
      "14 :  ['with', 'an', 'unusual', 'protagonist', 'lrb', 'a', 'kiltwearing', 'jackson', 'rrb', 'and', 'subject', 'matter', 'the', 'improbable', 'formula', '51', 'is', 'somewhat', 'entertaining', 'but', 'it', 'could', 'have', 'been', 'much', 'stronger']\n",
      "15 :  ['has', 'a', 'certain', 'ghoulish', 'fascination', 'and', 'generates', 'a', 'fair', 'amount', 'of', 'bmovie', 'excitement']\n",
      "16 :  ['the', 'movie', 'is', 'about', 'as', 'humorous', 'as', 'watching', 'your', 'favorite', 'pet', 'get', 'buried', 'alive']\n",
      "17 :  ['children', 'christian', 'or', 'otherwise', 'deserve', 'to', 'hear', 'the', 'full', 'story', 'of', 'jonah', 's', 'despair', 'in', 'all', 'its', 'agonizing', 'catch22', 'glory', 'even', 'if', 'they', 'spend', 'years', 'trying', 'to', 'comprehend', 'it']\n",
      "18 :  ['both', 'heartbreaking', 'and', 'heartwarming', 'just', 'a', 'simple', 'fable', 'done', 'in', 'an', 'artless', 'sytle', 'but', 'it', 's', 'tremendously', 'moving']\n",
      "19 :  ['the', 'film', 'reminds', 'me', 'of', 'a', 'vastly', 'improved', 'germanic', 'version', 'of', 'my', 'big', 'fat', 'greek', 'wedding', 'with', 'better', 'characters', 'some', 'genuine', 'quirkiness', 'and', 'at', 'least', 'a', 'measure', 'of', 'style']\n"
     ]
    }
   ],
   "source": [
    "for i in range(20):\n",
    "    print(i, \": \", train_comments_tokenized[i])"
   ]
  },
  {
   "cell_type": "markdown",
   "metadata": {},
   "source": [
    "**Remove stopwords**"
   ]
  },
  {
   "cell_type": "code",
   "execution_count": 51,
   "metadata": {},
   "outputs": [
    {
     "name": "stdout",
     "output_type": "stream",
     "text": [
      "stopwords removed\n"
     ]
    }
   ],
   "source": [
    "train_comments_stopwords = remove_stopwords(train_comments_tokenized)\n",
    "test_comments_stopwords = remove_stopwords(test_comments_tokenized)\n",
    "print(\"stopwords removed\")"
   ]
  },
  {
   "cell_type": "code",
   "execution_count": 83,
   "metadata": {
    "scrolled": false
   },
   "outputs": [
    {
     "name": "stdout",
     "output_type": "stream",
     "text": [
      "0 :  ['watching', 'gentle', 'mesmerizing', 'portrait', 'man', 'coming', 'terms', 'with', 'time', 'barely', 'realize', 'mind', 'blown']\n",
      "1 :  ['film', 'enriched', 'imaginatively', 'mixed', 'cast', 'antic', 'spirits', 'headed', 'christopher', 'plummer', 'as', 'subtlest', 'and', 'most', 'complexly', 'evil', 'uncle', 'ralph', 'ever', 'seen', 'many', 'film', 'and', 'stage', 'adaptations', 'work']\n",
      "2 :  ['town', 'kind', 'authentic', 'feel', 'but', 'one', 'people', 'stand', 'and', 'everybody', 'else', 'background', 'and', 'just', 'seems', 'manufactured', 'and', 'artificial']\n",
      "3 :  ['apparently', 'designed', 'as', 'reverie', 'memory', 'and', 'regret', 'but', 'only', 'thing', 'regret', 'remembering', 'experience', 'sitting', 'through']\n",
      "4 :  ['film', 'sounds', 'like', 'stuff', 'lurid', 'melodrama', 'but', 'what', 'makes', 'interesting', 'as', 'character', 'study', 'fact', 'story', 'told', 'paul', 'perspective']\n",
      "5 :  ['humorless', 'selfconscious', 'art', 'drivel', 'made', 'without', 'glimmer', 'intelligence', 'invention']\n",
      "6 :  ['solid', 'wellformed', 'satire']\n",
      "7 :  ['as', 'quiet', 'patient', 'and', 'tenacious', 'as', 'mr', 'lopez', 'who', 'approaches', 'difficult', 'endless', 'work', 'with', 'remarkable', 'serenity', 'and', 'discipline']\n",
      "8 :  ['sentimental', 'but', 'entirely', 'irresistible', 'portrait', 'three', 'aging', 'sisters']\n",
      "9 :  ['story', 'emerges', 'elements', 'romance', 'tragedy', 'and', 'even', 'silentmovie', 'comedy']\n"
     ]
    }
   ],
   "source": [
    "for i in range(10):\n",
    "    print(i, \": \", train_comments_stopwords[i])"
   ]
  },
  {
   "cell_type": "markdown",
   "metadata": {},
   "source": [
    "** Create word-to-index and index-to-word maps **"
   ]
  },
  {
   "cell_type": "code",
   "execution_count": 84,
   "metadata": {},
   "outputs": [],
   "source": [
    "def combine(tokenized_comments):\n",
    "    text = []\n",
    "    for comment in tokenized_comments:\n",
    "        text += comment\n",
    "    return text\n",
    "\n",
    "all_words = combine(train_comments_stopwords) + combine(test_comments_stopwords)"
   ]
  },
  {
   "cell_type": "code",
   "execution_count": 86,
   "metadata": {},
   "outputs": [
    {
     "name": "stdout",
     "output_type": "stream",
     "text": [
      "99167\n",
      "['watching', 'gentle', 'mesmerizing', 'portrait', 'man', 'coming', 'terms', 'with', 'time', 'barely', 'realize', 'mind', 'blown', 'film', 'enriched', 'imaginatively', 'mixed', 'cast', 'antic', 'spirits', 'headed', 'christopher', 'plummer', 'as', 'subtlest', 'and', 'most', 'complexly', 'evil', 'uncle', 'ralph', 'ever', 'seen', 'many', 'film', 'and', 'stage', 'adaptations', 'work', 'town', 'kind', 'authentic', 'feel', 'but', 'one', 'people', 'stand', 'and', 'everybody', 'else', 'background', 'and', 'just', 'seems', 'manufactured', 'and', 'artificial', 'apparently', 'designed', 'as', 'reverie', 'memory', 'and', 'regret', 'but', 'only', 'thing', 'regret', 'remembering', 'experience', 'sitting', 'through', 'film', 'sounds', 'like', 'stuff', 'lurid', 'melodrama', 'but', 'what', 'makes', 'interesting', 'as', 'character', 'study', 'fact', 'story', 'told', 'paul', 'perspective', 'humorless', 'selfconscious', 'art', 'drivel', 'made', 'without', 'glimmer', 'intelligence', 'invention', 'solid']\n"
     ]
    }
   ],
   "source": [
    "print(len(all_words))\n",
    "print(all_words[:100])"
   ]
  },
  {
   "cell_type": "code",
   "execution_count": 54,
   "metadata": {},
   "outputs": [
    {
     "name": "stdout",
     "output_type": "stream",
     "text": [
      "<class 'collections.Counter'>\n"
     ]
    }
   ],
   "source": [
    "# Create your dictionary that maps vocab words to integers here\n",
    "from collections import Counter\n",
    "counts = Counter(all_words)\n",
    "print(type(counts))\n",
    "\n",
    "vocab = sorted(counts, key=counts.get, reverse=True)\n",
    "\n",
    "# Note that index start from 1\n",
    "vocab_to_int = {word:i for i, word in enumerate(vocab, 1)}"
   ]
  },
  {
   "cell_type": "code",
   "execution_count": 55,
   "metadata": {},
   "outputs": [
    {
     "name": "stdout",
     "output_type": "stream",
     "text": [
      "type of vocab <class 'list'>\n",
      "total # of words:  16548\n",
      "first word: and\n",
      "last word: bombards\n",
      "first word index: 1\n",
      "last word index 16548\n"
     ]
    }
   ],
   "source": [
    "print(\"type of vocab\", type(vocab))\n",
    "print('total # of words: ', len(vocab_to_int))\n",
    "print(\"first word:\", vocab[0])\n",
    "print(\"last word:\", vocab[-1])\n",
    "print(\"first word index:\", vocab_to_int[vocab[0]])\n",
    "print(\"last word index\", vocab_to_int[vocab[-1]])"
   ]
  },
  {
   "cell_type": "code",
   "execution_count": 56,
   "metadata": {},
   "outputs": [],
   "source": [
    "# create index to word map\n",
    "index2word = {idx:word for word, idx in vocab_to_int.items()}"
   ]
  },
  {
   "cell_type": "markdown",
   "metadata": {},
   "source": [
    "** Convert the review to integer **\n",
    "\n",
    "Convert the reviews to integers, same shape as reviews list, but in form of integers"
   ]
  },
  {
   "cell_type": "code",
   "execution_count": 57,
   "metadata": {},
   "outputs": [],
   "source": [
    "def convert_to_int(reviews, vocab_to_int):\n",
    "    # Convert the reviews to integers, same shape as reviews list, but in form of integers\n",
    "    print('# of reviews before index: ', len(reviews))\n",
    "    reviews_ints = []\n",
    "    for review in reviews:\n",
    "        reviews_ints.append([vocab_to_int[word] for word in review])\n",
    "\n",
    "    print('# of reviews after index: ', len(reviews_ints))\n",
    "    return reviews_ints"
   ]
  },
  {
   "cell_type": "code",
   "execution_count": 58,
   "metadata": {},
   "outputs": [
    {
     "name": "stdout",
     "output_type": "stream",
     "text": [
      "# of reviews before index:  6920\n",
      "# of reviews after index:  6920\n"
     ]
    }
   ],
   "source": [
    "x_train = convert_to_int(train_comments_stopwords, vocab_to_int)"
   ]
  },
  {
   "cell_type": "code",
   "execution_count": 64,
   "metadata": {},
   "outputs": [
    {
     "name": "stdout",
     "output_type": "stream",
     "text": [
      "original review:\n",
      " as quiet patient and tenacious as mr. lopez himself who approaches his difficult endless work with remarkable serenity and discipline\n",
      "processed review in integers:\n",
      " [2, 585, 2917, 1, 10866, 2, 203, 2310, 17, 5712, 587, 1822, 43, 4, 454, 7888, 1, 7450]\n",
      "processed review in words\n",
      " ['as', 'quiet', 'patient', 'and', 'tenacious', 'as', 'mr', 'lopez', 'who', 'approaches', 'difficult', 'endless', 'work', 'with', 'remarkable', 'serenity', 'and', 'discipline']\n"
     ]
    }
   ],
   "source": [
    "# test\n",
    "print('original review:\\n', train_comments_o[7])\n",
    "print('processed review in integers:\\n', x_train[7])\n",
    "text = [index2word[idx] for idx in x_train[7]]\n",
    "print('processed review in words\\n', text)"
   ]
  },
  {
   "cell_type": "code",
   "execution_count": 65,
   "metadata": {},
   "outputs": [
    {
     "name": "stdout",
     "output_type": "stream",
     "text": [
      "# of reviews before index:  1821\n",
      "# of reviews after index:  1821\n"
     ]
    }
   ],
   "source": [
    "x_test = convert_to_int(test_comments_stopwords, vocab_to_int)"
   ]
  },
  {
   "cell_type": "markdown",
   "metadata": {},
   "source": [
    "** Analyze review length **"
   ]
  },
  {
   "cell_type": "code",
   "execution_count": 71,
   "metadata": {},
   "outputs": [
    {
     "name": "stdout",
     "output_type": "stream",
     "text": [
      "train - Zero-length reviews: 2\n",
      "train - Maximum train example length: 36\n",
      "test - Zero-length reviews: 0\n",
      "test - Maximum test example length: 31\n"
     ]
    }
   ],
   "source": [
    "from collections import Counter\n",
    "\n",
    "# Create length to frequency map\n",
    "x_train_lens_map = Counter([len(x) for x in x_train])\n",
    "x_train_lens = [len(x) for x in x_train]\n",
    "print(\"train - Zero-length reviews: {}\".format(x_train_lens_map[0]))\n",
    "print(\"train - Maximum train example length: {}\".format(max(x_train_lens_map)))\n",
    "\n",
    "x_test_lens_map = Counter([len(x) for x in x_test])\n",
    "x_test_lens = [len(x) for x in x_test]\n",
    "print(\"test - Zero-length reviews: {}\".format(x_test_lens_map[0]))\n",
    "print(\"test - Maximum test example length: {}\".format(max(x_test_lens_map)))"
   ]
  },
  {
   "cell_type": "code",
   "execution_count": 76,
   "metadata": {},
   "outputs": [
    {
     "name": "stdout",
     "output_type": "stream",
     "text": [
      "averge length for training samples: 11.346387283236995\n",
      "averge length for testing samples: 11.339923119165293\n"
     ]
    }
   ],
   "source": [
    "ave_len = 0\n",
    "for i in x_train:\n",
    "    ave_len += len(i) \n",
    "ave_len = ave_len / len(x_train)\n",
    "print(\"averge length for training samples:\", ave_len)\n",
    "\n",
    "ave_len = 0\n",
    "for i in x_test:\n",
    "#     print(i)\n",
    "    ave_len += len(i)  \n",
    "ave_len = ave_len / len(x_test)\n",
    "print(\"averge length for testing samples:\", ave_len)"
   ]
  },
  {
   "cell_type": "code",
   "execution_count": 77,
   "metadata": {},
   "outputs": [
    {
     "data": {
      "image/png": "[encoded data removed]",
      "text/plain": [
       "<matplotlib.figure.Figure at 0x11002bf98>"
      ]
     },
     "metadata": {},
     "output_type": "display_data"
    },
    {
     "data": {
      "image/png": "[encoded data removed]",
      "text/plain": [
       "<matplotlib.figure.Figure at 0x10ff30dd8>"
      ]
     },
     "metadata": {},
     "output_type": "display_data"
    }
   ],
   "source": [
    "import matplotlib.pyplot as plt\n",
    "plt.plot(list(x_train_lens_map.keys()), list(x_train_lens_map.values()))\n",
    "# plt.axis([1000, 1500, 0, 55])\n",
    "plt.show()\n",
    "\n",
    "plt.plot(list(x_test_lens_map.keys()), list(x_test_lens_map.values()))\n",
    "# plt.axis([1000, 1500, 0, 55])\n",
    "plt.show()"
   ]
  },
  {
   "cell_type": "markdown",
   "metadata": {},
   "source": [
    "###  Padding\n",
    "\n",
    "* left padding\n",
    "* right padding"
   ]
  },
  {
   "cell_type": "code",
   "execution_count": 95,
   "metadata": {},
   "outputs": [],
   "source": [
    "def left_padding(reviews_ints, seq_len):\n",
    "    \n",
    "    # The features created here are the data that we are going to train and test the network\n",
    "\n",
    "    # Create features with shape (len(reviews_ints), seq_len) and initialized with zeros\n",
    "    features = np.zeros((len(reviews_ints), seq_len), dtype=int)\n",
    "\n",
    "    # Create list holding the length for each review\n",
    "    lengths = []\n",
    "\n",
    "    # row is the review in forms of a list of integers\n",
    "    for i, row in enumerate(reviews_ints):\n",
    "\n",
    "        # left padding\n",
    "        features[i, -len(row):] = np.array(row)[:seq_len]\n",
    "        \n",
    "        # record the length of each review. This might be useful when we want to use sequence_length argument\n",
    "        # of tf.nn.dynamic_rnn(...)\n",
    "        lengths.append(len(row) if len(row) < seq_len else seq_len)\n",
    "        \n",
    "    return features, lengths"
   ]
  },
  {
   "cell_type": "code",
   "execution_count": 96,
   "metadata": {},
   "outputs": [],
   "source": [
    "def right_padding(reviews_ints, seq_len):\n",
    "    \n",
    "    # The features created here are the data that we are going to train and test the network\n",
    "\n",
    "    # Create features with shape (len(reviews_ints), seq_len) and initialized with zeros\n",
    "    features = np.zeros((len(reviews_ints), seq_len), dtype=int)\n",
    "\n",
    "    # Create list holding the length for each review\n",
    "    lengths = []\n",
    "\n",
    "    # row is the review in forms of a list of integers\n",
    "    for i, row in enumerate(reviews_ints):\n",
    "\n",
    "        # right padding\n",
    "        features[i, :len(row)] = np.array(row)[:seq_len]\n",
    "\n",
    "        # record the length of each review. This might be useful when we want to use sequence_length argument\n",
    "        # of tf.nn.dynamic_rnn(...)\n",
    "        lengths.append(len(row) if len(row) < seq_len else seq_len)\n",
    "        \n",
    "    return features, lengths"
   ]
  },
  {
   "cell_type": "code",
   "execution_count": 97,
   "metadata": {},
   "outputs": [
    {
     "name": "stdout",
     "output_type": "stream",
     "text": [
      "[[ 0  4  6  7  2  3  5  7  8  1]\n",
      " [ 1  2  3  4  6  7  2  3  5  7]\n",
      " [ 1  2  3  4  6  7  2  3 26  1]\n",
      " [ 0  0  0  0  0  0  0  8  7  3]]\n",
      "[9, 10, 10, 3]\n"
     ]
    }
   ],
   "source": [
    "## test\n",
    "\n",
    "sample1 = [4,6,7,2,3,5,7,8,1]\n",
    "sample2 = [1,2,3,4,6,7,2,3,5,7]\n",
    "sample3 = [1,2,3,4,6,7,2,3,26,1, 11, 12]\n",
    "sample4 = [8,7,3]\n",
    "samples = []\n",
    "samples.append(sample1)\n",
    "samples.append(sample2)\n",
    "samples.append(sample3)\n",
    "samples.append(sample4)\n",
    "features_, lengths_ = left_padding(samples, 10)\n",
    "\n",
    "print(features_)\n",
    "print(lengths_)"
   ]
  },
  {
   "cell_type": "markdown",
   "metadata": {},
   "source": [
    "** Filter out samples with zero length **"
   ]
  },
  {
   "cell_type": "code",
   "execution_count": 90,
   "metadata": {},
   "outputs": [],
   "source": [
    "x_train_f = []\n",
    "y_train_f = []\n",
    "for idx in range(len(x_train)):\n",
    "    if len(x_train[idx]) != 0:\n",
    "        x_train_f.append(x_train[idx])\n",
    "        y_train_f.append(train_targets[idx])\n",
    "\n",
    "x_test_f = []\n",
    "y_test_f = []\n",
    "for idx in range(len(x_test)):\n",
    "    if len(x_test[idx]) != 0:\n",
    "        x_test_f.append(x_test[idx])\n",
    "        y_test_f.append(test_targets[idx])"
   ]
  },
  {
   "cell_type": "markdown",
   "metadata": {},
   "source": [
    "** Left/right padding **"
   ]
  },
  {
   "cell_type": "code",
   "execution_count": 98,
   "metadata": {},
   "outputs": [],
   "source": [
    "seq_len = 36\n",
    "x_train_p, x_train_len = left_padding(x_train_f, seq_len)\n",
    "x_test_p, x_test_len = left_padding(x_test_f, seq_len)"
   ]
  },
  {
   "cell_type": "code",
   "execution_count": 99,
   "metadata": {},
   "outputs": [
    {
     "name": "stdout",
     "output_type": "stream",
     "text": [
      "[[    0     0     0     0     0     0     0     0     0     0     0     0\n",
      "      0     0     0     0     0     0     0     0     0     0     0   117\n",
      "    533  1125   293   128   690   885     4    27   501  1489   296  4753]\n",
      " [    0     0     0     0     0     0     0     0     0     0     5  8189\n",
      "   5983  1404    78  9929  1976  5091  3023  4449     2  7744     1    18\n",
      "  10413   826  7438  4033    82   134    64     5     1  1384  3930    43]\n",
      " [    0     0     0     0     0     0     0     0     0     0     0     0\n",
      "      0     0     0     0     0     0  2883    97  1243    99     6     8\n",
      "     66   904     1  3530   361  2282     1    19   107  2840     1  1939]\n",
      " [    0     0     0     0     0     0     0     0     0     0     0     0\n",
      "      0     0     0     0     0     0     0     0     0  1164  1191     2\n",
      "  14267   714     1  3266     6    32   102  3266  3590   187   949    53]\n",
      " [    0     0     0     0     0     0     0     0     0     0     0     0\n",
      "      0     0     0     0     0     0     5   791    10   325  3280   412\n",
      "      6    16    39   133     2    94   286   306    13   474  1637  1146]]\n",
      "[13, 26, 18, 15, 18]\n"
     ]
    }
   ],
   "source": [
    "print(x_train_p[:5,:seq_len])\n",
    "print(x_train_len[:5])"
   ]
  },
  {
   "cell_type": "markdown",
   "metadata": {},
   "source": [
    "** Resplit training data **"
   ]
  },
  {
   "cell_type": "code",
   "execution_count": 101,
   "metadata": {},
   "outputs": [
    {
     "name": "stdout",
     "output_type": "stream",
     "text": [
      "(6918, 36)\n",
      "(1821, 36)\n"
     ]
    }
   ],
   "source": [
    "print(x_train_p.shape)\n",
    "print(x_test_p.shape)"
   ]
  },
  {
   "cell_type": "code",
   "execution_count": 102,
   "metadata": {},
   "outputs": [
    {
     "name": "stdout",
     "output_type": "stream",
     "text": [
      "8004\n",
      "735\n",
      "8004\n",
      "735\n",
      "8004\n",
      "735\n"
     ]
    }
   ],
   "source": [
    "\n",
    "x_train_ = np.append(x_train_p, x_test_p[:1086], axis=0)\n",
    "x_test_ = x_test_p[1086:]\n",
    "\n",
    "y_train_ = np.array(np.append(y_train_f, y_test_f[:1086], axis=0))\n",
    "y_test_ = np.array(y_test_f[1086:])\n",
    "\n",
    "x_train_len_ = np.append(x_train_len, x_test_len[:1086], axis=0)\n",
    "x_test_len_ = x_test_len[1086:]\n",
    "\n",
    "print(len(x_train_))\n",
    "print(len(x_test_))\n",
    "print(len(y_train_))\n",
    "print(len(y_test_))\n",
    "print(len(x_train_len_))\n",
    "print(len(x_test_len_))"
   ]
  },
  {
   "cell_type": "code",
   "execution_count": 104,
   "metadata": {},
   "outputs": [
    {
     "name": "stdout",
     "output_type": "stream",
     "text": [
      "(8004, 36) <class 'numpy.ndarray'>\n",
      "(735, 36) <class 'numpy.ndarray'>\n",
      "(8004,) <class 'numpy.ndarray'>\n",
      "(735,) <class 'numpy.ndarray'>\n"
     ]
    }
   ],
   "source": [
    "print(x_train_.shape, type(x_train_))\n",
    "print(x_test_.shape, type(x_test_))\n",
    "print(y_train_.shape, type(y_train_))\n",
    "print(y_test_.shape, type(y_test_))\n",
    "# print(x_train_len_.shape)\n",
    "# print(x_test_len_.shape)"
   ]
  },
  {
   "cell_type": "markdown",
   "metadata": {},
   "source": [
    "****"
   ]
  },
  {
   "cell_type": "markdown",
   "metadata": {},
   "source": [
    "## Using Naive Bayes and SVM "
   ]
  },
  {
   "cell_type": "code",
   "execution_count": 88,
   "metadata": {},
   "outputs": [
    {
     "name": "stdout",
     "output_type": "stream",
     "text": [
      "# of train comments: 6920\n",
      "# of test comments: 1821\n",
      "total # of comments: 8741\n"
     ]
    }
   ],
   "source": [
    "from sklearn.feature_extraction.text import CountVectorizer\n",
    "\n",
    "all_comments = train_comments_0 + test_comments_0\n",
    "\n",
    "print('# of train comments:', len(train_comments_0))\n",
    "print('# of test comments:', len(test_comments_0))\n",
    "print(\"total # of comments:\", len(all_comments))\n",
    "# Initialize a CoutVectorizer to use NLTK's tokenizer instead of its \n",
    "# default one (which ignores punctuation and stopwords). \n",
    "# Minimum document frequency set to 1. \n",
    "foovec = CountVectorizer(max_features=6000)\n",
    "# sents turned into sparse vector of word frequency counts\n",
    "# foovec = foovec.fit(all_comments)\n",
    "foovec = foovec.fit(train_comments_0)\n",
    "train_comments = foovec.transform(train_comments_0)\n",
    "# test_comments = foovec.fit_transform(test_comments_0)\n",
    "\n",
    "test_comments = foovec.transform(test_comments_0)\n",
    "\n",
    "# foovec now contains vocab dictionary which maps unique words to indexes\n",
    "# print(foovec.vocabulary_)\n",
    "# print(foovec.stop_words_ )\n",
    "# sents_counts has a dimension of 3 (document count) by 19 (# of unique words)\n",
    "# print(sents_counts.shape)\n"
   ]
  },
  {
   "cell_type": "code",
   "execution_count": 89,
   "metadata": {},
   "outputs": [
    {
     "name": "stdout",
     "output_type": "stream",
     "text": [
      "(6920, 6000)\n",
      "(1821, 6000)\n"
     ]
    }
   ],
   "source": [
    "print(train_comments.shape)\n",
    "print(test_comments.shape)"
   ]
  },
  {
   "cell_type": "code",
   "execution_count": 90,
   "metadata": {},
   "outputs": [
    {
     "name": "stdout",
     "output_type": "stream",
     "text": [
      "6920\n",
      "1821\n"
     ]
    }
   ],
   "source": [
    "from sklearn.feature_extraction.text import TfidfTransformer\n",
    "\n",
    "tfidf_transformer = TfidfTransformer()\n",
    "X_train = tfidf_transformer.fit_transform(train_comments)\n",
    "# X_test = tfidf_transformer.fit_transform(test_comments)\n",
    "X_test = tfidf_transformer.transform(test_comments)\n",
    "# print(sents_tfidf.toarray()[0, 200:600])\n",
    "\n",
    "print(X_train.shape[0])\n",
    "print(X_test.shape[0])"
   ]
  },
  {
   "cell_type": "code",
   "execution_count": 91,
   "metadata": {},
   "outputs": [
    {
     "name": "stdout",
     "output_type": "stream",
     "text": [
      "(6920, 6000)\n",
      "(1821, 6000)\n",
      "(6920, 6000)\n",
      "(1821, 6000)\n"
     ]
    }
   ],
   "source": [
    "print(train_comments.shape)\n",
    "print(test_comments.shape)\n",
    "print(X_train.shape)\n",
    "print(X_test.shape)"
   ]
  },
  {
   "cell_type": "code",
   "execution_count": 92,
   "metadata": {},
   "outputs": [],
   "source": [
    "# Now ready to build a classifier. \n",
    "# We will use Multinominal Naive Bayes as our model\n",
    "from sklearn.naive_bayes import MultinomialNB\n",
    "\n",
    "# Train a Multimoda Naive Bayes classifier\n",
    "clf = MultinomialNB().fit(X_train, train_targets)"
   ]
  },
  {
   "cell_type": "code",
   "execution_count": 93,
   "metadata": {},
   "outputs": [
    {
     "name": "stdout",
     "output_type": "stream",
     "text": [
      "\n"
     ]
    },
    {
     "data": {
      "text/plain": [
       "0.81164195496979685"
      ]
     },
     "execution_count": 93,
     "metadata": {},
     "output_type": "execute_result"
    }
   ],
   "source": [
    "# Predicting the Test set results, find accuracy\n",
    "from sklearn.metrics  import accuracy_score\n",
    "\n",
    "print()\n",
    "y_pred = clf.predict(X_test)\n",
    "# print(y_pred.shape)\n",
    "# print(test_targets.shape)\n",
    "\n",
    "\n",
    "accuracy_score(test_targets, y_pred)"
   ]
  },
  {
   "cell_type": "code",
   "execution_count": 94,
   "metadata": {},
   "outputs": [
    {
     "data": {
      "text/plain": [
       "array([[699, 213],\n",
       "       [130, 779]])"
      ]
     },
     "execution_count": 94,
     "metadata": {},
     "output_type": "execute_result"
    }
   ],
   "source": [
    "# Making the Confusion Matrix\n",
    "from sklearn.metrics import confusion_matrix\n",
    "cm = confusion_matrix(test_targets, y_pred)\n",
    "cm"
   ]
  },
  {
   "cell_type": "code",
   "execution_count": 95,
   "metadata": {},
   "outputs": [
    {
     "data": {
      "text/plain": [
       "0.80889621087314667"
      ]
     },
     "execution_count": 95,
     "metadata": {},
     "output_type": "execute_result"
    }
   ],
   "source": [
    "from sklearn.svm import SVC\n",
    "classifier_rbf = SVC(kernel='linear').fit(X_train, train_targets)\n",
    "y_pred = classifier_rbf.predict(X_test)\n",
    "accuracy_score(test_targets, y_pred)"
   ]
  },
  {
   "cell_type": "code",
   "execution_count": 96,
   "metadata": {},
   "outputs": [
    {
     "data": {
      "text/plain": [
       "array([[726, 186],\n",
       "       [162, 747]])"
      ]
     },
     "execution_count": 96,
     "metadata": {},
     "output_type": "execute_result"
    }
   ],
   "source": [
    "cm = confusion_matrix(test_targets, y_pred)\n",
    "cm"
   ]
  },
  {
   "cell_type": "code",
   "execution_count": 101,
   "metadata": {},
   "outputs": [
    {
     "name": "stdout",
     "output_type": "stream",
     "text": [
      "Fitting the classifier to the training set\n",
      "done in 453.360s\n",
      "Best estimator found by grid search:\n",
      "SVC(C=1000.0, cache_size=200, class_weight='balanced', coef0=0.0,\n",
      "  decision_function_shape='ovr', degree=3, gamma=0.0005, kernel='rbf',\n",
      "  max_iter=-1, probability=False, random_state=None, shrinking=True,\n",
      "  tol=0.001, verbose=False)\n"
     ]
    }
   ],
   "source": [
    "from sklearn.model_selection import GridSearchCV\n",
    "from time import time\n",
    "\n",
    "print(\"Fitting the classifier to the training set\")\n",
    "t0 = time()\n",
    "param_grid = {'C': [1e3, 5e3, 1e4, 5e4, 1e5],\n",
    "              'gamma': [0.0001, 0.0005, 0.001, 0.005, 0.01, 0.1], }\n",
    "clf = GridSearchCV(SVC(kernel='rbf', class_weight='balanced'), param_grid)\n",
    "clf = clf.fit(X_train, y_train)\n",
    "print(\"done in %0.3fs\" % (time() - t0))\n",
    "print(\"Best estimator found by grid search:\")\n",
    "print(clf.best_estimator_)"
   ]
  },
  {
   "cell_type": "code",
   "execution_count": 102,
   "metadata": {},
   "outputs": [
    {
     "data": {
      "text/plain": [
       "0.77962427745664742"
      ]
     },
     "execution_count": 102,
     "metadata": {},
     "output_type": "execute_result"
    }
   ],
   "source": [
    "y_pred = clf.predict(X_test)\n",
    "accuracy_score(y_test, y_pred)"
   ]
  },
  {
   "cell_type": "code",
   "execution_count": null,
   "metadata": {},
   "outputs": [],
   "source": [
    "def remove_punctuation(s):\n",
    "    return s.translate(str.maketrans('','',string.punctuation))\n",
    "\n",
    "sentence = \"how ! are you --\"\n",
    "print(remove_punctuation(sentence))"
   ]
  }
 ],
 "metadata": {
  "kernelspec": {
   "display_name": "Python 3",
   "language": "python",
   "name": "python3"
  },
  "language_info": {
   "codemirror_mode": {
    "name": "ipython",
    "version": 3
   },
   "file_extension": ".py",
   "mimetype": "text/x-python",
   "name": "python",
   "nbconvert_exporter": "python",
   "pygments_lexer": "ipython3",
   "version": "3.4.4"
  }
 },
 "nbformat": 4,
 "nbformat_minor": 2
}
