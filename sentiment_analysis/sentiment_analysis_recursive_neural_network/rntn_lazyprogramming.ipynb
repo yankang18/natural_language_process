{
 "cells": [
  {
   "cell_type": "code",
   "execution_count": 97,
   "metadata": {},
   "outputs": [],
   "source": [
    "import sys\n",
    "import numpy as np\n",
    "import matplotlib.pyplot as plt\n",
    "import theano\n",
    "import theano.tensor as T\n",
    "\n",
    "from sklearn.utils import shuffle\n",
    "from datetime import datetime\n",
    "from sklearn.metrics import f1_score"
   ]
  },
  {
   "cell_type": "code",
   "execution_count": 98,
   "metadata": {},
   "outputs": [],
   "source": [
    "def init_weight(Mi, Mo):\n",
    "    return np.random.randn(Mi, Mo) / np.sqrt(Mi + Mo)"
   ]
  },
  {
   "cell_type": "code",
   "execution_count": 99,
   "metadata": {},
   "outputs": [],
   "source": [
    "class Tree:\n",
    "    def __init__(self, word, label):\n",
    "        self.left = None\n",
    "        self.right = None\n",
    "        self.word = word\n",
    "        self.label = label\n",
    "\n",
    "\n",
    "def display_tree(t, lvl=0):\n",
    "    prefix = ''.join(['>']*lvl)\n",
    "    if t.word is not None:\n",
    "        print(\"%s%s %s\" % (prefix, t.label, t.word))\n",
    "    else:\n",
    "        print(\"%s%s -\" % (prefix, t.label))\n",
    "        # if t.left is None or t.right is None:\n",
    "        #     raise Exception(\"Tree node has no word but left and right child are None\")\n",
    "    if t.left:\n",
    "        display_tree(t.left, lvl + 1)\n",
    "    if t.right:\n",
    "        display_tree(t.right, lvl + 1)\n",
    "\n",
    "\n",
    "current_idx = 0\n",
    "def str2tree(s, word2idx):\n",
    "    # take a string that starts with ( and MAYBE ends with )\n",
    "    # return the tree that it represents\n",
    "    # EXAMPLE: \"(3 (2 It) (4 (4 (2 's) (4 (3 (2 a) (4 (3 lovely) (2 film))) (3 (2 with) (4 (3 (3 lovely) (2 performances)) (2 (2 by) (2 (2 (2 Buy) (2 and)) (2 Accorsi))))))) (2 .)))\"\n",
    "    # NOTE: not every node has 2 children (possibly not correct ??)\n",
    "    # NOTE: not every node has a word\n",
    "    # NOTE: every node has a label\n",
    "    # NOTE: labels are 0,1,2,3,4\n",
    "    # NOTE: only leaf nodes have words\n",
    "    # s[0] = (, s[1] = label, s[2] = space, s[3] = character or (\n",
    "\n",
    "    # print \"Input string:\", s, \"len:\", len(s)\n",
    "\n",
    "    global current_idx\n",
    "\n",
    "    label = int(s[1])\n",
    "    if s[3] == '(':\n",
    "        t = Tree(None, label)\n",
    "        # try:\n",
    "\n",
    "        # find the string that represents left child\n",
    "        # it can include trailing characters we don't need, because we'll only look up to )\n",
    "        child_s = s[3:]\n",
    "        t.left = str2tree(child_s, word2idx)\n",
    "\n",
    "        # find the string that represents right child\n",
    "        # can contain multiple ((( )))\n",
    "        # left child is completely represented when we've closed as many as we've opened\n",
    "        # we stop at 1 because the first opening paren represents the current node, not children nodes\n",
    "        i = 0\n",
    "        depth = 0\n",
    "        for c in s:\n",
    "            i += 1\n",
    "            if c == '(':\n",
    "                depth += 1\n",
    "            elif c == ')':\n",
    "                depth -= 1\n",
    "                if depth == 1:\n",
    "                    break\n",
    "        # print \"index of right child\", i\n",
    "\n",
    "        t.right = str2tree(s[i+1:], word2idx)\n",
    "\n",
    "        # except Exception as e:\n",
    "        #     print \"Exception:\", e\n",
    "        #     print \"Input string:\", s\n",
    "        #     raise e\n",
    "\n",
    "        # if t.left is None or t.right is None:\n",
    "        #     raise Exception(\"Tree node has no word but left and right child are None\")\n",
    "        return t\n",
    "    else:\n",
    "        # this has a word, so it's a leaf\n",
    "        r = s.split(')', 1)[0]\n",
    "        word = r[3:].lower()\n",
    "        # print \"word found:\", word\n",
    "\n",
    "        if word not in word2idx:\n",
    "            word2idx[word] = current_idx\n",
    "            current_idx += 1\n",
    "\n",
    "        t = Tree(word2idx[word], label)\n",
    "        return t\n",
    "\n",
    "\n",
    "def get_ptb_data():\n",
    "    # like the wikipedia dataset, I want to return 2 things:\n",
    "    # word2idx mapping, sentences\n",
    "    # here the sentences should be Tree objects\n",
    "\n",
    "    word2idx = {}\n",
    "    train = []\n",
    "    test = []\n",
    "\n",
    "    # train set first\n",
    "    for line in open('./data/large_files/stanford_sentiment/trees/train.txt'):\n",
    "        line = line.rstrip()\n",
    "        if line:\n",
    "            t = str2tree(line, word2idx)\n",
    "            # if t.word is None and t.left is None and t.right is None:\n",
    "            #     print \"sentence:\", line\n",
    "            # display_tree(t)\n",
    "            # print \"\"\n",
    "            train.append(t)\n",
    "            # break\n",
    "\n",
    "    # test set\n",
    "    for line in open('./data/large_files/stanford_sentiment/trees/test.txt'):\n",
    "        line = line.rstrip()\n",
    "        if line:\n",
    "            t = str2tree(line, word2idx)\n",
    "            test.append(t)\n",
    "    return train, test, word2idx"
   ]
  },
  {
   "cell_type": "code",
   "execution_count": 100,
   "metadata": {},
   "outputs": [],
   "source": [
    "class RecursiveNN:\n",
    "    def __init__(self, V, D, K):\n",
    "        self.V = V\n",
    "        self.D = D\n",
    "        self.K = K\n",
    "\n",
    "    def fit(self, trees, tests, learning_rate=1e-3, mu=0.5, reg=1e-2, eps=1e-2, epochs=20, activation=T.tanh, train_inner_nodes=False):\n",
    "        D = self.D\n",
    "        V = self.V\n",
    "        K = self.K\n",
    "        self.f = activation\n",
    "        N = len(trees)\n",
    "\n",
    "        print(\"learning rate:\", learning_rate)\n",
    "        print(\"regularization:\", reg)\n",
    "        print(\"mu:\", mu)\n",
    "        print(\"eps:\", eps)\n",
    "        print(\"dim:\", D)\n",
    "        print(\"epochs:\", epochs)\n",
    "    \n",
    "        We = init_weight(V, D)\n",
    "        W11 = np.random.randn(D, D, D) / np.sqrt(3*D)\n",
    "        W22 = np.random.randn(D, D, D) / np.sqrt(3*D)\n",
    "        W12 = np.random.randn(D, D, D) / np.sqrt(3*D)\n",
    "        W1 = init_weight(D, D)\n",
    "        W2 = init_weight(D, D)\n",
    "        bh = np.zeros(D)\n",
    "        Wo = init_weight(D, K)\n",
    "        bo = np.zeros(K)\n",
    "\n",
    "        self.We = theano.shared(We)\n",
    "        self.W11 = theano.shared(W11)\n",
    "        self.W22 = theano.shared(W22)\n",
    "        self.W12 = theano.shared(W12)\n",
    "        self.W1 = theano.shared(W1)\n",
    "        self.W2 = theano.shared(W2)\n",
    "        self.bh = theano.shared(bh)\n",
    "        self.Wo = theano.shared(Wo)\n",
    "        self.bo = theano.shared(bo)\n",
    "        self.params = [self.We, self.W11, self.W22, self.W12, self.W1, self.W2, self.bh, self.Wo, self.bo]\n",
    "\n",
    "        words = T.ivector('words')\n",
    "        left_children = T.ivector('left_children')\n",
    "        right_children = T.ivector('right_children')\n",
    "        labels = T.ivector('labels')\n",
    "\n",
    "        def recurrence(n, hiddens, words, left, right):\n",
    "            w = words[n]\n",
    "            # any non-word will have index -1\n",
    "            hiddens = T.switch(\n",
    "                T.ge(w, 0),\n",
    "                T.set_subtensor(hiddens[n], self.We[w]),\n",
    "                T.set_subtensor(hiddens[n],\n",
    "                    self.f(\n",
    "                        hiddens[left[n]].dot(self.W11).dot(hiddens[left[n]]) +\n",
    "                        hiddens[right[n]].dot(self.W22).dot(hiddens[right[n]]) +\n",
    "                        hiddens[left[n]].dot(self.W12).dot(hiddens[right[n]]) +\n",
    "                        hiddens[left[n]].dot(self.W1) +\n",
    "                        hiddens[right[n]].dot(self.W2) +\n",
    "                        self.bh\n",
    "                    )\n",
    "                )\n",
    "            )\n",
    "            return hiddens\n",
    "\n",
    "        hiddens = T.zeros((words.shape[0], D))\n",
    "\n",
    "        h, _ = theano.scan(\n",
    "            fn=recurrence,\n",
    "            outputs_info=[hiddens],\n",
    "            n_steps=words.shape[0],\n",
    "            sequences=T.arange(words.shape[0]),\n",
    "            non_sequences=[words, left_children, right_children],\n",
    "        )\n",
    "\n",
    "        py_x = T.nnet.softmax(h[-1].dot(self.Wo) + self.bo)\n",
    "\n",
    "        prediction = T.argmax(py_x, axis=1)\n",
    "        \n",
    "        rcost = reg*T.mean([(p*p).sum() for p in self.params])\n",
    "        if train_inner_nodes:\n",
    "            cost = -T.mean(T.log(py_x[T.arange(labels.shape[0]), labels])) + rcost\n",
    "        else:\n",
    "            cost = -T.mean(T.log(py_x[-1, labels[-1]])) + rcost\n",
    "        grads = T.grad(cost, self.params)\n",
    "        # dparams = [theano.shared(p.get_value()*0) for p in self.params]\n",
    "        cache = [theano.shared(p.get_value()*0) for p in self.params]\n",
    "\n",
    "        # momentum\n",
    "        # updates = [\n",
    "        #     (p, p + mu*dp - learning_rate*g) for p, dp, g in zip(self.params, dparams, grads)\n",
    "        # ] + [\n",
    "        #     (dp, mu*dp - learning_rate*g) for dp, g in zip(dparams, grads)\n",
    "        # ]\n",
    "        updates = [\n",
    "            (c, c + g*g) for c, g in zip(cache, grads)\n",
    "        ] + [\n",
    "            (p, p - learning_rate*g / T.sqrt(c + eps)) for p, c, g in zip(self.params, cache, grads)\n",
    "        ]\n",
    "\n",
    "        self.cost_predict_op = theano.function(\n",
    "            inputs=[words, left_children, right_children, labels],\n",
    "            outputs=[cost, prediction],\n",
    "            allow_input_downcast=True,\n",
    "        )\n",
    "\n",
    "        self.train_op = theano.function(\n",
    "            inputs=[words, left_children, right_children, labels],\n",
    "            outputs=[cost, prediction],\n",
    "            updates=updates\n",
    "        )\n",
    "\n",
    "        costs = []\n",
    "        sequence_indexes = range(N)\n",
    "        if train_inner_nodes:\n",
    "            n_total = sum(len(words) for words, _, _, _ in trees)\n",
    "        else:\n",
    "            n_total = N\n",
    "        for i in range(epochs):\n",
    "            t0 = datetime.now()\n",
    "            sequence_indexes = shuffle(sequence_indexes)\n",
    "            n_correct = 0\n",
    "            cost = 0\n",
    "            it = 0\n",
    "            for j in sequence_indexes:\n",
    "                words, left, right, lab = trees[j]\n",
    "                c, p = self.train_op(words, left, right, lab)\n",
    "                if np.isnan(c):\n",
    "                    print(\"Cost is nan! Let's stop here. Why don't you try decreasing the learning rate?\")\n",
    "                    exit()\n",
    "                cost += c\n",
    "                if train_inner_nodes:\n",
    "                    n_correct += np.sum(p == lab)\n",
    "                else:\n",
    "                    n_correct += (p[-1] == lab[-1])\n",
    "                it += 1\n",
    "                if it % 1 == 0:\n",
    "                    sys.stdout.write(\"j/N: %d/%d correct rate so far: %f, cost so far: %f\\r\" % (it, N, float(n_correct)/n_total, cost))\n",
    "                    sys.stdout.flush()\n",
    "            print(\"i:\", i, \"cost:\", cost, \"correct rate:\", (float(n_correct)/n_total), \"time for epoch:\", (datetime.now() - t0))\n",
    "            print(\"test accuracy:\", self.score(tests))\n",
    "            \n",
    "            costs.append(cost)\n",
    "\n",
    "        plt.plot(costs)\n",
    "        plt.show()\n",
    "\n",
    "    def score(self, trees):\n",
    "        n_total = len(trees)\n",
    "        n_correct = 0\n",
    "        for words, left, right, lab in trees:\n",
    "            _, p = self.cost_predict_op(words, left, right, lab)\n",
    "            n_correct += (p[-1] == lab[-1])\n",
    "        return float(n_correct) / n_total\n",
    "\n",
    "    def f1_score(self, trees):\n",
    "        Y = []\n",
    "        P = []\n",
    "        for words, left, right, lab in trees:\n",
    "            _, p = self.cost_predict_op(words, left, right, lab)\n",
    "            Y.append(lab[-1])\n",
    "            P.append(p[-1])\n",
    "        return f1_score(Y, P, average=None).mean()\n",
    "\n",
    "\n",
    "def add_idx_to_tree(tree, current_idx):\n",
    "    # post-order labeling of tree nodes\n",
    "    if tree is None:\n",
    "        return current_idx\n",
    "    current_idx = add_idx_to_tree(tree.left, current_idx)\n",
    "    current_idx = add_idx_to_tree(tree.right, current_idx)\n",
    "    tree.idx = current_idx\n",
    "    current_idx += 1\n",
    "    return current_idx\n",
    "\n",
    "\n",
    "def tree2list(tree, parent_idx, is_binary=False):\n",
    "    if tree is None:\n",
    "        return [], [], [], []\n",
    "\n",
    "    words_left, left_child_left, right_child_left, labels_left = tree2list(tree.left, tree.idx, is_binary)\n",
    "    words_right, left_child_right, right_child_right, labels_right = tree2list(tree.right, tree.idx, is_binary)\n",
    "\n",
    "    if tree.word is None:\n",
    "        w = -1\n",
    "        left = tree.left.idx\n",
    "        right = tree.right.idx\n",
    "    else:\n",
    "        w = tree.word\n",
    "        left = -1\n",
    "        right = -1\n",
    "\n",
    "    words = words_left + words_right + [w]\n",
    "    left_child = left_child_left + left_child_right + [left]\n",
    "    right_child = right_child_left + right_child_right + [right]\n",
    "\n",
    "    if is_binary:\n",
    "        if tree.label > 2:\n",
    "            label = 1\n",
    "        elif tree.label < 2:\n",
    "            label = 0\n",
    "        else:\n",
    "            label = -1 # we will eventually filter these out\n",
    "    else:\n",
    "        label = tree.label\n",
    "    labels = labels_left + labels_right + [label]\n",
    "\n",
    "    return words, left_child, right_child, labels\n",
    "\n",
    "\n",
    "def main(is_binary=True, learning_rate=1e-3, reg=1e-2, D=10, epochs=30):\n",
    "    train, test, word2idx = get_ptb_data()\n",
    "\n",
    "    for t in train:\n",
    "        add_idx_to_tree(t, 0)\n",
    "    train = [tree2list(t, -1, is_binary) for t in train]\n",
    "    if is_binary:\n",
    "        train = [t for t in train if t[3][-1] >= 0] # for filtering binary labels\n",
    "\n",
    "    for t in test:\n",
    "        add_idx_to_tree(t, 0)\n",
    "    test = [tree2list(t, -1, is_binary) for t in test]\n",
    "    if is_binary:\n",
    "        test = [t for t in test if t[3][-1] >= 0] # for filtering binary labels\n",
    "\n",
    "    train = shuffle(train)\n",
    "#     train = train[:5000]\n",
    "    # n_pos = sum(t[3][-1] for t in train)\n",
    "    # print \"n_pos train:\", n_pos\n",
    "    test = shuffle(test)\n",
    "#     test = test[:1000]\n",
    "    # n_pos = sum(t[3][-1] for t in test)\n",
    "    # print \"n_pos test:\", n_pos\n",
    "\n",
    "    V = len(word2idx)\n",
    "    print(\"vocab size:\", V)\n",
    "#     D = 20\n",
    "    K = 2 if is_binary else 5\n",
    "\n",
    "    model = RecursiveNN(V, D, K)\n",
    "    model.fit(train, test[:200], learning_rate=learning_rate, reg=reg, epochs=epochs)\n",
    "    print(\"train accuracy:\", model.score(train))\n",
    "    print(\"test accuracy:\", model.score(test))\n",
    "    print(\"train f1:\", model.f1_score(train))\n",
    "    print(\"test f1:\", model.f1_score(test))"
   ]
  },
  {
   "cell_type": "code",
   "execution_count": 20,
   "metadata": {},
   "outputs": [
    {
     "name": "stdout",
     "output_type": "stream",
     "text": [
      "vocab size: 18647\n",
      "learning rate: 0.001\n",
      "regularization: 0.01\n",
      "mu: 0.5\n",
      "eps: 0.01\n",
      "dim: 10\n",
      "epochs: 30\n"
     ]
    },
    {
     "ename": "KeyboardInterrupt",
     "evalue": "",
     "output_type": "error",
     "traceback": [
      "\u001b[0;31m---------------------------------------------------------------------------\u001b[0m",
      "\u001b[0;31mKeyboardInterrupt\u001b[0m                         Traceback (most recent call last)",
      "\u001b[0;32m<ipython-input-20-263240bbee7e>\u001b[0m in \u001b[0;36m<module>\u001b[0;34m()\u001b[0m\n\u001b[0;32m----> 1\u001b[0;31m \u001b[0mmain\u001b[0m\u001b[0;34m(\u001b[0m\u001b[0;34m)\u001b[0m\u001b[0;34m\u001b[0m\u001b[0m\n\u001b[0m",
      "\u001b[0;32m<ipython-input-19-fa000c045135>\u001b[0m in \u001b[0;36mmain\u001b[0;34m(is_binary, learning_rate, D, epochs)\u001b[0m\n\u001b[1;32m    237\u001b[0m \u001b[0;34m\u001b[0m\u001b[0m\n\u001b[1;32m    238\u001b[0m     \u001b[0mmodel\u001b[0m \u001b[0;34m=\u001b[0m \u001b[0mRecursiveNN\u001b[0m\u001b[0;34m(\u001b[0m\u001b[0mV\u001b[0m\u001b[0;34m,\u001b[0m \u001b[0mD\u001b[0m\u001b[0;34m,\u001b[0m \u001b[0mK\u001b[0m\u001b[0;34m)\u001b[0m\u001b[0;34m\u001b[0m\u001b[0m\n\u001b[0;32m--> 239\u001b[0;31m     \u001b[0mmodel\u001b[0m\u001b[0;34m.\u001b[0m\u001b[0mfit\u001b[0m\u001b[0;34m(\u001b[0m\u001b[0mtrain\u001b[0m\u001b[0;34m,\u001b[0m \u001b[0mlearning_rate\u001b[0m\u001b[0;34m=\u001b[0m\u001b[0mlearning_rate\u001b[0m\u001b[0;34m,\u001b[0m \u001b[0mepochs\u001b[0m\u001b[0;34m=\u001b[0m\u001b[0mepochs\u001b[0m\u001b[0;34m)\u001b[0m\u001b[0;34m\u001b[0m\u001b[0m\n\u001b[0m\u001b[1;32m    240\u001b[0m     \u001b[0mprint\u001b[0m\u001b[0;34m(\u001b[0m\u001b[0;34m\"train accuracy:\"\u001b[0m\u001b[0;34m,\u001b[0m \u001b[0mmodel\u001b[0m\u001b[0;34m.\u001b[0m\u001b[0mscore\u001b[0m\u001b[0;34m(\u001b[0m\u001b[0mtrain\u001b[0m\u001b[0;34m)\u001b[0m\u001b[0;34m)\u001b[0m\u001b[0;34m\u001b[0m\u001b[0m\n\u001b[1;32m    241\u001b[0m     \u001b[0mprint\u001b[0m\u001b[0;34m(\u001b[0m\u001b[0;34m\"test accuracy:\"\u001b[0m\u001b[0;34m,\u001b[0m \u001b[0mmodel\u001b[0m\u001b[0;34m.\u001b[0m\u001b[0mscore\u001b[0m\u001b[0;34m(\u001b[0m\u001b[0mtest\u001b[0m\u001b[0;34m)\u001b[0m\u001b[0;34m)\u001b[0m\u001b[0;34m\u001b[0m\u001b[0m\n",
      "\u001b[0;32m<ipython-input-19-fa000c045135>\u001b[0m in \u001b[0;36mfit\u001b[0;34m(self, trees, learning_rate, mu, reg, eps, epochs, activation, train_inner_nodes)\u001b[0m\n\u001b[1;32m    102\u001b[0m             \u001b[0minputs\u001b[0m\u001b[0;34m=\u001b[0m\u001b[0;34m[\u001b[0m\u001b[0mwords\u001b[0m\u001b[0;34m,\u001b[0m \u001b[0mleft_children\u001b[0m\u001b[0;34m,\u001b[0m \u001b[0mright_children\u001b[0m\u001b[0;34m,\u001b[0m \u001b[0mlabels\u001b[0m\u001b[0;34m]\u001b[0m\u001b[0;34m,\u001b[0m\u001b[0;34m\u001b[0m\u001b[0m\n\u001b[1;32m    103\u001b[0m             \u001b[0moutputs\u001b[0m\u001b[0;34m=\u001b[0m\u001b[0;34m[\u001b[0m\u001b[0mcost\u001b[0m\u001b[0;34m,\u001b[0m \u001b[0mprediction\u001b[0m\u001b[0;34m]\u001b[0m\u001b[0;34m,\u001b[0m\u001b[0;34m\u001b[0m\u001b[0m\n\u001b[0;32m--> 104\u001b[0;31m             \u001b[0mallow_input_downcast\u001b[0m\u001b[0;34m=\u001b[0m\u001b[0;32mTrue\u001b[0m\u001b[0;34m,\u001b[0m\u001b[0;34m\u001b[0m\u001b[0m\n\u001b[0m\u001b[1;32m    105\u001b[0m         )\n\u001b[1;32m    106\u001b[0m \u001b[0;34m\u001b[0m\u001b[0m\n",
      "\u001b[0;32m/Library/Frameworks/Python.framework/Versions/3.4/lib/python3.4/site-packages/theano/compile/function.py\u001b[0m in \u001b[0;36mfunction\u001b[0;34m(inputs, outputs, mode, updates, givens, no_default_updates, accept_inplace, name, rebuild_strict, allow_input_downcast, profile, on_unused_input)\u001b[0m\n\u001b[1;32m    324\u001b[0m                    \u001b[0mon_unused_input\u001b[0m\u001b[0;34m=\u001b[0m\u001b[0mon_unused_input\u001b[0m\u001b[0;34m,\u001b[0m\u001b[0;34m\u001b[0m\u001b[0m\n\u001b[1;32m    325\u001b[0m                    \u001b[0mprofile\u001b[0m\u001b[0;34m=\u001b[0m\u001b[0mprofile\u001b[0m\u001b[0;34m,\u001b[0m\u001b[0;34m\u001b[0m\u001b[0m\n\u001b[0;32m--> 326\u001b[0;31m                    output_keys=output_keys)\n\u001b[0m\u001b[1;32m    327\u001b[0m     \u001b[0;31m# We need to add the flag check_aliased inputs if we have any mutable or\u001b[0m\u001b[0;34m\u001b[0m\u001b[0;34m\u001b[0m\u001b[0m\n\u001b[1;32m    328\u001b[0m     \u001b[0;31m# borrowed used defined inputs\u001b[0m\u001b[0;34m\u001b[0m\u001b[0;34m\u001b[0m\u001b[0m\n",
      "\u001b[0;32m/Library/Frameworks/Python.framework/Versions/3.4/lib/python3.4/site-packages/theano/compile/pfunc.py\u001b[0m in \u001b[0;36mpfunc\u001b[0;34m(params, outputs, mode, updates, givens, no_default_updates, accept_inplace, name, rebuild_strict, allow_input_downcast, profile, on_unused_input, output_keys)\u001b[0m\n\u001b[1;32m    484\u001b[0m                          \u001b[0maccept_inplace\u001b[0m\u001b[0;34m=\u001b[0m\u001b[0maccept_inplace\u001b[0m\u001b[0;34m,\u001b[0m \u001b[0mname\u001b[0m\u001b[0;34m=\u001b[0m\u001b[0mname\u001b[0m\u001b[0;34m,\u001b[0m\u001b[0;34m\u001b[0m\u001b[0m\n\u001b[1;32m    485\u001b[0m                          \u001b[0mprofile\u001b[0m\u001b[0;34m=\u001b[0m\u001b[0mprofile\u001b[0m\u001b[0;34m,\u001b[0m \u001b[0mon_unused_input\u001b[0m\u001b[0;34m=\u001b[0m\u001b[0mon_unused_input\u001b[0m\u001b[0;34m,\u001b[0m\u001b[0;34m\u001b[0m\u001b[0m\n\u001b[0;32m--> 486\u001b[0;31m                          output_keys=output_keys)\n\u001b[0m\u001b[1;32m    487\u001b[0m \u001b[0;34m\u001b[0m\u001b[0m\n\u001b[1;32m    488\u001b[0m \u001b[0;34m\u001b[0m\u001b[0m\n",
      "\u001b[0;32m/Library/Frameworks/Python.framework/Versions/3.4/lib/python3.4/site-packages/theano/compile/function_module.py\u001b[0m in \u001b[0;36morig_function\u001b[0;34m(inputs, outputs, mode, accept_inplace, name, profile, on_unused_input, output_keys)\u001b[0m\n\u001b[1;32m   1793\u001b[0m                    \u001b[0mon_unused_input\u001b[0m\u001b[0;34m=\u001b[0m\u001b[0mon_unused_input\u001b[0m\u001b[0;34m,\u001b[0m\u001b[0;34m\u001b[0m\u001b[0m\n\u001b[1;32m   1794\u001b[0m                    \u001b[0moutput_keys\u001b[0m\u001b[0;34m=\u001b[0m\u001b[0moutput_keys\u001b[0m\u001b[0;34m)\u001b[0m\u001b[0;34m.\u001b[0m\u001b[0mcreate\u001b[0m\u001b[0;34m(\u001b[0m\u001b[0;34m\u001b[0m\u001b[0m\n\u001b[0;32m-> 1795\u001b[0;31m             defaults)\n\u001b[0m\u001b[1;32m   1796\u001b[0m \u001b[0;34m\u001b[0m\u001b[0m\n\u001b[1;32m   1797\u001b[0m     \u001b[0mt2\u001b[0m \u001b[0;34m=\u001b[0m \u001b[0mtime\u001b[0m\u001b[0;34m.\u001b[0m\u001b[0mtime\u001b[0m\u001b[0;34m(\u001b[0m\u001b[0;34m)\u001b[0m\u001b[0;34m\u001b[0m\u001b[0m\n",
      "\u001b[0;32m/Library/Frameworks/Python.framework/Versions/3.4/lib/python3.4/site-packages/theano/compile/function_module.py\u001b[0m in \u001b[0;36mcreate\u001b[0;34m(self, input_storage, trustme, storage_map)\u001b[0m\n\u001b[1;32m   1659\u001b[0m             \u001b[0mtheano\u001b[0m\u001b[0;34m.\u001b[0m\u001b[0mconfig\u001b[0m\u001b[0;34m.\u001b[0m\u001b[0mtraceback\u001b[0m\u001b[0;34m.\u001b[0m\u001b[0mlimit\u001b[0m \u001b[0;34m=\u001b[0m \u001b[0mtheano\u001b[0m\u001b[0;34m.\u001b[0m\u001b[0mconfig\u001b[0m\u001b[0;34m.\u001b[0m\u001b[0mtraceback\u001b[0m\u001b[0;34m.\u001b[0m\u001b[0mcompile_limit\u001b[0m\u001b[0;34m\u001b[0m\u001b[0m\n\u001b[1;32m   1660\u001b[0m             _fn, _i, _o = self.linker.make_thunk(\n\u001b[0;32m-> 1661\u001b[0;31m                 input_storage=input_storage_lists, storage_map=storage_map)\n\u001b[0m\u001b[1;32m   1662\u001b[0m         \u001b[0;32mfinally\u001b[0m\u001b[0;34m:\u001b[0m\u001b[0;34m\u001b[0m\u001b[0m\n\u001b[1;32m   1663\u001b[0m             \u001b[0mtheano\u001b[0m\u001b[0;34m.\u001b[0m\u001b[0mconfig\u001b[0m\u001b[0;34m.\u001b[0m\u001b[0mtraceback\u001b[0m\u001b[0;34m.\u001b[0m\u001b[0mlimit\u001b[0m \u001b[0;34m=\u001b[0m \u001b[0mlimit_orig\u001b[0m\u001b[0;34m\u001b[0m\u001b[0m\n",
      "\u001b[0;32m/Library/Frameworks/Python.framework/Versions/3.4/lib/python3.4/site-packages/theano/gof/link.py\u001b[0m in \u001b[0;36mmake_thunk\u001b[0;34m(self, input_storage, output_storage, storage_map)\u001b[0m\n\u001b[1;32m    697\u001b[0m         return self.make_all(input_storage=input_storage,\n\u001b[1;32m    698\u001b[0m                              \u001b[0moutput_storage\u001b[0m\u001b[0;34m=\u001b[0m\u001b[0moutput_storage\u001b[0m\u001b[0;34m,\u001b[0m\u001b[0;34m\u001b[0m\u001b[0m\n\u001b[0;32m--> 699\u001b[0;31m                              storage_map=storage_map)[:3]\n\u001b[0m\u001b[1;32m    700\u001b[0m \u001b[0;34m\u001b[0m\u001b[0m\n\u001b[1;32m    701\u001b[0m     \u001b[0;32mdef\u001b[0m \u001b[0mmake_all\u001b[0m\u001b[0;34m(\u001b[0m\u001b[0mself\u001b[0m\u001b[0;34m,\u001b[0m \u001b[0minput_storage\u001b[0m\u001b[0;34m,\u001b[0m \u001b[0moutput_storage\u001b[0m\u001b[0;34m)\u001b[0m\u001b[0;34m:\u001b[0m\u001b[0;34m\u001b[0m\u001b[0m\n",
      "\u001b[0;32m/Library/Frameworks/Python.framework/Versions/3.4/lib/python3.4/site-packages/theano/gof/vm.py\u001b[0m in \u001b[0;36mmake_all\u001b[0;34m(self, profiler, input_storage, output_storage, storage_map)\u001b[0m\n\u001b[1;32m   1045\u001b[0m                                                  \u001b[0mcompute_map\u001b[0m\u001b[0;34m,\u001b[0m\u001b[0;34m\u001b[0m\u001b[0m\n\u001b[1;32m   1046\u001b[0m                                                  \u001b[0mno_recycling\u001b[0m\u001b[0;34m,\u001b[0m\u001b[0;34m\u001b[0m\u001b[0m\n\u001b[0;32m-> 1047\u001b[0;31m                                                  impl=impl))\n\u001b[0m\u001b[1;32m   1048\u001b[0m                 \u001b[0mlinker_make_thunk_time\u001b[0m\u001b[0;34m[\u001b[0m\u001b[0mnode\u001b[0m\u001b[0;34m]\u001b[0m \u001b[0;34m=\u001b[0m \u001b[0mtime\u001b[0m\u001b[0;34m.\u001b[0m\u001b[0mtime\u001b[0m\u001b[0;34m(\u001b[0m\u001b[0;34m)\u001b[0m \u001b[0;34m-\u001b[0m \u001b[0mthunk_start\u001b[0m\u001b[0;34m\u001b[0m\u001b[0m\n\u001b[1;32m   1049\u001b[0m                 \u001b[0;32mif\u001b[0m \u001b[0;32mnot\u001b[0m \u001b[0mhasattr\u001b[0m\u001b[0;34m(\u001b[0m\u001b[0mthunks\u001b[0m\u001b[0;34m[\u001b[0m\u001b[0;34m-\u001b[0m\u001b[0;36m1\u001b[0m\u001b[0;34m]\u001b[0m\u001b[0;34m,\u001b[0m \u001b[0;34m'lazy'\u001b[0m\u001b[0;34m)\u001b[0m\u001b[0;34m:\u001b[0m\u001b[0;34m\u001b[0m\u001b[0m\n",
      "\u001b[0;32m/Library/Frameworks/Python.framework/Versions/3.4/lib/python3.4/site-packages/theano/scan_module/scan_op.py\u001b[0m in \u001b[0;36mmake_thunk\u001b[0;34m(self, node, storage_map, compute_map, no_recycling, impl)\u001b[0m\n\u001b[1;32m    890\u001b[0m                                \u001b[0mname\u001b[0m\u001b[0;34m=\u001b[0m\u001b[0mself\u001b[0m\u001b[0;34m.\u001b[0m\u001b[0mname\u001b[0m\u001b[0;34m,\u001b[0m\u001b[0;34m\u001b[0m\u001b[0m\n\u001b[1;32m    891\u001b[0m                                \u001b[0mprofile\u001b[0m\u001b[0;34m=\u001b[0m\u001b[0mprofile\u001b[0m\u001b[0;34m,\u001b[0m\u001b[0;34m\u001b[0m\u001b[0m\n\u001b[0;32m--> 892\u001b[0;31m                                on_unused_input='ignore')\n\u001b[0m\u001b[1;32m    893\u001b[0m \u001b[0;34m\u001b[0m\u001b[0m\n\u001b[1;32m    894\u001b[0m         \u001b[0;31m# Analyse the compile inner function to determine which inputs and\u001b[0m\u001b[0;34m\u001b[0m\u001b[0;34m\u001b[0m\u001b[0m\n",
      "\u001b[0;32m/Library/Frameworks/Python.framework/Versions/3.4/lib/python3.4/site-packages/theano/compile/function.py\u001b[0m in \u001b[0;36mfunction\u001b[0;34m(inputs, outputs, mode, updates, givens, no_default_updates, accept_inplace, name, rebuild_strict, allow_input_downcast, profile, on_unused_input)\u001b[0m\n\u001b[1;32m    324\u001b[0m                    \u001b[0mon_unused_input\u001b[0m\u001b[0;34m=\u001b[0m\u001b[0mon_unused_input\u001b[0m\u001b[0;34m,\u001b[0m\u001b[0;34m\u001b[0m\u001b[0m\n\u001b[1;32m    325\u001b[0m                    \u001b[0mprofile\u001b[0m\u001b[0;34m=\u001b[0m\u001b[0mprofile\u001b[0m\u001b[0;34m,\u001b[0m\u001b[0;34m\u001b[0m\u001b[0m\n\u001b[0;32m--> 326\u001b[0;31m                    output_keys=output_keys)\n\u001b[0m\u001b[1;32m    327\u001b[0m     \u001b[0;31m# We need to add the flag check_aliased inputs if we have any mutable or\u001b[0m\u001b[0;34m\u001b[0m\u001b[0;34m\u001b[0m\u001b[0m\n\u001b[1;32m    328\u001b[0m     \u001b[0;31m# borrowed used defined inputs\u001b[0m\u001b[0;34m\u001b[0m\u001b[0;34m\u001b[0m\u001b[0m\n",
      "\u001b[0;32m/Library/Frameworks/Python.framework/Versions/3.4/lib/python3.4/site-packages/theano/compile/pfunc.py\u001b[0m in \u001b[0;36mpfunc\u001b[0;34m(params, outputs, mode, updates, givens, no_default_updates, accept_inplace, name, rebuild_strict, allow_input_downcast, profile, on_unused_input, output_keys)\u001b[0m\n\u001b[1;32m    484\u001b[0m                          \u001b[0maccept_inplace\u001b[0m\u001b[0;34m=\u001b[0m\u001b[0maccept_inplace\u001b[0m\u001b[0;34m,\u001b[0m \u001b[0mname\u001b[0m\u001b[0;34m=\u001b[0m\u001b[0mname\u001b[0m\u001b[0;34m,\u001b[0m\u001b[0;34m\u001b[0m\u001b[0m\n\u001b[1;32m    485\u001b[0m                          \u001b[0mprofile\u001b[0m\u001b[0;34m=\u001b[0m\u001b[0mprofile\u001b[0m\u001b[0;34m,\u001b[0m \u001b[0mon_unused_input\u001b[0m\u001b[0;34m=\u001b[0m\u001b[0mon_unused_input\u001b[0m\u001b[0;34m,\u001b[0m\u001b[0;34m\u001b[0m\u001b[0m\n\u001b[0;32m--> 486\u001b[0;31m                          output_keys=output_keys)\n\u001b[0m\u001b[1;32m    487\u001b[0m \u001b[0;34m\u001b[0m\u001b[0m\n\u001b[1;32m    488\u001b[0m \u001b[0;34m\u001b[0m\u001b[0m\n",
      "\u001b[0;32m/Library/Frameworks/Python.framework/Versions/3.4/lib/python3.4/site-packages/theano/compile/function_module.py\u001b[0m in \u001b[0;36morig_function\u001b[0;34m(inputs, outputs, mode, accept_inplace, name, profile, on_unused_input, output_keys)\u001b[0m\n\u001b[1;32m   1792\u001b[0m                    \u001b[0mprofile\u001b[0m\u001b[0;34m=\u001b[0m\u001b[0mprofile\u001b[0m\u001b[0;34m,\u001b[0m\u001b[0;34m\u001b[0m\u001b[0m\n\u001b[1;32m   1793\u001b[0m                    \u001b[0mon_unused_input\u001b[0m\u001b[0;34m=\u001b[0m\u001b[0mon_unused_input\u001b[0m\u001b[0;34m,\u001b[0m\u001b[0;34m\u001b[0m\u001b[0m\n\u001b[0;32m-> 1794\u001b[0;31m                    \u001b[0moutput_keys\u001b[0m\u001b[0;34m=\u001b[0m\u001b[0moutput_keys\u001b[0m\u001b[0;34m)\u001b[0m\u001b[0;34m.\u001b[0m\u001b[0mcreate\u001b[0m\u001b[0;34m(\u001b[0m\u001b[0;34m\u001b[0m\u001b[0m\n\u001b[0m\u001b[1;32m   1795\u001b[0m             defaults)\n\u001b[1;32m   1796\u001b[0m \u001b[0;34m\u001b[0m\u001b[0m\n",
      "\u001b[0;32m/Library/Frameworks/Python.framework/Versions/3.4/lib/python3.4/site-packages/theano/compile/function_module.py\u001b[0m in \u001b[0;36m__init__\u001b[0;34m(self, inputs, outputs, mode, accept_inplace, function_builder, profile, on_unused_input, fgraph, output_keys)\u001b[0m\n\u001b[1;32m   1472\u001b[0m                         optimizer, inputs, outputs)\n\u001b[1;32m   1473\u001b[0m                 \u001b[0;32melse\u001b[0m\u001b[0;34m:\u001b[0m\u001b[0;34m\u001b[0m\u001b[0m\n\u001b[0;32m-> 1474\u001b[0;31m                     \u001b[0moptimizer_profile\u001b[0m \u001b[0;34m=\u001b[0m \u001b[0moptimizer\u001b[0m\u001b[0;34m(\u001b[0m\u001b[0mfgraph\u001b[0m\u001b[0;34m)\u001b[0m\u001b[0;34m\u001b[0m\u001b[0m\n\u001b[0m\u001b[1;32m   1475\u001b[0m \u001b[0;34m\u001b[0m\u001b[0m\n\u001b[1;32m   1476\u001b[0m                 \u001b[0mend_optimizer\u001b[0m \u001b[0;34m=\u001b[0m \u001b[0mtime\u001b[0m\u001b[0;34m.\u001b[0m\u001b[0mtime\u001b[0m\u001b[0;34m(\u001b[0m\u001b[0;34m)\u001b[0m\u001b[0;34m\u001b[0m\u001b[0m\n",
      "\u001b[0;32m/Library/Frameworks/Python.framework/Versions/3.4/lib/python3.4/site-packages/theano/gof/opt.py\u001b[0m in \u001b[0;36m__call__\u001b[0;34m(self, fgraph)\u001b[0m\n\u001b[1;32m     96\u001b[0m \u001b[0;34m\u001b[0m\u001b[0m\n\u001b[1;32m     97\u001b[0m         \"\"\"\n\u001b[0;32m---> 98\u001b[0;31m         \u001b[0;32mreturn\u001b[0m \u001b[0mself\u001b[0m\u001b[0;34m.\u001b[0m\u001b[0moptimize\u001b[0m\u001b[0;34m(\u001b[0m\u001b[0mfgraph\u001b[0m\u001b[0;34m)\u001b[0m\u001b[0;34m\u001b[0m\u001b[0m\n\u001b[0m\u001b[1;32m     99\u001b[0m \u001b[0;34m\u001b[0m\u001b[0m\n\u001b[1;32m    100\u001b[0m     \u001b[0;32mdef\u001b[0m \u001b[0madd_requirements\u001b[0m\u001b[0;34m(\u001b[0m\u001b[0mself\u001b[0m\u001b[0;34m,\u001b[0m \u001b[0mfgraph\u001b[0m\u001b[0;34m)\u001b[0m\u001b[0;34m:\u001b[0m\u001b[0;34m\u001b[0m\u001b[0m\n",
      "\u001b[0;32m/Library/Frameworks/Python.framework/Versions/3.4/lib/python3.4/site-packages/theano/gof/opt.py\u001b[0m in \u001b[0;36moptimize\u001b[0;34m(self, fgraph, *args, **kwargs)\u001b[0m\n\u001b[1;32m     85\u001b[0m             \u001b[0morig\u001b[0m \u001b[0;34m=\u001b[0m \u001b[0mtheano\u001b[0m\u001b[0;34m.\u001b[0m\u001b[0mtensor\u001b[0m\u001b[0;34m.\u001b[0m\u001b[0mbasic\u001b[0m\u001b[0;34m.\u001b[0m\u001b[0mconstant\u001b[0m\u001b[0;34m.\u001b[0m\u001b[0menable\u001b[0m\u001b[0;34m\u001b[0m\u001b[0m\n\u001b[1;32m     86\u001b[0m             \u001b[0mtheano\u001b[0m\u001b[0;34m.\u001b[0m\u001b[0mtensor\u001b[0m\u001b[0;34m.\u001b[0m\u001b[0mbasic\u001b[0m\u001b[0;34m.\u001b[0m\u001b[0mconstant\u001b[0m\u001b[0;34m.\u001b[0m\u001b[0menable\u001b[0m \u001b[0;34m=\u001b[0m \u001b[0;32mFalse\u001b[0m\u001b[0;34m\u001b[0m\u001b[0m\n\u001b[0;32m---> 87\u001b[0;31m             \u001b[0mret\u001b[0m \u001b[0;34m=\u001b[0m \u001b[0mself\u001b[0m\u001b[0;34m.\u001b[0m\u001b[0mapply\u001b[0m\u001b[0;34m(\u001b[0m\u001b[0mfgraph\u001b[0m\u001b[0;34m,\u001b[0m \u001b[0;34m*\u001b[0m\u001b[0margs\u001b[0m\u001b[0;34m,\u001b[0m \u001b[0;34m**\u001b[0m\u001b[0mkwargs\u001b[0m\u001b[0;34m)\u001b[0m\u001b[0;34m\u001b[0m\u001b[0m\n\u001b[0m\u001b[1;32m     88\u001b[0m         \u001b[0;32mfinally\u001b[0m\u001b[0;34m:\u001b[0m\u001b[0;34m\u001b[0m\u001b[0m\n\u001b[1;32m     89\u001b[0m             \u001b[0mtheano\u001b[0m\u001b[0;34m.\u001b[0m\u001b[0mtensor\u001b[0m\u001b[0;34m.\u001b[0m\u001b[0mbasic\u001b[0m\u001b[0;34m.\u001b[0m\u001b[0mconstant\u001b[0m\u001b[0;34m.\u001b[0m\u001b[0menable\u001b[0m \u001b[0;34m=\u001b[0m \u001b[0morig\u001b[0m\u001b[0;34m\u001b[0m\u001b[0m\n",
      "\u001b[0;32m/Library/Frameworks/Python.framework/Versions/3.4/lib/python3.4/site-packages/theano/gof/opt.py\u001b[0m in \u001b[0;36mapply\u001b[0;34m(self, fgraph)\u001b[0m\n\u001b[1;32m    233\u001b[0m                 \u001b[0mnb_nodes_before\u001b[0m \u001b[0;34m=\u001b[0m \u001b[0mlen\u001b[0m\u001b[0;34m(\u001b[0m\u001b[0mfgraph\u001b[0m\u001b[0;34m.\u001b[0m\u001b[0mapply_nodes\u001b[0m\u001b[0;34m)\u001b[0m\u001b[0;34m\u001b[0m\u001b[0m\n\u001b[1;32m    234\u001b[0m                 \u001b[0mt0\u001b[0m \u001b[0;34m=\u001b[0m \u001b[0mtime\u001b[0m\u001b[0;34m.\u001b[0m\u001b[0mtime\u001b[0m\u001b[0;34m(\u001b[0m\u001b[0;34m)\u001b[0m\u001b[0;34m\u001b[0m\u001b[0m\n\u001b[0;32m--> 235\u001b[0;31m                 \u001b[0msub_prof\u001b[0m \u001b[0;34m=\u001b[0m \u001b[0moptimizer\u001b[0m\u001b[0;34m.\u001b[0m\u001b[0moptimize\u001b[0m\u001b[0;34m(\u001b[0m\u001b[0mfgraph\u001b[0m\u001b[0;34m)\u001b[0m\u001b[0;34m\u001b[0m\u001b[0m\n\u001b[0m\u001b[1;32m    236\u001b[0m                 \u001b[0ml\u001b[0m\u001b[0;34m.\u001b[0m\u001b[0mappend\u001b[0m\u001b[0;34m(\u001b[0m\u001b[0mfloat\u001b[0m\u001b[0;34m(\u001b[0m\u001b[0mtime\u001b[0m\u001b[0;34m.\u001b[0m\u001b[0mtime\u001b[0m\u001b[0;34m(\u001b[0m\u001b[0;34m)\u001b[0m \u001b[0;34m-\u001b[0m \u001b[0mt0\u001b[0m\u001b[0;34m)\u001b[0m\u001b[0;34m)\u001b[0m\u001b[0;34m\u001b[0m\u001b[0m\n\u001b[1;32m    237\u001b[0m                 \u001b[0msub_profs\u001b[0m\u001b[0;34m.\u001b[0m\u001b[0mappend\u001b[0m\u001b[0;34m(\u001b[0m\u001b[0msub_prof\u001b[0m\u001b[0;34m)\u001b[0m\u001b[0;34m\u001b[0m\u001b[0m\n",
      "\u001b[0;32m/Library/Frameworks/Python.framework/Versions/3.4/lib/python3.4/site-packages/theano/gof/opt.py\u001b[0m in \u001b[0;36moptimize\u001b[0;34m(self, fgraph, *args, **kwargs)\u001b[0m\n\u001b[1;32m     85\u001b[0m             \u001b[0morig\u001b[0m \u001b[0;34m=\u001b[0m \u001b[0mtheano\u001b[0m\u001b[0;34m.\u001b[0m\u001b[0mtensor\u001b[0m\u001b[0;34m.\u001b[0m\u001b[0mbasic\u001b[0m\u001b[0;34m.\u001b[0m\u001b[0mconstant\u001b[0m\u001b[0;34m.\u001b[0m\u001b[0menable\u001b[0m\u001b[0;34m\u001b[0m\u001b[0m\n\u001b[1;32m     86\u001b[0m             \u001b[0mtheano\u001b[0m\u001b[0;34m.\u001b[0m\u001b[0mtensor\u001b[0m\u001b[0;34m.\u001b[0m\u001b[0mbasic\u001b[0m\u001b[0;34m.\u001b[0m\u001b[0mconstant\u001b[0m\u001b[0;34m.\u001b[0m\u001b[0menable\u001b[0m \u001b[0;34m=\u001b[0m \u001b[0;32mFalse\u001b[0m\u001b[0;34m\u001b[0m\u001b[0m\n\u001b[0;32m---> 87\u001b[0;31m             \u001b[0mret\u001b[0m \u001b[0;34m=\u001b[0m \u001b[0mself\u001b[0m\u001b[0;34m.\u001b[0m\u001b[0mapply\u001b[0m\u001b[0;34m(\u001b[0m\u001b[0mfgraph\u001b[0m\u001b[0;34m,\u001b[0m \u001b[0;34m*\u001b[0m\u001b[0margs\u001b[0m\u001b[0;34m,\u001b[0m \u001b[0;34m**\u001b[0m\u001b[0mkwargs\u001b[0m\u001b[0;34m)\u001b[0m\u001b[0;34m\u001b[0m\u001b[0m\n\u001b[0m\u001b[1;32m     88\u001b[0m         \u001b[0;32mfinally\u001b[0m\u001b[0;34m:\u001b[0m\u001b[0;34m\u001b[0m\u001b[0m\n\u001b[1;32m     89\u001b[0m             \u001b[0mtheano\u001b[0m\u001b[0;34m.\u001b[0m\u001b[0mtensor\u001b[0m\u001b[0;34m.\u001b[0m\u001b[0mbasic\u001b[0m\u001b[0;34m.\u001b[0m\u001b[0mconstant\u001b[0m\u001b[0;34m.\u001b[0m\u001b[0menable\u001b[0m \u001b[0;34m=\u001b[0m \u001b[0morig\u001b[0m\u001b[0;34m\u001b[0m\u001b[0m\n",
      "\u001b[0;32m/Library/Frameworks/Python.framework/Versions/3.4/lib/python3.4/site-packages/theano/gof/opt.py\u001b[0m in \u001b[0;36mapply\u001b[0;34m(self, fgraph)\u001b[0m\n\u001b[1;32m    233\u001b[0m                 \u001b[0mnb_nodes_before\u001b[0m \u001b[0;34m=\u001b[0m \u001b[0mlen\u001b[0m\u001b[0;34m(\u001b[0m\u001b[0mfgraph\u001b[0m\u001b[0;34m.\u001b[0m\u001b[0mapply_nodes\u001b[0m\u001b[0;34m)\u001b[0m\u001b[0;34m\u001b[0m\u001b[0m\n\u001b[1;32m    234\u001b[0m                 \u001b[0mt0\u001b[0m \u001b[0;34m=\u001b[0m \u001b[0mtime\u001b[0m\u001b[0;34m.\u001b[0m\u001b[0mtime\u001b[0m\u001b[0;34m(\u001b[0m\u001b[0;34m)\u001b[0m\u001b[0;34m\u001b[0m\u001b[0m\n\u001b[0;32m--> 235\u001b[0;31m                 \u001b[0msub_prof\u001b[0m \u001b[0;34m=\u001b[0m \u001b[0moptimizer\u001b[0m\u001b[0;34m.\u001b[0m\u001b[0moptimize\u001b[0m\u001b[0;34m(\u001b[0m\u001b[0mfgraph\u001b[0m\u001b[0;34m)\u001b[0m\u001b[0;34m\u001b[0m\u001b[0m\n\u001b[0m\u001b[1;32m    236\u001b[0m                 \u001b[0ml\u001b[0m\u001b[0;34m.\u001b[0m\u001b[0mappend\u001b[0m\u001b[0;34m(\u001b[0m\u001b[0mfloat\u001b[0m\u001b[0;34m(\u001b[0m\u001b[0mtime\u001b[0m\u001b[0;34m.\u001b[0m\u001b[0mtime\u001b[0m\u001b[0;34m(\u001b[0m\u001b[0;34m)\u001b[0m \u001b[0;34m-\u001b[0m \u001b[0mt0\u001b[0m\u001b[0;34m)\u001b[0m\u001b[0;34m)\u001b[0m\u001b[0;34m\u001b[0m\u001b[0m\n\u001b[1;32m    237\u001b[0m                 \u001b[0msub_profs\u001b[0m\u001b[0;34m.\u001b[0m\u001b[0mappend\u001b[0m\u001b[0;34m(\u001b[0m\u001b[0msub_prof\u001b[0m\u001b[0;34m)\u001b[0m\u001b[0;34m\u001b[0m\u001b[0m\n",
      "\u001b[0;32m/Library/Frameworks/Python.framework/Versions/3.4/lib/python3.4/site-packages/theano/gof/opt.py\u001b[0m in \u001b[0;36moptimize\u001b[0;34m(self, fgraph, *args, **kwargs)\u001b[0m\n\u001b[1;32m     85\u001b[0m             \u001b[0morig\u001b[0m \u001b[0;34m=\u001b[0m \u001b[0mtheano\u001b[0m\u001b[0;34m.\u001b[0m\u001b[0mtensor\u001b[0m\u001b[0;34m.\u001b[0m\u001b[0mbasic\u001b[0m\u001b[0;34m.\u001b[0m\u001b[0mconstant\u001b[0m\u001b[0;34m.\u001b[0m\u001b[0menable\u001b[0m\u001b[0;34m\u001b[0m\u001b[0m\n\u001b[1;32m     86\u001b[0m             \u001b[0mtheano\u001b[0m\u001b[0;34m.\u001b[0m\u001b[0mtensor\u001b[0m\u001b[0;34m.\u001b[0m\u001b[0mbasic\u001b[0m\u001b[0;34m.\u001b[0m\u001b[0mconstant\u001b[0m\u001b[0;34m.\u001b[0m\u001b[0menable\u001b[0m \u001b[0;34m=\u001b[0m \u001b[0;32mFalse\u001b[0m\u001b[0;34m\u001b[0m\u001b[0m\n\u001b[0;32m---> 87\u001b[0;31m             \u001b[0mret\u001b[0m \u001b[0;34m=\u001b[0m \u001b[0mself\u001b[0m\u001b[0;34m.\u001b[0m\u001b[0mapply\u001b[0m\u001b[0;34m(\u001b[0m\u001b[0mfgraph\u001b[0m\u001b[0;34m,\u001b[0m \u001b[0;34m*\u001b[0m\u001b[0margs\u001b[0m\u001b[0;34m,\u001b[0m \u001b[0;34m**\u001b[0m\u001b[0mkwargs\u001b[0m\u001b[0;34m)\u001b[0m\u001b[0;34m\u001b[0m\u001b[0m\n\u001b[0m\u001b[1;32m     88\u001b[0m         \u001b[0;32mfinally\u001b[0m\u001b[0;34m:\u001b[0m\u001b[0;34m\u001b[0m\u001b[0m\n\u001b[1;32m     89\u001b[0m             \u001b[0mtheano\u001b[0m\u001b[0;34m.\u001b[0m\u001b[0mtensor\u001b[0m\u001b[0;34m.\u001b[0m\u001b[0mbasic\u001b[0m\u001b[0;34m.\u001b[0m\u001b[0mconstant\u001b[0m\u001b[0;34m.\u001b[0m\u001b[0menable\u001b[0m \u001b[0;34m=\u001b[0m \u001b[0morig\u001b[0m\u001b[0;34m\u001b[0m\u001b[0m\n",
      "\u001b[0;32m/Library/Frameworks/Python.framework/Versions/3.4/lib/python3.4/site-packages/theano/tensor/opt.py\u001b[0m in \u001b[0;36mapply\u001b[0;34m(self, fgraph)\u001b[0m\n\u001b[1;32m   7287\u001b[0m                 \u001b[0;31m# Don't try to fuse node that have already been fused.\u001b[0m\u001b[0;34m\u001b[0m\u001b[0;34m\u001b[0m\u001b[0m\n\u001b[1;32m   7288\u001b[0m                 \u001b[0;32mif\u001b[0m \u001b[0mnode\u001b[0m \u001b[0;32min\u001b[0m \u001b[0mfgraph\u001b[0m\u001b[0;34m.\u001b[0m\u001b[0mapply_nodes\u001b[0m\u001b[0;34m:\u001b[0m\u001b[0;34m\u001b[0m\u001b[0m\n\u001b[0;32m-> 7289\u001b[0;31m                     \u001b[0mnew_outputs\u001b[0m \u001b[0;34m=\u001b[0m \u001b[0mself\u001b[0m\u001b[0;34m.\u001b[0m\u001b[0moptimizer\u001b[0m\u001b[0;34m(\u001b[0m\u001b[0mnode\u001b[0m\u001b[0;34m)\u001b[0m\u001b[0;34m\u001b[0m\u001b[0m\n\u001b[0m\u001b[1;32m   7290\u001b[0m                     \u001b[0;32mif\u001b[0m \u001b[0mnew_outputs\u001b[0m\u001b[0;34m:\u001b[0m\u001b[0;34m\u001b[0m\u001b[0m\n\u001b[1;32m   7291\u001b[0m                         \u001b[0;32massert\u001b[0m \u001b[0mlen\u001b[0m\u001b[0;34m(\u001b[0m\u001b[0mnew_outputs\u001b[0m\u001b[0;34m)\u001b[0m \u001b[0;34m==\u001b[0m \u001b[0mlen\u001b[0m\u001b[0;34m(\u001b[0m\u001b[0mnode\u001b[0m\u001b[0;34m.\u001b[0m\u001b[0moutputs\u001b[0m\u001b[0;34m)\u001b[0m\u001b[0;34m\u001b[0m\u001b[0m\n",
      "\u001b[0;32m/Library/Frameworks/Python.framework/Versions/3.4/lib/python3.4/site-packages/theano/tensor/opt.py\u001b[0m in \u001b[0;36mlocal_fuse\u001b[0;34m(node)\u001b[0m\n\u001b[1;32m   7076\u001b[0m         \u001b[0;31m# There is a hard limit of 256 bytes for the formal argument list to a\u001b[0m\u001b[0;34m\u001b[0m\u001b[0;34m\u001b[0m\u001b[0m\n\u001b[1;32m   7077\u001b[0m         \u001b[0;31m# GPU kernel function.\u001b[0m\u001b[0;34m\u001b[0m\u001b[0;34m\u001b[0m\u001b[0m\n\u001b[0;32m-> 7078\u001b[0;31m         \u001b[0mmax_nb_input\u001b[0m \u001b[0;34m=\u001b[0m \u001b[0mmax_input_fct\u001b[0m\u001b[0;34m(\u001b[0m\u001b[0mnode\u001b[0m\u001b[0;34m)\u001b[0m\u001b[0;34m\u001b[0m\u001b[0m\n\u001b[0m\u001b[1;32m   7079\u001b[0m         \u001b[0;31m# The number of inputs to the new fused op if we do not fuse more\u001b[0m\u001b[0;34m\u001b[0m\u001b[0;34m\u001b[0m\u001b[0m\n\u001b[1;32m   7080\u001b[0m         \u001b[0;31m# inputs.\u001b[0m\u001b[0;34m\u001b[0m\u001b[0;34m\u001b[0m\u001b[0m\n",
      "\u001b[0;32m/Library/Frameworks/Python.framework/Versions/3.4/lib/python3.4/site-packages/theano/tensor/opt.py\u001b[0m in \u001b[0;36melemwise_max_input_fct\u001b[0;34m(node)\u001b[0m\n\u001b[1;32m   7247\u001b[0m \u001b[0;34m\u001b[0m\u001b[0m\n\u001b[1;32m   7248\u001b[0m \u001b[0;34m\u001b[0m\u001b[0m\n\u001b[0;32m-> 7249\u001b[0;31m \u001b[0;32mdef\u001b[0m \u001b[0melemwise_max_input_fct\u001b[0m\u001b[0;34m(\u001b[0m\u001b[0mnode\u001b[0m\u001b[0;34m)\u001b[0m\u001b[0;34m:\u001b[0m\u001b[0;34m\u001b[0m\u001b[0m\n\u001b[0m\u001b[1;32m   7250\u001b[0m     \u001b[0;31m# The Elemwise.perform use numpy ufunc and they are limited to 31\u001b[0m\u001b[0;34m\u001b[0m\u001b[0;34m\u001b[0m\u001b[0m\n\u001b[1;32m   7251\u001b[0m     \u001b[0;31m# inputs.\u001b[0m\u001b[0;34m\u001b[0m\u001b[0;34m\u001b[0m\u001b[0m\n",
      "\u001b[0;31mKeyboardInterrupt\u001b[0m: "
     ]
    }
   ],
   "source": [
    "main()"
   ]
  },
  {
   "cell_type": "code",
   "execution_count": 21,
   "metadata": {},
   "outputs": [
    {
     "name": "stdout",
     "output_type": "stream",
     "text": [
      "vocab size: 18647\n",
      "learning rate: 0.001\n",
      "regularization: 0.01\n",
      "mu: 0.5\n",
      "eps: 0.01\n",
      "epochs: 20\n",
      "i: 0 cost: 5656.89129766 correct rate: 0.5192 time for epoch: 0:24:34.324584\n",
      "i: 1 cost: 5238.96118646 correct rate: 0.5392 time for epoch: 0:25:56.164000\n",
      "i: 2 cost: 4915.33974476 correct rate: 0.556 time for epoch: 0:26:51.524128\n",
      "i: 3 cost: 4658.58585352 correct rate: 0.563 time for epoch: 0:26:15.986952\n",
      "i: 4 cost: 4452.30910999 correct rate: 0.569 time for epoch: 0:22:49.850555\n",
      "i: 5 cost: 4285.08074052 correct rate: 0.5708 time for epoch: 0:15:31.024638\n",
      "i: 6 cost: 4148.55771176 correct rate: 0.5724 time for epoch: 0:15:35.512787\n",
      "i: 7 cost: 4036.4217526 correct rate: 0.5778 time for epoch: 0:14:29.747316\n",
      "i: 8 cost: 3943.81866816 correct rate: 0.5786 time for epoch: 0:15:03.993362\n",
      "i: 9 cost: 3866.88634854 correct rate: 0.581 time for epoch: 0:16:25.069873\n",
      "i: 10 cost: 3802.58804799 correct rate: 0.5846 time for epoch: 0:15:26.889256\n",
      "i: 11 cost: 3748.43372422 correct rate: 0.5864 time for epoch: 0:15:43.376830\n",
      "i: 12 cost: 3702.38642184 correct rate: 0.5888 time for epoch: 0:15:29.618636\n",
      "i: 13 cost: 3662.7782344 correct rate: 0.5922 time for epoch: 0:15:35.191454\n",
      "i: 14 cost: 3628.10082343 correct rate: 0.5946 time for epoch: 0:15:37.588437\n",
      "i: 15 cost: 3596.99014985 correct rate: 0.5984 time for epoch: 0:15:34.028344\n",
      "i: 16 cost: 3568.17492841 correct rate: 0.6012 time for epoch: 0:15:22.743073\n",
      "i: 17 cost: 3540.17141294 correct rate: 0.6088 time for epoch: 0:15:25.393831\n",
      "i: 18 cost: 3511.37356488 correct rate: 0.6114 time for epoch: 0:15:32.354992\n",
      "i: 19 cost: 3479.76282371 correct rate: 0.6222 time for epoch: 0:15:20.883798\n"
     ]
    },
    {
     "data": {
      "image/png": "[encoded data removed]",
      "text/plain": [
       "<matplotlib.figure.Figure at 0x10f52be10>"
      ]
     },
     "metadata": {},
     "output_type": "display_data"
    },
    {
     "name": "stdout",
     "output_type": "stream",
     "text": [
      "train accuracy: 0.6278\n",
      "test accuracy: 0.541\n",
      "train f1: 0.610250010063\n",
      "test f1: 0.5247340219\n"
     ]
    }
   ],
   "source": [
    "main()"
   ]
  },
  {
   "cell_type": "code",
   "execution_count": 28,
   "metadata": {},
   "outputs": [
    {
     "name": "stdout",
     "output_type": "stream",
     "text": [
      "vocab size: 18647\n",
      "learning rate: 0.001\n",
      "regularization: 0.01\n",
      "mu: 0.5\n",
      "eps: 0.01\n",
      "epochs: 30\n",
      "i: 0 cost: 5682.52570901 correct rate: 0.5242 time for epoch: 0:13:09.725612\n",
      "i: 1 cost: 5266.64537063 correct rate: 0.5246 time for epoch: 0:15:09.559144\n",
      "i: 2 cost: 4945.09294923 correct rate: 0.5254 time for epoch: 0:13:28.570812\n",
      "i: 3 cost: 4689.17336893 correct rate: 0.5256 time for epoch: 0:12:23.821843\n",
      "i: 4 cost: 4482.47563313 correct rate: 0.5264 time for epoch: 0:12:10.353844\n",
      "i: 5 cost: 4313.35033073 correct rate: 0.5274 time for epoch: 0:12:21.583955\n",
      "i: 6 cost: 4172.50045971 correct rate: 0.5284 time for epoch: 0:13:07.453650\n",
      "i: 7 cost: 4051.1719397 correct rate: 0.533 time for epoch: 0:13:15.305788\n",
      "i: 8 cost: 3935.77011717 correct rate: 0.5394 time for epoch: 0:12:45.451379\n",
      "i: 9 cost: 3794.09758111 correct rate: 0.5546 time for epoch: 0:13:35.300900\n",
      "i: 10 cost: 3582.4547334 correct rate: 0.6018 time for epoch: 0:13:18.077111\n",
      "i: 11 cost: 3275.02690724 correct rate: 0.7016 time for epoch: 0:12:25.181994\n",
      "i: 12 cost: 2964.22807661 correct rate: 0.8012 time for epoch: 0:12:24.629060\n",
      "i: 13 cost: 2707.75343756 correct rate: 0.874 time for epoch: 0:12:42.122788\n",
      "i: 14 cost: 2508.14897597 correct rate: 0.899 time for epoch: 0:12:37.942713\n",
      "i: 15 cost: 2289.45033019 correct rate: 0.9076 time for epoch: 0:13:24.477047\n",
      "i: 16 cost: 1990.88209105 correct rate: 0.9158 time for epoch: 0:12:41.038301\n",
      "i: 17 cost: 1860.95261952 correct rate: 0.9246 time for epoch: 0:14:26.916099\n",
      "i: 18 cost: 2456.3168888 correct rate: 0.9014 time for epoch: 0:13:08.117182\n",
      "i: 19 cost: 2586.04793949 correct rate: 0.8918 time for epoch: 0:13:52.508293\n",
      "i: 20 cost: 2388.9682648 correct rate: 0.9088 time for epoch: 0:13:48.996270\n",
      "i: 21 cost: 2300.95728121 correct rate: 0.9148 time for epoch: 0:13:09.396471\n",
      "i: 22 cost: 2234.32600805 correct rate: 0.9188 time for epoch: 0:12:11.388835\n",
      "i: 23 cost: 2162.9833266 correct rate: 0.9244 time for epoch: 0:12:35.516979\n",
      "i: 24 cost: 2109.50740265 correct rate: 0.9274 time for epoch: 0:13:06.963809\n",
      "i: 25 cost: 2063.60021513 correct rate: 0.9306 time for epoch: 0:13:54.366378\n",
      "i: 26 cost: 2020.7435853 correct rate: 0.933 time for epoch: 0:14:41.864495\n",
      "i: 27 cost: 1985.93568911 correct rate: 0.9354 time for epoch: 0:12:38.259886\n",
      "i: 28 cost: 1953.26845953 correct rate: 0.9376 time for epoch: 0:14:02.626370\n",
      "i: 29 cost: 1923.01895378 correct rate: 0.939 time for epoch: 0:14:07.488615\n"
     ]
    },
    {
     "data": {
      "image/png": "[encoded data removed]",
      "text/plain": [
       "<matplotlib.figure.Figure at 0x11196c0f0>"
      ]
     },
     "metadata": {},
     "output_type": "display_data"
    },
    {
     "name": "stdout",
     "output_type": "stream",
     "text": [
      "train accuracy: 0.9404\n",
      "test accuracy: 0.709\n",
      "train f1: 0.940383173747\n",
      "test f1: 0.708992724818\n"
     ]
    }
   ],
   "source": [
    "# using 5000 data to train\n",
    "main()"
   ]
  },
  {
   "cell_type": "code",
   "execution_count": 35,
   "metadata": {},
   "outputs": [
    {
     "name": "stdout",
     "output_type": "stream",
     "text": [
      "vocab size: 18647\n",
      "learning rate: 0.001\n",
      "regularization: 0.01\n",
      "mu: 0.5\n",
      "eps: 0.01\n",
      "epochs: 30\n",
      "i: 0 cost: 7797.02434671 correct rate: 0.5215317919075144 time for epoch: 0:17:28.485722\n",
      "i: 1 cost: 7050.10760411 correct rate: 0.5219653179190752 time for epoch: 0:17:25.569553\n",
      "i: 2 cost: 6516.7543784 correct rate: 0.5229768786127168 time for epoch: 0:16:45.542161\n",
      "i: 3 cost: 6123.5199561 correct rate: 0.5280346820809249 time for epoch: 0:16:53.689929\n",
      "i: 4 cost: 5828.61541549 correct rate: 0.5290462427745665 time for epoch: 0:16:49.699792\n",
      "i: 5 cost: 5604.80122906 te so far: 0.531503, cost so far: 5604.801229correct rate: 0.5315028901734105 time for epoch: 0:16:40.213634\n",
      "i: 6 cost: 5433.34274334 correct rate: 0.5356936416184971 time for epoch: 0:20:06.317510\n",
      "i: 7 cost: 5300.94034456 correct rate: 0.5416184971098266 time for epoch: 0:18:13.396017\n",
      "i: 8 cost: 5197.92063682 correct rate: 0.5492774566473988 time for epoch: 0:19:55.604520\n",
      "i: 9 cost: 5117.12328643 correct rate: 0.5562138728323699 time for epoch: 0:20:50.822991\n",
      "i: 10 cost: 5053.19319722 correct rate: 0.5598265895953757 time for epoch: 0:19:35.012965\n",
      "i: 11 cost: 5002.02276207 correct rate: 0.5628612716763006 time for epoch: 0:18:12.676570\n",
      "i: 12 cost: 4960.40627471 correct rate: 0.5710982658959538 time for epoch: 0:18:19.326772\n",
      "i: 13 cost: 4925.77010593 correct rate: 0.5790462427745665 time for epoch: 0:18:21.310473\n",
      "i: 14 cost: 4895.91485776 correct rate: 0.5841040462427746 time for epoch: 0:19:10.682806\n",
      "i: 15 cost: 4868.69990615 correct rate: 0.5901734104046242 time for epoch: 0:18:54.919671\n",
      "i: 16 cost: 4841.59094971 correct rate: 0.5946531791907514 time for epoch: 0:18:52.419686\n",
      "i: 17 cost: 4810.81740177 correct rate: 0.6072254335260115 time for epoch: 0:17:34.121541\n",
      "i: 18 cost: 4768.30024984 correct rate: 0.6203757225433526 time for epoch: 0:17:30.550506\n",
      "i: 19 cost: 4691.4483434 correct rate: 0.6452312138728323 time for epoch: 0:15:22.897638\n",
      "i: 20 cost: 4487.75446089 correct rate: 0.6817919075144508 time for epoch: 0:17:57.235660\n",
      "i: 21 cost: 3905.18324389 correct rate: 0.7627167630057804 time for epoch: 0:17:06.736298\n",
      "i: 22 cost: 3077.35864412 correct rate: 0.8390173410404624 time for epoch: 0:17:46.458207\n",
      "i: 23 cost: 2486.20973375 correct rate: 0.8842485549132948 time for epoch: 0:16:57.975789\n",
      "i: 24 cost: 2145.83075701 correct rate: 0.9059248554913295 time for epoch: 0:16:41.739566\n",
      "i: 25 cost: 1921.73013731 correct rate: 0.9215317919075144 time for epoch: 0:16:55.939194\n",
      "i: 26 cost: 1786.34478187 correct rate: 0.9299132947976878 time for epoch: 0:17:00.048375\n",
      "i: 27 cost: 1875.18874031 correct rate: 0.9245664739884393 time for epoch: 0:17:00.210648\n",
      "i: 28 cost: 2240.65188207 correct rate: 0.9080924855491329 time for epoch: 0:21:19.974477\n",
      "i: 29 cost: 2005.98967411 correct rate: 0.9320809248554913 2005.989674 time for epoch: 4:27:11.904217\n"
     ]
    },
    {
     "data": {
      "image/png": "[encoded data removed]",
      "text/plain": [
       "<matplotlib.figure.Figure at 0x10cfc0240>"
      ]
     },
     "metadata": {},
     "output_type": "display_data"
    },
    {
     "name": "stdout",
     "output_type": "stream",
     "text": [
      "train accuracy: 0.940606936416185\n",
      "test accuracy: 0.5299286106534871\n",
      "train f1: 0.940467417805\n",
      "test f1: 0.528950014989\n"
     ]
    }
   ],
   "source": [
    "# use all 6920 data to train\n",
    "main()"
   ]
  },
  {
   "cell_type": "code",
   "execution_count": 10,
   "metadata": {},
   "outputs": [
    {
     "name": "stdout",
     "output_type": "stream",
     "text": [
      "vocab size: 18647\n",
      "learning rate: 0.001\n",
      "regularization: 0.01\n",
      "mu: 0.5\n",
      "eps: 0.01\n",
      "dim: 10\n",
      "epochs: 30\n",
      "i: 0 cost: 5620.38366708 correct rate: 0.5270231213872832 time for epoch: 0:07:08.160768\n",
      "i: 1 cost: 5434.29366643 correct rate: 0.5485549132947977 time for epoch: 0:08:21.278778\n",
      "i: 2 cost: 5308.39604195 correct rate: 0.551878612716763 time for epoch: 0:08:23.531452\n",
      "i: 3 cost: 5218.20754612 correct rate: 0.5546242774566474 time for epoch: 0:08:05.670622\n",
      "i: 4 cost: 5151.64277712 correct rate: 0.5546242774566474 time for epoch: 0:07:47.220601\n",
      "i: 5 cost: 5100.90839223 correct rate: 0.555635838150289 time for epoch: 0:08:21.323312\n",
      "i: 6 cost: 5060.99409644 correct rate: 0.5591040462427745 time for epoch: 0:08:27.869376\n",
      "i: 7 cost: 5028.31615758 correct rate: 0.5611271676300578 time for epoch: 0:08:36.349116\n",
      "i: 8 cost: 5000.2023486 correct rate: 0.5624277456647399 time for epoch: 0:08:53.717342\n",
      "i: 9 cost: 4974.4468432 correct rate: 0.5651734104046243 time for epoch: 0:09:33.454156\n",
      "i: 10 cost: 4949.10184539 correct rate: 0.5637283236994219 time for epoch: 0:07:54.547951\n",
      "i: 11 cost: 4922.37582171 correct rate: 0.5606936416184971 time for epoch: 0:09:50.631575\n",
      "i: 12 cost: 4891.4421083 correct rate: 0.5567919075144508 time for epoch: 0:08:44.002496\n",
      "i: 13 cost: 4853.69568436 correct rate: 0.5586705202312139 time for epoch: 0:09:15.104376\n",
      "i: 14 cost: 4806.74163212 correct rate: 0.5619942196531792 time for epoch: 0:09:51.312464\n",
      "i: 15 cost: 4743.72794525 correct rate: 0.5786127167630057 time for epoch: 0:09:19.946360\n",
      "i: 16 cost: 4658.38373691 correct rate: 0.6031791907514451 time for epoch: 0:09:11.228433\n",
      "i: 17 cost: 4545.85709743 correct rate: 0.6543352601156069 time for epoch: 0:07:53.940010\n",
      "i: 18 cost: 4404.26976452 correct rate: 0.7004335260115607 time for epoch: 0:08:25.886555\n",
      "i: 19 cost: 4243.31751843 correct rate: 0.7592485549132948 time for epoch: 0:07:55.690888\n",
      "i: 20 cost: 4071.00761461 correct rate: 0.7926300578034682 time for epoch: 0:07:52.736662\n",
      "i: 21 cost: 3911.90559071 correct rate: 0.8248554913294798 time for epoch: 0:08:41.434717\n",
      "i: 22 cost: 3767.73314539 correct rate: 0.8488439306358382 time for epoch: 0:08:22.431671\n",
      "i: 23 cost: 3636.88486966 correct rate: 0.8664739884393063 time for epoch: 0:08:27.129796\n",
      "i: 24 cost: 3518.43095312 correct rate: 0.8804913294797688 time for epoch: 0:08:04.599190\n",
      "i: 25 cost: 3404.01697506 correct rate: 0.8904624277456648 time for epoch: 0:08:29.150464\n",
      "i: 26 cost: 3293.34722503 correct rate: 0.8997109826589595 time for epoch: 0:08:11.736746\n",
      "i: 27 cost: 3187.0788503 correct rate: 0.9069364161849711 time for epoch: 0:07:31.387292\n",
      "i: 28 cost: 3087.30620519 correct rate: 0.9135838150289017 time for epoch: 0:08:12.977673\n",
      "i: 29 920/6920 correct rate so far: 0.918642, cost so far: 2973.017371cost: 2973.01737059 correct rate: 0.9186416184971098 time for epoch: 0:07:29.399494\n"
     ]
    },
    {
     "data": {
      "image/png": "[encoded data removed]",
      "text/plain": [
       "<matplotlib.figure.Figure at 0x10a6849e8>"
      ]
     },
     "metadata": {},
     "output_type": "display_data"
    },
    {
     "name": "stdout",
     "output_type": "stream",
     "text": [
      "train accuracy: 0.9216763005780347\n",
      "test accuracy: 0.7358594179022515\n",
      "train f1: 0.921605473354\n",
      "test f1: 0.734243419885\n"
     ]
    }
   ],
   "source": [
    "main(D=10)"
   ]
  },
  {
   "cell_type": "code",
   "execution_count": 21,
   "metadata": {},
   "outputs": [
    {
     "name": "stdout",
     "output_type": "stream",
     "text": [
      "vocab size: 18647\n",
      "learning rate: 0.01\n",
      "regularization: 0.01\n",
      "mu: 0.5\n",
      "eps: 0.01\n",
      "dim: 10\n",
      "epochs: 20\n",
      "i: 0 cost: 5148.55779181 correct rate: 0.5403179190751445 time for epoch: 0:08:26.131266\n",
      "i: 1 cost: 4721.59131886 correct rate: 0.7245664739884393 time for epoch: 0:08:11.278593\n",
      "i: 2 cost: 4166.21660797 correct rate: 0.8803468208092485 time for epoch: 0:08:13.512719\n",
      "i:N: 6920/6920 correct rate so far: 0.951012, cost so far: 3665.637231 3 cost: 3665.63723133 correct rate: 0.9510115606936416 time for epoch: 0:08:20.853061\n",
      "i: 4 cost: 3354.74392395 correct rate: 0.9739884393063584 time for epoch: 0:08:16.486011\n",
      "i: 5 cost: 3215.00357899 correct rate: 0.9794797687861272 time for epoch: 0:08:49.317367\n",
      "i: 6 cost: 3166.34854074 correct rate: 0.9845375722543352 time for epoch: 0:08:23.882065\n",
      "i: 7 cost: 3220.4072465 correct rate: 0.9877167630057804 time for epoch: 0:07:48.141319\n",
      "i: 8 cost: 3468.92808642 correct rate: 0.9884393063583815 time for epoch: 0:08:36.920878\n",
      "i: 9 cost: 3740.36815595 correct rate: 0.9884393063583815 time for epoch: 0:08:14.390599\n",
      "i: 10 cost: 4326.25179389 correct rate: 0.9900289017341041 time for epoch: 0:07:51.350184\n",
      "i: 11 cost: 6260.57782058 correct rate: 0.9851156069364162 time for epoch: 0:08:36.126302\n",
      "i: 12 cost: 7969.38412399 correct rate: 0.9869942196531792 time for epoch: 0:08:28.985208\n",
      "i: 13 cost: 8515.59155316 correct rate: 0.9917630057803468 time for epoch: 0:08:22.695221\n",
      "i: 14 cost: 8295.80044637 correct rate: 0.9947976878612717 time for epoch: 0:08:55.224188\n",
      "i: 15 cost: 8121.55129689 e so far: 0.995665, cost so far: 8121.551297correct rate: 0.9956647398843931 time for epoch: 0:07:49.640951\n",
      "i: 16 cost: 8161.02462785 correct rate: 0.9936416184971099 time for epoch: 0:07:52.477715\n",
      "i: 17 cost: 9320.32852933 correct rate: 0.991907514450867 time for epoch: 0:07:35.985222\n",
      "i: 18 cost: 9343.56100154 correct rate: 0.9923410404624278 time for epoch: 0:08:59.288906\n",
      "i: 19 cost: 9203.10175705 correct rate: 0.9945086705202312 time for epoch: 0:08:20.207231\n"
     ]
    },
    {
     "data": {
      "image/png": "[encoded data removed]",
      "text/plain": [
       "<matplotlib.figure.Figure at 0x10a0ea940>"
      ]
     },
     "metadata": {},
     "output_type": "display_data"
    },
    {
     "name": "stdout",
     "output_type": "stream",
     "text": [
      "train accuracy: 0.9956647398843931\n",
      "test accuracy: 0.7386051619989017\n",
      "train f1: 0.995657112733\n",
      "test f1: 0.738508562768\n"
     ]
    }
   ],
   "source": [
    "main(learning_rate=1e-2, D=10, epochs=20)"
   ]
  },
  {
   "cell_type": "code",
   "execution_count": 26,
   "metadata": {},
   "outputs": [
    {
     "name": "stdout",
     "output_type": "stream",
     "text": [
      "vocab size: 18647\n",
      "learning rate: 0.01\n",
      "regularization: 0.01\n",
      "mu: 0.5\n",
      "eps: 0.01\n",
      "dim: 20\n",
      "epochs: 20\n",
      "i: 0 cost: 5915.82258729 correct rate: 0.5385838150289017 time for epoch: 0:17:53.985426\n",
      "i: 1 cost: 4868.66604139 correct rate: 0.5955202312138729 time for epoch: 0:18:02.182446\n",
      "i: 2 cost: 4948.88601332 correct rate: 0.7183526011560694 time for epoch: 0:19:14.418587\n",
      "i: 3 cost: 3878.76695988 correct rate: 0.9053468208092486 time for epoch: 0:19:16.298654\n",
      "i: 4 cost: 3315.73680976 correct rate: 0.9715317919075145 time for epoch: 0:18:04.723536\n",
      "i: 5 cost: 2896.78889446 correct rate: 0.9858381502890173 time for epoch: 0:17:29.619650\n",
      "i: 6 cost: 2943.04351299 correct rate: 0.9894508670520231 time for epoch: 0:17:29.664866\n",
      "i: 7 cost: 3062.08296851 correct rate: 0.9865606936416185 time for epoch: 0:19:25.731006\n",
      "i: 8 cost: 3329.61396027 correct rate: 0.9901734104046243 time for epoch: 0:21:15.755770\n",
      "i: 9 cost: 3357.164197 correct rate: 0.994364161849711 time for epoch: 0:20:12.116386\n",
      "i: 10 cost: 3344.95211395 correct rate: 0.9952312138728324 time for epoch: 0:21:16.717472\n",
      "i: 11 cost: 3877.32969752 correct rate: 0.9917630057803468 time for epoch: 0:18:11.441132\n",
      "i: 12 cost: 4503.85448314 correct rate: 0.99378612716763 time for epoch: 0:20:41.377093\n",
      "i: 13 cost: 5095.49879299 correct rate: 0.9921965317919075 time for epoch: 0:20:14.441054\n",
      "i: 14 cost: 6097.22323209 correct rate: 0.9942196531791907 time for epoch: 0:19:17.660368\n",
      "i: 15 cost: 6851.04629887 correct rate: 0.994364161849711 time for epoch: 0:18:31.287069\n",
      "i: 16 cost: 7370.89613023 correct rate: 0.9966763005780347 time for epoch: 0:18:29.396162\n",
      "i: 17 cost: 7584.01487222 correct rate: 0.9963872832369942 time for epoch: 0:19:39.404033\n",
      "i: 18 cost: 8079.68894429 correct rate: 0.9929190751445087 time for epoch: 0:21:16.321622\n",
      "i: 19 cost: 9109.13169876 correct rate: 0.994364161849711 time for epoch: 0:18:37.942865\n"
     ]
    },
    {
     "data": {
      "image/png": "[encoded data removed]",
      "text/plain": [
       "<matplotlib.figure.Figure at 0x10fbe74a8>"
      ]
     },
     "metadata": {},
     "output_type": "display_data"
    },
    {
     "name": "stdout",
     "output_type": "stream",
     "text": [
      "train accuracy: 0.9950867052023121\n",
      "test accuracy: 0.7105985722130698\n",
      "train f1: 0.995078415682\n",
      "test f1: 0.710597175836\n"
     ]
    }
   ],
   "source": [
    "main(learning_rate=1e-2, D=20, epochs=20)"
   ]
  },
  {
   "cell_type": "code",
   "execution_count": 31,
   "metadata": {},
   "outputs": [
    {
     "name": "stdout",
     "output_type": "stream",
     "text": [
      "vocab size: 18647\n",
      "learning rate: 0.001\n",
      "regularization: 0.01\n",
      "mu: 0.5\n",
      "eps: 0.01\n",
      "dim: 6\n",
      "epochs: 20\n",
      "i: 0 cost: 5155.77308498 correct rate: 0.5213872832369942 time for epoch: 0:05:32.789834\n",
      "i: 1 cost: 5078.05633348 correct rate: 0.5290462427745665 time for epoch: 0:05:38.657878\n",
      "i: 2 cost: 5034.37900763 correct rate: 0.5345375722543353 time for epoch: 0:10:14.567794\n",
      "i: 3 cost: 4997.44724167 correct rate: 0.5447976878612717 time for epoch: 0:05:39.650509\n",
      "i: 4 cost: 4962.76765884 correct rate: 0.5534682080924855 time for epoch: 0:05:02.877293\n",
      "i: 5 cost: 4926.84925974 correct rate: 0.5630057803468208 time for epoch: 0:04:56.480190\n",
      "i: 6 cost: 4885.92912136 correct rate: 0.5804913294797688 time for epoch: 0:05:37.059742\n",
      "i: 7 cost: 4834.00715249 correct rate: 0.5969653179190751 time for epoch: 0:06:20.018657\n",
      "i: 8 cost: 4763.11607442 correct rate: 0.6091040462427746 time for epoch: 0:05:13.017458\n",
      "i: 9 cost: 4660.78717429 correct rate: 0.6476878612716763 time for epoch: 0:06:35.116082\n",
      "i: 10 cost: 4521.64991351 correct rate: 0.6854046242774566 time for epoch: 0:06:02.514224\n",
      "i: 11 cost: 4354.86142592 correct rate: 0.7453757225433526 time for epoch: 0:06:26.807002\n",
      "i: 12 cost: 4179.48739738 correct rate: 0.7822254335260116 time for epoch: 0:05:31.402249\n",
      "i: 13 cost: 4002.00590169 correct rate: 0.8170520231213872 time for epoch: 0:05:16.698586\n",
      "i: 14 cost: 3830.49769778 correct rate: 0.8388728323699421 time for epoch: 0:05:19.884996\n",
      "i: 15 cost: 3664.67685949 correct rate: 0.8586705202312138 time for epoch: 0:05:16.384908\n",
      "i: 16 cost: 3508.92447401 correct rate: 0.8764450867052023 time for epoch: 0:06:12.223690\n",
      "i: 17 cost: 3365.20307803 correct rate: 0.8884393063583815 time for epoch: 0:05:35.987232\n",
      "i: 18 cost: 3252.6201121 correct rate: 0.8982658959537573 time for epoch: 0:06:17.566362\n",
      "i: 19 cost: 3149.8817898 correct rate: 0.9063583815028902 time for epoch: 0:06:53.443172\n"
     ]
    },
    {
     "data": {
      "image/png": "[encoded data removed]",
      "text/plain": [
       "<matplotlib.figure.Figure at 0x1136d97f0>"
      ]
     },
     "metadata": {},
     "output_type": "display_data"
    },
    {
     "name": "stdout",
     "output_type": "stream",
     "text": [
      "train accuracy: 0.9143063583815029\n",
      "test accuracy: 0.7331136738056013\n",
      "train f1: 0.914301331327\n",
      "test f1: 0.732660185306\n"
     ]
    }
   ],
   "source": [
    "main(learning_rate=1e-3, D=6, epochs=20)"
   ]
  },
  {
   "cell_type": "code",
   "execution_count": 36,
   "metadata": {},
   "outputs": [
    {
     "name": "stdout",
     "output_type": "stream",
     "text": [
      "vocab size: 18647\n",
      "learning rate: 0.001\n",
      "regularization: 0.01\n",
      "mu: 0.5\n",
      "eps: 0.01\n",
      "dim: 6\n",
      "epochs: 25\n",
      "i: 0 cost: 5138.37755055 correct rate: 0.5216763005780347 time for epoch: 0:06:03.344651\n",
      "i: 1 cost: 5062.37069039 correct rate:521676, cost so far: 5062.370690 0.5216763005780347 time for epoch: 0:05:24.480114\n",
      "i: 2 cost: 5010.28557295 correct rate: 0.5218208092485549 time for epoch: 0:05:22.514817\n",
      "i: 3 cost: 4971.61053554 correct rate: 0.5218208092485549 time for epoch: 0:05:21.989503\n",
      "i: 4 6920/6920 correct rate so far: 0.521821, cost so far: 4941.865436 cost: 4941.86543567 correct rate: 0.5218208092485549 time for epoch: 0:05:20.373974\n",
      "i: 5 cost: 4918.42606368 correct rate: 0.5219653179190752 time for epoch: 0:05:18.850302\n",
      "i: 6 cost: 4899.58168203 correct rate: 0.5219653179190752 time for epoch: 0:05:22.813566\n",
      "i: 7 cost: 4884.1599628 correct rate: 0.522543352601156 time for epoch: 0:05:22.564196\n",
      "i: 8 cost:6920 correct rate so far: 0.522688, cost so far: 4871.330898 4871.33089781 correct rate: 0.5226878612716763 time for epoch: 0:05:20.937305\n",
      "i: 9 cost: 4860.44890365 correct rate: 0.5235549132947976 time for epoch: 0:05:18.600870\n",
      "i: 10 cost: 4851.03796506 correct rate: 0.5242774566473989 time for epoch: 0:05:15.113545\n",
      "i: 11 cost: 4842.70975439 correct rate: 0.5252890173410405 time for epoch: 0:05:10.457309\n",
      "i: 12 cost: 4835.1420242 correct rate: 0.5258670520231213 time for epoch: 0:05:11.814280\n",
      "i: 13 cost: 4828.04909786 correct rate: 0.5277456647398844 time for epoch: 0:05:15.853522\n",
      "i: 146920/6920 correct rate so far: 0.528179, cost so far: 4821.165905 cost: 4821.1659053 correct rate: 0.528179190751445 time for epoch: 0:05:13.254060\n",
      "i: 15 cost: 4814.20827861 correct rate: 0.5294797687861271 time for epoch: 0:05:17.821767\n",
      "i: 16 cost: 4806.83631207 correct rate: 0.5319364161849711 time for epoch: 0:05:24.720223\n",
      "i: 17 cost: 4798.64396866 correct rate: 0.5348265895953758 time for epoch: 0:05:21.694226\n",
      "i: 18 cost: 4789.04548266 correct rate: 0.5398843930635838 time for epoch: 0:05:20.569420\n",
      "i: 19 cost: 4777.1599946 correct rate: 0.5447976878612717 time for epoch: 0:05:20.098091\n",
      "i: 20 cost: 4761.41643279 correct rate: 0.5562138728323699 time for epoch: 0:05:19.299096\n",
      "i: 21 cost: 4738.91742079 correct rate: 0.567485549132948 time for epoch: 0:05:25.645072\n",
      "i: 22 cost: 4703.12926266 correct rate: 0.5822254335260115 time for epoch: 0:05:22.358216\n",
      "i: 23 cost: 4640.42494622 correct rate: 0.5971098265895953 time for epoch: 0:05:22.619060\n",
      "i:N: 6920/6920 correct rate so far: 0.625145, cost so far: 4537.690779 24 cost: 4537.69077893 correct rate: 0.6251445086705202 time for epoch: 0:05:22.885493\n"
     ]
    },
    {
     "data": {
      "image/png": "[encoded data removed]",
      "text/plain": [
       "<matplotlib.figure.Figure at 0x108f8c828>"
      ]
     },
     "metadata": {},
     "output_type": "display_data"
    },
    {
     "name": "stdout",
     "output_type": "stream",
     "text": [
      "train accuracy: 0.6445086705202312\n",
      "test accuracy: 0.5447556287753982\n",
      "train f1: 0.596907674354\n",
      "test f1: 0.487214927201\n"
     ]
    }
   ],
   "source": [
    "main(learning_rate=1e-3, D=6, epochs=25)"
   ]
  },
  {
   "cell_type": "code",
   "execution_count": 15,
   "metadata": {},
   "outputs": [
    {
     "name": "stdout",
     "output_type": "stream",
     "text": [
      "vocab size: 18647\n",
      "learning rate: 0.001\n",
      "regularization: 0.01\n",
      "mu: 0.5\n",
      "eps: 0.01\n",
      "dim: 6\n",
      "epochs: 25\n",
      "i: 0 cost: 5130.56996178 correct rate: 0.5179190751445086 time for epoch: 0:05:39.602014\n",
      "i: 1 cost: 5049.51390457 correct rate: 0.5541907514450867 time for epoch: 0:06:44.488128\n",
      "i: 2 cost: 4996.49695831 correct rate: 0.5508670520231214 time for epoch: 0:05:47.437748\n",
      "i: 3 cost: 4957.31588536 correct rate: 0.5491329479768786 time for epoch: 0:05:42.350673\n",
      "i: 4 cost: 4927.17103368 correct rate: 0.5523121387283237 time for epoch: 0:05:20.950873\n",
      "i: 5 cost: 4903.33439416 correct rate: 0.5550578034682081 time for epoch: 0:04:44.210203\n",
      "i: 6 cost: 4884.06734995 correct rate: 0.559971098265896 time for epoch: 0:05:29.818327\n",
      "i: 7 cost: 4868.16577722 correct rate: 0.5637283236994219 time for epoch: 0:06:00.195406\n",
      "i: 8 cost: 4854.7638145 correct rate: 0.5666184971098266 : 4854.763814time for epoch: 0:05:52.426308\n",
      "i: 9 cost: 4843.23620995 correct rate: 0.5700867052023122 time for epoch: 0:06:43.234958\n",
      "i: 10 cost: 4833.08953319 correct rate: 0.5729768786127167 time for epoch: 0:06:57.227866\n",
      "i: 11 cost: 4823.93670298 correct rate: 0.5761560693641619 time for epoch: 0:05:35.384069\n",
      "i: 12 cost: 4815.478391 correct rate: 0.5776011560693641 time for epoch: 0:05:11.093921\n",
      "i: 13 cost: 4807.45129586 correct rate: 0.5810693641618497 time for epoch: 0:05:06.139871\n",
      "i: 14 cost: 4799.6253267 correct rate: 0.5839595375722544 time for epoch: 0:05:18.683720\n",
      "i: 15 cost: 4791.79938047 correct rate: 0.5856936416184971 time for epoch: 0:05:05.610132\n",
      "i: 16 cost: 4783.77837276 correct rate: 0.588728323699422 time for epoch: 0:05:00.811044\n",
      "i: 17 cost: 4775.38367045 correct rate: 0.5901734104046242 time for epoch: 0:05:22.936149\n",
      "i: 18 cost: 4766.3854727 correct rate: 0.5919075144508671 time for epoch: 0:05:41.466266\n",
      "i: 19 cost: 4756.62866656 correct rate: 0.5942196531791908 time for epoch: 0:05:26.657510\n",
      "i: 20 cost: 4745.76323393 correct rate: 0.596242774566474 time for epoch: 0:06:02.495796\n",
      "i: 21 cost: 4733.61962275 correct rate: 0.6 time for epoch: 0:05:38.826723\n",
      "i: 22 cost: 4719.8118291 correct rate: 0.6066473988439306 time for epoch: 0:06:21.625304\n",
      "i: 23 cost: 4704.02337731 correct rate: 0.6095375722543352 time for epoch: 0:06:02.789395\n",
      "i: 24 cost: 4685.8560146 correct rate: 0.6160404624277457 time for epoch: 0:05:40.540687\n"
     ]
    },
    {
     "data": {
      "image/png": "[encoded data removed]",
      "text/plain": [
       "<matplotlib.figure.Figure at 0x10cfd6828>"
      ]
     },
     "metadata": {},
     "output_type": "display_data"
    },
    {
     "name": "stdout",
     "output_type": "stream",
     "text": [
      "train accuracy: 0.6216763005780347\n",
      "test accuracy: 0.5227896760021966\n",
      "train f1: 0.594935427333\n",
      "test f1: 0.491457986327\n"
     ]
    }
   ],
   "source": [
    "main(learning_rate=1e-3, D=6, epochs=25)"
   ]
  },
  {
   "cell_type": "code",
   "execution_count": 61,
   "metadata": {},
   "outputs": [
    {
     "name": "stdout",
     "output_type": "stream",
     "text": [
      "vocab size: 18647\n",
      "learning rate: 0.001\n",
      "regularization: 0.01\n",
      "mu: 0.5\n",
      "eps: 0.01\n",
      "dim: 10\n",
      "epochs: 25\n",
      "i: 0 cost: 5630.48668585 correct rate: 0.5265895953757226 time for epoch: 0:08:55.537699\n",
      "test accuracy: 0.505\n",
      "i: 1 cost: 5432.76103006 correct rate: 0.5377167630057803 time for epoch: 0:07:56.082338\n",
      "test accuracy: 0.51\n",
      "i: 2 cost:6920 correct rate so far: 0.539595, cost so far: 5296.277181 5296.2771808 correct rate: 0.5395953757225433 time for epoch: 0:08:31.500939\n",
      "test accuracy: 0.505\n",
      "i: 3 cost: 5196.10410165 correct rate: 0.5421965317919075 time for epoch: 0:07:51.053959\n",
      "test accuracy: 0.505\n",
      "i: 4 cost: 5120.47772047 correct rate: 0.5442196531791907 time for epoch: 0:07:25.935803\n",
      "test accuracy: 0.5\n",
      "i: 5 cost: 5062.12292736 correct rate: 0.5455202312138728 time for epoch: 0:07:15.436522\n",
      "test accuracy: 0.505\n",
      "i: 6 cost: 5016.15492042 correct rate: 0.5478323699421965 time for epoch: 0:07:50.944685\n",
      "test accuracy: 0.52\n",
      "i: 7 cost: 4979.13672416 correct rate: 0.5501445086705202 time for epoch: 0:10:09.151887\n",
      "test accuracy: 0.51\n",
      "i: 8 cost: 4948.53809111 correct rate: 0.5514450867052023 time for epoch: 0:09:18.401767\n",
      "test accuracy: 0.52\n",
      "i: 9 cost: 4922.30134572 correct rate: 0.5526011560693641 time for epoch: 0:08:15.876864\n",
      "test accuracy: 0.53\n",
      "i: 10 cost: 4898.63143482 correct rate: 0.5557803468208092 time for epoch: 0:09:10.829833\n",
      "test accuracy: 0.53\n",
      "i: 11 cost: 4875.34296051 correct rate: 0.5582369942196532 time for epoch: 0:09:31.150385\n",
      "test accuracy: 0.52\n",
      "i: 12 cost: 4849.55731781 correct rate: 0.5588150289017341 time for epoch: 0:07:38.644085\n",
      "test accuracy: 0.515\n",
      "i: 13 cost: 4818.24320495 correct rate: 0.5632947976878613 time for epoch: 0:08:05.090460\n",
      "test accuracy: 0.505\n",
      "i: 14 cost: 4779.04583142 correct rate: 0.5684971098265896 time for epoch: 0:09:11.735308\n",
      "test accuracy: 0.505\n",
      "i: 15 cost: 4731.25808136 correct rate: 0.5754335260115607 time for epoch: 0:08:47.223486\n",
      "test accuracy: 0.525\n",
      "i: 16 cost: 4678.66529917 correct rate: 0.5822254335260115 time for epoch: 0:08:47.927588\n",
      "test accuracy: 0.535\n",
      "i: 17 cost: 4615.27592867 correct rate: 0.5973988439306358 time for epoch: 0:07:31.184224\n",
      "test accuracy: 0.545\n",
      "i: 18 cost: 4546.56290834 correct rate: 0.6102601156069364 time for epoch: 0:07:22.278193\n",
      "test accuracy: 0.55\n",
      "i: 19 cost: 4471.85631324 correct rate: 0.6265895953757226 time for epoch: 0:07:25.671371\n",
      "test accuracy: 0.565\n",
      "i: 20 cost: 4391.23823527 correct rate: 0.6391618497109827 time for epoch: 0:07:24.942271\n",
      "test accuracy: 0.575\n",
      "i: 21 cost: 4306.63575889 correct rate: 0.6563583815028902 time for epoch: 0:07:10.172066\n",
      "test accuracy: 0.605\n",
      "i: 22 cost: 4217.62303503 correct rate: 0.680635838150289 time for epoch: 0:08:01.481925\n",
      "test accuracy: 0.625\n",
      "i: 23 cost: 4125.19117554 correct rate: 0.6965317919075145 time for epoch: 0:06:36.929445\n",
      "test accuracy: 0.635\n",
      "i: 24 cost: 4034.54625288 correct rate: 0.7171965317919076 time for epoch: 0:07:33.901186\n",
      "test accuracy: 0.65\n"
     ]
    },
    {
     "data": {
      "image/png": "[encoded data removed]",
      "text/plain": [
       "<matplotlib.figure.Figure at 0x111de3470>"
      ]
     },
     "metadata": {},
     "output_type": "display_data"
    },
    {
     "name": "stdout",
     "output_type": "stream",
     "text": [
      "train accuracy: 0.7355491329479769\n",
      "test accuracy: 0.6584294343767161\n",
      "train f1: 0.725997733828\n",
      "test f1: 0.645092861136\n"
     ]
    }
   ],
   "source": [
    "main(learning_rate=0.001, reg=0.01, D=10, epochs=25)"
   ]
  },
  {
   "cell_type": "code",
   "execution_count": 101,
   "metadata": {},
   "outputs": [
    {
     "name": "stdout",
     "output_type": "stream",
     "text": [
      "vocab size: 18647\n",
      "learning rate: 0.001\n",
      "regularization: 0.01\n",
      "mu: 0.5\n",
      "eps: 0.01\n",
      "dim: 8\n",
      "epochs: 35\n",
      "i: 0 cost: 5353.39085885 correct rate: 0.5190751445086705 time for epoch: 0:06:10.150319\n",
      "test accuracy: 0.485\n",
      "i: 1 cost: 5224.42937496 correct rate: 0.5219653179190752 time for epoch: 0:06:50.516661\n",
      "test accuracy: 0.48\n",
      "i: 2 cost: 5134.91672533 correct rate: 0.5218208092485549 time for epoch: 0:06:38.323860\n",
      "test accuracy: 0.48\n",
      "i: 3 cost: 5068.93398898 correct rate: 0.5218208092485549 time for epoch: 0:07:19.705021\n",
      "test accuracy: 0.48\n",
      "i: 4 cost: 5018.90571983 correct rate: 0.5218208092485549 time for epoch: 0:06:16.030510\n",
      "test accuracy: 0.48\n",
      "i: 5 cost: 4980.24056337 correct rate: 0.5218208092485549 time for epoch: 0:06:33.064104\n",
      "test accuracy: 0.48\n",
      "i: 6 cost: 4949.92241567 correct rate: 0.5218208092485549 time for epoch: 0:07:24.590049\n",
      "test accuracy: 0.48\n",
      "i: 7 cost: 4925.86229047 correct rate: 0.5218208092485549 time for epoch: 0:06:23.899500\n",
      "test accuracy: 0.48\n",
      "i: 8 cost: 4906.57341321 correct rate: 0.5218208092485549 time for epoch: 0:07:22.421277\n",
      "test accuracy: 0.48\n",
      "i: 9 cost: 4890.96472935 correct rate: 0.5218208092485549 time for epoch: 0:07:21.243235\n",
      "test accuracy: 0.48\n",
      "i: 10 cost: 4878.2161039 correct rate: 0.5219653179190752 time for epoch: 0:07:09.783558\n",
      "test accuracy: 0.48\n",
      "i: 11 cost: 4867.69882684 correct rate: 0.5221098265895954 time for epoch: 0:07:14.107437\n",
      "test accuracy: 0.48\n",
      "i: 12 cost: 4858.93177315 correct rate: 0.5223988439306358 time for epoch: 0:08:09.901365\n",
      "test accuracy: 0.48\n",
      "i: 13 cost: 4851.55395305 correct rate: 0.5228323699421965 time for epoch: 0:06:35.521401\n",
      "test accuracy: 0.48\n",
      "i: 14 cost: 4845.26883881 correct rate: 0.522543352601156 time for epoch: 0:05:36.709175\n",
      "test accuracy: 0.48\n",
      "i: 15 cost: 4839.86452479 correct rate: 0.5222543352601156 time for epoch: 0:06:03.120965\n",
      "test accuracy: 0.48\n",
      "i: 16 cost: 4835.15194003 correct rate: 0.5226878612716763 time for epoch: 0:07:26.158482\n",
      "test accuracy: 0.485\n",
      "i: 17 cost:920 correct rate so far: 0.523844, cost so far: 4830.994337 4830.9943371 correct rate: 0.5238439306358381 time for epoch: 0:07:05.066089\n",
      "test accuracy: 0.49\n",
      "i: 18 cost: 4827.25416435 correct rate: 0.525 time for epoch: 0:06:56.005779\n",
      "test accuracy: 0.49\n",
      "i: 19 cost: 4823.87168832 correct rate: 0.5265895953757226 time for epoch: 0:05:46.668743\n",
      "test accuracy: 0.49\n",
      "i: 20 cost: 4820.74309906 correct rate: 0.5267341040462428 time for epoch: 0:05:49.215021\n",
      "test accuracy: 0.49\n",
      "i: 21 cost: 4817.7906968 correct rate: 0.5267341040462428 time for epoch: 0:06:48.422924\n",
      "test accuracy: 0.49\n",
      "i: 22 cost: 4814.97278637 correct rate: 0.5273121387283237 time for epoch: 0:07:39.214151\n",
      "test accuracy: 0.485\n",
      "i: 23 cost: 4812.22346498 correct rate: 0.5278901734104047 time for epoch: 0:07:09.593525\n",
      "test accuracy: 0.485\n",
      "i: 24 cost: 4809.5043962 correct rate: 0.5290462427745665 time for epoch: 0:06:13.856406\n",
      "test accuracy: 0.48\n",
      "i: 25 cost: 4806.73889494 correct rate: 0.5310693641618497 time for epoch: 0:07:18.757300\n",
      "test accuracy: 0.48\n",
      "i: 26 cost: 4803.89444215 correct rate: 0.5322254335260116 time for epoch: 0:07:52.940607\n",
      "test accuracy: 0.48\n",
      "i: 27 cost: 4800.93477213 correct rate: 0.5332369942196532 time for epoch: 0:07:29.116815\n",
      "test accuracy: 0.48\n",
      "i: 28 cost: 4797.78466725 correct rate: 0.5346820809248555 time for epoch: 0:06:11.594405\n",
      "test accuracy: 0.48\n",
      "i: 29 cost: 4794.37690943 correct rate: 0.5367052023121387 time for epoch: 0:06:38.551768\n",
      "test accuracy: 0.48\n",
      "i: 30 cost: 4790.63624124 correct rate: 0.5388728323699422 time for epoch: 0:06:16.378132\n",
      "test accuracy: 0.485\n",
      "i:N: 6920/6920 correct rate so far: 0.541474, cost so far: 4786.446954 31 cost: 4786.44695363 correct rate: 0.5414739884393064 time for epoch: 0:06:11.608032\n",
      "test accuracy: 0.49\n",
      "i: 32 cost: 4781.80140938 correct rate: 0.5437861271676301 time for epoch: 0:06:20.111761\n",
      "test accuracy: 0.495\n",
      "i: 33 cost: 20 correct rate so far: 0.544798, cost so far: 4776.4081254776.40812505 correct rate: 0.5447976878612717 time for epoch: 0:05:28.605266\n",
      "test accuracy: 0.495\n",
      "i: 34 cost: 4770.23951234 correct rate: 0.5485549132947977 time for epoch: 0:05:11.431606\n",
      "test accuracy: 0.5\n"
     ]
    },
    {
     "data": {
      "image/png": "[encoded data removed]",
      "text/plain": [
       "<matplotlib.figure.Figure at 0x114e881d0>"
      ]
     },
     "metadata": {},
     "output_type": "display_data"
    },
    {
     "name": "stdout",
     "output_type": "stream",
     "text": [
      "train accuracy: 0.5501445086705202\n",
      "test accuracy: 0.5090609555189456\n",
      "train f1: 0.432849471225\n",
      "test f1: 0.392011622175\n"
     ]
    }
   ],
   "source": [
    "main(learning_rate=0.001, reg=0.01, D=10, epochs=35)"
   ]
  },
  {
   "cell_type": "code",
   "execution_count": null,
   "metadata": {},
   "outputs": [],
   "source": []
  },
  {
   "cell_type": "code",
   "execution_count": null,
   "metadata": {},
   "outputs": [],
   "source": []
  }
 ],
 "metadata": {
  "kernelspec": {
   "display_name": "Python 3",
   "language": "python",
   "name": "python3"
  },
  "language_info": {
   "codemirror_mode": {
    "name": "ipython",
    "version": 3
   },
   "file_extension": ".py",
   "mimetype": "text/x-python",
   "name": "python",
   "nbconvert_exporter": "python",
   "pygments_lexer": "ipython3",
   "version": "3.4.4"
  }
 },
 "nbformat": 4,
 "nbformat_minor": 2
}
