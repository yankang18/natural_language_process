{
 "cells": [
  {
   "cell_type": "markdown",
   "metadata": {},
   "source": [
    "# Deep Neural Network as Speech Models"
   ]
  },
  {
   "cell_type": "markdown",
   "metadata": {},
   "source": [
    "If HMM works, why do we need a new model. It comes down to potential.\n",
    "\n",
    "Suppose we have all the data we need and all the processing power we want. According to Baidu's Adam Coates ina recent presentation, additional training of a traditional ASR levels off in accuracy. Meanwhile, deep neural network solutions are unimpressive with small datasets. But they shine as we increase data and model sizes. \n",
    "\n",
    "<img src='images/dnn_vs_thmm.png' height='300' width='400'/>"
   ]
  },
  {
   "cell_type": "markdown",
   "metadata": {},
   "source": [
    "The traditional Speech Recognition Model pipeline:\n",
    "\n",
    "<img src='images/traditional_pipeline.png' height='500' width='600'/>\n",
    "\n",
    "1. Extract features from the audio speech signal with MFCC\n",
    "2. Use an HMM acounstic model to convert features to sound units, phonemes, or words\n",
    "3. Then, use statistical language models such as N-grams to straighten out language ambiguities and create the final text sequence."
   ]
  },
  {
   "cell_type": "markdown",
   "metadata": {},
   "source": [
    "It is possible to replace many parts with a multiple layer deep neural network. Let's get a little intuition as to why they can be replaced.\n",
    "\n",
    "<img src='images/new_dnn_work_1.png' height='400' width='500'>\n",
    "\n",
    "> In feature extraction, we have used models based on human sound production and perception to convert a spectrogram into features. This is similar, intuitively, to the idea of using Convolutional Neural Network (CNN) to extract features from image data. Spectrograms are visual representations of speech. Therefore, we ought to be able to let a CNN find relevant features for speech in the same way.\n",
    "\n",
    "<img src='images/new_dnn_work_2.png' height='400' width='500'>\n",
    "\n",
    "> An acoustic model implemented with HMMs includes transition probabilities to organize time series data. Recurrent Neural Network (RNN) can also track time series data through memory. \n",
    "\n",
    "> The traditional model also uses HMMs to sequence sound units into words. The RNNs Produce probability densities over each time slice. So we need another way to solve the sequencing issue. A Connectionist Temporal Classification layer (CTC) is used to convert the RNN outputs into words. Therefore, we can replace the acounstic portion of the pipeline with a combination of RNN and CTC layers\n",
    "\n",
    "<img src='images/new_dnn_work_3.png' height='400' width='500'>\n",
    "\n",
    "> The end-to-end DNN still makes linguistic errors, especially on words that it has not seen in enough examples, It should be possible for the system to learn language probabilities for audio data. But presently there just is not enough. \n",
    "\n",
    "> The existing technology of N-grams can still be used. Alternately, a Neural Language Model can be trained on massive amounts of available text. Using an NLM layer, the probabilities of spelling and context can be rescored for the system. "
   ]
  },
  {
   "cell_type": "markdown",
   "metadata": {},
   "source": [
    "## References: Deep Neural Network ASR\n",
    "\n",
    "**Deep Speech 2**\n",
    "\n",
    "The following presentation, slides, and paper from Baidu on DeepSpeech 2 were important resources for the development of this course and its capstone project:\n",
    "\n",
    "* [Amodei, Dario, et al. \"Deep speech 2: End-to-end speech recognition in english and mandarin.\" International Conference on Machine Learning. 2016.](https://arxiv.org/pdf/1512.02595v1.pdf)\n",
    "* [Presentation](https://www.youtube.com/watch?v=g-sndkf7mCs)\n",
    "* [Slides](https://cs.stanford.edu/~acoates/ba_dls_speech2016.pdf)\n",
    "\n",
    "**Language modeling with CTC**\n",
    "\n",
    "Gram-CTC from Baidu on integrating a language model into CTC for better performance:\n",
    "\n",
    "* [Liu, Hairong, et al. \"Gram-CTC: Automatic Unit Selection and Target Decomposition for Sequence Labelling.\" arXiv preprint arXiv:1703.00096 (2017).](https://arxiv.org/pdf/1703.00096.pdf)\n",
    "\n",
    "Language modeling with CTC based on weighted finite-state transducers (WFSTs):\n",
    "\n",
    "* [Miao, Yajie, Mohammad Gowayyed, and Florian Metze. \"EESEN: End-to-end speech recognition using deep RNN models and WFST-based decoding.\" Automatic Speech Recognition and Understanding (ASRU), 2015 IEEE Workshop on. IEEE, 2015.](https://arxiv.org/pdf/1507.08240.pdf)\n",
    "* [Slides](http://people.csail.mit.edu/jrg/meetings/CTC-Dec07.pdf)"
   ]
  },
  {
   "cell_type": "code",
   "execution_count": null,
   "metadata": {},
   "outputs": [],
   "source": []
  }
 ],
 "metadata": {
  "kernelspec": {
   "display_name": "Python [default]",
   "language": "python",
   "name": "python3"
  },
  "language_info": {
   "codemirror_mode": {
    "name": "ipython",
    "version": 3
   },
   "file_extension": ".py",
   "mimetype": "text/x-python",
   "name": "python",
   "nbconvert_exporter": "python",
   "pygments_lexer": "ipython3",
   "version": "3.5.5"
  }
 },
 "nbformat": 4,
 "nbformat_minor": 2
}
