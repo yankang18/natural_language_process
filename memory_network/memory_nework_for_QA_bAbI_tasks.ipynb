{
 "cells": [
  {
   "cell_type": "code",
   "execution_count": 102,
   "metadata": {},
   "outputs": [],
   "source": [
    "import numpy as np\n",
    "import keras.backend as K\n",
    "import matplotlib.pyplot as plt\n",
    "import re\n",
    "import tarfile\n",
    "\n",
    "from keras.models import Model\n",
    "from keras.layers import Dense, Embedding, Input, Lambda, Reshape, add, dot, Activation, Softmax\n",
    "from keras.preprocessing.sequence import pad_sequences\n",
    "from keras.optimizers import Adam, RMSprop\n",
    "# from keras.activations import softmax\n",
    "# from keras.utils.data_utils import get_file"
   ]
  },
  {
   "cell_type": "markdown",
   "metadata": {},
   "source": [
    "## Preprocessing Data"
   ]
  },
  {
   "cell_type": "code",
   "execution_count": 103,
   "metadata": {},
   "outputs": [],
   "source": [
    "challenges = {\n",
    "  # QA1 with 10,000 samples\n",
    "  'single_supporting_fact_10k': 'data/tasks_1-20_v1-2/en-10k/qa1_single-supporting-fact_{}.txt',\n",
    "  # QA2 with 10,000 samples\n",
    "  'two_supporting_facts_10k': 'data/tasks_1-20_v1-2/en-10k/qa2_two-supporting-facts_{}.txt',\n",
    "}"
   ]
  },
  {
   "cell_type": "code",
   "execution_count": 104,
   "metadata": {},
   "outputs": [],
   "source": [
    "def tokenize(sent):\n",
    "    '''Return the tokens of a sentence including punctuation.\n",
    "\n",
    "    >>> tokenize('Bob dropped the apple. Where is the apple?')\n",
    "    ['Bob', 'dropped', 'the', 'apple', '.', 'Where', 'is', 'the', 'apple', '?']\n",
    "    '''\n",
    "    return [x.strip() for x in re.split('(\\W+)?', sent) if x.strip()]"
   ]
  },
  {
   "cell_type": "code",
   "execution_count": 105,
   "metadata": {},
   "outputs": [],
   "source": [
    "def get_stories(f):\n",
    "    # data will return a list of triples\n",
    "    # each triple contains:\n",
    "    #   1. a story\n",
    "    #   2. a question about the story\n",
    "    #   3. the answer to the question\n",
    "    data = []\n",
    "\n",
    "    # use this list to keep track of the story so far\n",
    "    story = []\n",
    "\n",
    "    # print a random story, helpful to see the data\n",
    "    printed = False\n",
    "    for line in f:\n",
    "        line = line.strip()\n",
    "\n",
    "        # split the line number from the rest of the line\n",
    "        nid, line = line.split(' ', 1)\n",
    "\n",
    "        # see if we should begin a new story\n",
    "        if int(nid) == 1:\n",
    "            story = []\n",
    "\n",
    "        # this line contains a question and answer if it has a tab\n",
    "        #       question<TAB>answer\n",
    "        # it also tells us which line in the story is relevant to the answer\n",
    "        # Note: we actually ignore this fact, since the model will learn\n",
    "        #       which lines are important\n",
    "        # Note: the max line number is not the number of lines of the story\n",
    "        #       since lines with questions do not contain any story\n",
    "        # one story may contain MULTIPLE questions\n",
    "        if '\\t' in line:\n",
    "            q, a, supporting = line.split('\\t')\n",
    "            q = tokenize(q)\n",
    "\n",
    "            # numbering each line is very useful\n",
    "            # it's the equivalent of adding a unique token to the front\n",
    "            # of each sentence\n",
    "            story_so_far = [[str(i)] + s for i, s in enumerate(story) if s]\n",
    "\n",
    "            # uncomment if you want to see what a story looks like\n",
    "            # if not printed and np.random.rand() < 0.5:\n",
    "            #     print(\"story_so_far:\", story_so_far)\n",
    "            #     printed = True\n",
    "            data.append((story_so_far, q, a))\n",
    "            story.append('')\n",
    "        else:\n",
    "            # just add the line to the current story\n",
    "            story.append(tokenize(line))\n",
    "    return data"
   ]
  },
  {
   "cell_type": "code",
   "execution_count": 106,
   "metadata": {},
   "outputs": [],
   "source": [
    "# recursively flatten a list\n",
    "def should_flatten(el): \n",
    "    return not isinstance(el, (str, bytes))\n",
    "\n",
    "def flatten(l):\n",
    "    for el in l:\n",
    "        if should_flatten(el):\n",
    "            yield from flatten(el)\n",
    "        else:\n",
    "            yield el"
   ]
  },
  {
   "cell_type": "code",
   "execution_count": 107,
   "metadata": {},
   "outputs": [],
   "source": [
    "# convert stories from words into lists of word indexes (integers)\n",
    "# pad each sequence so that they are the same length\n",
    "# we will need to re-pad the stories later so that each story\n",
    "# is the same length\n",
    "def vectorize_stories(data, word2idx, story_maxlen, query_maxlen):\n",
    "    inputs, queries, answers = [], [], []\n",
    "    for story, query, answer in data:\n",
    "        inputs.append([[word2idx[w] for w in s] for s in story])\n",
    "        queries.append([word2idx[w] for w in query])\n",
    "        answers.append([word2idx[answer]])\n",
    "    return (\n",
    "        [pad_sequences(x, maxlen=story_maxlen) for x in inputs],\n",
    "        pad_sequences(queries, maxlen=query_maxlen),\n",
    "        np.array(answers)\n",
    "    )"
   ]
  },
  {
   "cell_type": "code",
   "execution_count": 108,
   "metadata": {},
   "outputs": [],
   "source": [
    "# this is like 'pad_sequences' but for entire stories\n",
    "# we are padding each story with zeros so every story\n",
    "# has the same number of sentences\n",
    "# append an array of zeros of size:\n",
    "# (max_sentences - num sentences in story, max words in sentence)\n",
    "def stack_inputs(inputs, story_maxsents, story_maxlen):\n",
    "    for i, story in enumerate(inputs):\n",
    "        inputs[i] = np.concatenate(\n",
    "            [\n",
    "                story, \n",
    "                np.zeros((story_maxsents - story.shape[0], story_maxlen), 'int')\n",
    "            ]\n",
    "        )\n",
    "    return np.stack(inputs)"
   ]
  },
  {
   "cell_type": "code",
   "execution_count": 109,
   "metadata": {},
   "outputs": [],
   "source": [
    "def get_file(file_name):\n",
    "    return open(file_name, 'r')"
   ]
  },
  {
   "cell_type": "code",
   "execution_count": 110,
   "metadata": {},
   "outputs": [],
   "source": [
    "# make a function to get the data since\n",
    "# we want to load both the single supporting fact data\n",
    "# and the two supporting fact data later\n",
    "def get_data(challenge_type):\n",
    "    # input should either be 'single_supporting_fact_10k' or 'two_supporting_facts_10k'\n",
    "    challenge = challenges[challenge_type]\n",
    "\n",
    "\n",
    "    # returns a list of triples of:\n",
    "    # (story, question, answer)\n",
    "    # story is a list of sentences\n",
    "    # question is a sentence\n",
    "    # answer is a word\n",
    "#     train_stories = get_stories(tar.extractfile(challenge.format('train')))\n",
    "#     test_stories = get_stories(tar.extractfile(challenge.format('test')))\n",
    "    train_stories = get_stories(get_file(challenge.format('train')))\n",
    "    test_stories = get_stories(get_file(challenge.format('test')))\n",
    "\n",
    "    # group all the stories together\n",
    "    stories = train_stories + test_stories\n",
    "\n",
    "    # so we can get the max length of each story, of each sentence, and of each question\n",
    "    story_maxlen = max((len(s) for x, _, _ in stories for s in x))\n",
    "    story_maxsents = max((len(x) for x, _, _ in stories))\n",
    "    query_maxlen = max(len(x) for _, x, _ in stories)\n",
    "    \n",
    "    print('story_maxlen', story_maxlen)\n",
    "    print('story_maxsents', story_maxsents)\n",
    "    print('query_maxlen', query_maxlen)\n",
    "    \n",
    "    # Create vocabulary of corpus and find size, including a padding element.\n",
    "    vocab = sorted(set(flatten(stories)))\n",
    "    vocab.insert(0, '<PAD>')\n",
    "    vocab_size = len(vocab)\n",
    "\n",
    "    # Create an index mapping for the vocabulary.\n",
    "    word2idx = {c:i for i, c in enumerate(vocab)}\n",
    "\n",
    "    # convert stories from strings to lists of integers\n",
    "    inputs_train, queries_train, answers_train = vectorize_stories(\n",
    "        train_stories, \n",
    "        word2idx,\n",
    "        story_maxlen,\n",
    "        query_maxlen\n",
    "      )\n",
    "  \n",
    "    inputs_test, queries_test, answers_test = vectorize_stories(\n",
    "        test_stories, \n",
    "        word2idx,\n",
    "        story_maxlen,\n",
    "        query_maxlen\n",
    "      )\n",
    "\n",
    "    # convert inputs into 3-D numpy arrays\n",
    "    inputs_train = stack_inputs(inputs_train, story_maxsents, story_maxlen)\n",
    "    inputs_test = stack_inputs(inputs_test, story_maxsents, story_maxlen)\n",
    "    print(\"inputs_train.shape, inputs_test.shape\", inputs_train.shape, inputs_test.shape)\n",
    "\n",
    "    # return model inputs for keras\n",
    "    return train_stories, test_stories, \\\n",
    "        inputs_train, queries_train, answers_train, \\\n",
    "        inputs_test, queries_test, answers_test, \\\n",
    "        story_maxsents, story_maxlen, query_maxlen, \\\n",
    "        vocab, vocab_size"
   ]
  },
  {
   "cell_type": "code",
   "execution_count": 111,
   "metadata": {},
   "outputs": [
    {
     "name": "stdout",
     "output_type": "stream",
     "text": [
      "story_maxlen 8\n",
      "story_maxsents 10\n",
      "query_maxlen 4\n",
      "inputs_train.shape, inputs_test.shape (10000, 10, 8) (1000, 10, 8)\n"
     ]
    }
   ],
   "source": [
    "# get the single supporting fact data\n",
    "train_stories, test_stories, \\\n",
    "    inputs_train, queries_train, answers_train, \\\n",
    "    inputs_test, queries_test, answers_test, \\\n",
    "    story_maxsents, story_maxlen, query_maxlen, \\\n",
    "    vocab, vocab_size = get_data('single_supporting_fact_10k')"
   ]
  },
  {
   "cell_type": "markdown",
   "metadata": {},
   "source": [
    "## One Supporting Facts Model"
   ]
  },
  {
   "cell_type": "markdown",
   "metadata": {},
   "source": [
    "### Embedding Layer"
   ]
  },
  {
   "cell_type": "code",
   "execution_count": 130,
   "metadata": {},
   "outputs": [],
   "source": [
    "embedding_size = 15"
   ]
  },
  {
   "cell_type": "code",
   "execution_count": 112,
   "metadata": {},
   "outputs": [
    {
     "name": "stdout",
     "output_type": "stream",
     "text": [
      "input_story shape (?, 10, 8)\n",
      "embedded_story shape (?, 10, 8, 15)\n",
      "embedded_story shape after lambda (?, 10, 15)\n"
     ]
    }
   ],
   "source": [
    "# The input story is two dimensional. \n",
    "#   The first dimensional is how many sentences\n",
    "#   The seconde dimensional is how many words\n",
    "input_story = Input(shape=(story_maxsents, story_maxlen))\n",
    "print('input_story shape',input_story.shape)\n",
    "embedded_story = Embedding(vocab_size, embedding_size, name='story_embedding_layer')(input_story)\n",
    "print('embedded_story shape', embedded_story.shape)\n",
    "embedded_story = Lambda(lambda x: K.sum(x, axis=2), name='story_lambda_layer')(embedded_story)\n",
    "print('embedded_story shape after lambda', embedded_story.shape)"
   ]
  },
  {
   "cell_type": "code",
   "execution_count": 113,
   "metadata": {},
   "outputs": [
    {
     "name": "stdout",
     "output_type": "stream",
     "text": [
      "input_question shape (?, 4)\n",
      "embedded_question shape (?, 4, 15)\n",
      "embedded_question shape after lambda (?, 15)\n"
     ]
    }
   ],
   "source": [
    "# The input question is one dimensional since it has only one sentence. \n",
    "#   The only dimensional is how many words\n",
    "input_question = Input(shape=(query_maxlen,))\n",
    "print('input_question shape',input_question.shape)\n",
    "embedded_question = Embedding(vocab_size, embedding_size, name='question_embedding_layer')(input_question)\n",
    "print('embedded_question shape', embedded_question.shape)\n",
    "embedded_question = Lambda(lambda x: K.sum(x, axis=1), name='question_lambda_layer')(embedded_question)\n",
    "print('embedded_question shape after lambda', embedded_question.shape)"
   ]
  },
  {
   "cell_type": "code",
   "execution_count": null,
   "metadata": {},
   "outputs": [],
   "source": []
  },
  {
   "cell_type": "code",
   "execution_count": 114,
   "metadata": {},
   "outputs": [
    {
     "name": "stdout",
     "output_type": "stream",
     "text": [
      "embedded_question shape after reshape (?, 1, 15)\n"
     ]
    }
   ],
   "source": [
    "embedded_question = Reshape(target_shape=(1, embedding_size))(embedded_question)\n",
    "print('embedded_question shape after reshape', embedded_question.shape)"
   ]
  },
  {
   "cell_type": "code",
   "execution_count": 115,
   "metadata": {},
   "outputs": [
    {
     "name": "stdout",
     "output_type": "stream",
     "text": [
      "weights_vec.shape: (?, 10, 1)\n"
     ]
    }
   ],
   "source": [
    "# weights_vec = dot([embedded_story, embedded_question], 2)\n",
    "# print('weights_vec shape before softmax', weights_vec.shape)\n",
    "# weights_vec = Softmax(axis=1)(weights_vec)\n",
    "# print('weights_vec shape after softmax', weights_vec.shape)\n",
    "\n",
    "x = dot([embedded_story, embedded_question], 2)\n",
    "x = Reshape((story_maxsents,))(x) # flatten the vector\n",
    "x = Activation('softmax')(x)\n",
    "weights_vec = Reshape((story_maxsents, 1))(x) # unflatten it again to be dotted later\n",
    "print(\"weights_vec.shape:\", weights_vec.shape)"
   ]
  },
  {
   "cell_type": "code",
   "execution_count": 116,
   "metadata": {},
   "outputs": [
    {
     "name": "stdout",
     "output_type": "stream",
     "text": [
      "sent_rel shape after reshape (?, 1, 15)\n"
     ]
    }
   ],
   "source": [
    "sent_rel = dot([weights_vec, embedded_story], 1)\n",
    "print('sent_rel shape after reshape', sent_rel.shape)"
   ]
  },
  {
   "cell_type": "code",
   "execution_count": 117,
   "metadata": {},
   "outputs": [
    {
     "name": "stdout",
     "output_type": "stream",
     "text": [
      "(?, 32)\n",
      "<class 'tensorflow.python.framework.ops.Tensor'>\n"
     ]
    }
   ],
   "source": [
    "x = Reshape((embedding_size,))(sent_rel) # flatten it\n",
    "ans = Dense(vocab_size, activation='softmax')(x)\n",
    "print(ans.shape)"
   ]
  },
  {
   "cell_type": "code",
   "execution_count": 118,
   "metadata": {},
   "outputs": [
    {
     "data": {
      "text/plain": [
       "32"
      ]
     },
     "execution_count": 118,
     "metadata": {},
     "output_type": "execute_result"
    }
   ],
   "source": [
    "vocab_size"
   ]
  },
  {
   "cell_type": "code",
   "execution_count": 120,
   "metadata": {},
   "outputs": [
    {
     "name": "stdout",
     "output_type": "stream",
     "text": [
      "__________________________________________________________________________________________________\n",
      "Layer (type)                    Output Shape         Param #     Connected to                     \n",
      "==================================================================================================\n",
      "input_4 (InputLayer)            (None, 4)            0                                            \n",
      "__________________________________________________________________________________________________\n",
      "input_3 (InputLayer)            (None, 10, 8)        0                                            \n",
      "__________________________________________________________________________________________________\n",
      "question_embedding_layer (Embed (None, 4, 15)        480         input_4[0][0]                    \n",
      "__________________________________________________________________________________________________\n",
      "story_embedding_layer (Embeddin (None, 10, 8, 15)    480         input_3[0][0]                    \n",
      "__________________________________________________________________________________________________\n",
      "question_lambda_layer (Lambda)  (None, 15)           0           question_embedding_layer[0][0]   \n",
      "__________________________________________________________________________________________________\n",
      "story_lambda_layer (Lambda)     (None, 10, 15)       0           story_embedding_layer[0][0]      \n",
      "__________________________________________________________________________________________________\n",
      "reshape_12 (Reshape)            (None, 1, 15)        0           question_lambda_layer[0][0]      \n",
      "__________________________________________________________________________________________________\n",
      "dot_16 (Dot)                    (None, 10, 1)        0           story_lambda_layer[0][0]         \n",
      "                                                                 reshape_12[0][0]                 \n",
      "__________________________________________________________________________________________________\n",
      "reshape_13 (Reshape)            (None, 10)           0           dot_16[0][0]                     \n",
      "__________________________________________________________________________________________________\n",
      "activation_2 (Activation)       (None, 10)           0           reshape_13[0][0]                 \n",
      "__________________________________________________________________________________________________\n",
      "reshape_14 (Reshape)            (None, 10, 1)        0           activation_2[0][0]               \n",
      "__________________________________________________________________________________________________\n",
      "dot_17 (Dot)                    (None, 1, 15)        0           reshape_14[0][0]                 \n",
      "                                                                 story_lambda_layer[0][0]         \n",
      "__________________________________________________________________________________________________\n",
      "reshape_15 (Reshape)            (None, 15)           0           dot_17[0][0]                     \n",
      "__________________________________________________________________________________________________\n",
      "dense_8 (Dense)                 (None, 32)           512         reshape_15[0][0]                 \n",
      "==================================================================================================\n",
      "Total params: 1,472\n",
      "Trainable params: 1,472\n",
      "Non-trainable params: 0\n",
      "__________________________________________________________________________________________________\n"
     ]
    }
   ],
   "source": [
    "model = Model([input_story, input_question], ans)\n",
    "\n",
    "model.compile(\n",
    "  optimizer=RMSprop(lr=1e-2),\n",
    "  loss='sparse_categorical_crossentropy',\n",
    "  metrics=['accuracy'])\n",
    "\n",
    "model.summary()"
   ]
  },
  {
   "cell_type": "code",
   "execution_count": 121,
   "metadata": {},
   "outputs": [
    {
     "name": "stdout",
     "output_type": "stream",
     "text": [
      "Train on 10000 samples, validate on 1000 samples\n",
      "Epoch 1/4\n",
      "10000/10000 [==============================] - 2s 204us/step - loss: 0.6628 - acc: 0.7752 - val_loss: 0.0327 - val_acc: 0.9920\n",
      "Epoch 2/4\n",
      "10000/10000 [==============================] - 2s 196us/step - loss: 0.0088 - acc: 0.9969 - val_loss: 2.3994e-04 - val_acc: 1.0000\n",
      "Epoch 3/4\n",
      "10000/10000 [==============================] - 1s 144us/step - loss: 0.0039 - acc: 0.9993 - val_loss: 0.0321 - val_acc: 0.9910\n",
      "Epoch 4/4\n",
      "10000/10000 [==============================] - 1s 128us/step - loss: 0.0047 - acc: 0.9992 - val_loss: 3.9439e-06 - val_acc: 1.0000\n"
     ]
    }
   ],
   "source": [
    "# train the model\n",
    "r = model.fit(\n",
    "  [inputs_train, queries_train],\n",
    "  answers_train,\n",
    "  epochs=4,\n",
    "  batch_size=32,\n",
    "  validation_data=([inputs_test, queries_test], answers_test))"
   ]
  },
  {
   "cell_type": "code",
   "execution_count": 123,
   "metadata": {},
   "outputs": [
    {
     "name": "stdout",
     "output_type": "stream",
     "text": [
      "[[19]\n",
      " [22]\n",
      " [22]\n",
      " ...\n",
      " [22]\n",
      " [25]\n",
      " [27]]\n",
      "(10000, 1)\n"
     ]
    }
   ],
   "source": [
    "print(answers_train)\n",
    "print(answers_train.shape)"
   ]
  },
  {
   "cell_type": "code",
   "execution_count": 128,
   "metadata": {},
   "outputs": [
    {
     "name": "stdout",
     "output_type": "stream",
     "text": [
      "story:\n",
      "\n",
      "0.00000 \t 0 Mary went to the garden .\n",
      "0.00980 \t 1 Sandra journeyed to the bedroom .\n",
      "0.00000 \t 3 Mary journeyed to the bathroom .\n",
      "0.98963 \t 4 Sandra travelled to the garden .\n",
      "0.00003 \t 6 Daniel travelled to the kitchen .\n",
      "0.00054 \t 7 John travelled to the bathroom .\n",
      "question: Where is Sandra ?\n",
      "answer: garden\n"
     ]
    }
   ],
   "source": [
    "\n",
    "# Check how we weight each input sentence given a story and question\n",
    "debug_model = Model([input_story, input_question], weights_vec)\n",
    "\n",
    "# choose a random story\n",
    "story_idx = np.random.choice(len(train_stories))\n",
    "\n",
    "# get weights from debug model\n",
    "inputs_test = inputs_train[story_idx:story_idx+1]\n",
    "query_test = queries_train[story_idx:story_idx+1]\n",
    "weights = debug_model.predict([inputs_test, query_test]).flatten()\n",
    "\n",
    "story, question, ans = train_stories[story_idx]\n",
    "print(\"story:\\n\")\n",
    "for i, line in enumerate(story):\n",
    "    print(\"{:1.5f}\".format(weights[i]), \"\\t\", \" \".join(line))\n",
    "\n",
    "print(\"question:\", \" \".join(question))\n",
    "print(\"answer:\", ans)"
   ]
  },
  {
   "cell_type": "markdown",
   "metadata": {},
   "source": [
    "## Two Supporting Facts Model"
   ]
  },
  {
   "cell_type": "markdown",
   "metadata": {},
   "source": [
    "### Load data"
   ]
  },
  {
   "cell_type": "code",
   "execution_count": 158,
   "metadata": {},
   "outputs": [
    {
     "name": "stdout",
     "output_type": "stream",
     "text": [
      "story_maxlen 8\n",
      "story_maxsents 88\n",
      "query_maxlen 5\n",
      "inputs_train.shape, inputs_test.shape (10000, 88, 8) (1000, 88, 8)\n"
     ]
    }
   ],
   "source": [
    "# get the two supporting fact data\n",
    "train_stories, test_stories, \\\n",
    "    inputs_train, queries_train, answers_train, \\\n",
    "    inputs_test, queries_test, answers_test, \\\n",
    "    story_maxsents, story_maxlen, query_maxlen, \\\n",
    "    vocab, vocab_size = get_data('two_supporting_facts_10k')"
   ]
  },
  {
   "cell_type": "markdown",
   "metadata": {},
   "source": [
    "### Embedding Layer"
   ]
  },
  {
   "cell_type": "code",
   "execution_count": 294,
   "metadata": {},
   "outputs": [],
   "source": [
    "embedding_size = 30"
   ]
  },
  {
   "cell_type": "code",
   "execution_count": 295,
   "metadata": {},
   "outputs": [],
   "source": [
    "input_story = Input(shape=(story_maxsents, story_maxlen))\n",
    "input_question = Input(shape=(query_maxlen,))\n",
    "\n",
    "embedding_story = Embedding(vocab_size, embedding_size, name='story_embedding_all')\n",
    "embedding_story_lambda = Lambda(lambda x: K.sum(x, axis=2), name='story_embedding_lambda_all')"
   ]
  },
  {
   "cell_type": "code",
   "execution_count": 296,
   "metadata": {},
   "outputs": [],
   "source": [
    "def story_embedding(input_story):\n",
    "    embedding = Embedding(vocab_size, embedding_size)(input_story)\n",
    "    embedding = Lambda(lambda x: K.sum(x, axis=2))(embedding)\n",
    "    return embedding"
   ]
  },
  {
   "cell_type": "code",
   "execution_count": 297,
   "metadata": {},
   "outputs": [],
   "source": [
    "def question_embedding(input_question):\n",
    "    embedding = Embedding(vocab_size, embedding_size)(input_question)\n",
    "    embedding = Lambda(lambda x: K.sum(x, axis=1))(embedding)\n",
    "    return embedding"
   ]
  },
  {
   "cell_type": "code",
   "execution_count": 298,
   "metadata": {},
   "outputs": [],
   "source": [
    "def hop(story, question):\n",
    "    \n",
    "    x = Reshape((1, embedding_size))(question)\n",
    "    x = dot([story, x], 2)\n",
    "    x = Reshape((story_maxsents,))(x) # flatten the vector\n",
    "    x = Activation('softmax')(x)\n",
    "    weights_vec = Reshape((story_maxsents, 1))(x) # unflatten it again to be dotted later\n",
    "    \n",
    "#     story_embedding2 = story_embedding(input_story)\n",
    "    story_embedding2 = embedding_story(input_story)\n",
    "    story_embedding2 = embedding_story_lambda(story_embedding2)\n",
    "    \n",
    "    sent_rel = dot([weights_vec, story_embedding2], 1)\n",
    "    x = Reshape((embedding_size,))(sent_rel) # flatten it\n",
    "    x = dense_layer(x)\n",
    "    return x, story_embedding2, weights_vec"
   ]
  },
  {
   "cell_type": "code",
   "execution_count": 299,
   "metadata": {},
   "outputs": [],
   "source": [
    "# embedded_story = story_embedding(input_story)\n",
    "\n",
    "embedded_story = embedding_story(input_story)\n",
    "embedded_story = embedding_story_lambda(embedded_story)\n",
    "\n",
    "embedded_question = question_embedding(input_question)\n",
    "embedded_question = Reshape(target_shape=(1, embedding_size))(embedded_question)\n",
    "\n",
    "dense_layer = Dense(embedding_size, activation='elu')\n",
    "\n",
    "story_state1, embedded_story1, _ = hop(embedded_story, embedded_question)\n",
    "story_state2, _, _ = hop(embedded_story1, story_state1)\n",
    "\n",
    "ans = Dense(vocab_size, activation='softmax')(story_state2)"
   ]
  },
  {
   "cell_type": "code",
   "execution_count": 300,
   "metadata": {},
   "outputs": [
    {
     "name": "stdout",
     "output_type": "stream",
     "text": [
      "__________________________________________________________________________________________________\n",
      "Layer (type)                    Output Shape         Param #     Connected to                     \n",
      "==================================================================================================\n",
      "input_44 (InputLayer)           (None, 5)            0                                            \n",
      "__________________________________________________________________________________________________\n",
      "embedding_27 (Embedding)        (None, 5, 30)        3720        input_44[0][0]                   \n",
      "__________________________________________________________________________________________________\n",
      "input_43 (InputLayer)           (None, 88, 8)        0                                            \n",
      "__________________________________________________________________________________________________\n",
      "lambda_27 (Lambda)              (None, 30)           0           embedding_27[0][0]               \n",
      "__________________________________________________________________________________________________\n",
      "story_embedding_all (Embedding) (None, 88, 8, 30)    3720        input_43[0][0]                   \n",
      "                                                                 input_43[0][0]                   \n",
      "                                                                 input_43[0][0]                   \n",
      "__________________________________________________________________________________________________\n",
      "reshape_173 (Reshape)           (None, 1, 30)        0           lambda_27[0][0]                  \n",
      "__________________________________________________________________________________________________\n",
      "story_embedding_lambda_all (Lam (None, 88, 30)       0           story_embedding_all[0][0]        \n",
      "                                                                 story_embedding_all[1][0]        \n",
      "                                                                 story_embedding_all[2][0]        \n",
      "__________________________________________________________________________________________________\n",
      "reshape_174 (Reshape)           (None, 1, 30)        0           reshape_173[0][0]                \n",
      "__________________________________________________________________________________________________\n",
      "dot_92 (Dot)                    (None, 88, 1)        0           story_embedding_lambda_all[0][0] \n",
      "                                                                 reshape_174[0][0]                \n",
      "__________________________________________________________________________________________________\n",
      "reshape_175 (Reshape)           (None, 88)           0           dot_92[0][0]                     \n",
      "__________________________________________________________________________________________________\n",
      "activation_40 (Activation)      (None, 88)           0           reshape_175[0][0]                \n",
      "__________________________________________________________________________________________________\n",
      "reshape_176 (Reshape)           (None, 88, 1)        0           activation_40[0][0]              \n",
      "__________________________________________________________________________________________________\n",
      "dot_93 (Dot)                    (None, 1, 30)        0           reshape_176[0][0]                \n",
      "                                                                 story_embedding_lambda_all[1][0] \n",
      "__________________________________________________________________________________________________\n",
      "reshape_177 (Reshape)           (None, 30)           0           dot_93[0][0]                     \n",
      "__________________________________________________________________________________________________\n",
      "dense_47 (Dense)                (None, 30)           930         reshape_177[0][0]                \n",
      "                                                                 reshape_181[0][0]                \n",
      "__________________________________________________________________________________________________\n",
      "reshape_178 (Reshape)           (None, 1, 30)        0           dense_47[0][0]                   \n",
      "__________________________________________________________________________________________________\n",
      "dot_94 (Dot)                    (None, 88, 1)        0           story_embedding_lambda_all[1][0] \n",
      "                                                                 reshape_178[0][0]                \n",
      "__________________________________________________________________________________________________\n",
      "reshape_179 (Reshape)           (None, 88)           0           dot_94[0][0]                     \n",
      "__________________________________________________________________________________________________\n",
      "activation_41 (Activation)      (None, 88)           0           reshape_179[0][0]                \n",
      "__________________________________________________________________________________________________\n",
      "reshape_180 (Reshape)           (None, 88, 1)        0           activation_41[0][0]              \n",
      "__________________________________________________________________________________________________\n",
      "dot_95 (Dot)                    (None, 1, 30)        0           reshape_180[0][0]                \n",
      "                                                                 story_embedding_lambda_all[2][0] \n",
      "__________________________________________________________________________________________________\n",
      "reshape_181 (Reshape)           (None, 30)           0           dot_95[0][0]                     \n",
      "__________________________________________________________________________________________________\n",
      "dense_48 (Dense)                (None, 124)          3844        dense_47[1][0]                   \n",
      "==================================================================================================\n",
      "Total params: 12,214\n",
      "Trainable params: 12,214\n",
      "Non-trainable params: 0\n",
      "__________________________________________________________________________________________________\n"
     ]
    }
   ],
   "source": [
    "model = Model([input_story, input_question], ans)\n",
    "\n",
    "model.compile(\n",
    "  optimizer=RMSprop(lr=5e-3),\n",
    "  loss='sparse_categorical_crossentropy',\n",
    "  metrics=['accuracy'])\n",
    "\n",
    "model.summary()"
   ]
  },
  {
   "cell_type": "code",
   "execution_count": 301,
   "metadata": {},
   "outputs": [
    {
     "name": "stdout",
     "output_type": "stream",
     "text": [
      "Train on 10000 samples, validate on 1000 samples\n",
      "Epoch 1/30\n",
      "10000/10000 [==============================] - 15s 1ms/step - loss: 1.8644 - acc: 0.1699 - val_loss: 1.7876 - val_acc: 0.1830\n",
      "Epoch 2/30\n",
      "10000/10000 [==============================] - 12s 1ms/step - loss: 1.6641 - acc: 0.3039 - val_loss: 1.5336 - val_acc: 0.3690\n",
      "Epoch 3/30\n",
      "10000/10000 [==============================] - 11s 1ms/step - loss: 1.5108 - acc: 0.3759 - val_loss: 1.5573 - val_acc: 0.3530\n",
      "Epoch 4/30\n",
      "10000/10000 [==============================] - 16s 2ms/step - loss: 1.0844 - acc: 0.5875 - val_loss: 0.7047 - val_acc: 0.7620\n",
      "Epoch 5/30\n",
      "10000/10000 [==============================] - 12s 1ms/step - loss: 0.6969 - acc: 0.7526 - val_loss: 0.7538 - val_acc: 0.7320\n",
      "Epoch 6/30\n",
      "10000/10000 [==============================] - 13s 1ms/step - loss: 0.6147 - acc: 0.7819 - val_loss: 0.6941 - val_acc: 0.7530\n",
      "Epoch 7/30\n",
      "10000/10000 [==============================] - 12s 1ms/step - loss: 0.5632 - acc: 0.8053 - val_loss: 0.6345 - val_acc: 0.8050\n",
      "Epoch 8/30\n",
      "10000/10000 [==============================] - 12s 1ms/step - loss: 0.5220 - acc: 0.8202 - val_loss: 0.6318 - val_acc: 0.7810\n",
      "Epoch 9/30\n",
      "10000/10000 [==============================] - 14s 1ms/step - loss: 0.4857 - acc: 0.8399 - val_loss: 0.5530 - val_acc: 0.8210\n",
      "Epoch 10/30\n",
      "10000/10000 [==============================] - 13s 1ms/step - loss: 0.4567 - acc: 0.8528 - val_loss: 0.5183 - val_acc: 0.8260\n",
      "Epoch 11/30\n",
      "10000/10000 [==============================] - 13s 1ms/step - loss: 0.4197 - acc: 0.8650 - val_loss: 0.5733 - val_acc: 0.8350\n",
      "Epoch 12/30\n",
      "10000/10000 [==============================] - 13s 1ms/step - loss: 0.3979 - acc: 0.8765 - val_loss: 0.6733 - val_acc: 0.8120\n",
      "Epoch 13/30\n",
      "10000/10000 [==============================] - 13s 1ms/step - loss: 0.3871 - acc: 0.8814 - val_loss: 0.4506 - val_acc: 0.8680\n",
      "Epoch 14/30\n",
      "10000/10000 [==============================] - 12s 1ms/step - loss: 0.3554 - acc: 0.8969 - val_loss: 0.4622 - val_acc: 0.8680\n",
      "Epoch 15/30\n",
      "10000/10000 [==============================] - 12s 1ms/step - loss: 0.3487 - acc: 0.8959 - val_loss: 0.4511 - val_acc: 0.8670\n",
      "Epoch 16/30\n",
      "10000/10000 [==============================] - 12s 1ms/step - loss: 0.3346 - acc: 0.9038 - val_loss: 0.4514 - val_acc: 0.8730\n",
      "Epoch 17/30\n",
      "10000/10000 [==============================] - 13s 1ms/step - loss: 0.3209 - acc: 0.9078 - val_loss: 0.5006 - val_acc: 0.8500\n",
      "Epoch 18/30\n",
      "10000/10000 [==============================] - 13s 1ms/step - loss: 0.3069 - acc: 0.9135 - val_loss: 0.4435 - val_acc: 0.8810\n",
      "Epoch 19/30\n",
      "10000/10000 [==============================] - 14s 1ms/step - loss: 0.3056 - acc: 0.9137 - val_loss: 0.4546 - val_acc: 0.8780\n",
      "Epoch 20/30\n",
      "10000/10000 [==============================] - 12s 1ms/step - loss: 0.2997 - acc: 0.9148 - val_loss: 0.4185 - val_acc: 0.8850\n",
      "Epoch 21/30\n",
      "10000/10000 [==============================] - 12s 1ms/step - loss: 0.2746 - acc: 0.9238 - val_loss: 0.3526 - val_acc: 0.9040\n",
      "Epoch 22/30\n",
      "10000/10000 [==============================] - 14s 1ms/step - loss: 0.2884 - acc: 0.9257 - val_loss: 0.4974 - val_acc: 0.8700\n",
      "Epoch 23/30\n",
      "10000/10000 [==============================] - 16s 2ms/step - loss: 0.2796 - acc: 0.9266 - val_loss: 0.5233 - val_acc: 0.8700\n",
      "Epoch 24/30\n",
      "10000/10000 [==============================] - 18s 2ms/step - loss: 0.2666 - acc: 0.9294 - val_loss: 0.4060 - val_acc: 0.8860\n",
      "Epoch 25/30\n",
      "10000/10000 [==============================] - 15s 2ms/step - loss: 0.2615 - acc: 0.9317 - val_loss: 0.4183 - val_acc: 0.8900\n",
      "Epoch 26/30\n",
      "10000/10000 [==============================] - 14s 1ms/step - loss: 0.2424 - acc: 0.9347 - val_loss: 0.4988 - val_acc: 0.8820\n",
      "Epoch 27/30\n",
      "10000/10000 [==============================] - 16s 2ms/step - loss: 0.2557 - acc: 0.9334 - val_loss: 0.4422 - val_acc: 0.8950\n",
      "Epoch 28/30\n",
      "10000/10000 [==============================] - 17s 2ms/step - loss: 0.2668 - acc: 0.9334 - val_loss: 0.4588 - val_acc: 0.8700\n",
      "Epoch 29/30\n",
      "10000/10000 [==============================] - 13s 1ms/step - loss: 0.2648 - acc: 0.9345 - val_loss: 0.4414 - val_acc: 0.8870\n",
      "Epoch 30/30\n",
      "10000/10000 [==============================] - 12s 1ms/step - loss: 0.2504 - acc: 0.9367 - val_loss: 0.4494 - val_acc: 0.8960\n"
     ]
    }
   ],
   "source": [
    "r = model.fit(\n",
    "  [inputs_train, queries_train],\n",
    "  answers_train,\n",
    "  epochs=30,\n",
    "  batch_size=32,\n",
    "  validation_data=([inputs_test, queries_test], answers_test))"
   ]
  },
  {
   "cell_type": "code",
   "execution_count": 302,
   "metadata": {},
   "outputs": [
    {
     "data": {
      "image/png": "[encoded data removed]",
      "text/plain": [
       "<matplotlib.figure.Figure at 0x119eabac8>"
      ]
     },
     "metadata": {},
     "output_type": "display_data"
    },
    {
     "data": {
      "image/png": "[encoded data removed]",
      "text/plain": [
       "<matplotlib.figure.Figure at 0x12f021358>"
      ]
     },
     "metadata": {},
     "output_type": "display_data"
    }
   ],
   "source": [
    "### plot some data\n",
    "plt.plot(r.history['loss'], label='loss')\n",
    "plt.plot(r.history['val_loss'], label='val_loss')\n",
    "plt.legend()\n",
    "plt.show()\n",
    "\n",
    "# accuracies\n",
    "plt.plot(r.history['acc'], label='acc')\n",
    "plt.plot(r.history['val_acc'], label='val_acc')\n",
    "plt.legend()\n",
    "plt.show()"
   ]
  },
  {
   "cell_type": "code",
   "execution_count": 276,
   "metadata": {},
   "outputs": [
    {
     "data": {
      "image/png": "[encoded data removed]",
      "text/plain": [
       "<matplotlib.figure.Figure at 0x13060bc18>"
      ]
     },
     "metadata": {},
     "output_type": "display_data"
    },
    {
     "data": {
      "image/png": "[encoded data removed]",
      "text/plain": [
       "<matplotlib.figure.Figure at 0x130516f60>"
      ]
     },
     "metadata": {},
     "output_type": "display_data"
    }
   ],
   "source": [
    "### plot some data\n",
    "plt.plot(r.history['loss'], label='loss')\n",
    "plt.plot(r.history['val_loss'], label='val_loss')\n",
    "plt.legend()\n",
    "plt.show()\n",
    "\n",
    "# accuracies\n",
    "plt.plot(r.history['acc'], label='acc')\n",
    "plt.plot(r.history['val_acc'], label='val_acc')\n",
    "plt.legend()\n",
    "plt.show()"
   ]
  },
  {
   "cell_type": "code",
   "execution_count": null,
   "metadata": {},
   "outputs": [],
   "source": []
  }
 ],
 "metadata": {
  "kernelspec": {
   "display_name": "Python 3",
   "language": "python",
   "name": "python3"
  },
  "language_info": {
   "codemirror_mode": {
    "name": "ipython",
    "version": 3
   },
   "file_extension": ".py",
   "mimetype": "text/x-python",
   "name": "python",
   "nbconvert_exporter": "python",
   "pygments_lexer": "ipython3",
   "version": "3.4.4"
  }
 },
 "nbformat": 4,
 "nbformat_minor": 2
}
